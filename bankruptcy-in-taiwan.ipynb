{
 "cells": [
  {
   "cell_type": "markdown",
   "id": "a7fdf8c8-1b09-4732-905c-3803b34c0591",
   "metadata": {},
   "source": [
    "<font size=\"+3\"><strong>Taiwanese Bankruptcy Prediction 🇹🇼</strong></font>"
   ]
  },
  {
   "cell_type": "code",
   "execution_count": null,
   "id": "73f91410",
   "metadata": {},
   "outputs": [],
   "source": [
    "__author__ = \"Donald Ghazi\"\n",
    "__email__ = \"donald@donaldghazi.com\"\n",
    "__website__ = \"donaldghazi.com\""
   ]
  },
  {
   "cell_type": "code",
   "execution_count": 61,
   "id": "277378c3-8cf6-4873-8a7f-de94e44792c3",
   "metadata": {},
   "outputs": [],
   "source": [
    "import gzip\n",
    "import json\n",
    "import pickle\n",
    "import ipywidgets as widgets\n",
    "import pandas as pd\n",
    "import matplotlib.pyplot as plt\n",
    "\n",
    "from imblearn.over_sampling import RandomOverSampler\n",
    "from ipywidgets import interact\n",
    "from sklearn.ensemble import GradientBoostingClassifier\n",
    "from sklearn.impute import SimpleImputer\n",
    "from sklearn.ensemble import RandomForestClassifier\n",
    "from sklearn.metrics import (\n",
    "    ConfusionMatrixDisplay,\n",
    "    classification_report,\n",
    "    confusion_matrix,\n",
    ")\n",
    "from sklearn.model_selection import GridSearchCV, train_test_split, cross_val_score\n",
    "from sklearn.pipeline import make_pipeline"
   ]
  },
  {
   "cell_type": "markdown",
   "id": "8680a6c9-5353-4d74-8179-4427d7120413",
   "metadata": {},
   "source": [
    "# Prepare Data"
   ]
  },
  {
   "cell_type": "markdown",
   "id": "ecc6a92f-5fb3-49b5-9e1b-6afe320cf7a7",
   "metadata": {},
   "source": [
    "## Import"
   ]
  },
  {
   "cell_type": "markdown",
   "id": "5a09119a-38f5-43fc-a4e6-a56f01c5018c",
   "metadata": {},
   "source": [
    "I'll load the contents of the `\"data/taiwan-bankruptcy-data.json.gz\"` and assign it to the variable <code>taiwan_data</code>. \n",
    "\n",
    "<code>taiwan_data</code> should be a dictionary. I'll create a DataFrame in this project."
   ]
  },
  {
   "cell_type": "code",
   "execution_count": 62,
   "id": "e0d73622-50b5-4e9a-a80d-a7562edb44fd",
   "metadata": {},
   "outputs": [],
   "source": [
    "%%bash\n",
    "\n",
    "cd data\n",
    "gzip -dkf taiwan-bankruptcy-data.json.gz"
   ]
  },
  {
   "cell_type": "code",
   "execution_count": 63,
   "id": "da83ce32-7252-4d2c-9530-1c702ab84e46",
   "metadata": {},
   "outputs": [
    {
     "name": "stdout",
     "output_type": "stream",
     "text": [
      "<class 'dict'>\n"
     ]
    }
   ],
   "source": [
    "# Open file and load JSON\n",
    "with gzip.open(\"data/taiwan-bankruptcy-data.json.gz\", \"r\") as read_file:\n",
    "    taiwan_data = json.load(read_file)\n",
    "print(type(taiwan_data))"
   ]
  },
  {
   "cell_type": "code",
   "execution_count": 64,
   "id": "38f91c7b-5d41-47dc-b89a-d672ac1d5341",
   "metadata": {},
   "outputs": [
    {
     "name": "stdout",
     "output_type": "stream",
     "text": [
      "dict_keys(['schema', 'metadata', 'observations'])\n"
     ]
    }
   ],
   "source": [
    "# Extract the key names from taiwan_data and assign them to the variable taiwan_data_keys\n",
    "taiwan_data_keys = taiwan_data.keys()\n",
    "print(taiwan_data_keys)"
   ]
  },
  {
   "cell_type": "markdown",
   "id": "b8e233d5-957d-424e-9f55-f0497913f9b4",
   "metadata": {},
   "source": [
    "Now I want to calculate how many companies are in `taiwan_data` and assign the result to `n_companies`. "
   ]
  },
  {
   "cell_type": "code",
   "execution_count": 65,
   "id": "3d145c47-3347-477e-b7c5-fe1317e8af7d",
   "metadata": {},
   "outputs": [
    {
     "data": {
      "text/plain": [
       "dict_keys(['schema', 'metadata', 'observations'])"
      ]
     },
     "execution_count": 65,
     "metadata": {},
     "output_type": "execute_result"
    }
   ],
   "source": [
    "taiwan_data.keys()"
   ]
  },
  {
   "cell_type": "code",
   "execution_count": 66,
   "id": "19958328-8847-4ece-803c-ed9e02744bc7",
   "metadata": {},
   "outputs": [
    {
     "data": {
      "text/plain": [
       "list"
      ]
     },
     "execution_count": 66,
     "metadata": {},
     "output_type": "execute_result"
    }
   ],
   "source": [
    "type(taiwan_data[\"observations\"])"
   ]
  },
  {
   "cell_type": "code",
   "execution_count": 67,
   "id": "89435d42-0c88-4136-a8d0-f5a77be5a4c1",
   "metadata": {},
   "outputs": [
    {
     "data": {
      "text/plain": [
       "{'id': 1,\n",
       " 'bankrupt': True,\n",
       " 'feat_1': 0.3705942573,\n",
       " 'feat_2': 0.4243894461,\n",
       " 'feat_3': 0.4057497725,\n",
       " 'feat_4': 0.6014572133,\n",
       " 'feat_5': 0.6014572133,\n",
       " 'feat_6': 0.9989692032,\n",
       " 'feat_7': 0.7968871459,\n",
       " 'feat_8': 0.8088093609,\n",
       " 'feat_9': 0.3026464339,\n",
       " 'feat_10': 0.7809848502,\n",
       " 'feat_11': 0.0001256969,\n",
       " 'feat_12': 0.0,\n",
       " 'feat_13': 0.4581431435,\n",
       " 'feat_14': 0.0007250725,\n",
       " 'feat_15': 0.0,\n",
       " 'feat_16': 0.1479499389,\n",
       " 'feat_17': 0.1479499389,\n",
       " 'feat_18': 0.1479499389,\n",
       " 'feat_19': 0.1691405881,\n",
       " 'feat_20': 0.3116644267,\n",
       " 'feat_21': 0.0175597804,\n",
       " 'feat_22': 0.0959205276,\n",
       " 'feat_23': 0.1387361603,\n",
       " 'feat_24': 0.0221022784,\n",
       " 'feat_25': 0.8481949945,\n",
       " 'feat_26': 0.6889794628,\n",
       " 'feat_27': 0.6889794628,\n",
       " 'feat_28': 0.2175353862,\n",
       " 'feat_29': 4980000000.0,\n",
       " 'feat_30': 0.0003269773,\n",
       " 'feat_31': 0.2630999837,\n",
       " 'feat_32': 0.363725271,\n",
       " 'feat_33': 0.0022589633,\n",
       " 'feat_34': 0.0012077551,\n",
       " 'feat_35': 0.629951302,\n",
       " 'feat_36': 0.0212659244,\n",
       " 'feat_37': 0.2075762615,\n",
       " 'feat_38': 0.7924237385,\n",
       " 'feat_39': 0.0050244547,\n",
       " 'feat_40': 0.3902843544,\n",
       " 'feat_41': 0.0064785025,\n",
       " 'feat_42': 0.095884834,\n",
       " 'feat_43': 0.1377573335,\n",
       " 'feat_44': 0.3980356983,\n",
       " 'feat_45': 0.0869565217,\n",
       " 'feat_46': 0.0018138841,\n",
       " 'feat_47': 0.0034873643,\n",
       " 'feat_48': 0.0001820926,\n",
       " 'feat_49': 0.0001165007,\n",
       " 'feat_50': 0.0329032258,\n",
       " 'feat_51': 0.034164182,\n",
       " 'feat_52': 0.3929128695,\n",
       " 'feat_53': 0.0371353016,\n",
       " 'feat_54': 0.6727752925,\n",
       " 'feat_55': 0.1666729588,\n",
       " 'feat_56': 0.1906429591,\n",
       " 'feat_57': 0.004094406,\n",
       " 'feat_58': 0.0019967709,\n",
       " 'feat_59': 0.000147336,\n",
       " 'feat_60': 0.1473084504,\n",
       " 'feat_61': 0.3340151713,\n",
       " 'feat_62': 0.2769201582,\n",
       " 'feat_63': 0.00103599,\n",
       " 'feat_64': 0.6762691762,\n",
       " 'feat_65': 0.7212745515,\n",
       " 'feat_66': 0.3390770068,\n",
       " 'feat_67': 0.025592368,\n",
       " 'feat_68': 0.9032247712,\n",
       " 'feat_69': 0.002021613,\n",
       " 'feat_70': 0.0648557077,\n",
       " 'feat_71': 701000000.0,\n",
       " 'feat_72': 6550000000.0,\n",
       " 'feat_73': 0.593830504,\n",
       " 'feat_74': 458000000.0,\n",
       " 'feat_75': 0.6715676536,\n",
       " 'feat_76': 0.4242057622,\n",
       " 'feat_77': 0.6762691762,\n",
       " 'feat_78': 0.3390770068,\n",
       " 'feat_79': 0.1265494878,\n",
       " 'feat_80': 0.6375553953,\n",
       " 'feat_81': 0.4586091477,\n",
       " 'feat_82': 0.5203819179,\n",
       " 'feat_83': 0.3129049481,\n",
       " 'feat_84': 0.1182504766,\n",
       " 'feat_85': 0,\n",
       " 'feat_86': 0.7168453432,\n",
       " 'feat_87': 0.00921944,\n",
       " 'feat_88': 0.6228789594,\n",
       " 'feat_89': 0.6014532901,\n",
       " 'feat_90': 0.827890214,\n",
       " 'feat_91': 0.2902018928,\n",
       " 'feat_92': 0.0266006308,\n",
       " 'feat_93': 0.5640501123,\n",
       " 'feat_94': 1,\n",
       " 'feat_95': 0.0164687409}"
      ]
     },
     "execution_count": 67,
     "metadata": {},
     "output_type": "execute_result"
    }
   ],
   "source": [
    "taiwan_data[\"observations\"][0]"
   ]
  },
  {
   "cell_type": "code",
   "execution_count": 68,
   "id": "75f0fbc2-9f91-4fea-9eee-85025d34ca79",
   "metadata": {},
   "outputs": [
    {
     "data": {
      "text/plain": [
       "6137"
      ]
     },
     "execution_count": 68,
     "metadata": {},
     "output_type": "execute_result"
    }
   ],
   "source": [
    "len(taiwan_data[\"observations\"])"
   ]
  },
  {
   "cell_type": "code",
   "execution_count": 69,
   "id": "23d7dd1f-4db2-46ea-a10b-9b03d9c51b8e",
   "metadata": {},
   "outputs": [
    {
     "name": "stdout",
     "output_type": "stream",
     "text": [
      "6137\n"
     ]
    }
   ],
   "source": [
    "# Calculate how many companies are in taiwan_data and assign the result to n_companies\n",
    "n_companies = len(taiwan_data[\"observations\"])\n",
    "print(n_companies)"
   ]
  },
  {
   "cell_type": "markdown",
   "id": "786bd2b5-e7ac-48b0-974a-6ed90f96a465",
   "metadata": {},
   "source": [
    "Now, I want to calculate the number of features associated with each company and assign the result to `n_features`."
   ]
  },
  {
   "cell_type": "code",
   "execution_count": 70,
   "id": "1deb7dd1-ca68-4b17-9a3b-7d54bb546ca2",
   "metadata": {},
   "outputs": [
    {
     "data": {
      "text/plain": [
       "list"
      ]
     },
     "execution_count": 70,
     "metadata": {},
     "output_type": "execute_result"
    }
   ],
   "source": [
    "type(taiwan_data[\"observations\"])"
   ]
  },
  {
   "cell_type": "code",
   "execution_count": 71,
   "id": "9aa480c2-f329-4d7c-89a5-7bb2499d0625",
   "metadata": {},
   "outputs": [
    {
     "data": {
      "text/plain": [
       "{'id': 1,\n",
       " 'bankrupt': True,\n",
       " 'feat_1': 0.3705942573,\n",
       " 'feat_2': 0.4243894461,\n",
       " 'feat_3': 0.4057497725,\n",
       " 'feat_4': 0.6014572133,\n",
       " 'feat_5': 0.6014572133,\n",
       " 'feat_6': 0.9989692032,\n",
       " 'feat_7': 0.7968871459,\n",
       " 'feat_8': 0.8088093609,\n",
       " 'feat_9': 0.3026464339,\n",
       " 'feat_10': 0.7809848502,\n",
       " 'feat_11': 0.0001256969,\n",
       " 'feat_12': 0.0,\n",
       " 'feat_13': 0.4581431435,\n",
       " 'feat_14': 0.0007250725,\n",
       " 'feat_15': 0.0,\n",
       " 'feat_16': 0.1479499389,\n",
       " 'feat_17': 0.1479499389,\n",
       " 'feat_18': 0.1479499389,\n",
       " 'feat_19': 0.1691405881,\n",
       " 'feat_20': 0.3116644267,\n",
       " 'feat_21': 0.0175597804,\n",
       " 'feat_22': 0.0959205276,\n",
       " 'feat_23': 0.1387361603,\n",
       " 'feat_24': 0.0221022784,\n",
       " 'feat_25': 0.8481949945,\n",
       " 'feat_26': 0.6889794628,\n",
       " 'feat_27': 0.6889794628,\n",
       " 'feat_28': 0.2175353862,\n",
       " 'feat_29': 4980000000.0,\n",
       " 'feat_30': 0.0003269773,\n",
       " 'feat_31': 0.2630999837,\n",
       " 'feat_32': 0.363725271,\n",
       " 'feat_33': 0.0022589633,\n",
       " 'feat_34': 0.0012077551,\n",
       " 'feat_35': 0.629951302,\n",
       " 'feat_36': 0.0212659244,\n",
       " 'feat_37': 0.2075762615,\n",
       " 'feat_38': 0.7924237385,\n",
       " 'feat_39': 0.0050244547,\n",
       " 'feat_40': 0.3902843544,\n",
       " 'feat_41': 0.0064785025,\n",
       " 'feat_42': 0.095884834,\n",
       " 'feat_43': 0.1377573335,\n",
       " 'feat_44': 0.3980356983,\n",
       " 'feat_45': 0.0869565217,\n",
       " 'feat_46': 0.0018138841,\n",
       " 'feat_47': 0.0034873643,\n",
       " 'feat_48': 0.0001820926,\n",
       " 'feat_49': 0.0001165007,\n",
       " 'feat_50': 0.0329032258,\n",
       " 'feat_51': 0.034164182,\n",
       " 'feat_52': 0.3929128695,\n",
       " 'feat_53': 0.0371353016,\n",
       " 'feat_54': 0.6727752925,\n",
       " 'feat_55': 0.1666729588,\n",
       " 'feat_56': 0.1906429591,\n",
       " 'feat_57': 0.004094406,\n",
       " 'feat_58': 0.0019967709,\n",
       " 'feat_59': 0.000147336,\n",
       " 'feat_60': 0.1473084504,\n",
       " 'feat_61': 0.3340151713,\n",
       " 'feat_62': 0.2769201582,\n",
       " 'feat_63': 0.00103599,\n",
       " 'feat_64': 0.6762691762,\n",
       " 'feat_65': 0.7212745515,\n",
       " 'feat_66': 0.3390770068,\n",
       " 'feat_67': 0.025592368,\n",
       " 'feat_68': 0.9032247712,\n",
       " 'feat_69': 0.002021613,\n",
       " 'feat_70': 0.0648557077,\n",
       " 'feat_71': 701000000.0,\n",
       " 'feat_72': 6550000000.0,\n",
       " 'feat_73': 0.593830504,\n",
       " 'feat_74': 458000000.0,\n",
       " 'feat_75': 0.6715676536,\n",
       " 'feat_76': 0.4242057622,\n",
       " 'feat_77': 0.6762691762,\n",
       " 'feat_78': 0.3390770068,\n",
       " 'feat_79': 0.1265494878,\n",
       " 'feat_80': 0.6375553953,\n",
       " 'feat_81': 0.4586091477,\n",
       " 'feat_82': 0.5203819179,\n",
       " 'feat_83': 0.3129049481,\n",
       " 'feat_84': 0.1182504766,\n",
       " 'feat_85': 0,\n",
       " 'feat_86': 0.7168453432,\n",
       " 'feat_87': 0.00921944,\n",
       " 'feat_88': 0.6228789594,\n",
       " 'feat_89': 0.6014532901,\n",
       " 'feat_90': 0.827890214,\n",
       " 'feat_91': 0.2902018928,\n",
       " 'feat_92': 0.0266006308,\n",
       " 'feat_93': 0.5640501123,\n",
       " 'feat_94': 1,\n",
       " 'feat_95': 0.0164687409}"
      ]
     },
     "execution_count": 71,
     "metadata": {},
     "output_type": "execute_result"
    }
   ],
   "source": [
    "taiwan_data[\"observations\"][0]"
   ]
  },
  {
   "cell_type": "code",
   "execution_count": 72,
   "id": "512feadd-c703-4ec3-925c-d0c44fe95cf8",
   "metadata": {},
   "outputs": [
    {
     "data": {
      "text/plain": [
       "97"
      ]
     },
     "execution_count": 72,
     "metadata": {},
     "output_type": "execute_result"
    }
   ],
   "source": [
    "len(taiwan_data[\"observations\"][0])"
   ]
  },
  {
   "cell_type": "code",
   "execution_count": 73,
   "id": "b82b339c-a824-405c-88f0-fcaff2a7014c",
   "metadata": {},
   "outputs": [
    {
     "name": "stdout",
     "output_type": "stream",
     "text": [
      "97\n"
     ]
    }
   ],
   "source": [
    "# Calculate the number of features associated with each company and assign the result to n_features\n",
    "n_features = len(taiwan_data[\"observations\"][0])\n",
    "print(n_features)"
   ]
  },
  {
   "cell_type": "markdown",
   "id": "70b144bf-ea64-458a-982e-efe15388aaf5",
   "metadata": {},
   "source": [
    "I can now create a `wrangle` function that takes as input the path of a compressed JSON file and returns the file's contents as a DataFrame. The index of the DataFrame contains the ID of the companies. When my function is complete, I'll use it to load the data into the DataFrame `df`."
   ]
  },
  {
   "cell_type": "code",
   "execution_count": 74,
   "id": "b4b10e7b-05cb-41c1-b2fa-48cf8eab3606",
   "metadata": {},
   "outputs": [],
   "source": [
    "# Iterate through companies\n",
    "for item in taiwan_data[\"observations\"]:\n",
    "    if len(item) !=97:\n",
    "        print(\"ALERT!!\")"
   ]
  },
  {
   "cell_type": "code",
   "execution_count": 75,
   "id": "52028b4c-dc59-4f16-b48c-c007eae65a4f",
   "metadata": {},
   "outputs": [
    {
     "name": "stdout",
     "output_type": "stream",
     "text": [
      "<class 'dict'>\n"
     ]
    }
   ],
   "source": [
    "# Open compressed file and load contents\n",
    "with gzip.open(\"data/taiwan-bankruptcy-data.json.gz\", \"r\") as read_file:\n",
    "    taiwan_data_gz = json.load(read_file)\n",
    "\n",
    "print(type(taiwan_data_gz))"
   ]
  },
  {
   "cell_type": "code",
   "execution_count": 76,
   "id": "87d1dd0c-aa30-41c3-8ad8-3396d0fac150",
   "metadata": {},
   "outputs": [
    {
     "name": "stdout",
     "output_type": "stream",
     "text": [
      "dict_keys(['schema', 'metadata', 'observations'])\n",
      "6137\n",
      "97\n"
     ]
    }
   ],
   "source": [
    "# Explore taiwan_data_gz`\n",
    "print(taiwan_data_gz.keys())\n",
    "print(len(taiwan_data_gz[\"observations\"]))\n",
    "print(len(taiwan_data_gz[\"observations\"][0]))"
   ]
  },
  {
   "cell_type": "code",
   "execution_count": 77,
   "id": "661e9471-7941-476e-9de5-40153c710381",
   "metadata": {},
   "outputs": [
    {
     "name": "stdout",
     "output_type": "stream",
     "text": [
      "(6137, 96)\n"
     ]
    },
    {
     "data": {
      "text/html": [
       "<div>\n",
       "<style scoped>\n",
       "    .dataframe tbody tr th:only-of-type {\n",
       "        vertical-align: middle;\n",
       "    }\n",
       "\n",
       "    .dataframe tbody tr th {\n",
       "        vertical-align: top;\n",
       "    }\n",
       "\n",
       "    .dataframe thead th {\n",
       "        text-align: right;\n",
       "    }\n",
       "</style>\n",
       "<table border=\"1\" class=\"dataframe\">\n",
       "  <thead>\n",
       "    <tr style=\"text-align: right;\">\n",
       "      <th></th>\n",
       "      <th>bankrupt</th>\n",
       "      <th>feat_1</th>\n",
       "      <th>feat_2</th>\n",
       "      <th>feat_3</th>\n",
       "      <th>feat_4</th>\n",
       "      <th>feat_5</th>\n",
       "      <th>feat_6</th>\n",
       "      <th>feat_7</th>\n",
       "      <th>feat_8</th>\n",
       "      <th>feat_9</th>\n",
       "      <th>...</th>\n",
       "      <th>feat_86</th>\n",
       "      <th>feat_87</th>\n",
       "      <th>feat_88</th>\n",
       "      <th>feat_89</th>\n",
       "      <th>feat_90</th>\n",
       "      <th>feat_91</th>\n",
       "      <th>feat_92</th>\n",
       "      <th>feat_93</th>\n",
       "      <th>feat_94</th>\n",
       "      <th>feat_95</th>\n",
       "    </tr>\n",
       "    <tr>\n",
       "      <th>id</th>\n",
       "      <th></th>\n",
       "      <th></th>\n",
       "      <th></th>\n",
       "      <th></th>\n",
       "      <th></th>\n",
       "      <th></th>\n",
       "      <th></th>\n",
       "      <th></th>\n",
       "      <th></th>\n",
       "      <th></th>\n",
       "      <th></th>\n",
       "      <th></th>\n",
       "      <th></th>\n",
       "      <th></th>\n",
       "      <th></th>\n",
       "      <th></th>\n",
       "      <th></th>\n",
       "      <th></th>\n",
       "      <th></th>\n",
       "      <th></th>\n",
       "      <th></th>\n",
       "    </tr>\n",
       "  </thead>\n",
       "  <tbody>\n",
       "    <tr>\n",
       "      <th>1</th>\n",
       "      <td>True</td>\n",
       "      <td>0.370594</td>\n",
       "      <td>0.424389</td>\n",
       "      <td>0.405750</td>\n",
       "      <td>0.601457</td>\n",
       "      <td>0.601457</td>\n",
       "      <td>0.998969</td>\n",
       "      <td>0.796887</td>\n",
       "      <td>0.808809</td>\n",
       "      <td>0.302646</td>\n",
       "      <td>...</td>\n",
       "      <td>0.716845</td>\n",
       "      <td>0.009219</td>\n",
       "      <td>0.622879</td>\n",
       "      <td>0.601453</td>\n",
       "      <td>0.827890</td>\n",
       "      <td>0.290202</td>\n",
       "      <td>0.026601</td>\n",
       "      <td>0.564050</td>\n",
       "      <td>1</td>\n",
       "      <td>0.016469</td>\n",
       "    </tr>\n",
       "    <tr>\n",
       "      <th>2</th>\n",
       "      <td>True</td>\n",
       "      <td>0.464291</td>\n",
       "      <td>0.538214</td>\n",
       "      <td>0.516730</td>\n",
       "      <td>0.610235</td>\n",
       "      <td>0.610235</td>\n",
       "      <td>0.998946</td>\n",
       "      <td>0.797380</td>\n",
       "      <td>0.809301</td>\n",
       "      <td>0.303556</td>\n",
       "      <td>...</td>\n",
       "      <td>0.795297</td>\n",
       "      <td>0.008323</td>\n",
       "      <td>0.623652</td>\n",
       "      <td>0.610237</td>\n",
       "      <td>0.839969</td>\n",
       "      <td>0.283846</td>\n",
       "      <td>0.264577</td>\n",
       "      <td>0.570175</td>\n",
       "      <td>1</td>\n",
       "      <td>0.020794</td>\n",
       "    </tr>\n",
       "    <tr>\n",
       "      <th>3</th>\n",
       "      <td>True</td>\n",
       "      <td>0.426071</td>\n",
       "      <td>0.499019</td>\n",
       "      <td>0.472295</td>\n",
       "      <td>0.601450</td>\n",
       "      <td>0.601364</td>\n",
       "      <td>0.998857</td>\n",
       "      <td>0.796403</td>\n",
       "      <td>0.808388</td>\n",
       "      <td>0.302035</td>\n",
       "      <td>...</td>\n",
       "      <td>0.774670</td>\n",
       "      <td>0.040003</td>\n",
       "      <td>0.623841</td>\n",
       "      <td>0.601449</td>\n",
       "      <td>0.836774</td>\n",
       "      <td>0.290189</td>\n",
       "      <td>0.026555</td>\n",
       "      <td>0.563706</td>\n",
       "      <td>1</td>\n",
       "      <td>0.016474</td>\n",
       "    </tr>\n",
       "    <tr>\n",
       "      <th>4</th>\n",
       "      <td>True</td>\n",
       "      <td>0.399844</td>\n",
       "      <td>0.451265</td>\n",
       "      <td>0.457733</td>\n",
       "      <td>0.583541</td>\n",
       "      <td>0.583541</td>\n",
       "      <td>0.998700</td>\n",
       "      <td>0.796967</td>\n",
       "      <td>0.808966</td>\n",
       "      <td>0.303350</td>\n",
       "      <td>...</td>\n",
       "      <td>0.739555</td>\n",
       "      <td>0.003252</td>\n",
       "      <td>0.622929</td>\n",
       "      <td>0.583538</td>\n",
       "      <td>0.834697</td>\n",
       "      <td>0.281721</td>\n",
       "      <td>0.026697</td>\n",
       "      <td>0.564663</td>\n",
       "      <td>1</td>\n",
       "      <td>0.023982</td>\n",
       "    </tr>\n",
       "    <tr>\n",
       "      <th>5</th>\n",
       "      <td>True</td>\n",
       "      <td>0.465022</td>\n",
       "      <td>0.538432</td>\n",
       "      <td>0.522298</td>\n",
       "      <td>0.598783</td>\n",
       "      <td>0.598783</td>\n",
       "      <td>0.998973</td>\n",
       "      <td>0.797366</td>\n",
       "      <td>0.809304</td>\n",
       "      <td>0.303475</td>\n",
       "      <td>...</td>\n",
       "      <td>0.795016</td>\n",
       "      <td>0.003878</td>\n",
       "      <td>0.623521</td>\n",
       "      <td>0.598782</td>\n",
       "      <td>0.839973</td>\n",
       "      <td>0.278514</td>\n",
       "      <td>0.024752</td>\n",
       "      <td>0.575617</td>\n",
       "      <td>1</td>\n",
       "      <td>0.035490</td>\n",
       "    </tr>\n",
       "  </tbody>\n",
       "</table>\n",
       "<p>5 rows × 96 columns</p>\n",
       "</div>"
      ],
      "text/plain": [
       "    bankrupt    feat_1    feat_2    feat_3    feat_4    feat_5    feat_6  \\\n",
       "id                                                                         \n",
       "1       True  0.370594  0.424389  0.405750  0.601457  0.601457  0.998969   \n",
       "2       True  0.464291  0.538214  0.516730  0.610235  0.610235  0.998946   \n",
       "3       True  0.426071  0.499019  0.472295  0.601450  0.601364  0.998857   \n",
       "4       True  0.399844  0.451265  0.457733  0.583541  0.583541  0.998700   \n",
       "5       True  0.465022  0.538432  0.522298  0.598783  0.598783  0.998973   \n",
       "\n",
       "      feat_7    feat_8    feat_9  ...   feat_86   feat_87   feat_88   feat_89  \\\n",
       "id                                ...                                           \n",
       "1   0.796887  0.808809  0.302646  ...  0.716845  0.009219  0.622879  0.601453   \n",
       "2   0.797380  0.809301  0.303556  ...  0.795297  0.008323  0.623652  0.610237   \n",
       "3   0.796403  0.808388  0.302035  ...  0.774670  0.040003  0.623841  0.601449   \n",
       "4   0.796967  0.808966  0.303350  ...  0.739555  0.003252  0.622929  0.583538   \n",
       "5   0.797366  0.809304  0.303475  ...  0.795016  0.003878  0.623521  0.598782   \n",
       "\n",
       "     feat_90   feat_91   feat_92   feat_93  feat_94   feat_95  \n",
       "id                                                             \n",
       "1   0.827890  0.290202  0.026601  0.564050        1  0.016469  \n",
       "2   0.839969  0.283846  0.264577  0.570175        1  0.020794  \n",
       "3   0.836774  0.290189  0.026555  0.563706        1  0.016474  \n",
       "4   0.834697  0.281721  0.026697  0.564663        1  0.023982  \n",
       "5   0.839973  0.278514  0.024752  0.575617        1  0.035490  \n",
       "\n",
       "[5 rows x 96 columns]"
      ]
     },
     "execution_count": 77,
     "metadata": {},
     "output_type": "execute_result"
    }
   ],
   "source": [
    "df = pd.DataFrame().from_dict(taiwan_data_gz[\"observations\"]).set_index(\"id\")\n",
    "print(df.shape)\n",
    "df.head()"
   ]
  },
  {
   "cell_type": "code",
   "execution_count": 78,
   "id": "aa0713f3-8bc1-4ae0-ba72-6d8fcced94c4",
   "metadata": {},
   "outputs": [],
   "source": [
    "# Create wrangle function\n",
    "def wrangle(filename):\n",
    "    # Open compressed file, load into dict\n",
    "    with gzip.open(filename, \"r\") as f:\n",
    "        data = json.load(f)\n",
    "        \n",
    "    # Turn dict into DataFrame\n",
    "    df = pd.DataFrame().from_dict(data[\"observations\"]).set_index(\"id\")\n",
    "    \n",
    "    return df"
   ]
  },
  {
   "cell_type": "code",
   "execution_count": 79,
   "id": "012c6052-aebe-4803-a94f-f4f90a5e4cc5",
   "metadata": {},
   "outputs": [
    {
     "name": "stdout",
     "output_type": "stream",
     "text": [
      "df shape: (6137, 96)\n"
     ]
    },
    {
     "data": {
      "text/html": [
       "<div>\n",
       "<style scoped>\n",
       "    .dataframe tbody tr th:only-of-type {\n",
       "        vertical-align: middle;\n",
       "    }\n",
       "\n",
       "    .dataframe tbody tr th {\n",
       "        vertical-align: top;\n",
       "    }\n",
       "\n",
       "    .dataframe thead th {\n",
       "        text-align: right;\n",
       "    }\n",
       "</style>\n",
       "<table border=\"1\" class=\"dataframe\">\n",
       "  <thead>\n",
       "    <tr style=\"text-align: right;\">\n",
       "      <th></th>\n",
       "      <th>bankrupt</th>\n",
       "      <th>feat_1</th>\n",
       "      <th>feat_2</th>\n",
       "      <th>feat_3</th>\n",
       "      <th>feat_4</th>\n",
       "      <th>feat_5</th>\n",
       "      <th>feat_6</th>\n",
       "      <th>feat_7</th>\n",
       "      <th>feat_8</th>\n",
       "      <th>feat_9</th>\n",
       "      <th>...</th>\n",
       "      <th>feat_86</th>\n",
       "      <th>feat_87</th>\n",
       "      <th>feat_88</th>\n",
       "      <th>feat_89</th>\n",
       "      <th>feat_90</th>\n",
       "      <th>feat_91</th>\n",
       "      <th>feat_92</th>\n",
       "      <th>feat_93</th>\n",
       "      <th>feat_94</th>\n",
       "      <th>feat_95</th>\n",
       "    </tr>\n",
       "    <tr>\n",
       "      <th>id</th>\n",
       "      <th></th>\n",
       "      <th></th>\n",
       "      <th></th>\n",
       "      <th></th>\n",
       "      <th></th>\n",
       "      <th></th>\n",
       "      <th></th>\n",
       "      <th></th>\n",
       "      <th></th>\n",
       "      <th></th>\n",
       "      <th></th>\n",
       "      <th></th>\n",
       "      <th></th>\n",
       "      <th></th>\n",
       "      <th></th>\n",
       "      <th></th>\n",
       "      <th></th>\n",
       "      <th></th>\n",
       "      <th></th>\n",
       "      <th></th>\n",
       "      <th></th>\n",
       "    </tr>\n",
       "  </thead>\n",
       "  <tbody>\n",
       "    <tr>\n",
       "      <th>1</th>\n",
       "      <td>True</td>\n",
       "      <td>0.370594</td>\n",
       "      <td>0.424389</td>\n",
       "      <td>0.405750</td>\n",
       "      <td>0.601457</td>\n",
       "      <td>0.601457</td>\n",
       "      <td>0.998969</td>\n",
       "      <td>0.796887</td>\n",
       "      <td>0.808809</td>\n",
       "      <td>0.302646</td>\n",
       "      <td>...</td>\n",
       "      <td>0.716845</td>\n",
       "      <td>0.009219</td>\n",
       "      <td>0.622879</td>\n",
       "      <td>0.601453</td>\n",
       "      <td>0.827890</td>\n",
       "      <td>0.290202</td>\n",
       "      <td>0.026601</td>\n",
       "      <td>0.564050</td>\n",
       "      <td>1</td>\n",
       "      <td>0.016469</td>\n",
       "    </tr>\n",
       "    <tr>\n",
       "      <th>2</th>\n",
       "      <td>True</td>\n",
       "      <td>0.464291</td>\n",
       "      <td>0.538214</td>\n",
       "      <td>0.516730</td>\n",
       "      <td>0.610235</td>\n",
       "      <td>0.610235</td>\n",
       "      <td>0.998946</td>\n",
       "      <td>0.797380</td>\n",
       "      <td>0.809301</td>\n",
       "      <td>0.303556</td>\n",
       "      <td>...</td>\n",
       "      <td>0.795297</td>\n",
       "      <td>0.008323</td>\n",
       "      <td>0.623652</td>\n",
       "      <td>0.610237</td>\n",
       "      <td>0.839969</td>\n",
       "      <td>0.283846</td>\n",
       "      <td>0.264577</td>\n",
       "      <td>0.570175</td>\n",
       "      <td>1</td>\n",
       "      <td>0.020794</td>\n",
       "    </tr>\n",
       "    <tr>\n",
       "      <th>3</th>\n",
       "      <td>True</td>\n",
       "      <td>0.426071</td>\n",
       "      <td>0.499019</td>\n",
       "      <td>0.472295</td>\n",
       "      <td>0.601450</td>\n",
       "      <td>0.601364</td>\n",
       "      <td>0.998857</td>\n",
       "      <td>0.796403</td>\n",
       "      <td>0.808388</td>\n",
       "      <td>0.302035</td>\n",
       "      <td>...</td>\n",
       "      <td>0.774670</td>\n",
       "      <td>0.040003</td>\n",
       "      <td>0.623841</td>\n",
       "      <td>0.601449</td>\n",
       "      <td>0.836774</td>\n",
       "      <td>0.290189</td>\n",
       "      <td>0.026555</td>\n",
       "      <td>0.563706</td>\n",
       "      <td>1</td>\n",
       "      <td>0.016474</td>\n",
       "    </tr>\n",
       "    <tr>\n",
       "      <th>4</th>\n",
       "      <td>True</td>\n",
       "      <td>0.399844</td>\n",
       "      <td>0.451265</td>\n",
       "      <td>0.457733</td>\n",
       "      <td>0.583541</td>\n",
       "      <td>0.583541</td>\n",
       "      <td>0.998700</td>\n",
       "      <td>0.796967</td>\n",
       "      <td>0.808966</td>\n",
       "      <td>0.303350</td>\n",
       "      <td>...</td>\n",
       "      <td>0.739555</td>\n",
       "      <td>0.003252</td>\n",
       "      <td>0.622929</td>\n",
       "      <td>0.583538</td>\n",
       "      <td>0.834697</td>\n",
       "      <td>0.281721</td>\n",
       "      <td>0.026697</td>\n",
       "      <td>0.564663</td>\n",
       "      <td>1</td>\n",
       "      <td>0.023982</td>\n",
       "    </tr>\n",
       "    <tr>\n",
       "      <th>5</th>\n",
       "      <td>True</td>\n",
       "      <td>0.465022</td>\n",
       "      <td>0.538432</td>\n",
       "      <td>0.522298</td>\n",
       "      <td>0.598783</td>\n",
       "      <td>0.598783</td>\n",
       "      <td>0.998973</td>\n",
       "      <td>0.797366</td>\n",
       "      <td>0.809304</td>\n",
       "      <td>0.303475</td>\n",
       "      <td>...</td>\n",
       "      <td>0.795016</td>\n",
       "      <td>0.003878</td>\n",
       "      <td>0.623521</td>\n",
       "      <td>0.598782</td>\n",
       "      <td>0.839973</td>\n",
       "      <td>0.278514</td>\n",
       "      <td>0.024752</td>\n",
       "      <td>0.575617</td>\n",
       "      <td>1</td>\n",
       "      <td>0.035490</td>\n",
       "    </tr>\n",
       "  </tbody>\n",
       "</table>\n",
       "<p>5 rows × 96 columns</p>\n",
       "</div>"
      ],
      "text/plain": [
       "    bankrupt    feat_1    feat_2    feat_3    feat_4    feat_5    feat_6  \\\n",
       "id                                                                         \n",
       "1       True  0.370594  0.424389  0.405750  0.601457  0.601457  0.998969   \n",
       "2       True  0.464291  0.538214  0.516730  0.610235  0.610235  0.998946   \n",
       "3       True  0.426071  0.499019  0.472295  0.601450  0.601364  0.998857   \n",
       "4       True  0.399844  0.451265  0.457733  0.583541  0.583541  0.998700   \n",
       "5       True  0.465022  0.538432  0.522298  0.598783  0.598783  0.998973   \n",
       "\n",
       "      feat_7    feat_8    feat_9  ...   feat_86   feat_87   feat_88   feat_89  \\\n",
       "id                                ...                                           \n",
       "1   0.796887  0.808809  0.302646  ...  0.716845  0.009219  0.622879  0.601453   \n",
       "2   0.797380  0.809301  0.303556  ...  0.795297  0.008323  0.623652  0.610237   \n",
       "3   0.796403  0.808388  0.302035  ...  0.774670  0.040003  0.623841  0.601449   \n",
       "4   0.796967  0.808966  0.303350  ...  0.739555  0.003252  0.622929  0.583538   \n",
       "5   0.797366  0.809304  0.303475  ...  0.795016  0.003878  0.623521  0.598782   \n",
       "\n",
       "     feat_90   feat_91   feat_92   feat_93  feat_94   feat_95  \n",
       "id                                                             \n",
       "1   0.827890  0.290202  0.026601  0.564050        1  0.016469  \n",
       "2   0.839969  0.283846  0.264577  0.570175        1  0.020794  \n",
       "3   0.836774  0.290189  0.026555  0.563706        1  0.016474  \n",
       "4   0.834697  0.281721  0.026697  0.564663        1  0.023982  \n",
       "5   0.839973  0.278514  0.024752  0.575617        1  0.035490  \n",
       "\n",
       "[5 rows x 96 columns]"
      ]
     },
     "execution_count": 79,
     "metadata": {},
     "output_type": "execute_result"
    }
   ],
   "source": [
    "df = wrangle(\"data/taiwan-bankruptcy-data.json.gz\")\n",
    "print(\"df shape:\", df.shape)\n",
    "df.head()"
   ]
  },
  {
   "cell_type": "markdown",
   "id": "c22c0ff0-048a-4e9a-b934-db05de3cb641",
   "metadata": {},
   "source": [
    "## Explore"
   ]
  },
  {
   "cell_type": "markdown",
   "id": "0572fbaa-147f-4d8e-9e34-8bfecdeeacbb",
   "metadata": {},
   "source": [
    "I want to see if there any missing data in the dataset. I can then create a Series where the index contains the name of the columns in `df` and the values are the number of <code>NaN</code>s in each column. Then I will assign the result to <code>nans_by_col</code>. Neither the Series itself nor its index require a name. "
   ]
  },
  {
   "cell_type": "code",
   "execution_count": 80,
   "id": "9d55214d-7ac6-424f-b376-cc5a23fd94a8",
   "metadata": {},
   "outputs": [
    {
     "name": "stdout",
     "output_type": "stream",
     "text": [
      "<class 'pandas.core.frame.DataFrame'>\n",
      "Int64Index: 6137 entries, 1 to 6819\n",
      "Data columns (total 96 columns):\n",
      " #   Column    Non-Null Count  Dtype  \n",
      "---  ------    --------------  -----  \n",
      " 0   bankrupt  6137 non-null   bool   \n",
      " 1   feat_1    6137 non-null   float64\n",
      " 2   feat_2    6137 non-null   float64\n",
      " 3   feat_3    6137 non-null   float64\n",
      " 4   feat_4    6137 non-null   float64\n",
      " 5   feat_5    6137 non-null   float64\n",
      " 6   feat_6    6137 non-null   float64\n",
      " 7   feat_7    6137 non-null   float64\n",
      " 8   feat_8    6137 non-null   float64\n",
      " 9   feat_9    6137 non-null   float64\n",
      " 10  feat_10   6137 non-null   float64\n",
      " 11  feat_11   6137 non-null   float64\n",
      " 12  feat_12   6137 non-null   float64\n",
      " 13  feat_13   6137 non-null   float64\n",
      " 14  feat_14   6137 non-null   float64\n",
      " 15  feat_15   6137 non-null   float64\n",
      " 16  feat_16   6137 non-null   float64\n",
      " 17  feat_17   6137 non-null   float64\n",
      " 18  feat_18   6137 non-null   float64\n",
      " 19  feat_19   6137 non-null   float64\n",
      " 20  feat_20   6137 non-null   float64\n",
      " 21  feat_21   6137 non-null   float64\n",
      " 22  feat_22   6137 non-null   float64\n",
      " 23  feat_23   6137 non-null   float64\n",
      " 24  feat_24   6137 non-null   float64\n",
      " 25  feat_25   6137 non-null   float64\n",
      " 26  feat_26   6137 non-null   float64\n",
      " 27  feat_27   6137 non-null   float64\n",
      " 28  feat_28   6137 non-null   float64\n",
      " 29  feat_29   6137 non-null   float64\n",
      " 30  feat_30   6137 non-null   float64\n",
      " 31  feat_31   6137 non-null   float64\n",
      " 32  feat_32   6137 non-null   float64\n",
      " 33  feat_33   6137 non-null   float64\n",
      " 34  feat_34   6137 non-null   float64\n",
      " 35  feat_35   6137 non-null   float64\n",
      " 36  feat_36   6137 non-null   float64\n",
      " 37  feat_37   6137 non-null   float64\n",
      " 38  feat_38   6137 non-null   float64\n",
      " 39  feat_39   6137 non-null   float64\n",
      " 40  feat_40   6137 non-null   float64\n",
      " 41  feat_41   6137 non-null   float64\n",
      " 42  feat_42   6137 non-null   float64\n",
      " 43  feat_43   6137 non-null   float64\n",
      " 44  feat_44   6137 non-null   float64\n",
      " 45  feat_45   6137 non-null   float64\n",
      " 46  feat_46   6137 non-null   float64\n",
      " 47  feat_47   6137 non-null   float64\n",
      " 48  feat_48   6137 non-null   float64\n",
      " 49  feat_49   6137 non-null   float64\n",
      " 50  feat_50   6137 non-null   float64\n",
      " 51  feat_51   6137 non-null   float64\n",
      " 52  feat_52   6137 non-null   float64\n",
      " 53  feat_53   6137 non-null   float64\n",
      " 54  feat_54   6137 non-null   float64\n",
      " 55  feat_55   6137 non-null   float64\n",
      " 56  feat_56   6137 non-null   float64\n",
      " 57  feat_57   6137 non-null   float64\n",
      " 58  feat_58   6137 non-null   float64\n",
      " 59  feat_59   6137 non-null   float64\n",
      " 60  feat_60   6137 non-null   float64\n",
      " 61  feat_61   6137 non-null   float64\n",
      " 62  feat_62   6137 non-null   float64\n",
      " 63  feat_63   6137 non-null   float64\n",
      " 64  feat_64   6137 non-null   float64\n",
      " 65  feat_65   6137 non-null   float64\n",
      " 66  feat_66   6137 non-null   float64\n",
      " 67  feat_67   6137 non-null   float64\n",
      " 68  feat_68   6137 non-null   float64\n",
      " 69  feat_69   6137 non-null   float64\n",
      " 70  feat_70   6137 non-null   float64\n",
      " 71  feat_71   6137 non-null   float64\n",
      " 72  feat_72   6137 non-null   float64\n",
      " 73  feat_73   6137 non-null   float64\n",
      " 74  feat_74   6137 non-null   float64\n",
      " 75  feat_75   6137 non-null   float64\n",
      " 76  feat_76   6137 non-null   float64\n",
      " 77  feat_77   6137 non-null   float64\n",
      " 78  feat_78   6137 non-null   float64\n",
      " 79  feat_79   6137 non-null   float64\n",
      " 80  feat_80   6137 non-null   float64\n",
      " 81  feat_81   6137 non-null   float64\n",
      " 82  feat_82   6137 non-null   float64\n",
      " 83  feat_83   6137 non-null   float64\n",
      " 84  feat_84   6137 non-null   float64\n",
      " 85  feat_85   6137 non-null   int64  \n",
      " 86  feat_86   6137 non-null   float64\n",
      " 87  feat_87   6137 non-null   float64\n",
      " 88  feat_88   6137 non-null   float64\n",
      " 89  feat_89   6137 non-null   float64\n",
      " 90  feat_90   6137 non-null   float64\n",
      " 91  feat_91   6137 non-null   float64\n",
      " 92  feat_92   6137 non-null   float64\n",
      " 93  feat_93   6137 non-null   float64\n",
      " 94  feat_94   6137 non-null   int64  \n",
      " 95  feat_95   6137 non-null   float64\n",
      "dtypes: bool(1), float64(93), int64(2)\n",
      "memory usage: 4.5 MB\n"
     ]
    }
   ],
   "source": [
    "df.info()"
   ]
  },
  {
   "cell_type": "code",
   "execution_count": 81,
   "id": "c354b30a-bd29-42dc-b98c-70cac0111211",
   "metadata": {},
   "outputs": [
    {
     "data": {
      "text/plain": [
       "0"
      ]
     },
     "execution_count": 81,
     "metadata": {},
     "output_type": "execute_result"
    }
   ],
   "source": [
    "df.isnull().sum().sum()"
   ]
  },
  {
   "cell_type": "code",
   "execution_count": 82,
   "id": "6c35ce85-ac43-4178-9906-2951b7127331",
   "metadata": {},
   "outputs": [
    {
     "data": {
      "text/plain": [
       "bankrupt       2\n",
       "feat_1      3159\n",
       "feat_2      2985\n",
       "feat_3      2984\n",
       "feat_4      3580\n",
       "            ... \n",
       "feat_91     6136\n",
       "feat_92     5599\n",
       "feat_93     5608\n",
       "feat_94        1\n",
       "feat_95     6137\n",
       "Length: 96, dtype: int64"
      ]
     },
     "execution_count": 82,
     "metadata": {},
     "output_type": "execute_result"
    }
   ],
   "source": [
    "df.nunique()"
   ]
  },
  {
   "cell_type": "code",
   "execution_count": 83,
   "id": "131cdaef-70de-43b6-9a39-3b09d06e96eb",
   "metadata": {},
   "outputs": [
    {
     "data": {
      "text/plain": [
       "bankrupt    0\n",
       "feat_1      0\n",
       "feat_2      0\n",
       "feat_3      0\n",
       "feat_4      0\n",
       "           ..\n",
       "feat_91     0\n",
       "feat_92     0\n",
       "feat_93     0\n",
       "feat_94     0\n",
       "feat_95     0\n",
       "Length: 96, dtype: int64"
      ]
     },
     "execution_count": 83,
     "metadata": {},
     "output_type": "execute_result"
    }
   ],
   "source": [
    "df.isna().sum()"
   ]
  },
  {
   "cell_type": "code",
   "execution_count": 84,
   "id": "f78c76f1-6b66-4637-8af2-53c08c2b16aa",
   "metadata": {},
   "outputs": [
    {
     "name": "stdout",
     "output_type": "stream",
     "text": [
      "nans_by_col shape: (96,)\n"
     ]
    },
    {
     "data": {
      "text/plain": [
       "bankrupt    0\n",
       "feat_1      0\n",
       "feat_2      0\n",
       "feat_3      0\n",
       "feat_4      0\n",
       "dtype: int64"
      ]
     },
     "execution_count": 84,
     "metadata": {},
     "output_type": "execute_result"
    }
   ],
   "source": [
    "nans_by_col = pd.Series(df.isna().sum())\n",
    "print(\"nans_by_col shape:\", nans_by_col.shape)\n",
    "nans_by_col.head()"
   ]
  },
  {
   "cell_type": "markdown",
   "id": "1e162c49-8576-4aba-adce-b1a3c6a9cb11",
   "metadata": {},
   "source": [
    "To see if the data imbalanced, I can create a bar chart that shows the normalized value counts for the column `df[\"bankrupt\"]`."
   ]
  },
  {
   "cell_type": "code",
   "execution_count": 85,
   "id": "6b7eb08c-5dfb-40a4-a64f-eea321467062",
   "metadata": {},
   "outputs": [
    {
     "data": {
      "text/plain": [
       "False    5947\n",
       "True      190\n",
       "Name: bankrupt, dtype: int64"
      ]
     },
     "execution_count": 85,
     "metadata": {},
     "output_type": "execute_result"
    }
   ],
   "source": [
    "df[\"bankrupt\"].value_counts()"
   ]
  },
  {
   "cell_type": "code",
   "execution_count": 86,
   "id": "1901ad80-053d-4ce0-b7fe-7cb02cc59c3c",
   "metadata": {},
   "outputs": [
    {
     "data": {
      "text/plain": [
       "False    0.96904\n",
       "True     0.03096\n",
       "Name: bankrupt, dtype: float64"
      ]
     },
     "execution_count": 86,
     "metadata": {},
     "output_type": "execute_result"
    }
   ],
   "source": [
    "df[\"bankrupt\"].value_counts(normalize=True)"
   ]
  },
  {
   "cell_type": "code",
   "execution_count": 87,
   "id": "32c8b392-6159-48b9-9fc9-5c42325063c0",
   "metadata": {},
   "outputs": [
    {
     "data": {
      "image/png": "[encoded data removed]",
      "text/plain": [
       "<Figure size 432x288 with 1 Axes>"
      ]
     },
     "metadata": {
      "needs_background": "light"
     },
     "output_type": "display_data"
    }
   ],
   "source": [
    "# Plot class balance\n",
    "df[\"bankrupt\"].value_counts(normalize=True).plot(\n",
    "    kind=\"bar\",\n",
    "    xlabel=\"Bankrupt\",  # Label x-axis \"Bankrupt\"\n",
    "    ylabel=\"Frequency\", # Label y-axis \"Frequency\"\n",
    "    title=\"Class Balance\" # Title \"Chart Balance\"\n",
    ");"
   ]
  },
  {
   "cell_type": "markdown",
   "id": "cd019999-6d56-4e45-a60f-f629b9ad6277",
   "metadata": {},
   "source": [
    "## Split"
   ]
  },
  {
   "cell_type": "code",
   "execution_count": 88,
   "id": "54ac590d-226d-406c-bdf6-f0526b561a6f",
   "metadata": {},
   "outputs": [
    {
     "name": "stdout",
     "output_type": "stream",
     "text": [
      "X shape: (6137, 95)\n",
      "y shape: (6137,)\n"
     ]
    }
   ],
   "source": [
    "# Create my feature matrix X and target vector y\n",
    "target = \"bankrupt\" # My target is \"bankrupt\"\n",
    "X = df.drop(columns=\"bankrupt\") # Drop column with multicollinearity in the feature matrix\n",
    "y = df[target]\n",
    "\n",
    "print(\"X shape:\", X.shape)\n",
    "print(\"y shape:\", y.shape)"
   ]
  },
  {
   "cell_type": "code",
   "execution_count": 89,
   "id": "ea8cd73b-5568-4c0f-884c-153c9460b47b",
   "metadata": {},
   "outputs": [
    {
     "name": "stdout",
     "output_type": "stream",
     "text": [
      "X_train shape: (4909, 95)\n",
      "y_train shape: (4909,)\n",
      "X_test shape: (1228, 95)\n",
      "y_test shape: (1228,)\n"
     ]
    }
   ],
   "source": [
    "# Divide my dataset into training and test sets using a randomized split\n",
    "X_train, X_test, y_train, y_test =  train_test_split(\n",
    "    X, y, test_size=0.2, random_state=42   # My test set should be 20% of my data & set random_state to 42\n",
    ")\n",
    "print(\"X_train shape:\", X_train.shape)\n",
    "print(\"y_train shape:\", y_train.shape)\n",
    "print(\"X_test shape:\", X_test.shape)\n",
    "print(\"y_test shape:\", y_test.shape)"
   ]
  },
  {
   "cell_type": "markdown",
   "id": "0880d346-b053-474a-88e7-c69d8d090968",
   "metadata": {},
   "source": [
    "## Resample"
   ]
  },
  {
   "cell_type": "code",
   "execution_count": 90,
   "id": "4baad13b-99b1-4af3-bc48-9325e8443362",
   "metadata": {},
   "outputs": [
    {
     "name": "stdout",
     "output_type": "stream",
     "text": [
      "X_train_over shape: (9512, 95)\n"
     ]
    },
    {
     "data": {
      "text/html": [
       "<div>\n",
       "<style scoped>\n",
       "    .dataframe tbody tr th:only-of-type {\n",
       "        vertical-align: middle;\n",
       "    }\n",
       "\n",
       "    .dataframe tbody tr th {\n",
       "        vertical-align: top;\n",
       "    }\n",
       "\n",
       "    .dataframe thead th {\n",
       "        text-align: right;\n",
       "    }\n",
       "</style>\n",
       "<table border=\"1\" class=\"dataframe\">\n",
       "  <thead>\n",
       "    <tr style=\"text-align: right;\">\n",
       "      <th></th>\n",
       "      <th>feat_1</th>\n",
       "      <th>feat_2</th>\n",
       "      <th>feat_3</th>\n",
       "      <th>feat_4</th>\n",
       "      <th>feat_5</th>\n",
       "      <th>feat_6</th>\n",
       "      <th>feat_7</th>\n",
       "      <th>feat_8</th>\n",
       "      <th>feat_9</th>\n",
       "      <th>feat_10</th>\n",
       "      <th>...</th>\n",
       "      <th>feat_86</th>\n",
       "      <th>feat_87</th>\n",
       "      <th>feat_88</th>\n",
       "      <th>feat_89</th>\n",
       "      <th>feat_90</th>\n",
       "      <th>feat_91</th>\n",
       "      <th>feat_92</th>\n",
       "      <th>feat_93</th>\n",
       "      <th>feat_94</th>\n",
       "      <th>feat_95</th>\n",
       "    </tr>\n",
       "  </thead>\n",
       "  <tbody>\n",
       "    <tr>\n",
       "      <th>0</th>\n",
       "      <td>0.535855</td>\n",
       "      <td>0.599160</td>\n",
       "      <td>0.594411</td>\n",
       "      <td>0.627099</td>\n",
       "      <td>0.627099</td>\n",
       "      <td>0.999220</td>\n",
       "      <td>0.797686</td>\n",
       "      <td>0.809591</td>\n",
       "      <td>0.303518</td>\n",
       "      <td>0.781865</td>\n",
       "      <td>...</td>\n",
       "      <td>0.834091</td>\n",
       "      <td>0.022025</td>\n",
       "      <td>0.624364</td>\n",
       "      <td>0.627101</td>\n",
       "      <td>0.841977</td>\n",
       "      <td>0.275384</td>\n",
       "      <td>0.026791</td>\n",
       "      <td>0.565158</td>\n",
       "      <td>1</td>\n",
       "      <td>0.147943</td>\n",
       "    </tr>\n",
       "    <tr>\n",
       "      <th>1</th>\n",
       "      <td>0.554136</td>\n",
       "      <td>0.612734</td>\n",
       "      <td>0.595000</td>\n",
       "      <td>0.607388</td>\n",
       "      <td>0.607388</td>\n",
       "      <td>0.999120</td>\n",
       "      <td>0.797614</td>\n",
       "      <td>0.809483</td>\n",
       "      <td>0.303600</td>\n",
       "      <td>0.781754</td>\n",
       "      <td>...</td>\n",
       "      <td>0.840293</td>\n",
       "      <td>0.002407</td>\n",
       "      <td>0.624548</td>\n",
       "      <td>0.607385</td>\n",
       "      <td>0.842645</td>\n",
       "      <td>0.276532</td>\n",
       "      <td>0.026791</td>\n",
       "      <td>0.565158</td>\n",
       "      <td>1</td>\n",
       "      <td>0.062544</td>\n",
       "    </tr>\n",
       "    <tr>\n",
       "      <th>2</th>\n",
       "      <td>0.549554</td>\n",
       "      <td>0.603467</td>\n",
       "      <td>0.599122</td>\n",
       "      <td>0.620166</td>\n",
       "      <td>0.620166</td>\n",
       "      <td>0.999119</td>\n",
       "      <td>0.797569</td>\n",
       "      <td>0.809470</td>\n",
       "      <td>0.303524</td>\n",
       "      <td>0.781740</td>\n",
       "      <td>...</td>\n",
       "      <td>0.840403</td>\n",
       "      <td>0.000840</td>\n",
       "      <td>0.624010</td>\n",
       "      <td>0.620163</td>\n",
       "      <td>0.842873</td>\n",
       "      <td>0.277249</td>\n",
       "      <td>0.026800</td>\n",
       "      <td>0.565200</td>\n",
       "      <td>1</td>\n",
       "      <td>0.047929</td>\n",
       "    </tr>\n",
       "    <tr>\n",
       "      <th>3</th>\n",
       "      <td>0.543801</td>\n",
       "      <td>0.603249</td>\n",
       "      <td>0.606992</td>\n",
       "      <td>0.622515</td>\n",
       "      <td>0.622515</td>\n",
       "      <td>0.999259</td>\n",
       "      <td>0.797728</td>\n",
       "      <td>0.809649</td>\n",
       "      <td>0.303510</td>\n",
       "      <td>0.781930</td>\n",
       "      <td>...</td>\n",
       "      <td>0.831514</td>\n",
       "      <td>0.006176</td>\n",
       "      <td>0.626775</td>\n",
       "      <td>0.622513</td>\n",
       "      <td>0.842989</td>\n",
       "      <td>0.280013</td>\n",
       "      <td>0.026839</td>\n",
       "      <td>0.565375</td>\n",
       "      <td>1</td>\n",
       "      <td>0.028386</td>\n",
       "    </tr>\n",
       "    <tr>\n",
       "      <th>4</th>\n",
       "      <td>0.498659</td>\n",
       "      <td>0.562364</td>\n",
       "      <td>0.546978</td>\n",
       "      <td>0.603670</td>\n",
       "      <td>0.603670</td>\n",
       "      <td>0.998904</td>\n",
       "      <td>0.797584</td>\n",
       "      <td>0.809459</td>\n",
       "      <td>0.304000</td>\n",
       "      <td>0.781713</td>\n",
       "      <td>...</td>\n",
       "      <td>0.811988</td>\n",
       "      <td>0.004256</td>\n",
       "      <td>0.623674</td>\n",
       "      <td>0.603669</td>\n",
       "      <td>0.841105</td>\n",
       "      <td>0.277628</td>\n",
       "      <td>0.026897</td>\n",
       "      <td>0.565618</td>\n",
       "      <td>1</td>\n",
       "      <td>0.043080</td>\n",
       "    </tr>\n",
       "  </tbody>\n",
       "</table>\n",
       "<p>5 rows × 95 columns</p>\n",
       "</div>"
      ],
      "text/plain": [
       "     feat_1    feat_2    feat_3    feat_4    feat_5    feat_6    feat_7  \\\n",
       "0  0.535855  0.599160  0.594411  0.627099  0.627099  0.999220  0.797686   \n",
       "1  0.554136  0.612734  0.595000  0.607388  0.607388  0.999120  0.797614   \n",
       "2  0.549554  0.603467  0.599122  0.620166  0.620166  0.999119  0.797569   \n",
       "3  0.543801  0.603249  0.606992  0.622515  0.622515  0.999259  0.797728   \n",
       "4  0.498659  0.562364  0.546978  0.603670  0.603670  0.998904  0.797584   \n",
       "\n",
       "     feat_8    feat_9   feat_10  ...   feat_86   feat_87   feat_88   feat_89  \\\n",
       "0  0.809591  0.303518  0.781865  ...  0.834091  0.022025  0.624364  0.627101   \n",
       "1  0.809483  0.303600  0.781754  ...  0.840293  0.002407  0.624548  0.607385   \n",
       "2  0.809470  0.303524  0.781740  ...  0.840403  0.000840  0.624010  0.620163   \n",
       "3  0.809649  0.303510  0.781930  ...  0.831514  0.006176  0.626775  0.622513   \n",
       "4  0.809459  0.304000  0.781713  ...  0.811988  0.004256  0.623674  0.603669   \n",
       "\n",
       "    feat_90   feat_91   feat_92   feat_93  feat_94   feat_95  \n",
       "0  0.841977  0.275384  0.026791  0.565158        1  0.147943  \n",
       "1  0.842645  0.276532  0.026791  0.565158        1  0.062544  \n",
       "2  0.842873  0.277249  0.026800  0.565200        1  0.047929  \n",
       "3  0.842989  0.280013  0.026839  0.565375        1  0.028386  \n",
       "4  0.841105  0.277628  0.026897  0.565618        1  0.043080  \n",
       "\n",
       "[5 rows x 95 columns]"
      ]
     },
     "execution_count": 90,
     "metadata": {},
     "output_type": "execute_result"
    }
   ],
   "source": [
    "# Create a new feature matrix X_train_over and target vector y_train_over by performing random over-sampling on the training data\n",
    "over_sampler = RandomOverSampler(random_state=42) # Set the random_state to 42\n",
    "X_train_over, y_train_over = over_sampler.fit_resample(X_train, y_train)\n",
    "print(\"X_train_over shape:\", X_train_over.shape)\n",
    "X_train_over.head()"
   ]
  },
  {
   "cell_type": "markdown",
   "id": "3a79754f-3770-4dd4-a3a3-88c9aacafe10",
   "metadata": {},
   "source": [
    "# Build Model"
   ]
  },
  {
   "cell_type": "markdown",
   "id": "6856cc6d-7472-4b73-8a80-74b536fe256f",
   "metadata": {},
   "source": [
    "## Baseline"
   ]
  },
  {
   "cell_type": "code",
   "execution_count": 91,
   "id": "cc932433-aa7e-460d-98da-6986af165b29",
   "metadata": {},
   "outputs": [
    {
     "name": "stdout",
     "output_type": "stream",
     "text": [
      "Baseline Accuracy: 0.9688\n"
     ]
    }
   ],
   "source": [
    "# Calculate the baseline accuracy score for my model\n",
    "acc_baseline = y_train.value_counts(normalize=True).max()\n",
    "print(\"Baseline Accuracy:\", round(acc_baseline, 4))"
   ]
  },
  {
   "cell_type": "markdown",
   "id": "88a197fa-9877-4a10-8aec-f8e738698fc7",
   "metadata": {},
   "source": [
    "## Iterate"
   ]
  },
  {
   "cell_type": "markdown",
   "id": "d6ea9a57-4bfb-4c9b-a610-bb76f9254af5",
   "metadata": {},
   "source": [
    "**Gradient Boosting Trees**"
   ]
  },
  {
   "cell_type": "code",
   "execution_count": 92,
   "id": "02e95a28-a0f9-4e1c-84da-073074aa068b",
   "metadata": {},
   "outputs": [
    {
     "name": "stdout",
     "output_type": "stream",
     "text": [
      "RandomForestClassifier(random_state=42)\n"
     ]
    }
   ],
   "source": [
    "# Create a classifier clf that can be trained on (X_train_over, y_train_over)\n",
    "clf = RandomForestClassifier(random_state=42)\n",
    "print(clf)"
   ]
  },
  {
   "cell_type": "code",
   "execution_count": 93,
   "id": "0cc6c7da-491a-4818-8434-42041e6844e1",
   "metadata": {},
   "outputs": [
    {
     "name": "stdout",
     "output_type": "stream",
     "text": [
      "[0.99316868 0.99474514 0.99369085 0.99369085 0.9957939 ]\n"
     ]
    }
   ],
   "source": [
    "# Perform cross-validation with my classifier using the over-sampled training data, and assign my results to cv_scores\n",
    "cv_scores = cross_val_score(clf, X_train_over, y_train_over, cv=5, n_jobs=-1)  # Set the cv argument to 5\n",
    "print(cv_scores)"
   ]
  },
  {
   "cell_type": "code",
   "execution_count": 94,
   "id": "b2c86a51-c4be-4aad-a56c-4e76e6c66504",
   "metadata": {},
   "outputs": [
    {
     "data": {
      "text/plain": [
       "{'n_estimators': range(25, 100, 25), 'max_depth': range(10, 50, 10)}"
      ]
     },
     "execution_count": 94,
     "metadata": {},
     "output_type": "execute_result"
    }
   ],
   "source": [
    "# Create a dictionary params with the range of hyperparameters that I want to evaluate for my classifier\n",
    "params = {\n",
    "    \"n_estimators\": range(25, 100, 25),\n",
    "    \"max_depth\": range(10, 50, 10)\n",
    "\n",
    "\n",
    "}\n",
    "params"
   ]
  },
  {
   "cell_type": "code",
   "execution_count": 95,
   "id": "47f36276-6ef1-4014-a53f-272885392462",
   "metadata": {},
   "outputs": [
    {
     "data": {
      "text/html": [
       "<style>#sk-container-id-3 {color: black;background-color: white;}#sk-container-id-3 pre{padding: 0;}#sk-container-id-3 div.sk-toggleable {background-color: white;}#sk-container-id-3 label.sk-toggleable__label {cursor: pointer;display: block;width: 100%;margin-bottom: 0;padding: 0.3em;box-sizing: border-box;text-align: center;}#sk-container-id-3 label.sk-toggleable__label-arrow:before {content: \"▸\";float: left;margin-right: 0.25em;color: #696969;}#sk-container-id-3 label.sk-toggleable__label-arrow:hover:before {color: black;}#sk-container-id-3 div.sk-estimator:hover label.sk-toggleable__label-arrow:before {color: black;}#sk-container-id-3 div.sk-toggleable__content {max-height: 0;max-width: 0;overflow: hidden;text-align: left;background-color: #f0f8ff;}#sk-container-id-3 div.sk-toggleable__content pre {margin: 0.2em;color: black;border-radius: 0.25em;background-color: #f0f8ff;}#sk-container-id-3 input.sk-toggleable__control:checked~div.sk-toggleable__content {max-height: 200px;max-width: 100%;overflow: auto;}#sk-container-id-3 input.sk-toggleable__control:checked~label.sk-toggleable__label-arrow:before {content: \"▾\";}#sk-container-id-3 div.sk-estimator input.sk-toggleable__control:checked~label.sk-toggleable__label {background-color: #d4ebff;}#sk-container-id-3 div.sk-label input.sk-toggleable__control:checked~label.sk-toggleable__label {background-color: #d4ebff;}#sk-container-id-3 input.sk-hidden--visually {border: 0;clip: rect(1px 1px 1px 1px);clip: rect(1px, 1px, 1px, 1px);height: 1px;margin: -1px;overflow: hidden;padding: 0;position: absolute;width: 1px;}#sk-container-id-3 div.sk-estimator {font-family: monospace;background-color: #f0f8ff;border: 1px dotted black;border-radius: 0.25em;box-sizing: border-box;margin-bottom: 0.5em;}#sk-container-id-3 div.sk-estimator:hover {background-color: #d4ebff;}#sk-container-id-3 div.sk-parallel-item::after {content: \"\";width: 100%;border-bottom: 1px solid gray;flex-grow: 1;}#sk-container-id-3 div.sk-label:hover label.sk-toggleable__label {background-color: #d4ebff;}#sk-container-id-3 div.sk-serial::before {content: \"\";position: absolute;border-left: 1px solid gray;box-sizing: border-box;top: 0;bottom: 0;left: 50%;z-index: 0;}#sk-container-id-3 div.sk-serial {display: flex;flex-direction: column;align-items: center;background-color: white;padding-right: 0.2em;padding-left: 0.2em;position: relative;}#sk-container-id-3 div.sk-item {position: relative;z-index: 1;}#sk-container-id-3 div.sk-parallel {display: flex;align-items: stretch;justify-content: center;background-color: white;position: relative;}#sk-container-id-3 div.sk-item::before, #sk-container-id-3 div.sk-parallel-item::before {content: \"\";position: absolute;border-left: 1px solid gray;box-sizing: border-box;top: 0;bottom: 0;left: 50%;z-index: -1;}#sk-container-id-3 div.sk-parallel-item {display: flex;flex-direction: column;z-index: 1;position: relative;background-color: white;}#sk-container-id-3 div.sk-parallel-item:first-child::after {align-self: flex-end;width: 50%;}#sk-container-id-3 div.sk-parallel-item:last-child::after {align-self: flex-start;width: 50%;}#sk-container-id-3 div.sk-parallel-item:only-child::after {width: 0;}#sk-container-id-3 div.sk-dashed-wrapped {border: 1px dashed gray;margin: 0 0.4em 0.5em 0.4em;box-sizing: border-box;padding-bottom: 0.4em;background-color: white;}#sk-container-id-3 div.sk-label label {font-family: monospace;font-weight: bold;display: inline-block;line-height: 1.2em;}#sk-container-id-3 div.sk-label-container {text-align: center;}#sk-container-id-3 div.sk-container {/* jupyter's `normalize.less` sets `[hidden] { display: none; }` but bootstrap.min.css set `[hidden] { display: none !important; }` so we also need the `!important` here to be able to override the default hidden behavior on the sphinx rendered scikit-learn.org. See: https://github.com/scikit-learn/scikit-learn/issues/21755 */display: inline-block !important;position: relative;}#sk-container-id-3 div.sk-text-repr-fallback {display: none;}</style><div id=\"sk-container-id-3\" class=\"sk-top-container\"><div class=\"sk-text-repr-fallback\"><pre>GridSearchCV(cv=5, estimator=RandomForestClassifier(random_state=42), n_jobs=-1,\n",
       "             param_grid={&#x27;max_depth&#x27;: range(10, 50, 10),\n",
       "                         &#x27;n_estimators&#x27;: range(25, 100, 25)},\n",
       "             verbose=1)</pre><b>In a Jupyter environment, please rerun this cell to show the HTML representation or trust the notebook. <br />On GitHub, the HTML representation is unable to render, please try loading this page with nbviewer.org.</b></div><div class=\"sk-container\" hidden><div class=\"sk-item sk-dashed-wrapped\"><div class=\"sk-label-container\"><div class=\"sk-label sk-toggleable\"><input class=\"sk-toggleable__control sk-hidden--visually\" id=\"sk-estimator-id-7\" type=\"checkbox\" ><label for=\"sk-estimator-id-7\" class=\"sk-toggleable__label sk-toggleable__label-arrow\">GridSearchCV</label><div class=\"sk-toggleable__content\"><pre>GridSearchCV(cv=5, estimator=RandomForestClassifier(random_state=42), n_jobs=-1,\n",
       "             param_grid={&#x27;max_depth&#x27;: range(10, 50, 10),\n",
       "                         &#x27;n_estimators&#x27;: range(25, 100, 25)},\n",
       "             verbose=1)</pre></div></div></div><div class=\"sk-parallel\"><div class=\"sk-parallel-item\"><div class=\"sk-item\"><div class=\"sk-label-container\"><div class=\"sk-label sk-toggleable\"><input class=\"sk-toggleable__control sk-hidden--visually\" id=\"sk-estimator-id-8\" type=\"checkbox\" ><label for=\"sk-estimator-id-8\" class=\"sk-toggleable__label sk-toggleable__label-arrow\">estimator: RandomForestClassifier</label><div class=\"sk-toggleable__content\"><pre>RandomForestClassifier(random_state=42)</pre></div></div></div><div class=\"sk-serial\"><div class=\"sk-item\"><div class=\"sk-estimator sk-toggleable\"><input class=\"sk-toggleable__control sk-hidden--visually\" id=\"sk-estimator-id-9\" type=\"checkbox\" ><label for=\"sk-estimator-id-9\" class=\"sk-toggleable__label sk-toggleable__label-arrow\">RandomForestClassifier</label><div class=\"sk-toggleable__content\"><pre>RandomForestClassifier(random_state=42)</pre></div></div></div></div></div></div></div></div></div></div>"
      ],
      "text/plain": [
       "GridSearchCV(cv=5, estimator=RandomForestClassifier(random_state=42), n_jobs=-1,\n",
       "             param_grid={'max_depth': range(10, 50, 10),\n",
       "                         'n_estimators': range(25, 100, 25)},\n",
       "             verbose=1)"
      ]
     },
     "execution_count": 95,
     "metadata": {},
     "output_type": "execute_result"
    }
   ],
   "source": [
    "# Create a GridSearchCV named model that includes my classifier and hyperparameter grid\n",
    "model = GridSearchCV(clf, param_grid=params, cv=5, n_jobs=-1, verbose=1) # Set cv to 5, n_jobs to -1, and verbose to 1\n",
    "model"
   ]
  },
  {
   "cell_type": "code",
   "execution_count": 96,
   "id": "dfb58983-2afb-4efe-af5b-fb4a357b12bd",
   "metadata": {},
   "outputs": [
    {
     "name": "stdout",
     "output_type": "stream",
     "text": [
      "Fitting 5 folds for each of 12 candidates, totalling 60 fits\n"
     ]
    },
    {
     "data": {
      "text/html": [
       "<style>#sk-container-id-4 {color: black;background-color: white;}#sk-container-id-4 pre{padding: 0;}#sk-container-id-4 div.sk-toggleable {background-color: white;}#sk-container-id-4 label.sk-toggleable__label {cursor: pointer;display: block;width: 100%;margin-bottom: 0;padding: 0.3em;box-sizing: border-box;text-align: center;}#sk-container-id-4 label.sk-toggleable__label-arrow:before {content: \"▸\";float: left;margin-right: 0.25em;color: #696969;}#sk-container-id-4 label.sk-toggleable__label-arrow:hover:before {color: black;}#sk-container-id-4 div.sk-estimator:hover label.sk-toggleable__label-arrow:before {color: black;}#sk-container-id-4 div.sk-toggleable__content {max-height: 0;max-width: 0;overflow: hidden;text-align: left;background-color: #f0f8ff;}#sk-container-id-4 div.sk-toggleable__content pre {margin: 0.2em;color: black;border-radius: 0.25em;background-color: #f0f8ff;}#sk-container-id-4 input.sk-toggleable__control:checked~div.sk-toggleable__content {max-height: 200px;max-width: 100%;overflow: auto;}#sk-container-id-4 input.sk-toggleable__control:checked~label.sk-toggleable__label-arrow:before {content: \"▾\";}#sk-container-id-4 div.sk-estimator input.sk-toggleable__control:checked~label.sk-toggleable__label {background-color: #d4ebff;}#sk-container-id-4 div.sk-label input.sk-toggleable__control:checked~label.sk-toggleable__label {background-color: #d4ebff;}#sk-container-id-4 input.sk-hidden--visually {border: 0;clip: rect(1px 1px 1px 1px);clip: rect(1px, 1px, 1px, 1px);height: 1px;margin: -1px;overflow: hidden;padding: 0;position: absolute;width: 1px;}#sk-container-id-4 div.sk-estimator {font-family: monospace;background-color: #f0f8ff;border: 1px dotted black;border-radius: 0.25em;box-sizing: border-box;margin-bottom: 0.5em;}#sk-container-id-4 div.sk-estimator:hover {background-color: #d4ebff;}#sk-container-id-4 div.sk-parallel-item::after {content: \"\";width: 100%;border-bottom: 1px solid gray;flex-grow: 1;}#sk-container-id-4 div.sk-label:hover label.sk-toggleable__label {background-color: #d4ebff;}#sk-container-id-4 div.sk-serial::before {content: \"\";position: absolute;border-left: 1px solid gray;box-sizing: border-box;top: 0;bottom: 0;left: 50%;z-index: 0;}#sk-container-id-4 div.sk-serial {display: flex;flex-direction: column;align-items: center;background-color: white;padding-right: 0.2em;padding-left: 0.2em;position: relative;}#sk-container-id-4 div.sk-item {position: relative;z-index: 1;}#sk-container-id-4 div.sk-parallel {display: flex;align-items: stretch;justify-content: center;background-color: white;position: relative;}#sk-container-id-4 div.sk-item::before, #sk-container-id-4 div.sk-parallel-item::before {content: \"\";position: absolute;border-left: 1px solid gray;box-sizing: border-box;top: 0;bottom: 0;left: 50%;z-index: -1;}#sk-container-id-4 div.sk-parallel-item {display: flex;flex-direction: column;z-index: 1;position: relative;background-color: white;}#sk-container-id-4 div.sk-parallel-item:first-child::after {align-self: flex-end;width: 50%;}#sk-container-id-4 div.sk-parallel-item:last-child::after {align-self: flex-start;width: 50%;}#sk-container-id-4 div.sk-parallel-item:only-child::after {width: 0;}#sk-container-id-4 div.sk-dashed-wrapped {border: 1px dashed gray;margin: 0 0.4em 0.5em 0.4em;box-sizing: border-box;padding-bottom: 0.4em;background-color: white;}#sk-container-id-4 div.sk-label label {font-family: monospace;font-weight: bold;display: inline-block;line-height: 1.2em;}#sk-container-id-4 div.sk-label-container {text-align: center;}#sk-container-id-4 div.sk-container {/* jupyter's `normalize.less` sets `[hidden] { display: none; }` but bootstrap.min.css set `[hidden] { display: none !important; }` so we also need the `!important` here to be able to override the default hidden behavior on the sphinx rendered scikit-learn.org. See: https://github.com/scikit-learn/scikit-learn/issues/21755 */display: inline-block !important;position: relative;}#sk-container-id-4 div.sk-text-repr-fallback {display: none;}</style><div id=\"sk-container-id-4\" class=\"sk-top-container\"><div class=\"sk-text-repr-fallback\"><pre>GridSearchCV(cv=5, estimator=RandomForestClassifier(random_state=42), n_jobs=-1,\n",
       "             param_grid={&#x27;max_depth&#x27;: range(10, 50, 10),\n",
       "                         &#x27;n_estimators&#x27;: range(25, 100, 25)},\n",
       "             verbose=1)</pre><b>In a Jupyter environment, please rerun this cell to show the HTML representation or trust the notebook. <br />On GitHub, the HTML representation is unable to render, please try loading this page with nbviewer.org.</b></div><div class=\"sk-container\" hidden><div class=\"sk-item sk-dashed-wrapped\"><div class=\"sk-label-container\"><div class=\"sk-label sk-toggleable\"><input class=\"sk-toggleable__control sk-hidden--visually\" id=\"sk-estimator-id-10\" type=\"checkbox\" ><label for=\"sk-estimator-id-10\" class=\"sk-toggleable__label sk-toggleable__label-arrow\">GridSearchCV</label><div class=\"sk-toggleable__content\"><pre>GridSearchCV(cv=5, estimator=RandomForestClassifier(random_state=42), n_jobs=-1,\n",
       "             param_grid={&#x27;max_depth&#x27;: range(10, 50, 10),\n",
       "                         &#x27;n_estimators&#x27;: range(25, 100, 25)},\n",
       "             verbose=1)</pre></div></div></div><div class=\"sk-parallel\"><div class=\"sk-parallel-item\"><div class=\"sk-item\"><div class=\"sk-label-container\"><div class=\"sk-label sk-toggleable\"><input class=\"sk-toggleable__control sk-hidden--visually\" id=\"sk-estimator-id-11\" type=\"checkbox\" ><label for=\"sk-estimator-id-11\" class=\"sk-toggleable__label sk-toggleable__label-arrow\">estimator: RandomForestClassifier</label><div class=\"sk-toggleable__content\"><pre>RandomForestClassifier(random_state=42)</pre></div></div></div><div class=\"sk-serial\"><div class=\"sk-item\"><div class=\"sk-estimator sk-toggleable\"><input class=\"sk-toggleable__control sk-hidden--visually\" id=\"sk-estimator-id-12\" type=\"checkbox\" ><label for=\"sk-estimator-id-12\" class=\"sk-toggleable__label sk-toggleable__label-arrow\">RandomForestClassifier</label><div class=\"sk-toggleable__content\"><pre>RandomForestClassifier(random_state=42)</pre></div></div></div></div></div></div></div></div></div></div>"
      ],
      "text/plain": [
       "GridSearchCV(cv=5, estimator=RandomForestClassifier(random_state=42), n_jobs=-1,\n",
       "             param_grid={'max_depth': range(10, 50, 10),\n",
       "                         'n_estimators': range(25, 100, 25)},\n",
       "             verbose=1)"
      ]
     },
     "execution_count": 96,
     "metadata": {},
     "output_type": "execute_result"
    }
   ],
   "source": [
    "# Fit my model to the over-sampled training data\n",
    "model.fit(X_train_over, y_train_over)"
   ]
  },
  {
   "cell_type": "code",
   "execution_count": 97,
   "id": "2168b76e-3554-40fa-bc37-8d900989885b",
   "metadata": {},
   "outputs": [
    {
     "data": {
      "text/html": [
       "<div>\n",
       "<style scoped>\n",
       "    .dataframe tbody tr th:only-of-type {\n",
       "        vertical-align: middle;\n",
       "    }\n",
       "\n",
       "    .dataframe tbody tr th {\n",
       "        vertical-align: top;\n",
       "    }\n",
       "\n",
       "    .dataframe thead th {\n",
       "        text-align: right;\n",
       "    }\n",
       "</style>\n",
       "<table border=\"1\" class=\"dataframe\">\n",
       "  <thead>\n",
       "    <tr style=\"text-align: right;\">\n",
       "      <th></th>\n",
       "      <th>mean_fit_time</th>\n",
       "      <th>std_fit_time</th>\n",
       "      <th>mean_score_time</th>\n",
       "      <th>std_score_time</th>\n",
       "      <th>param_max_depth</th>\n",
       "      <th>param_n_estimators</th>\n",
       "      <th>params</th>\n",
       "      <th>split0_test_score</th>\n",
       "      <th>split1_test_score</th>\n",
       "      <th>split2_test_score</th>\n",
       "      <th>split3_test_score</th>\n",
       "      <th>split4_test_score</th>\n",
       "      <th>mean_test_score</th>\n",
       "      <th>std_test_score</th>\n",
       "      <th>rank_test_score</th>\n",
       "    </tr>\n",
       "  </thead>\n",
       "  <tbody>\n",
       "    <tr>\n",
       "      <th>0</th>\n",
       "      <td>0.466611</td>\n",
       "      <td>0.030509</td>\n",
       "      <td>0.006319</td>\n",
       "      <td>0.002242</td>\n",
       "      <td>10</td>\n",
       "      <td>25</td>\n",
       "      <td>{'max_depth': 10, 'n_estimators': 25}</td>\n",
       "      <td>0.981608</td>\n",
       "      <td>0.980032</td>\n",
       "      <td>0.979495</td>\n",
       "      <td>0.981073</td>\n",
       "      <td>0.980547</td>\n",
       "      <td>0.980551</td>\n",
       "      <td>0.000745</td>\n",
       "      <td>11</td>\n",
       "    </tr>\n",
       "    <tr>\n",
       "      <th>1</th>\n",
       "      <td>0.906622</td>\n",
       "      <td>0.022882</td>\n",
       "      <td>0.009819</td>\n",
       "      <td>0.002386</td>\n",
       "      <td>10</td>\n",
       "      <td>50</td>\n",
       "      <td>{'max_depth': 10, 'n_estimators': 50}</td>\n",
       "      <td>0.983184</td>\n",
       "      <td>0.981608</td>\n",
       "      <td>0.977918</td>\n",
       "      <td>0.980021</td>\n",
       "      <td>0.981073</td>\n",
       "      <td>0.980761</td>\n",
       "      <td>0.001750</td>\n",
       "      <td>10</td>\n",
       "    </tr>\n",
       "    <tr>\n",
       "      <th>2</th>\n",
       "      <td>1.409413</td>\n",
       "      <td>0.038556</td>\n",
       "      <td>0.013992</td>\n",
       "      <td>0.002892</td>\n",
       "      <td>10</td>\n",
       "      <td>75</td>\n",
       "      <td>{'max_depth': 10, 'n_estimators': 75}</td>\n",
       "      <td>0.983184</td>\n",
       "      <td>0.981083</td>\n",
       "      <td>0.977392</td>\n",
       "      <td>0.979495</td>\n",
       "      <td>0.981073</td>\n",
       "      <td>0.980445</td>\n",
       "      <td>0.001925</td>\n",
       "      <td>12</td>\n",
       "    </tr>\n",
       "    <tr>\n",
       "      <th>3</th>\n",
       "      <td>0.566776</td>\n",
       "      <td>0.029568</td>\n",
       "      <td>0.008576</td>\n",
       "      <td>0.002357</td>\n",
       "      <td>20</td>\n",
       "      <td>25</td>\n",
       "      <td>{'max_depth': 20, 'n_estimators': 25}</td>\n",
       "      <td>0.990541</td>\n",
       "      <td>0.986863</td>\n",
       "      <td>0.985804</td>\n",
       "      <td>0.990011</td>\n",
       "      <td>0.989485</td>\n",
       "      <td>0.988541</td>\n",
       "      <td>0.001863</td>\n",
       "      <td>9</td>\n",
       "    </tr>\n",
       "    <tr>\n",
       "      <th>4</th>\n",
       "      <td>1.125918</td>\n",
       "      <td>0.056730</td>\n",
       "      <td>0.014820</td>\n",
       "      <td>0.003020</td>\n",
       "      <td>20</td>\n",
       "      <td>50</td>\n",
       "      <td>{'max_depth': 20, 'n_estimators': 50}</td>\n",
       "      <td>0.990541</td>\n",
       "      <td>0.990016</td>\n",
       "      <td>0.987907</td>\n",
       "      <td>0.990011</td>\n",
       "      <td>0.990011</td>\n",
       "      <td>0.989697</td>\n",
       "      <td>0.000918</td>\n",
       "      <td>7</td>\n",
       "    </tr>\n",
       "  </tbody>\n",
       "</table>\n",
       "</div>"
      ],
      "text/plain": [
       "   mean_fit_time  std_fit_time  mean_score_time  std_score_time  \\\n",
       "0       0.466611      0.030509         0.006319        0.002242   \n",
       "1       0.906622      0.022882         0.009819        0.002386   \n",
       "2       1.409413      0.038556         0.013992        0.002892   \n",
       "3       0.566776      0.029568         0.008576        0.002357   \n",
       "4       1.125918      0.056730         0.014820        0.003020   \n",
       "\n",
       "  param_max_depth param_n_estimators                                 params  \\\n",
       "0              10                 25  {'max_depth': 10, 'n_estimators': 25}   \n",
       "1              10                 50  {'max_depth': 10, 'n_estimators': 50}   \n",
       "2              10                 75  {'max_depth': 10, 'n_estimators': 75}   \n",
       "3              20                 25  {'max_depth': 20, 'n_estimators': 25}   \n",
       "4              20                 50  {'max_depth': 20, 'n_estimators': 50}   \n",
       "\n",
       "   split0_test_score  split1_test_score  split2_test_score  split3_test_score  \\\n",
       "0           0.981608           0.980032           0.979495           0.981073   \n",
       "1           0.983184           0.981608           0.977918           0.980021   \n",
       "2           0.983184           0.981083           0.977392           0.979495   \n",
       "3           0.990541           0.986863           0.985804           0.990011   \n",
       "4           0.990541           0.990016           0.987907           0.990011   \n",
       "\n",
       "   split4_test_score  mean_test_score  std_test_score  rank_test_score  \n",
       "0           0.980547         0.980551        0.000745               11  \n",
       "1           0.981073         0.980761        0.001750               10  \n",
       "2           0.981073         0.980445        0.001925               12  \n",
       "3           0.989485         0.988541        0.001863                9  \n",
       "4           0.990011         0.989697        0.000918                7  "
      ]
     },
     "execution_count": 97,
     "metadata": {},
     "output_type": "execute_result"
    }
   ],
   "source": [
    "# Extract the cross-validation results from my model, and load them into a DataFrame named cv_results\n",
    "cv_results = pd.DataFrame(model.cv_results_)\n",
    "cv_results.head(5)"
   ]
  },
  {
   "cell_type": "code",
   "execution_count": 98,
   "id": "9728578b-cced-4c53-8998-9d93af140d8b",
   "metadata": {},
   "outputs": [
    {
     "name": "stdout",
     "output_type": "stream",
     "text": [
      "{'max_depth': 40, 'n_estimators': 75}\n"
     ]
    }
   ],
   "source": [
    "# Extract the best hyperparameters from my model and assign them to best_params\n",
    "best_params = model.best_params_\n",
    "print(best_params)"
   ]
  },
  {
   "cell_type": "markdown",
   "id": "87e388e0-df12-4ee1-abee-519eeb950743",
   "metadata": {},
   "source": [
    "## Evaluate"
   ]
  },
  {
   "cell_type": "code",
   "execution_count": 99,
   "id": "d640048f-9d6d-4025-b2b8-ce670736e8e7",
   "metadata": {},
   "outputs": [
    {
     "name": "stdout",
     "output_type": "stream",
     "text": [
      "Model Training Accuracy: 1.0\n",
      "Model Test Accuracy: 0.9764\n"
     ]
    }
   ],
   "source": [
    "# Test the quality of my model by calculating accuracy scores for the training and test data\n",
    "acc_train = model.score(X_train, y_train)\n",
    "acc_test = model.score(X_test, y_test)\n",
    "\n",
    "print(\"Model Training Accuracy:\", round(acc_train, 4))\n",
    "print(\"Model Test Accuracy:\", round(acc_test, 4))"
   ]
  },
  {
   "cell_type": "code",
   "execution_count": 100,
   "id": "bb487386-da33-403e-bb4f-9358a83bacdb",
   "metadata": {},
   "outputs": [
    {
     "data": {
      "image/png": "[encoded data removed]",
      "text/plain": [
       "<Figure size 432x288 with 2 Axes>"
      ]
     },
     "metadata": {
      "needs_background": "light"
     },
     "output_type": "display_data"
    }
   ],
   "source": [
    "# Plot a confusion matrix that shows how my model performed on my test set\n",
    "ConfusionMatrixDisplay.from_estimator(model, X_test, y_test);"
   ]
  },
  {
   "cell_type": "code",
   "execution_count": 101,
   "id": "f3c97f9e-e275-4f1f-baea-52f32298c686",
   "metadata": {},
   "outputs": [
    {
     "name": "stdout",
     "output_type": "stream",
     "text": [
      "              precision    recall  f1-score   support\n",
      "\n",
      "       False       0.98      0.99      0.99      1191\n",
      "        True       0.68      0.41      0.51        37\n",
      "\n",
      "    accuracy                           0.98      1228\n",
      "   macro avg       0.83      0.70      0.75      1228\n",
      "weighted avg       0.97      0.98      0.97      1228\n",
      "\n"
     ]
    }
   ],
   "source": [
    "# Generate a classification report for my model's performance on the test data and assign it to class_report\n",
    "class_report = classification_report(y_test, model.predict(X_test))\n",
    "print(class_report)"
   ]
  },
  {
   "cell_type": "markdown",
   "id": "5b4a2bf7-3dbe-4791-b93f-48779862adb0",
   "metadata": {},
   "source": [
    "# Communicate"
   ]
  },
  {
   "cell_type": "markdown",
   "id": "9a01f7ec-266c-4635-8d3e-71927fc8a1c5",
   "metadata": {},
   "source": [
    "I will create a horizontal bar chart with the 10 most important features for my model."
   ]
  },
  {
   "cell_type": "code",
   "execution_count": 102,
   "id": "61e2b4d2-2e8d-4c67-9fec-147a1480e20c",
   "metadata": {},
   "outputs": [
    {
     "data": {
      "image/png": "[encoded data removed]",
      "text/plain": [
       "<Figure size 432x288 with 1 Axes>"
      ]
     },
     "metadata": {
      "needs_background": "light"
     },
     "output_type": "display_data"
    }
   ],
   "source": [
    "# Get feature names from training data\n",
    "features = X_train_over.columns\n",
    "\n",
    "# Extract importances from model\n",
    "importances = model.best_estimator_.feature_importances_\n",
    "\n",
    "# Create a series with feature names and importances\n",
    "feat_imp = pd.Series(importances, index=features).sort_values()\n",
    "\n",
    "# Plot 10 most important features\n",
    "feat_imp.tail(10).plot(kind=\"barh\")\n",
    "plt.xlabel(\"Gini Importance\")\n",
    "plt.ylabel(\"Feature\")\n",
    "plt.title(\"Feature Importance\");"
   ]
  },
  {
   "cell_type": "code",
   "execution_count": 103,
   "id": "2957468d-87eb-40a1-aef2-feed80dfaf48",
   "metadata": {},
   "outputs": [],
   "source": [
    "# Save my best-performing model to a a file named \"model-5-5.pkl\"\n",
    "with open(\"model-5-5.pkl\", \"wb\") as f:\n",
    "    pickle.dump(model, f)"
   ]
  },
  {
   "cell_type": "markdown",
   "id": "a615176b-6614-4c8f-ba7e-dd03b3fc5b2f",
   "metadata": {},
   "source": [
    "Now, I can open the file <code>my_predictor_taiwan.py</code>. Add my `wrangle` function, and then create a `make_predictions` function that takes two arguments: `data_filepath` and <code>model_filepath</code>."
   ]
  },
  {
   "cell_type": "code",
   "execution_count": 1,
   "id": "7e6a890e-0728-426a-b2fb-e24dbfb715e9",
   "metadata": {},
   "outputs": [
    {
     "name": "stdout",
     "output_type": "stream",
     "text": [
      "# Import libraries\n",
      "import gzip\n",
      "import json\n",
      "import pickle\n",
      "import pandas as pd\n",
      "\n",
      "def wrangle(filename):\n",
      "    # Open compressed file, load into dict\n",
      "    with gzip.open(filename, \"r\") as f:\n",
      "        data = json.load(f)\n",
      "        \n",
      "    # Turn dict into DataFrame\n",
      "    df = pd.DataFrame().from_dict(data[\"observations\"]).set_index(\"id\")\n",
      "    \n",
      "    return df\n",
      "\n",
      "\n",
      "def make_predictions(data_filepath, model_filepath):\n",
      "    # Wrangle JSON file\n",
      "    X_test = wrangle(data_filepath)\n",
      "    # Load model\n",
      "    with open(model_filepath, \"rb\") as f:\n",
      "        model = pickle.load(f)\n",
      "    # Generate predictions\n",
      "    y_test_pred = model.predict(X_test)\n",
      "    # Put predictions into Series w/ name \"bankrupt\", and same index as X_test\n",
      "    y_test_pred = pd.Series(y_test_pred, index=X_test.index, name=\"bankrupt\")\n",
      "    return y_test_pred"
     ]
    }
   ],
   "source": [
    "%%bash\n",
    "\n",
    "cat my_predictor_taiwan.py"
   ]
  },
  {
   "cell_type": "code",
   "execution_count": 111,
   "id": "a25395ba-f83d-4deb-8e45-d8634fc8c250",
   "metadata": {},
   "outputs": [
    {
     "name": "stdout",
     "output_type": "stream",
     "text": [
      "predictions shape: (682,)\n"
     ]
    },
    {
     "data": {
      "text/plain": [
       "id\n",
       "18    False\n",
       "20    False\n",
       "24    False\n",
       "32    False\n",
       "38    False\n",
       "Name: bankrupt, dtype: bool"
      ]
     },
     "execution_count": 111,
     "metadata": {},
     "output_type": "execute_result"
    }
   ],
   "source": [
    "# Import my module\n",
    "from my_predictor_taiwan import make_predictions\n",
    "\n",
    "# Generate predictions\n",
    "y_test_pred = make_predictions(\n",
    "    data_filepath=\"data/taiwan-bankruptcy-data-test-features.json.gz\",\n",
    "    model_filepath=\"model-5-5.pkl\",\n",
    ")\n",
    "\n",
    "print(\"predictions shape:\", y_test_pred.shape)\n",
    "y_test_pred.head()"
   ]
  }
 ],
 "metadata": {
  "kernelspec": {
   "display_name": "Python 3 (ipykernel)",
   "language": "python",
   "name": "python3"
  },
  "language_info": {
   "codemirror_mode": {
    "name": "ipython",
    "version": 3
   },
   "file_extension": ".py",
   "mimetype": "text/x-python",
   "name": "python",
   "nbconvert_exporter": "python",
   "pygments_lexer": "ipython3",
   "version": "3.8.13"
  }
 },
 "nbformat": 4,
 "nbformat_minor": 5
}
