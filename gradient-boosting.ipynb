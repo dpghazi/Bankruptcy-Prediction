{
 "cells": [
  {
   "cell_type": "markdown",
   "id": "ad32316d",
   "metadata": {},
   "source": [
    "<font size=\"+3\"><strong>Polish Bankruptcy Prediction 🇵🇱 </strong></font>"
   ]
  },
  {
   "cell_type": "markdown",
   "id": "7cfa1bdd-2f87-47c3-b20b-8dee521a8222",
   "metadata": {},
   "source": [
    "<font size=\"+2\"><strong>Part 4: Gradient Boosting Trees</strong></font>"
   ]
  },
  {
   "cell_type": "code",
   "execution_count": 1,
   "id": "d95ab2b4-693b-4638-8e0a-109221fab298",
   "metadata": {},
   "outputs": [],
   "source": [
    "__author__ = \"Donald Ghazi\"\n",
    "__email__ = \"donald@donaldghazi.com\"\n",
    "__website__ = \"donaldghazi.com\""
   ]
  },
  {
   "cell_type": "markdown",
   "id": "abd05570-81ee-4db4-b0cc-2f304496c15c",
   "metadata": {},
   "source": [
    "I'll start this project the same way I've started the others: preparing the data and building my model, and this time with a new ensemble model. Once it's working, I'll incorporate some new performance metrics to evaluate it. By the end of this project, I'll have written my first Python module.  "
   ]
  },
  {
   "cell_type": "code",
   "execution_count": 2,
   "id": "185bacc8-79bf-4970-b153-10ddc025ff76",
   "metadata": {},
   "outputs": [],
   "source": [
    "import gzip\n",
    "import json\n",
    "import pickle\n",
    "import ipywidgets as widgets\n",
    "import pandas as pd\n",
    "\n",
    "from imblearn.over_sampling import RandomOverSampler\n",
    "from ipywidgets import interact\n",
    "from sklearn.ensemble import GradientBoostingClassifier\n",
    "from sklearn.impute import SimpleImputer\n",
    "from sklearn.metrics import (\n",
    "    ConfusionMatrixDisplay,\n",
    "    classification_report,\n",
    "    confusion_matrix,\n",
    ")\n",
    "from sklearn.model_selection import GridSearchCV, train_test_split\n",
    "from sklearn.pipeline import make_pipeline"
   ]
  },
  {
   "cell_type": "markdown",
   "id": "283b27cb-4082-49dd-aba4-b36f5e0e01dc",
   "metadata": {},
   "source": [
    "GOALS\n",
    " - Improve my bankruptcy model using gradient boosting.\n",
    " - Evaluate model using precision and recall.\n",
    " - Create an interactive dashboard.\n",
    " - Create a Python module to store my prediction function.\n",
    "\n",
    "Machine Learning Workflow\n",
    " - Prepare Data\n",
    "     - Import\n",
    "     - Explore\n",
    "     - Split\n",
    "     - Resample\n",
    " - Build Model\n",
    "     - Baseline\n",
    "     - Iterate: Gradient boosting, grid search\n",
    "         - boosting, weak learner\n",
    "     - Evaluate: Precision, recall, dashboard\n",
    "         - positive and negative class \n",
    "         - false negative, false positive\n",
    " - Communicate Results\n",
    "     - Save model as file\n",
    "     - Build my_predictor module"
   ]
  },
  {
   "cell_type": "markdown",
   "id": "82cde334-7885-45a2-94bb-29adb3310bff",
   "metadata": {},
   "source": [
    "# Prepare Data"
   ]
  },
  {
   "cell_type": "markdown",
   "id": "b84e7881-6cb2-4dad-97f0-d83b2a295b3b",
   "metadata": {},
   "source": [
    "## Import"
   ]
  },
  {
   "cell_type": "markdown",
   "id": "eb7070f2-4a74-4cd6-a313-5ae8c5970869",
   "metadata": {},
   "source": [
    "I'll write the `wrangle` function using the code I developed in the `Working with JSON files` project. Then I'll use it to import `poland-bankruptcy-data-2009.json.gz` into the DataFrame `df`."
   ]
  },
  {
   "cell_type": "code",
   "execution_count": 3,
   "id": "12d8d27f-df0e-49bb-8424-ec9764e5e892",
   "metadata": {},
   "outputs": [],
   "source": [
    "def wrangle(filename):\n",
    "    \n",
    "    # Open compressed file, load into dictionary\n",
    "    with gzip.open(filename, \"r\") as f:\n",
    "        data = json.load(f)\n",
    "\n",
    "    # Load dictionary into DataFrame, set index\n",
    "    df = pd.DataFrame().from_dict(data[\"data\"]).set_index(\"company_id\")\n",
    "    \n",
    "    return df"
   ]
  },
  {
   "cell_type": "code",
   "execution_count": 4,
   "id": "a3cfbf60-0d38-4b39-acdd-b7be138c2123",
   "metadata": {},
   "outputs": [
    {
     "name": "stdout",
     "output_type": "stream",
     "text": [
      "(9977, 65)\n"
     ]
    },
    {
     "data": {
      "text/html": [
       "<div>\n",
       "<style scoped>\n",
       "    .dataframe tbody tr th:only-of-type {\n",
       "        vertical-align: middle;\n",
       "    }\n",
       "\n",
       "    .dataframe tbody tr th {\n",
       "        vertical-align: top;\n",
       "    }\n",
       "\n",
       "    .dataframe thead th {\n",
       "        text-align: right;\n",
       "    }\n",
       "</style>\n",
       "<table border=\"1\" class=\"dataframe\">\n",
       "  <thead>\n",
       "    <tr style=\"text-align: right;\">\n",
       "      <th></th>\n",
       "      <th>feat_1</th>\n",
       "      <th>feat_2</th>\n",
       "      <th>feat_3</th>\n",
       "      <th>feat_4</th>\n",
       "      <th>feat_5</th>\n",
       "      <th>feat_6</th>\n",
       "      <th>feat_7</th>\n",
       "      <th>feat_8</th>\n",
       "      <th>feat_9</th>\n",
       "      <th>feat_10</th>\n",
       "      <th>...</th>\n",
       "      <th>feat_56</th>\n",
       "      <th>feat_57</th>\n",
       "      <th>feat_58</th>\n",
       "      <th>feat_59</th>\n",
       "      <th>feat_60</th>\n",
       "      <th>feat_61</th>\n",
       "      <th>feat_62</th>\n",
       "      <th>feat_63</th>\n",
       "      <th>feat_64</th>\n",
       "      <th>bankrupt</th>\n",
       "    </tr>\n",
       "    <tr>\n",
       "      <th>company_id</th>\n",
       "      <th></th>\n",
       "      <th></th>\n",
       "      <th></th>\n",
       "      <th></th>\n",
       "      <th></th>\n",
       "      <th></th>\n",
       "      <th></th>\n",
       "      <th></th>\n",
       "      <th></th>\n",
       "      <th></th>\n",
       "      <th></th>\n",
       "      <th></th>\n",
       "      <th></th>\n",
       "      <th></th>\n",
       "      <th></th>\n",
       "      <th></th>\n",
       "      <th></th>\n",
       "      <th></th>\n",
       "      <th></th>\n",
       "      <th></th>\n",
       "      <th></th>\n",
       "    </tr>\n",
       "  </thead>\n",
       "  <tbody>\n",
       "    <tr>\n",
       "      <th>1</th>\n",
       "      <td>0.174190</td>\n",
       "      <td>0.41299</td>\n",
       "      <td>0.14371</td>\n",
       "      <td>1.3480</td>\n",
       "      <td>-28.9820</td>\n",
       "      <td>0.60383</td>\n",
       "      <td>0.219460</td>\n",
       "      <td>1.12250</td>\n",
       "      <td>1.1961</td>\n",
       "      <td>0.46359</td>\n",
       "      <td>...</td>\n",
       "      <td>0.163960</td>\n",
       "      <td>0.375740</td>\n",
       "      <td>0.83604</td>\n",
       "      <td>0.000007</td>\n",
       "      <td>9.7145</td>\n",
       "      <td>6.2813</td>\n",
       "      <td>84.291</td>\n",
       "      <td>4.3303</td>\n",
       "      <td>4.0341</td>\n",
       "      <td>False</td>\n",
       "    </tr>\n",
       "    <tr>\n",
       "      <th>2</th>\n",
       "      <td>0.146240</td>\n",
       "      <td>0.46038</td>\n",
       "      <td>0.28230</td>\n",
       "      <td>1.6294</td>\n",
       "      <td>2.5952</td>\n",
       "      <td>0.00000</td>\n",
       "      <td>0.171850</td>\n",
       "      <td>1.17210</td>\n",
       "      <td>1.6018</td>\n",
       "      <td>0.53962</td>\n",
       "      <td>...</td>\n",
       "      <td>0.027516</td>\n",
       "      <td>0.271000</td>\n",
       "      <td>0.90108</td>\n",
       "      <td>0.000000</td>\n",
       "      <td>5.9882</td>\n",
       "      <td>4.1103</td>\n",
       "      <td>102.190</td>\n",
       "      <td>3.5716</td>\n",
       "      <td>5.9500</td>\n",
       "      <td>False</td>\n",
       "    </tr>\n",
       "    <tr>\n",
       "      <th>3</th>\n",
       "      <td>0.000595</td>\n",
       "      <td>0.22612</td>\n",
       "      <td>0.48839</td>\n",
       "      <td>3.1599</td>\n",
       "      <td>84.8740</td>\n",
       "      <td>0.19114</td>\n",
       "      <td>0.004572</td>\n",
       "      <td>2.98810</td>\n",
       "      <td>1.0077</td>\n",
       "      <td>0.67566</td>\n",
       "      <td>...</td>\n",
       "      <td>0.007639</td>\n",
       "      <td>0.000881</td>\n",
       "      <td>0.99236</td>\n",
       "      <td>0.000000</td>\n",
       "      <td>6.7742</td>\n",
       "      <td>3.7922</td>\n",
       "      <td>64.846</td>\n",
       "      <td>5.6287</td>\n",
       "      <td>4.4581</td>\n",
       "      <td>False</td>\n",
       "    </tr>\n",
       "    <tr>\n",
       "      <th>5</th>\n",
       "      <td>0.188290</td>\n",
       "      <td>0.41504</td>\n",
       "      <td>0.34231</td>\n",
       "      <td>1.9279</td>\n",
       "      <td>-58.2740</td>\n",
       "      <td>0.00000</td>\n",
       "      <td>0.233580</td>\n",
       "      <td>1.40940</td>\n",
       "      <td>1.3393</td>\n",
       "      <td>0.58496</td>\n",
       "      <td>...</td>\n",
       "      <td>0.176480</td>\n",
       "      <td>0.321880</td>\n",
       "      <td>0.82635</td>\n",
       "      <td>0.073039</td>\n",
       "      <td>2.5912</td>\n",
       "      <td>7.0756</td>\n",
       "      <td>100.540</td>\n",
       "      <td>3.6303</td>\n",
       "      <td>4.6375</td>\n",
       "      <td>False</td>\n",
       "    </tr>\n",
       "    <tr>\n",
       "      <th>6</th>\n",
       "      <td>0.182060</td>\n",
       "      <td>0.55615</td>\n",
       "      <td>0.32191</td>\n",
       "      <td>1.6045</td>\n",
       "      <td>16.3140</td>\n",
       "      <td>0.00000</td>\n",
       "      <td>0.182060</td>\n",
       "      <td>0.79808</td>\n",
       "      <td>1.8126</td>\n",
       "      <td>0.44385</td>\n",
       "      <td>...</td>\n",
       "      <td>0.555770</td>\n",
       "      <td>0.410190</td>\n",
       "      <td>0.46957</td>\n",
       "      <td>0.029421</td>\n",
       "      <td>8.4553</td>\n",
       "      <td>3.3488</td>\n",
       "      <td>107.240</td>\n",
       "      <td>3.4036</td>\n",
       "      <td>12.4540</td>\n",
       "      <td>False</td>\n",
       "    </tr>\n",
       "  </tbody>\n",
       "</table>\n",
       "<p>5 rows × 65 columns</p>\n",
       "</div>"
      ],
      "text/plain": [
       "              feat_1   feat_2   feat_3  feat_4   feat_5   feat_6    feat_7  \\\n",
       "company_id                                                                   \n",
       "1           0.174190  0.41299  0.14371  1.3480 -28.9820  0.60383  0.219460   \n",
       "2           0.146240  0.46038  0.28230  1.6294   2.5952  0.00000  0.171850   \n",
       "3           0.000595  0.22612  0.48839  3.1599  84.8740  0.19114  0.004572   \n",
       "5           0.188290  0.41504  0.34231  1.9279 -58.2740  0.00000  0.233580   \n",
       "6           0.182060  0.55615  0.32191  1.6045  16.3140  0.00000  0.182060   \n",
       "\n",
       "             feat_8  feat_9  feat_10  ...   feat_56   feat_57  feat_58  \\\n",
       "company_id                            ...                                \n",
       "1           1.12250  1.1961  0.46359  ...  0.163960  0.375740  0.83604   \n",
       "2           1.17210  1.6018  0.53962  ...  0.027516  0.271000  0.90108   \n",
       "3           2.98810  1.0077  0.67566  ...  0.007639  0.000881  0.99236   \n",
       "5           1.40940  1.3393  0.58496  ...  0.176480  0.321880  0.82635   \n",
       "6           0.79808  1.8126  0.44385  ...  0.555770  0.410190  0.46957   \n",
       "\n",
       "             feat_59  feat_60  feat_61  feat_62  feat_63  feat_64  bankrupt  \n",
       "company_id                                                                   \n",
       "1           0.000007   9.7145   6.2813   84.291   4.3303   4.0341     False  \n",
       "2           0.000000   5.9882   4.1103  102.190   3.5716   5.9500     False  \n",
       "3           0.000000   6.7742   3.7922   64.846   5.6287   4.4581     False  \n",
       "5           0.073039   2.5912   7.0756  100.540   3.6303   4.6375     False  \n",
       "6           0.029421   8.4553   3.3488  107.240   3.4036  12.4540     False  \n",
       "\n",
       "[5 rows x 65 columns]"
      ]
     },
     "execution_count": 4,
     "metadata": {},
     "output_type": "execute_result"
    }
   ],
   "source": [
    "df = wrangle(\"data/poland-bankruptcy-data-2009.json.gz\")\n",
    "print(df.shape)\n",
    "df.head()"
   ]
  },
  {
   "cell_type": "markdown",
   "id": "e1d46794-e734-4db2-a162-92ed2cadce48",
   "metadata": {},
   "source": [
    "## Split"
   ]
  },
  {
   "cell_type": "code",
   "execution_count": 5,
   "id": "34e63304-de28-42f3-9ce9-091cafc8f85d",
   "metadata": {},
   "outputs": [
    {
     "name": "stdout",
     "output_type": "stream",
     "text": [
      "X shape: (9977, 64)\n",
      "y shape: (9977,)\n"
     ]
    }
   ],
   "source": [
    "# Create my feature matrix X and target vector y\n",
    "target = \"bankrupt\"            # My target is \"bankrupt\"\n",
    "feature = \"feat_27\"\n",
    "X = df.drop(columns=\"bankrupt\")\n",
    "y = df[target]\n",
    "\n",
    "print(\"X shape:\", X.shape)\n",
    "print(\"y shape:\", y.shape)"
   ]
  },
  {
   "cell_type": "code",
   "execution_count": 6,
   "id": "53fbc993-71cd-417a-b811-78cc50ddcadf",
   "metadata": {},
   "outputs": [
    {
     "name": "stdout",
     "output_type": "stream",
     "text": [
      "X_train shape: (7981, 64)\n",
      "y_train shape: (7981,)\n",
      "X_test shape: (1996, 64)\n",
      "y_test shape: (1996,)\n"
     ]
    }
   ],
   "source": [
    "# Divide my data (X and y) into training and test sets using a randomized train-test split\n",
    "X_train, X_test, y_train, y_test = train_test_split(\n",
    "    X, y, test_size=0.2, random_state=42         # My test set should be 20% of my total data & set a random_state for reproducibility\n",
    ")\n",
    "\n",
    "print(\"X_train shape:\", X_train.shape)\n",
    "print(\"y_train shape:\", y_train.shape)\n",
    "print(\"X_test shape:\", X_test.shape)\n",
    "print(\"y_test shape:\", y_test.shape)"
   ]
  },
  {
   "cell_type": "markdown",
   "id": "f8831d4a-9e6c-476a-8aa8-f324d1fcb5ef",
   "metadata": {},
   "source": [
    "## Resample"
   ]
  },
  {
   "cell_type": "code",
   "execution_count": 7,
   "id": "46710392-6dcb-46b4-9d4d-b3909f775037",
   "metadata": {},
   "outputs": [
    {
     "name": "stdout",
     "output_type": "stream",
     "text": [
      "X_train_over shape: (15194, 64)\n"
     ]
    },
    {
     "data": {
      "text/html": [
       "<div>\n",
       "<style scoped>\n",
       "    .dataframe tbody tr th:only-of-type {\n",
       "        vertical-align: middle;\n",
       "    }\n",
       "\n",
       "    .dataframe tbody tr th {\n",
       "        vertical-align: top;\n",
       "    }\n",
       "\n",
       "    .dataframe thead th {\n",
       "        text-align: right;\n",
       "    }\n",
       "</style>\n",
       "<table border=\"1\" class=\"dataframe\">\n",
       "  <thead>\n",
       "    <tr style=\"text-align: right;\">\n",
       "      <th></th>\n",
       "      <th>feat_1</th>\n",
       "      <th>feat_2</th>\n",
       "      <th>feat_3</th>\n",
       "      <th>feat_4</th>\n",
       "      <th>feat_5</th>\n",
       "      <th>feat_6</th>\n",
       "      <th>feat_7</th>\n",
       "      <th>feat_8</th>\n",
       "      <th>feat_9</th>\n",
       "      <th>feat_10</th>\n",
       "      <th>...</th>\n",
       "      <th>feat_55</th>\n",
       "      <th>feat_56</th>\n",
       "      <th>feat_57</th>\n",
       "      <th>feat_58</th>\n",
       "      <th>feat_59</th>\n",
       "      <th>feat_60</th>\n",
       "      <th>feat_61</th>\n",
       "      <th>feat_62</th>\n",
       "      <th>feat_63</th>\n",
       "      <th>feat_64</th>\n",
       "    </tr>\n",
       "  </thead>\n",
       "  <tbody>\n",
       "    <tr>\n",
       "      <th>0</th>\n",
       "      <td>0.279320</td>\n",
       "      <td>0.053105</td>\n",
       "      <td>0.852030</td>\n",
       "      <td>17.0440</td>\n",
       "      <td>199.080</td>\n",
       "      <td>0.741770</td>\n",
       "      <td>0.353570</td>\n",
       "      <td>16.00600</td>\n",
       "      <td>1.2346</td>\n",
       "      <td>0.84997</td>\n",
       "      <td>...</td>\n",
       "      <td>52857.00</td>\n",
       "      <td>0.190040</td>\n",
       "      <td>0.328630</td>\n",
       "      <td>0.80996</td>\n",
       "      <td>0.00000</td>\n",
       "      <td>NaN</td>\n",
       "      <td>4.1858</td>\n",
       "      <td>11.002</td>\n",
       "      <td>33.1760</td>\n",
       "      <td>18.5720</td>\n",
       "    </tr>\n",
       "    <tr>\n",
       "      <th>1</th>\n",
       "      <td>0.001871</td>\n",
       "      <td>0.735120</td>\n",
       "      <td>0.156460</td>\n",
       "      <td>1.2269</td>\n",
       "      <td>-10.837</td>\n",
       "      <td>0.000000</td>\n",
       "      <td>0.002938</td>\n",
       "      <td>0.36032</td>\n",
       "      <td>1.4809</td>\n",
       "      <td>0.26488</td>\n",
       "      <td>...</td>\n",
       "      <td>440.02</td>\n",
       "      <td>0.014794</td>\n",
       "      <td>0.007064</td>\n",
       "      <td>0.99803</td>\n",
       "      <td>0.00000</td>\n",
       "      <td>7.4268</td>\n",
       "      <td>2.2925</td>\n",
       "      <td>169.960</td>\n",
       "      <td>2.1476</td>\n",
       "      <td>9.6185</td>\n",
       "    </tr>\n",
       "    <tr>\n",
       "      <th>2</th>\n",
       "      <td>0.113940</td>\n",
       "      <td>0.490250</td>\n",
       "      <td>0.077121</td>\n",
       "      <td>1.2332</td>\n",
       "      <td>-43.184</td>\n",
       "      <td>-0.000171</td>\n",
       "      <td>0.113940</td>\n",
       "      <td>1.03980</td>\n",
       "      <td>1.1649</td>\n",
       "      <td>0.50975</td>\n",
       "      <td>...</td>\n",
       "      <td>4617.40</td>\n",
       "      <td>0.214890</td>\n",
       "      <td>0.223520</td>\n",
       "      <td>0.78761</td>\n",
       "      <td>0.27412</td>\n",
       "      <td>6.2791</td>\n",
       "      <td>6.1622</td>\n",
       "      <td>103.630</td>\n",
       "      <td>3.5220</td>\n",
       "      <td>1.9673</td>\n",
       "    </tr>\n",
       "    <tr>\n",
       "      <th>3</th>\n",
       "      <td>0.008136</td>\n",
       "      <td>0.652610</td>\n",
       "      <td>0.148120</td>\n",
       "      <td>1.2628</td>\n",
       "      <td>29.071</td>\n",
       "      <td>0.000000</td>\n",
       "      <td>0.008136</td>\n",
       "      <td>0.53230</td>\n",
       "      <td>1.2891</td>\n",
       "      <td>0.34739</td>\n",
       "      <td>...</td>\n",
       "      <td>920.98</td>\n",
       "      <td>0.045169</td>\n",
       "      <td>0.023421</td>\n",
       "      <td>0.99434</td>\n",
       "      <td>0.14403</td>\n",
       "      <td>22.7480</td>\n",
       "      <td>2.2673</td>\n",
       "      <td>159.580</td>\n",
       "      <td>2.2872</td>\n",
       "      <td>4.4718</td>\n",
       "    </tr>\n",
       "    <tr>\n",
       "      <th>4</th>\n",
       "      <td>0.045396</td>\n",
       "      <td>0.279640</td>\n",
       "      <td>0.708730</td>\n",
       "      <td>3.7656</td>\n",
       "      <td>238.120</td>\n",
       "      <td>0.000000</td>\n",
       "      <td>0.056710</td>\n",
       "      <td>2.57610</td>\n",
       "      <td>1.0169</td>\n",
       "      <td>0.72036</td>\n",
       "      <td>...</td>\n",
       "      <td>10744.00</td>\n",
       "      <td>0.047501</td>\n",
       "      <td>0.063019</td>\n",
       "      <td>0.94624</td>\n",
       "      <td>0.00000</td>\n",
       "      <td>13.8860</td>\n",
       "      <td>49.0660</td>\n",
       "      <td>91.984</td>\n",
       "      <td>3.9681</td>\n",
       "      <td>29.0460</td>\n",
       "    </tr>\n",
       "  </tbody>\n",
       "</table>\n",
       "<p>5 rows × 64 columns</p>\n",
       "</div>"
      ],
      "text/plain": [
       "     feat_1    feat_2    feat_3   feat_4   feat_5    feat_6    feat_7  \\\n",
       "0  0.279320  0.053105  0.852030  17.0440  199.080  0.741770  0.353570   \n",
       "1  0.001871  0.735120  0.156460   1.2269  -10.837  0.000000  0.002938   \n",
       "2  0.113940  0.490250  0.077121   1.2332  -43.184 -0.000171  0.113940   \n",
       "3  0.008136  0.652610  0.148120   1.2628   29.071  0.000000  0.008136   \n",
       "4  0.045396  0.279640  0.708730   3.7656  238.120  0.000000  0.056710   \n",
       "\n",
       "     feat_8  feat_9  feat_10  ...   feat_55   feat_56   feat_57  feat_58  \\\n",
       "0  16.00600  1.2346  0.84997  ...  52857.00  0.190040  0.328630  0.80996   \n",
       "1   0.36032  1.4809  0.26488  ...    440.02  0.014794  0.007064  0.99803   \n",
       "2   1.03980  1.1649  0.50975  ...   4617.40  0.214890  0.223520  0.78761   \n",
       "3   0.53230  1.2891  0.34739  ...    920.98  0.045169  0.023421  0.99434   \n",
       "4   2.57610  1.0169  0.72036  ...  10744.00  0.047501  0.063019  0.94624   \n",
       "\n",
       "   feat_59  feat_60  feat_61  feat_62  feat_63  feat_64  \n",
       "0  0.00000      NaN   4.1858   11.002  33.1760  18.5720  \n",
       "1  0.00000   7.4268   2.2925  169.960   2.1476   9.6185  \n",
       "2  0.27412   6.2791   6.1622  103.630   3.5220   1.9673  \n",
       "3  0.14403  22.7480   2.2673  159.580   2.2872   4.4718  \n",
       "4  0.00000  13.8860  49.0660   91.984   3.9681  29.0460  \n",
       "\n",
       "[5 rows x 64 columns]"
      ]
     },
     "execution_count": 7,
     "metadata": {},
     "output_type": "execute_result"
    }
   ],
   "source": [
    "# Create a new feature matrix X_train_over and target vector y_train_over by performing random over-sampling on the training data\n",
    "over_sampler = RandomOverSampler(random_state=42)\n",
    "X_train_over, y_train_over = over_sampler.fit_resample(X_train, y_train)\n",
    "print(\"X_train_over shape:\", X_train_over.shape)\n",
    "X_train_over.head()"
   ]
  },
  {
   "cell_type": "markdown",
   "id": "f04d98c0-4834-4b0f-a18b-b7325e67019e",
   "metadata": {},
   "source": [
    "# Build Model"
   ]
  },
  {
   "cell_type": "markdown",
   "id": "3ace72c9-c22c-46b2-a263-f64518c02341",
   "metadata": {},
   "source": [
    "Now I'll put together my model. I'll start by calculating the baseline accuracy."
   ]
  },
  {
   "cell_type": "markdown",
   "id": "9a19b565-29a8-43b8-8f8a-3c983c28c323",
   "metadata": {},
   "source": [
    "## Baseline"
   ]
  },
  {
   "cell_type": "code",
   "execution_count": 8,
   "id": "103bd3eb-8dc2-4105-9aad-17d58cfd79ff",
   "metadata": {},
   "outputs": [
    {
     "name": "stdout",
     "output_type": "stream",
     "text": [
      "Baseline Accuracy: 0.9519\n"
     ]
    }
   ],
   "source": [
    "# Calculate the baseline accuracy score for my model\n",
    "acc_baseline = y_train.value_counts(normalize=True).max()\n",
    "print(\"Baseline Accuracy:\", round(acc_baseline, 4))"
   ]
  },
  {
   "cell_type": "markdown",
   "id": "012eb7c4-aad5-4a21-b81a-0ce2a249ca38",
   "metadata": {},
   "source": [
    "## Iterate"
   ]
  },
  {
   "cell_type": "markdown",
   "id": "1dd71140-0c5b-406d-a6d1-478f113210f4",
   "metadata": {},
   "source": [
    "Even though the building blocks are the same, here's where I start working with something new. First, I'm going to use a new type of ensemble model for my classifier. "
   ]
  },
  {
   "cell_type": "markdown",
   "id": "4a0d57ce-f06c-4ae8-90a4-1e1d038245d8",
   "metadata": {},
   "source": [
    "**Gradient Boosting Trees**"
   ]
  },
  {
   "cell_type": "code",
   "execution_count": 9,
   "id": "c53f481b-4457-4fdb-87d9-7876653fdd2b",
   "metadata": {},
   "outputs": [],
   "source": [
    "# Create a pipeline named clf (short for \"classifier\") that contains a SimpleImputer transformer and a GradientBoostingClassifier predictor\n",
    "clf = make_pipeline(SimpleImputer(), GradientBoostingClassifier())"
   ]
  },
  {
   "cell_type": "markdown",
   "id": "3e3b04e0-d221-432a-9e1a-88ee0116eaf4",
   "metadata": {},
   "source": [
    "While I'm doing this, I only want to be looking at the *positive* class. Here, the positive class is the one where the companies really did go bankrupt. In the dictionary I made last time, the positive class is made up of the companies with the `bankrupt: true` key-value pair.\n",
    "\n",
    "Next, I'm going to tune some of the hyperparameters for my model."
   ]
  },
  {
   "cell_type": "markdown",
   "id": "b1a9f96c-1de8-499c-8fc2-f2e5f202a346",
   "metadata": {},
   "source": [
    "**Hyperparameter Grid**"
   ]
  },
  {
   "cell_type": "markdown",
   "id": "8e78a467-eeb9-4edc-9b6b-1146de093b86",
   "metadata": {},
   "source": [
    "I'll create a dictionary with the range of hyperparameters that I want to evaluate for my classifier. \n",
    "\n",
    "1. For the `SimpleImputer`, I'll try both the `\"mean\"` and `\"median\"` strategies. \n",
    "2. For the `GradientBoostingClassifier`, I'll try `max_depth` settings between 2 and 5. \n",
    "3. Also for the `GradientBoostingClassifier`, I'll try `n_estimators` settings between 20 and 31, by steps of 5."
   ]
  },
  {
   "cell_type": "code",
   "execution_count": 10,
   "id": "b7008eb7-ff4b-42dd-a16d-179f0bc2c3c5",
   "metadata": {},
   "outputs": [
    {
     "data": {
      "text/plain": [
       "{'simpleimputer__strategy': ['mean', 'median'],\n",
       " 'gradientboostingclassifier__n_estimators': range(20, 31, 5),\n",
       " 'gradientboostingclassifier__max_depth': range(2, 5)}"
      ]
     },
     "execution_count": 10,
     "metadata": {},
     "output_type": "execute_result"
    }
   ],
   "source": [
    "params = {\n",
    "    \"simpleimputer__strategy\": [\"mean\", \"median\"],   \n",
    "    \"gradientboostingclassifier__n_estimators\": range(20, 31, 5),\n",
    "    \"gradientboostingclassifier__max_depth\": range(2, 5)\n",
    "}\n",
    "params"
   ]
  },
  {
   "cell_type": "markdown",
   "id": "10f9e3bc-0960-4be4-b638-2f50ade87d20",
   "metadata": {},
   "source": [
    "Note that I'm trying much smaller numbers of `n_estimators`. This is because `GradientBoostingClassifier` is slower to train than the `RandomForestClassifier`. I can try increasing the number of estimators to see if model performance improves, but I could be waiting a long time."
   ]
  },
  {
   "cell_type": "markdown",
   "id": "cae381b8-6678-48e7-bb08-6631c56ef9c0",
   "metadata": {},
   "source": [
    "**Grid Search CV**"
   ]
  },
  {
   "cell_type": "code",
   "execution_count": 11,
   "id": "a23ff3ab-5919-4a56-bfad-c95128e5a415",
   "metadata": {},
   "outputs": [],
   "source": [
    "# Create a GridSearchCV named model that includes my classifier and hyperparameter grid; using the same arguments for cv and n_jobs that I used above, and set verbose to 1\n",
    "model = GridSearchCV(clf, param_grid=params, cv=5, n_jobs=-1, verbose=1)"
   ]
  },
  {
   "cell_type": "markdown",
   "id": "b9e57fc0-e659-4bcb-8099-2804004a7ac0",
   "metadata": {},
   "source": [
    "Now that I have everything I need for the model, I'll fit it to the data and see what I've got."
   ]
  },
  {
   "cell_type": "markdown",
   "id": "e89dd2b3-97df-4225-9c81-a1e9530947e8",
   "metadata": {},
   "source": [
    "**Fit Model**"
   ]
  },
  {
   "cell_type": "code",
   "execution_count": 12,
   "id": "90f7b08f-3321-4e14-89ac-59c13fc75558",
   "metadata": {},
   "outputs": [
    {
     "name": "stdout",
     "output_type": "stream",
     "text": [
      "Fitting 5 folds for each of 18 candidates, totalling 90 fits\n"
     ]
    },
    {
     "data": {
      "text/html": [
       "<style>#sk-container-id-1 {color: black;background-color: white;}#sk-container-id-1 pre{padding: 0;}#sk-container-id-1 div.sk-toggleable {background-color: white;}#sk-container-id-1 label.sk-toggleable__label {cursor: pointer;display: block;width: 100%;margin-bottom: 0;padding: 0.3em;box-sizing: border-box;text-align: center;}#sk-container-id-1 label.sk-toggleable__label-arrow:before {content: \"▸\";float: left;margin-right: 0.25em;color: #696969;}#sk-container-id-1 label.sk-toggleable__label-arrow:hover:before {color: black;}#sk-container-id-1 div.sk-estimator:hover label.sk-toggleable__label-arrow:before {color: black;}#sk-container-id-1 div.sk-toggleable__content {max-height: 0;max-width: 0;overflow: hidden;text-align: left;background-color: #f0f8ff;}#sk-container-id-1 div.sk-toggleable__content pre {margin: 0.2em;color: black;border-radius: 0.25em;background-color: #f0f8ff;}#sk-container-id-1 input.sk-toggleable__control:checked~div.sk-toggleable__content {max-height: 200px;max-width: 100%;overflow: auto;}#sk-container-id-1 input.sk-toggleable__control:checked~label.sk-toggleable__label-arrow:before {content: \"▾\";}#sk-container-id-1 div.sk-estimator input.sk-toggleable__control:checked~label.sk-toggleable__label {background-color: #d4ebff;}#sk-container-id-1 div.sk-label input.sk-toggleable__control:checked~label.sk-toggleable__label {background-color: #d4ebff;}#sk-container-id-1 input.sk-hidden--visually {border: 0;clip: rect(1px 1px 1px 1px);clip: rect(1px, 1px, 1px, 1px);height: 1px;margin: -1px;overflow: hidden;padding: 0;position: absolute;width: 1px;}#sk-container-id-1 div.sk-estimator {font-family: monospace;background-color: #f0f8ff;border: 1px dotted black;border-radius: 0.25em;box-sizing: border-box;margin-bottom: 0.5em;}#sk-container-id-1 div.sk-estimator:hover {background-color: #d4ebff;}#sk-container-id-1 div.sk-parallel-item::after {content: \"\";width: 100%;border-bottom: 1px solid gray;flex-grow: 1;}#sk-container-id-1 div.sk-label:hover label.sk-toggleable__label {background-color: #d4ebff;}#sk-container-id-1 div.sk-serial::before {content: \"\";position: absolute;border-left: 1px solid gray;box-sizing: border-box;top: 0;bottom: 0;left: 50%;z-index: 0;}#sk-container-id-1 div.sk-serial {display: flex;flex-direction: column;align-items: center;background-color: white;padding-right: 0.2em;padding-left: 0.2em;position: relative;}#sk-container-id-1 div.sk-item {position: relative;z-index: 1;}#sk-container-id-1 div.sk-parallel {display: flex;align-items: stretch;justify-content: center;background-color: white;position: relative;}#sk-container-id-1 div.sk-item::before, #sk-container-id-1 div.sk-parallel-item::before {content: \"\";position: absolute;border-left: 1px solid gray;box-sizing: border-box;top: 0;bottom: 0;left: 50%;z-index: -1;}#sk-container-id-1 div.sk-parallel-item {display: flex;flex-direction: column;z-index: 1;position: relative;background-color: white;}#sk-container-id-1 div.sk-parallel-item:first-child::after {align-self: flex-end;width: 50%;}#sk-container-id-1 div.sk-parallel-item:last-child::after {align-self: flex-start;width: 50%;}#sk-container-id-1 div.sk-parallel-item:only-child::after {width: 0;}#sk-container-id-1 div.sk-dashed-wrapped {border: 1px dashed gray;margin: 0 0.4em 0.5em 0.4em;box-sizing: border-box;padding-bottom: 0.4em;background-color: white;}#sk-container-id-1 div.sk-label label {font-family: monospace;font-weight: bold;display: inline-block;line-height: 1.2em;}#sk-container-id-1 div.sk-label-container {text-align: center;}#sk-container-id-1 div.sk-container {/* jupyter's `normalize.less` sets `[hidden] { display: none; }` but bootstrap.min.css set `[hidden] { display: none !important; }` so we also need the `!important` here to be able to override the default hidden behavior on the sphinx rendered scikit-learn.org. See: https://github.com/scikit-learn/scikit-learn/issues/21755 */display: inline-block !important;position: relative;}#sk-container-id-1 div.sk-text-repr-fallback {display: none;}</style><div id=\"sk-container-id-1\" class=\"sk-top-container\"><div class=\"sk-text-repr-fallback\"><pre>GridSearchCV(cv=5,\n",
       "             estimator=Pipeline(steps=[(&#x27;simpleimputer&#x27;, SimpleImputer()),\n",
       "                                       (&#x27;gradientboostingclassifier&#x27;,\n",
       "                                        GradientBoostingClassifier())]),\n",
       "             n_jobs=-1,\n",
       "             param_grid={&#x27;gradientboostingclassifier__max_depth&#x27;: range(2, 5),\n",
       "                         &#x27;gradientboostingclassifier__n_estimators&#x27;: range(20, 31, 5),\n",
       "                         &#x27;simpleimputer__strategy&#x27;: [&#x27;mean&#x27;, &#x27;median&#x27;]},\n",
       "             verbose=1)</pre><b>In a Jupyter environment, please rerun this cell to show the HTML representation or trust the notebook. <br />On GitHub, the HTML representation is unable to render, please try loading this page with nbviewer.org.</b></div><div class=\"sk-container\" hidden><div class=\"sk-item sk-dashed-wrapped\"><div class=\"sk-label-container\"><div class=\"sk-label sk-toggleable\"><input class=\"sk-toggleable__control sk-hidden--visually\" id=\"sk-estimator-id-1\" type=\"checkbox\" ><label for=\"sk-estimator-id-1\" class=\"sk-toggleable__label sk-toggleable__label-arrow\">GridSearchCV</label><div class=\"sk-toggleable__content\"><pre>GridSearchCV(cv=5,\n",
       "             estimator=Pipeline(steps=[(&#x27;simpleimputer&#x27;, SimpleImputer()),\n",
       "                                       (&#x27;gradientboostingclassifier&#x27;,\n",
       "                                        GradientBoostingClassifier())]),\n",
       "             n_jobs=-1,\n",
       "             param_grid={&#x27;gradientboostingclassifier__max_depth&#x27;: range(2, 5),\n",
       "                         &#x27;gradientboostingclassifier__n_estimators&#x27;: range(20, 31, 5),\n",
       "                         &#x27;simpleimputer__strategy&#x27;: [&#x27;mean&#x27;, &#x27;median&#x27;]},\n",
       "             verbose=1)</pre></div></div></div><div class=\"sk-parallel\"><div class=\"sk-parallel-item\"><div class=\"sk-item\"><div class=\"sk-label-container\"><div class=\"sk-label sk-toggleable\"><input class=\"sk-toggleable__control sk-hidden--visually\" id=\"sk-estimator-id-2\" type=\"checkbox\" ><label for=\"sk-estimator-id-2\" class=\"sk-toggleable__label sk-toggleable__label-arrow\">estimator: Pipeline</label><div class=\"sk-toggleable__content\"><pre>Pipeline(steps=[(&#x27;simpleimputer&#x27;, SimpleImputer()),\n",
       "                (&#x27;gradientboostingclassifier&#x27;, GradientBoostingClassifier())])</pre></div></div></div><div class=\"sk-serial\"><div class=\"sk-item\"><div class=\"sk-serial\"><div class=\"sk-item\"><div class=\"sk-estimator sk-toggleable\"><input class=\"sk-toggleable__control sk-hidden--visually\" id=\"sk-estimator-id-3\" type=\"checkbox\" ><label for=\"sk-estimator-id-3\" class=\"sk-toggleable__label sk-toggleable__label-arrow\">SimpleImputer</label><div class=\"sk-toggleable__content\"><pre>SimpleImputer()</pre></div></div></div><div class=\"sk-item\"><div class=\"sk-estimator sk-toggleable\"><input class=\"sk-toggleable__control sk-hidden--visually\" id=\"sk-estimator-id-4\" type=\"checkbox\" ><label for=\"sk-estimator-id-4\" class=\"sk-toggleable__label sk-toggleable__label-arrow\">GradientBoostingClassifier</label><div class=\"sk-toggleable__content\"><pre>GradientBoostingClassifier()</pre></div></div></div></div></div></div></div></div></div></div></div></div>"
      ],
      "text/plain": [
       "GridSearchCV(cv=5,\n",
       "             estimator=Pipeline(steps=[('simpleimputer', SimpleImputer()),\n",
       "                                       ('gradientboostingclassifier',\n",
       "                                        GradientBoostingClassifier())]),\n",
       "             n_jobs=-1,\n",
       "             param_grid={'gradientboostingclassifier__max_depth': range(2, 5),\n",
       "                         'gradientboostingclassifier__n_estimators': range(20, 31, 5),\n",
       "                         'simpleimputer__strategy': ['mean', 'median']},\n",
       "             verbose=1)"
      ]
     },
     "execution_count": 12,
     "metadata": {},
     "output_type": "execute_result"
    }
   ],
   "source": [
    "# Fit model to over-sampled training data\n",
    "model.fit(X_train_over, y_train_over)"
   ]
  },
  {
   "cell_type": "markdown",
   "id": "bc965fdf-9458-47eb-9392-e44db99e8b19",
   "metadata": {},
   "source": [
    "This will take longer than my last grid search."
   ]
  },
  {
   "cell_type": "markdown",
   "id": "5386a53b-110c-4625-8892-bfb4b8eee0a1",
   "metadata": {},
   "source": [
    "**CV Results**"
   ]
  },
  {
   "cell_type": "code",
   "execution_count": 14,
   "id": "8be2857b-de2a-4f1f-af54-be9e924ce68d",
   "metadata": {},
   "outputs": [
    {
     "data": {
      "text/html": [
       "<div>\n",
       "<style scoped>\n",
       "    .dataframe tbody tr th:only-of-type {\n",
       "        vertical-align: middle;\n",
       "    }\n",
       "\n",
       "    .dataframe tbody tr th {\n",
       "        vertical-align: top;\n",
       "    }\n",
       "\n",
       "    .dataframe thead th {\n",
       "        text-align: right;\n",
       "    }\n",
       "</style>\n",
       "<table border=\"1\" class=\"dataframe\">\n",
       "  <thead>\n",
       "    <tr style=\"text-align: right;\">\n",
       "      <th></th>\n",
       "      <th>mean_fit_time</th>\n",
       "      <th>std_fit_time</th>\n",
       "      <th>mean_score_time</th>\n",
       "      <th>std_score_time</th>\n",
       "      <th>param_gradientboostingclassifier__max_depth</th>\n",
       "      <th>param_gradientboostingclassifier__n_estimators</th>\n",
       "      <th>param_simpleimputer__strategy</th>\n",
       "      <th>params</th>\n",
       "      <th>split0_test_score</th>\n",
       "      <th>split1_test_score</th>\n",
       "      <th>split2_test_score</th>\n",
       "      <th>split3_test_score</th>\n",
       "      <th>split4_test_score</th>\n",
       "      <th>mean_test_score</th>\n",
       "      <th>std_test_score</th>\n",
       "      <th>rank_test_score</th>\n",
       "    </tr>\n",
       "  </thead>\n",
       "  <tbody>\n",
       "    <tr>\n",
       "      <th>16</th>\n",
       "      <td>6.656195</td>\n",
       "      <td>0.050933</td>\n",
       "      <td>0.009195</td>\n",
       "      <td>0.002726</td>\n",
       "      <td>4</td>\n",
       "      <td>30</td>\n",
       "      <td>mean</td>\n",
       "      <td>{'gradientboostingclassifier__max_depth': 4, '...</td>\n",
       "      <td>0.930240</td>\n",
       "      <td>0.913129</td>\n",
       "      <td>0.913129</td>\n",
       "      <td>0.925962</td>\n",
       "      <td>0.911455</td>\n",
       "      <td>0.918783</td>\n",
       "      <td>0.007752</td>\n",
       "      <td>1</td>\n",
       "    </tr>\n",
       "    <tr>\n",
       "      <th>17</th>\n",
       "      <td>5.949939</td>\n",
       "      <td>0.665137</td>\n",
       "      <td>0.005300</td>\n",
       "      <td>0.000983</td>\n",
       "      <td>4</td>\n",
       "      <td>30</td>\n",
       "      <td>median</td>\n",
       "      <td>{'gradientboostingclassifier__max_depth': 4, '...</td>\n",
       "      <td>0.915762</td>\n",
       "      <td>0.897006</td>\n",
       "      <td>0.909181</td>\n",
       "      <td>0.915762</td>\n",
       "      <td>0.911455</td>\n",
       "      <td>0.909833</td>\n",
       "      <td>0.006898</td>\n",
       "      <td>2</td>\n",
       "    </tr>\n",
       "    <tr>\n",
       "      <th>14</th>\n",
       "      <td>5.470779</td>\n",
       "      <td>0.069710</td>\n",
       "      <td>0.009683</td>\n",
       "      <td>0.004605</td>\n",
       "      <td>4</td>\n",
       "      <td>25</td>\n",
       "      <td>mean</td>\n",
       "      <td>{'gradientboostingclassifier__max_depth': 4, '...</td>\n",
       "      <td>0.916749</td>\n",
       "      <td>0.899638</td>\n",
       "      <td>0.898322</td>\n",
       "      <td>0.909181</td>\n",
       "      <td>0.895655</td>\n",
       "      <td>0.903909</td>\n",
       "      <td>0.007877</td>\n",
       "      <td>3</td>\n",
       "    </tr>\n",
       "    <tr>\n",
       "      <th>15</th>\n",
       "      <td>5.557635</td>\n",
       "      <td>0.049733</td>\n",
       "      <td>0.008744</td>\n",
       "      <td>0.007068</td>\n",
       "      <td>4</td>\n",
       "      <td>25</td>\n",
       "      <td>median</td>\n",
       "      <td>{'gradientboostingclassifier__max_depth': 4, '...</td>\n",
       "      <td>0.906219</td>\n",
       "      <td>0.889108</td>\n",
       "      <td>0.895031</td>\n",
       "      <td>0.897993</td>\n",
       "      <td>0.902238</td>\n",
       "      <td>0.898118</td>\n",
       "      <td>0.005888</td>\n",
       "      <td>4</td>\n",
       "    </tr>\n",
       "    <tr>\n",
       "      <th>12</th>\n",
       "      <td>4.407434</td>\n",
       "      <td>0.049469</td>\n",
       "      <td>0.007725</td>\n",
       "      <td>0.003111</td>\n",
       "      <td>4</td>\n",
       "      <td>20</td>\n",
       "      <td>mean</td>\n",
       "      <td>{'gradientboostingclassifier__max_depth': 4, '...</td>\n",
       "      <td>0.901941</td>\n",
       "      <td>0.888450</td>\n",
       "      <td>0.884501</td>\n",
       "      <td>0.896677</td>\n",
       "      <td>0.872284</td>\n",
       "      <td>0.888771</td>\n",
       "      <td>0.010258</td>\n",
       "      <td>5</td>\n",
       "    </tr>\n",
       "    <tr>\n",
       "      <th>13</th>\n",
       "      <td>4.403053</td>\n",
       "      <td>0.045234</td>\n",
       "      <td>0.006689</td>\n",
       "      <td>0.002932</td>\n",
       "      <td>4</td>\n",
       "      <td>20</td>\n",
       "      <td>median</td>\n",
       "      <td>{'gradientboostingclassifier__max_depth': 4, '...</td>\n",
       "      <td>0.892399</td>\n",
       "      <td>0.878578</td>\n",
       "      <td>0.885160</td>\n",
       "      <td>0.879237</td>\n",
       "      <td>0.883476</td>\n",
       "      <td>0.883770</td>\n",
       "      <td>0.004980</td>\n",
       "      <td>6</td>\n",
       "    </tr>\n",
       "    <tr>\n",
       "      <th>10</th>\n",
       "      <td>5.278169</td>\n",
       "      <td>0.054778</td>\n",
       "      <td>0.007089</td>\n",
       "      <td>0.003212</td>\n",
       "      <td>3</td>\n",
       "      <td>30</td>\n",
       "      <td>mean</td>\n",
       "      <td>{'gradientboostingclassifier__max_depth': 3, '...</td>\n",
       "      <td>0.874959</td>\n",
       "      <td>0.877591</td>\n",
       "      <td>0.869365</td>\n",
       "      <td>0.866074</td>\n",
       "      <td>0.866359</td>\n",
       "      <td>0.870870</td>\n",
       "      <td>0.004637</td>\n",
       "      <td>7</td>\n",
       "    </tr>\n",
       "    <tr>\n",
       "      <th>8</th>\n",
       "      <td>4.304897</td>\n",
       "      <td>0.099483</td>\n",
       "      <td>0.004815</td>\n",
       "      <td>0.000965</td>\n",
       "      <td>3</td>\n",
       "      <td>25</td>\n",
       "      <td>mean</td>\n",
       "      <td>{'gradientboostingclassifier__max_depth': 3, '...</td>\n",
       "      <td>0.862126</td>\n",
       "      <td>0.864758</td>\n",
       "      <td>0.858506</td>\n",
       "      <td>0.857519</td>\n",
       "      <td>0.855826</td>\n",
       "      <td>0.859747</td>\n",
       "      <td>0.003245</td>\n",
       "      <td>8</td>\n",
       "    </tr>\n",
       "    <tr>\n",
       "      <th>11</th>\n",
       "      <td>5.239721</td>\n",
       "      <td>0.058073</td>\n",
       "      <td>0.007778</td>\n",
       "      <td>0.003005</td>\n",
       "      <td>3</td>\n",
       "      <td>30</td>\n",
       "      <td>median</td>\n",
       "      <td>{'gradientboostingclassifier__max_depth': 3, '...</td>\n",
       "      <td>0.863442</td>\n",
       "      <td>0.858506</td>\n",
       "      <td>0.846331</td>\n",
       "      <td>0.862126</td>\n",
       "      <td>0.850889</td>\n",
       "      <td>0.856259</td>\n",
       "      <td>0.006610</td>\n",
       "      <td>9</td>\n",
       "    </tr>\n",
       "    <tr>\n",
       "      <th>6</th>\n",
       "      <td>3.433881</td>\n",
       "      <td>0.076343</td>\n",
       "      <td>0.014145</td>\n",
       "      <td>0.016817</td>\n",
       "      <td>3</td>\n",
       "      <td>20</td>\n",
       "      <td>mean</td>\n",
       "      <td>{'gradientboostingclassifier__max_depth': 3, '...</td>\n",
       "      <td>0.848634</td>\n",
       "      <td>0.844686</td>\n",
       "      <td>0.847318</td>\n",
       "      <td>0.844357</td>\n",
       "      <td>0.853851</td>\n",
       "      <td>0.847769</td>\n",
       "      <td>0.003438</td>\n",
       "      <td>10</td>\n",
       "    </tr>\n",
       "  </tbody>\n",
       "</table>\n",
       "</div>"
      ],
      "text/plain": [
       "    mean_fit_time  std_fit_time  mean_score_time  std_score_time  \\\n",
       "16       6.656195      0.050933         0.009195        0.002726   \n",
       "17       5.949939      0.665137         0.005300        0.000983   \n",
       "14       5.470779      0.069710         0.009683        0.004605   \n",
       "15       5.557635      0.049733         0.008744        0.007068   \n",
       "12       4.407434      0.049469         0.007725        0.003111   \n",
       "13       4.403053      0.045234         0.006689        0.002932   \n",
       "10       5.278169      0.054778         0.007089        0.003212   \n",
       "8        4.304897      0.099483         0.004815        0.000965   \n",
       "11       5.239721      0.058073         0.007778        0.003005   \n",
       "6        3.433881      0.076343         0.014145        0.016817   \n",
       "\n",
       "   param_gradientboostingclassifier__max_depth  \\\n",
       "16                                           4   \n",
       "17                                           4   \n",
       "14                                           4   \n",
       "15                                           4   \n",
       "12                                           4   \n",
       "13                                           4   \n",
       "10                                           3   \n",
       "8                                            3   \n",
       "11                                           3   \n",
       "6                                            3   \n",
       "\n",
       "   param_gradientboostingclassifier__n_estimators  \\\n",
       "16                                             30   \n",
       "17                                             30   \n",
       "14                                             25   \n",
       "15                                             25   \n",
       "12                                             20   \n",
       "13                                             20   \n",
       "10                                             30   \n",
       "8                                              25   \n",
       "11                                             30   \n",
       "6                                              20   \n",
       "\n",
       "   param_simpleimputer__strategy  \\\n",
       "16                          mean   \n",
       "17                        median   \n",
       "14                          mean   \n",
       "15                        median   \n",
       "12                          mean   \n",
       "13                        median   \n",
       "10                          mean   \n",
       "8                           mean   \n",
       "11                        median   \n",
       "6                           mean   \n",
       "\n",
       "                                               params  split0_test_score  \\\n",
       "16  {'gradientboostingclassifier__max_depth': 4, '...           0.930240   \n",
       "17  {'gradientboostingclassifier__max_depth': 4, '...           0.915762   \n",
       "14  {'gradientboostingclassifier__max_depth': 4, '...           0.916749   \n",
       "15  {'gradientboostingclassifier__max_depth': 4, '...           0.906219   \n",
       "12  {'gradientboostingclassifier__max_depth': 4, '...           0.901941   \n",
       "13  {'gradientboostingclassifier__max_depth': 4, '...           0.892399   \n",
       "10  {'gradientboostingclassifier__max_depth': 3, '...           0.874959   \n",
       "8   {'gradientboostingclassifier__max_depth': 3, '...           0.862126   \n",
       "11  {'gradientboostingclassifier__max_depth': 3, '...           0.863442   \n",
       "6   {'gradientboostingclassifier__max_depth': 3, '...           0.848634   \n",
       "\n",
       "    split1_test_score  split2_test_score  split3_test_score  \\\n",
       "16           0.913129           0.913129           0.925962   \n",
       "17           0.897006           0.909181           0.915762   \n",
       "14           0.899638           0.898322           0.909181   \n",
       "15           0.889108           0.895031           0.897993   \n",
       "12           0.888450           0.884501           0.896677   \n",
       "13           0.878578           0.885160           0.879237   \n",
       "10           0.877591           0.869365           0.866074   \n",
       "8            0.864758           0.858506           0.857519   \n",
       "11           0.858506           0.846331           0.862126   \n",
       "6            0.844686           0.847318           0.844357   \n",
       "\n",
       "    split4_test_score  mean_test_score  std_test_score  rank_test_score  \n",
       "16           0.911455         0.918783        0.007752                1  \n",
       "17           0.911455         0.909833        0.006898                2  \n",
       "14           0.895655         0.903909        0.007877                3  \n",
       "15           0.902238         0.898118        0.005888                4  \n",
       "12           0.872284         0.888771        0.010258                5  \n",
       "13           0.883476         0.883770        0.004980                6  \n",
       "10           0.866359         0.870870        0.004637                7  \n",
       "8            0.855826         0.859747        0.003245                8  \n",
       "11           0.850889         0.856259        0.006610                9  \n",
       "6            0.853851         0.847769        0.003438               10  "
      ]
     },
     "execution_count": 14,
     "metadata": {},
     "output_type": "execute_result"
    }
   ],
   "source": [
    "# Extract the cross-validation results from model and load them into a DataFrame named cv_results\n",
    "results = pd.DataFrame(model.cv_results_)\n",
    "results.sort_values(\"rank_test_score\").head(10)"
   ]
  },
  {
   "cell_type": "markdown",
   "id": "89c0c54c-2f58-45f8-9906-7272b347a46c",
   "metadata": {},
   "source": [
    "There are quite a few hyperparameters there, so I'll pull out the ones that work best for my model."
   ]
  },
  {
   "cell_type": "markdown",
   "id": "89f8a00b-9397-4995-b065-a261f2946112",
   "metadata": {},
   "source": [
    "**Best Hyperparameters**"
   ]
  },
  {
   "cell_type": "code",
   "execution_count": 15,
   "id": "2958ddb0-3a4f-46bb-87e4-f2debd4db30f",
   "metadata": {},
   "outputs": [
    {
     "data": {
      "text/plain": [
       "{'gradientboostingclassifier__max_depth': 4,\n",
       " 'gradientboostingclassifier__n_estimators': 30,\n",
       " 'simpleimputer__strategy': 'mean'}"
      ]
     },
     "execution_count": 15,
     "metadata": {},
     "output_type": "execute_result"
    }
   ],
   "source": [
    "# Extract the best hyperparameters from model\n",
    "model.best_params_"
   ]
  },
  {
   "cell_type": "markdown",
   "id": "34e44fbc-bbba-43b7-911b-390b85c9b115",
   "metadata": {},
   "source": [
    "## Evaluate"
   ]
  },
  {
   "cell_type": "markdown",
   "id": "9077cbc8-e048-442a-af93-f508d0be5071",
   "metadata": {},
   "source": [
    "Now that I have a working model that's actually giving us something useful, I'll see how good it really is."
   ]
  },
  {
   "cell_type": "code",
   "execution_count": 16,
   "id": "2029e1c8-c18d-4055-aeb6-996a45d135d1",
   "metadata": {},
   "outputs": [
    {
     "name": "stdout",
     "output_type": "stream",
     "text": [
      "Training Accuracy: 0.9029\n",
      "Validation Accuracy: 0.8798\n"
     ]
    }
   ],
   "source": [
    "# Calculate the training and test accuracy scores for model\n",
    "acc_train = model.score(X_train, y_train)\n",
    "acc_test = model.score(X_test, y_test)\n",
    "\n",
    "print(\"Training Accuracy:\", round(acc_train, 4))\n",
    "print(\"Validation Accuracy:\", round(acc_test, 4))"
   ]
  },
  {
   "cell_type": "markdown",
   "id": "176e65af-acab-4f58-9cf3-679512bee142",
   "metadata": {},
   "source": [
    "I'll now make a confusion matrix to see how my model is making its correct and incorrect predictions. "
   ]
  },
  {
   "cell_type": "code",
   "execution_count": 17,
   "id": "33b8000f-fdfa-46b8-8b5f-0d430b0af7c3",
   "metadata": {},
   "outputs": [
    {
     "data": {
      "image/png": "[encoded data removed]",
      "text/plain": [
       "<Figure size 432x288 with 2 Axes>"
      ]
     },
     "metadata": {
      "needs_background": "light"
     },
     "output_type": "display_data"
    }
   ],
   "source": [
    "# Plot a confusion matrix that shows how my best model performs on my test set\n",
    "ConfusionMatrixDisplay.from_estimator(model, X_test, y_test);"
   ]
  },
  {
   "cell_type": "markdown",
   "id": "8c302b8c-71ff-407d-ad4f-cf6632eef3bb",
   "metadata": {},
   "source": [
    "This matrix is a great reminder of how imbalanced my data is, and of why accuracy isn't always the best metric for judging whether or not a model is giving me what I want. After all, if 95% of the companies in my dataset didn't go bankrupt, all the model has to do is always predict `{\"bankrupt\": False}`, and it'll be right 95% of the time. The accuracy score will be amazing, but it won't tell me what I really need to know.\n",
    "\n",
    "Instead, I can evaluate my model using two new metrics: **precision** and **recall**.  The precision score is important when I want my model to only predict that a company will go bankrupt if its very confident in its prediction. The *recall* score is important if I want to make sure to identify all the companies that will go bankrupt, even if that means being incorrect sometimes. \n",
    "\n",
    "I'll start with a report I can create with scikit-learn to calculate both metrics. Then I'll look at them one-by-one using a visualization tool I've built."
   ]
  },
  {
   "cell_type": "markdown",
   "id": "be17acf6-17cf-49fb-b811-a13dd815052b",
   "metadata": {},
   "source": [
    "**Classification Report**"
   ]
  },
  {
   "cell_type": "code",
   "execution_count": 18,
   "id": "e740eb28-5616-4544-9931-41082db528e3",
   "metadata": {},
   "outputs": [
    {
     "data": {
      "text/plain": [
       "'              precision    recall  f1-score   support\\n\\n       False       0.99      0.88      0.93      1913\\n        True       0.22      0.76      0.34        83\\n\\n    accuracy                           0.88      1996\\n   macro avg       0.61      0.82      0.64      1996\\nweighted avg       0.96      0.88      0.91      1996\\n'"
      ]
     },
     "execution_count": 18,
     "metadata": {},
     "output_type": "execute_result"
    }
   ],
   "source": [
    "classification_report(y_test, model.predict(X_test))"
   ]
  },
  {
   "cell_type": "code",
   "execution_count": 19,
   "id": "3258c7d8-ab3a-469e-ade1-157c41e37f3d",
   "metadata": {},
   "outputs": [
    {
     "name": "stdout",
     "output_type": "stream",
     "text": [
      "              precision    recall  f1-score   support\n",
      "\n",
      "       False       0.99      0.88      0.93      1913\n",
      "        True       0.22      0.76      0.34        83\n",
      "\n",
      "    accuracy                           0.88      1996\n",
      "   macro avg       0.61      0.82      0.64      1996\n",
      "weighted avg       0.96      0.88      0.91      1996\n",
      "\n"
     ]
    }
   ],
   "source": [
    "# Print the classification report for my model, using the test set\n",
    "print(classification_report(y_test, model.predict(X_test)))"
   ]
  },
  {
   "cell_type": "markdown",
   "id": "952a8b76-a65f-46a0-8d26-993a663ec708",
   "metadata": {},
   "source": [
    "**Recall**"
   ]
  },
  {
   "cell_type": "code",
   "execution_count": 20,
   "id": "ea788527-b4db-4387-a440-16424a241e56",
   "metadata": {},
   "outputs": [
    {
     "data": {
      "text/plain": [
       "array([False,  True, False,  True, False])"
      ]
     },
     "execution_count": 20,
     "metadata": {},
     "output_type": "execute_result"
    }
   ],
   "source": [
    "model.predict(X_test)[:5]"
   ]
  },
  {
   "cell_type": "code",
   "execution_count": 21,
   "id": "3b441d13-ae9d-4c94-b907-02d185d35153",
   "metadata": {},
   "outputs": [
    {
     "data": {
      "text/plain": [
       "array([[0.91792111, 0.08207889],\n",
       "       [0.48128357, 0.51871643],\n",
       "       [0.91139529, 0.08860471],\n",
       "       ...,\n",
       "       [0.41184649, 0.58815351],\n",
       "       [0.40714515, 0.59285485],\n",
       "       [0.94706698, 0.05293302]])"
      ]
     },
     "execution_count": 21,
     "metadata": {},
     "output_type": "execute_result"
    }
   ],
   "source": [
    "model.predict_proba(X_test)"
   ]
  },
  {
   "cell_type": "code",
   "execution_count": 22,
   "id": "f6bc98d8-f2fd-4870-93b4-27bd1289d3d7",
   "metadata": {},
   "outputs": [
    {
     "data": {
      "text/plain": [
       "array([0.08207889, 0.51871643, 0.08860471, 0.52064087, 0.07456647])"
      ]
     },
     "execution_count": 22,
     "metadata": {},
     "output_type": "execute_result"
    }
   ],
   "source": [
    "model.predict_proba(X_test)[:5, -1]"
   ]
  },
  {
   "cell_type": "markdown",
   "id": "b87fdd8e-e81b-4aed-b052-c48d7b49ece3",
   "metadata": {},
   "source": [
    "I'll create an interactive dashboard that shows how company profit and losses change in relationship to my model's probability threshold. I'll start with the `make_cnf_matrix` function, which should calculate and print profit/losses, and display a confusion matrix. Then I'll create a FloatSlider `thresh_widget` that ranges from 0 to 1. Finally I'll combine my function and slider in the `interact` function."
   ]
  },
  {
   "cell_type": "code",
   "execution_count": 23,
   "id": "769f6ec9-48fa-46a0-8208-ffe6f38ee08e",
   "metadata": {},
   "outputs": [
    {
     "data": {
      "text/plain": [
       "array([0.08207889, 0.51871643, 0.08860471, ..., 0.58815351, 0.59285485,\n",
       "       0.05293302])"
      ]
     },
     "execution_count": 23,
     "metadata": {},
     "output_type": "execute_result"
    }
   ],
   "source": [
    "model.predict_proba(X_test)[:, -1]"
   ]
  },
  {
   "cell_type": "code",
   "execution_count": 24,
   "id": "a9c5aec4-679a-4529-88c4-8c57f6575967",
   "metadata": {},
   "outputs": [
    {
     "data": {
      "text/plain": [
       "array([False,  True, False, ...,  True,  True, False])"
      ]
     },
     "execution_count": 24,
     "metadata": {},
     "output_type": "execute_result"
    }
   ],
   "source": [
    "threshold = 0.5\n",
    "y_pred_proba = model.predict_proba(X_test)[:, -1]\n",
    "y_pred_proba > threshold"
   ]
  },
  {
   "cell_type": "code",
   "execution_count": 25,
   "id": "49067733-ca30-425b-8d91-ece6c2800224",
   "metadata": {},
   "outputs": [
    {
     "data": {
      "text/plain": [
       "array([ True,  True,  True, ...,  True,  True,  True])"
      ]
     },
     "execution_count": 25,
     "metadata": {},
     "output_type": "execute_result"
    }
   ],
   "source": [
    "threshold = 0.05\n",
    "y_pred_proba = model.predict_proba(X_test)[:, -1]\n",
    "y_pred_proba > threshold"
   ]
  },
  {
   "cell_type": "code",
   "execution_count": 26,
   "id": "28af4f0c-af20-4efa-ac8d-4f2ab8135a74",
   "metadata": {},
   "outputs": [
    {
     "data": {
      "text/plain": [
       "array([[1693,  220],\n",
       "       [  20,   63]])"
      ]
     },
     "execution_count": 26,
     "metadata": {},
     "output_type": "execute_result"
    }
   ],
   "source": [
    "threshold = 0.5\n",
    "y_pred_proba = model.predict_proba(X_test)[:, -1]\n",
    "y_pred = y_pred_proba > threshold\n",
    "confusion_matrix(y_test, y_pred)"
   ]
  },
  {
   "cell_type": "code",
   "execution_count": 27,
   "id": "f562f1d7-a358-482e-be56-34b76f938850",
   "metadata": {},
   "outputs": [
    {
     "data": {
      "text/plain": [
       "3200000000"
      ]
     },
     "execution_count": 27,
     "metadata": {},
     "output_type": "execute_result"
    }
   ],
   "source": [
    "threshold = 0.8\n",
    "y_pred_proba = model.predict_proba(X_test)[:, -1]\n",
    "y_pred = y_pred_proba > threshold\n",
    "conf_matrix = confusion_matrix(y_test, y_pred)\n",
    "tn, fp, fn, tp = conf_matrix.ravel()\n",
    "tp * 100_000_000"
   ]
  },
  {
   "cell_type": "code",
   "execution_count": 28,
   "id": "5ffe729d-917b-410a-9b02-1aab60ce8d60",
   "metadata": {},
   "outputs": [
    {
     "data": {
      "text/plain": [
       "7800000000"
      ]
     },
     "execution_count": 28,
     "metadata": {},
     "output_type": "execute_result"
    }
   ],
   "source": [
    "threshold = 0.2\n",
    "y_pred_proba = model.predict_proba(X_test)[:, -1]\n",
    "y_pred = y_pred_proba > threshold\n",
    "conf_matrix = confusion_matrix(y_test, y_pred)\n",
    "tn, fp, fn, tp = conf_matrix.ravel()\n",
    "tp * 100_000_000"
   ]
  },
  {
   "cell_type": "code",
   "execution_count": 29,
   "id": "39dcf701-126f-44ed-abbf-4f55e70ccbdd",
   "metadata": {},
   "outputs": [
    {
     "name": "stdout",
     "output_type": "stream",
     "text": [
      "Profit: €7800000000\n",
      "Losses: €212750000000\n"
     ]
    },
    {
     "data": {
      "image/png": "[encoded data removed]",
      "text/plain": [
       "<Figure size 432x288 with 1 Axes>"
      ]
     },
     "metadata": {
      "needs_background": "light"
     },
     "output_type": "display_data"
    }
   ],
   "source": [
    "threshold = 0.2\n",
    "y_pred_proba = model.predict_proba(X_test)[:, -1]\n",
    "y_pred = y_pred_proba > threshold\n",
    "conf_matrix = confusion_matrix(y_test, y_pred)\n",
    "tn, fp, fn, tp = conf_matrix.ravel()\n",
    "print(f\"Profit: €{tp * 100_000_000}\")\n",
    "print(f\"Losses: €{fp * 250_000_000}\")\n",
    "ConfusionMatrixDisplay.from_predictions(y_test, y_pred, colorbar=False);"
   ]
  },
  {
   "cell_type": "code",
   "execution_count": 30,
   "id": "2dd57874-a62d-46fd-b241-819399a58937",
   "metadata": {},
   "outputs": [
    {
     "data": {
      "application/vnd.jupyter.widget-view+json": {
       "model_id": "3197130924c6465591a29efb924f6fde",
       "version_major": 2,
       "version_minor": 0
      },
      "text/plain": [
       "interactive(children=(FloatSlider(value=0.5, description='threshold', max=1.0, step=0.05), Output()), _dom_cla…"
      ]
     },
     "metadata": {},
     "output_type": "display_data"
    }
   ],
   "source": [
    "def make_cnf_matrix(threshold):\n",
    "    y_pred_proba = model.predict_proba(X_test)[:, -1]\n",
    "    y_pred = y_pred_proba > threshold\n",
    "    conf_matrix = confusion_matrix(y_test, y_pred)\n",
    "    tn, fp, fn, tp = conf_matrix.ravel()\n",
    "    print(f\"Profit: €{tp * 100_000_000}\")\n",
    "    print(f\"Losses: €{fp * 250_000_000}\")\n",
    "    ConfusionMatrixDisplay.from_predictions(y_test, y_pred, colorbar=False)\n",
    "    \n",
    "\n",
    "\n",
    "\n",
    "thresh_widget = widgets.FloatSlider(min=0, max=1, value=0.5, step=0.05)\n",
    "\n",
    "interact(make_cnf_matrix, threshold=thresh_widget);"
   ]
  },
  {
   "cell_type": "markdown",
   "id": "1f33a6a9-4e8f-4de7-a3cf-a4578c632fde",
   "metadata": {},
   "source": [
    "# Communicate"
   ]
  },
  {
   "cell_type": "code",
   "execution_count": 31,
   "id": "cbfb46e6-fd3a-437a-8ae8-6029e1de5103",
   "metadata": {},
   "outputs": [],
   "source": [
    "# Save my best-performing model to a file named \"model-5-4.pkl\"\n",
    "with open(\"model-5-4.pkl\", \"wb\") as f:\n",
    "    pickle.dump(model, f)"
   ]
  },
  {
   "cell_type": "markdown",
   "id": "45c1cf9a-780f-492d-9174-e345fd18f7bc",
   "metadata": {},
   "source": [
    "**\"My Predictor\" Module**"
   ]
  },
  {
   "cell_type": "markdown",
   "id": "45a42533-0c39-4af3-b900-17542078d7de",
   "metadata": {},
   "source": [
    "I'll open the file `my_predictor_poland.py`, add the `wrangle` and `make_predictions` functions from the last project, and add all the necessary import statements to the top of the file. Once I'm done, I'll save the file."
   ]
  },
  {
   "cell_type": "code",
   "execution_count": 32,
   "id": "f72185ac-c70f-4879-9f96-1a9bd8630690",
   "metadata": {},
   "outputs": [
    {
     "name": "stdout",
     "output_type": "stream",
     "text": [
      "# Import libraries\n",
      "import gzip\n",
      "import json\n",
      "import pickle\n",
      "\n",
      "import pandas as pd\n",
      "\n",
      "def wrangle(filename):\n",
      "    with gzip.open(filename, \"r\") as f:\n",
      "        data = json.load(f)\n",
      "    df = pd.DataFrame().from_dict(data[\"data\"]).set_index(\"company_id\")                 \n",
      "    return df\n",
      "\n",
      "def make_predictions(data_filepath, model_filepath):\n",
      "    # Wrangle JSON file\n",
      "    X_test = wrangle(data_filepath)\n",
      "    # Load model\n",
      "    with open(model_filepath, \"rb\") as f:\n",
      "        model = pickle.load(f)\n",
      "    # Generate predictions\n",
      "    y_test_pred = model.predict(X_test)\n",
      "    # Put predictions into Series w/ name \"bankrupt\", and same index as X_test\n",
      "    y_test_pred = pd.Series(y_test_pred, index=X_test.index, name=\"bankrupt\")\n",
      "    return y_test_pred"
     ]
    }
   ],
   "source": [
    "%%bash\n",
    "\n",
    "cat my_predictor_poland.py"
   ]
  },
  {
   "cell_type": "markdown",
   "id": "0d317c11-d019-4338-b882-be3c5821b829",
   "metadata": {},
   "source": [
    "I've created my first module."
   ]
  },
  {
   "cell_type": "markdown",
   "id": "3a8c4e8d-0e41-4ddf-9ce1-9ce83171ba14",
   "metadata": {},
   "source": [
    "**Import Module**"
   ]
  },
  {
   "cell_type": "markdown",
   "id": "e0049665-6154-4124-8271-a93f86bb2241",
   "metadata": {},
   "source": [
    "I'll import my `make_predictions` function from my `my_predictor` module, and I'll use the code below to make sure it works as expected."
   ]
  },
  {
   "cell_type": "code",
   "execution_count": 54,
   "id": "15d9c13e-0972-4a9d-821f-d2ac0a552d56",
   "metadata": {},
   "outputs": [
    {
     "name": "stdout",
     "output_type": "stream",
     "text": [
      "predictions shape: (526,)\n"
     ]
    },
    {
     "data": {
      "text/plain": [
       "company_id\n",
       "4     False\n",
       "32    False\n",
       "34     True\n",
       "36    False\n",
       "40     True\n",
       "Name: bankrupt, dtype: bool"
      ]
     },
     "execution_count": 54,
     "metadata": {},
     "output_type": "execute_result"
    }
   ],
   "source": [
    "# Import your module\n",
    "from my_predictor_lesson import make_predictions\n",
    "    \n",
    "# Generate predictions\n",
    "y_test_pred = make_predictions(\n",
    "    data_filepath=\"data/poland-bankruptcy-data-2009-mvp-features.json.gz\",\n",
    "    model_filepath=\"model-5-4.pkl\",\n",
    ")\n",
    "\n",
    "print(\"predictions shape:\", y_test_pred.shape)\n",
    "y_test_pred.head()"
   ]
  }
 ],
 "metadata": {
  "kernelspec": {
   "display_name": "Python 3 (ipykernel)",
   "language": "python",
   "name": "python3"
  },
  "language_info": {
   "codemirror_mode": {
    "name": "ipython",
    "version": 3
   },
   "file_extension": ".py",
   "mimetype": "text/x-python",
   "name": "python",
   "nbconvert_exporter": "python",
   "pygments_lexer": "ipython3",
   "version": "3.8.13"
  }
 },
 "nbformat": 4,
 "nbformat_minor": 5
}
