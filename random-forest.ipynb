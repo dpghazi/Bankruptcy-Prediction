{
 "cells": [
  {
   "cell_type": "markdown",
   "id": "1a02bb59",
   "metadata": {},
   "source": [
    "<font size=\"+3\"><strong>Polish Bankruptcy Prediction 🇵🇱 </strong></font>"
   ]
  },
  {
   "cell_type": "markdown",
   "id": "733fe55f-794d-4dbc-9fc7-75bf0e2411a4",
   "metadata": {},
   "source": [
    "<font size=\"+2\"><strong>Part 3: Random Forest</strong></font>"
   ]
  },
  {
   "cell_type": "code",
   "execution_count": 8,
   "id": "c00fff63-d85a-41c6-b174-5b14017d316b",
   "metadata": {},
   "outputs": [],
   "source": [
    "__author__ = \"Donald Ghazi\"\n",
    "__email__ = \"donald@donaldghazi.com\"\n",
    "__website__ = \"donaldghazi.com\""
   ]
  },
  {
   "cell_type": "markdown",
   "id": "17bd1b41-4776-4cd2-91ed-0e85646ebd49",
   "metadata": {},
   "source": [
    "So far in the `Working with JSON files` and `Imbalanced Data` projects, I've learned how to retrieve and decompress data, and how to manage imbalanced data to build a decision-tree model.\n",
    "\n",
    "In this project, I'm going to expand my decision tree model into an entire forest (an example of **ensemble model**); use a **grid search** to tune hyperparameters; and create a function that loads data and a pre-trained model, and use that model to generate a Series of predictions."
   ]
  },
  {
   "cell_type": "code",
   "execution_count": 9,
   "id": "f96b44d2-dd50-4561-b0c2-1c1cbd493983",
   "metadata": {},
   "outputs": [],
   "source": [
    "import gzip\n",
    "import json\n",
    "import pickle\n",
    "import matplotlib.pyplot as plt\n",
    "import pandas as pd\n",
    "\n",
    "from imblearn.over_sampling import RandomOverSampler\n",
    "from sklearn.ensemble import RandomForestClassifier\n",
    "from sklearn.impute import SimpleImputer\n",
    "from sklearn.metrics import ConfusionMatrixDisplay\n",
    "from sklearn.model_selection import GridSearchCV, cross_val_score, train_test_split\n",
    "from sklearn.pipeline import make_pipeline"
   ]
  },
  {
   "cell_type": "markdown",
   "id": "79d88818-e094-470e-8854-fc9ab798353e",
   "metadata": {},
   "source": [
    "GOALS\n",
    " - Improve my bankruptcy model using random forest.\n",
    " - Evaluate model generalizability using cross validation.\n",
    " - Tune my model hyperparameters using grid search.\n",
    " - Build a prediction function that uses my saved model.\n",
    "\n",
    "Machine Learning Workflow\n",
    " - Prepare Data\n",
    "     - Import\n",
    "     - Explore\n",
    "     - Split\n",
    "        - Resample: Over-sampling\n",
    " - Build Model\n",
    "     - Baseline\n",
    "     - Iterate\n",
    "         - Random forest, cross validation, grid search\n",
    "     - Evaluate \n",
    "         - Confusion matrix \n",
    " - Communicate Results\n",
    "     - Feature importances\n",
    "     - Save model as file\n",
    "     - Build predictions function "
   ]
  },
  {
   "cell_type": "markdown",
   "id": "7f29302c-5154-4ee6-a6c0-08d8aa34cc1c",
   "metadata": {},
   "source": [
    "# Prepare Data"
   ]
  },
  {
   "cell_type": "markdown",
   "id": "0cc6386e-f808-43fe-aecb-f7a40b213a19",
   "metadata": {},
   "source": [
    "As always, I'll begin by importing the dataset."
   ]
  },
  {
   "cell_type": "markdown",
   "id": "cc3e2764-3715-4ab4-a49a-b8ae3ce87b39",
   "metadata": {},
   "source": [
    "I'll extract the cross-validation resu"
   ]
  },
  {
   "cell_type": "markdown",
   "id": "4dbacafb-972f-4f0c-9e63-4b44c922fd0e",
   "metadata": {},
   "source": [
    "I'll write the `wrangle` function using the code I developed in the `Working with JSON files` project. Then I'll use it to import `poland-bankruptcy-data-2009.json.gz` into the DataFrame `df`."
   ]
  },
  {
   "cell_type": "code",
   "execution_count": 10,
   "id": "704b2d06-a463-428e-8f15-f723d7a2aec2",
   "metadata": {},
   "outputs": [],
   "source": [
    "def wrangle(filename):\n",
    "    \n",
    "    # Open compressed file, load into dictionary\n",
    "    with gzip.open(filename, \"r\") as f:\n",
    "        data = json.load(f)\n",
    "\n",
    "    # Load dictionary into DataFrame, set index\n",
    "    df = pd.DataFrame().from_dict(data[\"data\"]).set_index(\"company_id\")\n",
    "    \n",
    "    return df"
   ]
  },
  {
   "cell_type": "code",
   "execution_count": 11,
   "id": "e9ac92b1-6a9e-4d00-857e-5f1623f4d2c1",
   "metadata": {},
   "outputs": [
    {
     "name": "stdout",
     "output_type": "stream",
     "text": [
      "(9977, 65)\n"
     ]
    },
    {
     "data": {
      "text/html": [
       "<div>\n",
       "<style scoped>\n",
       "    .dataframe tbody tr th:only-of-type {\n",
       "        vertical-align: middle;\n",
       "    }\n",
       "\n",
       "    .dataframe tbody tr th {\n",
       "        vertical-align: top;\n",
       "    }\n",
       "\n",
       "    .dataframe thead th {\n",
       "        text-align: right;\n",
       "    }\n",
       "</style>\n",
       "<table border=\"1\" class=\"dataframe\">\n",
       "  <thead>\n",
       "    <tr style=\"text-align: right;\">\n",
       "      <th></th>\n",
       "      <th>feat_1</th>\n",
       "      <th>feat_2</th>\n",
       "      <th>feat_3</th>\n",
       "      <th>feat_4</th>\n",
       "      <th>feat_5</th>\n",
       "      <th>feat_6</th>\n",
       "      <th>feat_7</th>\n",
       "      <th>feat_8</th>\n",
       "      <th>feat_9</th>\n",
       "      <th>feat_10</th>\n",
       "      <th>...</th>\n",
       "      <th>feat_56</th>\n",
       "      <th>feat_57</th>\n",
       "      <th>feat_58</th>\n",
       "      <th>feat_59</th>\n",
       "      <th>feat_60</th>\n",
       "      <th>feat_61</th>\n",
       "      <th>feat_62</th>\n",
       "      <th>feat_63</th>\n",
       "      <th>feat_64</th>\n",
       "      <th>bankrupt</th>\n",
       "    </tr>\n",
       "    <tr>\n",
       "      <th>company_id</th>\n",
       "      <th></th>\n",
       "      <th></th>\n",
       "      <th></th>\n",
       "      <th></th>\n",
       "      <th></th>\n",
       "      <th></th>\n",
       "      <th></th>\n",
       "      <th></th>\n",
       "      <th></th>\n",
       "      <th></th>\n",
       "      <th></th>\n",
       "      <th></th>\n",
       "      <th></th>\n",
       "      <th></th>\n",
       "      <th></th>\n",
       "      <th></th>\n",
       "      <th></th>\n",
       "      <th></th>\n",
       "      <th></th>\n",
       "      <th></th>\n",
       "      <th></th>\n",
       "    </tr>\n",
       "  </thead>\n",
       "  <tbody>\n",
       "    <tr>\n",
       "      <th>1</th>\n",
       "      <td>0.174190</td>\n",
       "      <td>0.41299</td>\n",
       "      <td>0.14371</td>\n",
       "      <td>1.3480</td>\n",
       "      <td>-28.9820</td>\n",
       "      <td>0.60383</td>\n",
       "      <td>0.219460</td>\n",
       "      <td>1.12250</td>\n",
       "      <td>1.1961</td>\n",
       "      <td>0.46359</td>\n",
       "      <td>...</td>\n",
       "      <td>0.163960</td>\n",
       "      <td>0.375740</td>\n",
       "      <td>0.83604</td>\n",
       "      <td>0.000007</td>\n",
       "      <td>9.7145</td>\n",
       "      <td>6.2813</td>\n",
       "      <td>84.291</td>\n",
       "      <td>4.3303</td>\n",
       "      <td>4.0341</td>\n",
       "      <td>False</td>\n",
       "    </tr>\n",
       "    <tr>\n",
       "      <th>2</th>\n",
       "      <td>0.146240</td>\n",
       "      <td>0.46038</td>\n",
       "      <td>0.28230</td>\n",
       "      <td>1.6294</td>\n",
       "      <td>2.5952</td>\n",
       "      <td>0.00000</td>\n",
       "      <td>0.171850</td>\n",
       "      <td>1.17210</td>\n",
       "      <td>1.6018</td>\n",
       "      <td>0.53962</td>\n",
       "      <td>...</td>\n",
       "      <td>0.027516</td>\n",
       "      <td>0.271000</td>\n",
       "      <td>0.90108</td>\n",
       "      <td>0.000000</td>\n",
       "      <td>5.9882</td>\n",
       "      <td>4.1103</td>\n",
       "      <td>102.190</td>\n",
       "      <td>3.5716</td>\n",
       "      <td>5.9500</td>\n",
       "      <td>False</td>\n",
       "    </tr>\n",
       "    <tr>\n",
       "      <th>3</th>\n",
       "      <td>0.000595</td>\n",
       "      <td>0.22612</td>\n",
       "      <td>0.48839</td>\n",
       "      <td>3.1599</td>\n",
       "      <td>84.8740</td>\n",
       "      <td>0.19114</td>\n",
       "      <td>0.004572</td>\n",
       "      <td>2.98810</td>\n",
       "      <td>1.0077</td>\n",
       "      <td>0.67566</td>\n",
       "      <td>...</td>\n",
       "      <td>0.007639</td>\n",
       "      <td>0.000881</td>\n",
       "      <td>0.99236</td>\n",
       "      <td>0.000000</td>\n",
       "      <td>6.7742</td>\n",
       "      <td>3.7922</td>\n",
       "      <td>64.846</td>\n",
       "      <td>5.6287</td>\n",
       "      <td>4.4581</td>\n",
       "      <td>False</td>\n",
       "    </tr>\n",
       "    <tr>\n",
       "      <th>5</th>\n",
       "      <td>0.188290</td>\n",
       "      <td>0.41504</td>\n",
       "      <td>0.34231</td>\n",
       "      <td>1.9279</td>\n",
       "      <td>-58.2740</td>\n",
       "      <td>0.00000</td>\n",
       "      <td>0.233580</td>\n",
       "      <td>1.40940</td>\n",
       "      <td>1.3393</td>\n",
       "      <td>0.58496</td>\n",
       "      <td>...</td>\n",
       "      <td>0.176480</td>\n",
       "      <td>0.321880</td>\n",
       "      <td>0.82635</td>\n",
       "      <td>0.073039</td>\n",
       "      <td>2.5912</td>\n",
       "      <td>7.0756</td>\n",
       "      <td>100.540</td>\n",
       "      <td>3.6303</td>\n",
       "      <td>4.6375</td>\n",
       "      <td>False</td>\n",
       "    </tr>\n",
       "    <tr>\n",
       "      <th>6</th>\n",
       "      <td>0.182060</td>\n",
       "      <td>0.55615</td>\n",
       "      <td>0.32191</td>\n",
       "      <td>1.6045</td>\n",
       "      <td>16.3140</td>\n",
       "      <td>0.00000</td>\n",
       "      <td>0.182060</td>\n",
       "      <td>0.79808</td>\n",
       "      <td>1.8126</td>\n",
       "      <td>0.44385</td>\n",
       "      <td>...</td>\n",
       "      <td>0.555770</td>\n",
       "      <td>0.410190</td>\n",
       "      <td>0.46957</td>\n",
       "      <td>0.029421</td>\n",
       "      <td>8.4553</td>\n",
       "      <td>3.3488</td>\n",
       "      <td>107.240</td>\n",
       "      <td>3.4036</td>\n",
       "      <td>12.4540</td>\n",
       "      <td>False</td>\n",
       "    </tr>\n",
       "  </tbody>\n",
       "</table>\n",
       "<p>5 rows × 65 columns</p>\n",
       "</div>"
      ],
      "text/plain": [
       "              feat_1   feat_2   feat_3  feat_4   feat_5   feat_6    feat_7  \\\n",
       "company_id                                                                   \n",
       "1           0.174190  0.41299  0.14371  1.3480 -28.9820  0.60383  0.219460   \n",
       "2           0.146240  0.46038  0.28230  1.6294   2.5952  0.00000  0.171850   \n",
       "3           0.000595  0.22612  0.48839  3.1599  84.8740  0.19114  0.004572   \n",
       "5           0.188290  0.41504  0.34231  1.9279 -58.2740  0.00000  0.233580   \n",
       "6           0.182060  0.55615  0.32191  1.6045  16.3140  0.00000  0.182060   \n",
       "\n",
       "             feat_8  feat_9  feat_10  ...   feat_56   feat_57  feat_58  \\\n",
       "company_id                            ...                                \n",
       "1           1.12250  1.1961  0.46359  ...  0.163960  0.375740  0.83604   \n",
       "2           1.17210  1.6018  0.53962  ...  0.027516  0.271000  0.90108   \n",
       "3           2.98810  1.0077  0.67566  ...  0.007639  0.000881  0.99236   \n",
       "5           1.40940  1.3393  0.58496  ...  0.176480  0.321880  0.82635   \n",
       "6           0.79808  1.8126  0.44385  ...  0.555770  0.410190  0.46957   \n",
       "\n",
       "             feat_59  feat_60  feat_61  feat_62  feat_63  feat_64  bankrupt  \n",
       "company_id                                                                   \n",
       "1           0.000007   9.7145   6.2813   84.291   4.3303   4.0341     False  \n",
       "2           0.000000   5.9882   4.1103  102.190   3.5716   5.9500     False  \n",
       "3           0.000000   6.7742   3.7922   64.846   5.6287   4.4581     False  \n",
       "5           0.073039   2.5912   7.0756  100.540   3.6303   4.6375     False  \n",
       "6           0.029421   8.4553   3.3488  107.240   3.4036  12.4540     False  \n",
       "\n",
       "[5 rows x 65 columns]"
      ]
     },
     "execution_count": 11,
     "metadata": {},
     "output_type": "execute_result"
    }
   ],
   "source": [
    "df = wrangle(\"data/poland-bankruptcy-data-2009.json.gz\")\n",
    "print(df.shape)\n",
    "df.head()"
   ]
  },
  {
   "cell_type": "markdown",
   "id": "5c060b94-8cec-47af-9688-4655e3563917",
   "metadata": {},
   "source": [
    "## Split"
   ]
  },
  {
   "cell_type": "code",
   "execution_count": 12,
   "id": "f80644db-c1cd-44e8-8616-f9b79d287c5f",
   "metadata": {},
   "outputs": [
    {
     "name": "stdout",
     "output_type": "stream",
     "text": [
      "X shape: (9977, 64)\n",
      "y shape: (9977,)\n"
     ]
    }
   ],
   "source": [
    "# Create my feature matrix X and target vector y\n",
    "target = \"bankrupt\"            # My target is \"bankrupt\"\n",
    "feature = \"feat_27\"\n",
    "X = df.drop(columns=\"bankrupt\")\n",
    "y = df[target]\n",
    "\n",
    "print(\"X shape:\", X.shape)\n",
    "print(\"y shape:\", y.shape)"
   ]
  },
  {
   "cell_type": "markdown",
   "id": "79855baa-0f8a-4d1f-80b3-4056a4d2856c",
   "metadata": {},
   "source": [
    "Since I'm not working with time series data, I'm going to randomly divide my dataset into training and test sets."
   ]
  },
  {
   "cell_type": "code",
   "execution_count": 13,
   "id": "ff1f5886-f43e-42a2-91f7-d3ed5099b67f",
   "metadata": {},
   "outputs": [
    {
     "name": "stdout",
     "output_type": "stream",
     "text": [
      "X_train shape: (7981, 64)\n",
      "y_train shape: (7981,)\n",
      "X_test shape: (1996, 64)\n",
      "y_test shape: (1996,)\n"
     ]
    }
   ],
   "source": [
    "# Divide my data (X and y) into training and test sets using a randomized train-test split\n",
    "X_train, X_test, y_train, y_test = train_test_split(\n",
    "    X, y, test_size=0.2, random_state=42             #  My test set should be 20% of my total data & set a random_state for reproducibility\n",
    ")  \n",
    "\n",
    "print(\"X_train shape:\", X_train.shape)\n",
    "print(\"y_train shape:\", y_train.shape)\n",
    "print(\"X_test shape:\", X_test.shape)\n",
    "print(\"y_test shape:\", y_test.shape)"
   ]
  },
  {
   "cell_type": "markdown",
   "id": "bb523e6f-dbd7-4fe1-acc2-e26dba5bb65e",
   "metadata": {},
   "source": [
    "Here, I didn't create a validation set, even though I'm planning on tuning my model's hyperparameters in project. That's because I'm going to use cross-validation, which I'll talk about more later on."
   ]
  },
  {
   "cell_type": "markdown",
   "id": "0f452e45-0940-4e04-96a4-da574ba5b597",
   "metadata": {},
   "source": [
    "## Resample"
   ]
  },
  {
   "cell_type": "markdown",
   "id": "37421749-a975-4e51-aa20-ba6d52d56618",
   "metadata": {},
   "source": [
    "**Over-Sampling**"
   ]
  },
  {
   "cell_type": "code",
   "execution_count": 14,
   "id": "3b37519b-505e-4223-a1d1-7930fa8af44a",
   "metadata": {},
   "outputs": [
    {
     "name": "stdout",
     "output_type": "stream",
     "text": [
      "X_train_over shape: (15194, 64)\n"
     ]
    },
    {
     "data": {
      "text/html": [
       "<div>\n",
       "<style scoped>\n",
       "    .dataframe tbody tr th:only-of-type {\n",
       "        vertical-align: middle;\n",
       "    }\n",
       "\n",
       "    .dataframe tbody tr th {\n",
       "        vertical-align: top;\n",
       "    }\n",
       "\n",
       "    .dataframe thead th {\n",
       "        text-align: right;\n",
       "    }\n",
       "</style>\n",
       "<table border=\"1\" class=\"dataframe\">\n",
       "  <thead>\n",
       "    <tr style=\"text-align: right;\">\n",
       "      <th></th>\n",
       "      <th>feat_1</th>\n",
       "      <th>feat_2</th>\n",
       "      <th>feat_3</th>\n",
       "      <th>feat_4</th>\n",
       "      <th>feat_5</th>\n",
       "      <th>feat_6</th>\n",
       "      <th>feat_7</th>\n",
       "      <th>feat_8</th>\n",
       "      <th>feat_9</th>\n",
       "      <th>feat_10</th>\n",
       "      <th>...</th>\n",
       "      <th>feat_55</th>\n",
       "      <th>feat_56</th>\n",
       "      <th>feat_57</th>\n",
       "      <th>feat_58</th>\n",
       "      <th>feat_59</th>\n",
       "      <th>feat_60</th>\n",
       "      <th>feat_61</th>\n",
       "      <th>feat_62</th>\n",
       "      <th>feat_63</th>\n",
       "      <th>feat_64</th>\n",
       "    </tr>\n",
       "  </thead>\n",
       "  <tbody>\n",
       "    <tr>\n",
       "      <th>0</th>\n",
       "      <td>0.279320</td>\n",
       "      <td>0.053105</td>\n",
       "      <td>0.852030</td>\n",
       "      <td>17.0440</td>\n",
       "      <td>199.080</td>\n",
       "      <td>0.741770</td>\n",
       "      <td>0.353570</td>\n",
       "      <td>16.00600</td>\n",
       "      <td>1.2346</td>\n",
       "      <td>0.84997</td>\n",
       "      <td>...</td>\n",
       "      <td>52857.00</td>\n",
       "      <td>0.190040</td>\n",
       "      <td>0.328630</td>\n",
       "      <td>0.80996</td>\n",
       "      <td>0.00000</td>\n",
       "      <td>NaN</td>\n",
       "      <td>4.1858</td>\n",
       "      <td>11.002</td>\n",
       "      <td>33.1760</td>\n",
       "      <td>18.5720</td>\n",
       "    </tr>\n",
       "    <tr>\n",
       "      <th>1</th>\n",
       "      <td>0.001871</td>\n",
       "      <td>0.735120</td>\n",
       "      <td>0.156460</td>\n",
       "      <td>1.2269</td>\n",
       "      <td>-10.837</td>\n",
       "      <td>0.000000</td>\n",
       "      <td>0.002938</td>\n",
       "      <td>0.36032</td>\n",
       "      <td>1.4809</td>\n",
       "      <td>0.26488</td>\n",
       "      <td>...</td>\n",
       "      <td>440.02</td>\n",
       "      <td>0.014794</td>\n",
       "      <td>0.007064</td>\n",
       "      <td>0.99803</td>\n",
       "      <td>0.00000</td>\n",
       "      <td>7.4268</td>\n",
       "      <td>2.2925</td>\n",
       "      <td>169.960</td>\n",
       "      <td>2.1476</td>\n",
       "      <td>9.6185</td>\n",
       "    </tr>\n",
       "    <tr>\n",
       "      <th>2</th>\n",
       "      <td>0.113940</td>\n",
       "      <td>0.490250</td>\n",
       "      <td>0.077121</td>\n",
       "      <td>1.2332</td>\n",
       "      <td>-43.184</td>\n",
       "      <td>-0.000171</td>\n",
       "      <td>0.113940</td>\n",
       "      <td>1.03980</td>\n",
       "      <td>1.1649</td>\n",
       "      <td>0.50975</td>\n",
       "      <td>...</td>\n",
       "      <td>4617.40</td>\n",
       "      <td>0.214890</td>\n",
       "      <td>0.223520</td>\n",
       "      <td>0.78761</td>\n",
       "      <td>0.27412</td>\n",
       "      <td>6.2791</td>\n",
       "      <td>6.1622</td>\n",
       "      <td>103.630</td>\n",
       "      <td>3.5220</td>\n",
       "      <td>1.9673</td>\n",
       "    </tr>\n",
       "    <tr>\n",
       "      <th>3</th>\n",
       "      <td>0.008136</td>\n",
       "      <td>0.652610</td>\n",
       "      <td>0.148120</td>\n",
       "      <td>1.2628</td>\n",
       "      <td>29.071</td>\n",
       "      <td>0.000000</td>\n",
       "      <td>0.008136</td>\n",
       "      <td>0.53230</td>\n",
       "      <td>1.2891</td>\n",
       "      <td>0.34739</td>\n",
       "      <td>...</td>\n",
       "      <td>920.98</td>\n",
       "      <td>0.045169</td>\n",
       "      <td>0.023421</td>\n",
       "      <td>0.99434</td>\n",
       "      <td>0.14403</td>\n",
       "      <td>22.7480</td>\n",
       "      <td>2.2673</td>\n",
       "      <td>159.580</td>\n",
       "      <td>2.2872</td>\n",
       "      <td>4.4718</td>\n",
       "    </tr>\n",
       "    <tr>\n",
       "      <th>4</th>\n",
       "      <td>0.045396</td>\n",
       "      <td>0.279640</td>\n",
       "      <td>0.708730</td>\n",
       "      <td>3.7656</td>\n",
       "      <td>238.120</td>\n",
       "      <td>0.000000</td>\n",
       "      <td>0.056710</td>\n",
       "      <td>2.57610</td>\n",
       "      <td>1.0169</td>\n",
       "      <td>0.72036</td>\n",
       "      <td>...</td>\n",
       "      <td>10744.00</td>\n",
       "      <td>0.047501</td>\n",
       "      <td>0.063019</td>\n",
       "      <td>0.94624</td>\n",
       "      <td>0.00000</td>\n",
       "      <td>13.8860</td>\n",
       "      <td>49.0660</td>\n",
       "      <td>91.984</td>\n",
       "      <td>3.9681</td>\n",
       "      <td>29.0460</td>\n",
       "    </tr>\n",
       "  </tbody>\n",
       "</table>\n",
       "<p>5 rows × 64 columns</p>\n",
       "</div>"
      ],
      "text/plain": [
       "     feat_1    feat_2    feat_3   feat_4   feat_5    feat_6    feat_7  \\\n",
       "0  0.279320  0.053105  0.852030  17.0440  199.080  0.741770  0.353570   \n",
       "1  0.001871  0.735120  0.156460   1.2269  -10.837  0.000000  0.002938   \n",
       "2  0.113940  0.490250  0.077121   1.2332  -43.184 -0.000171  0.113940   \n",
       "3  0.008136  0.652610  0.148120   1.2628   29.071  0.000000  0.008136   \n",
       "4  0.045396  0.279640  0.708730   3.7656  238.120  0.000000  0.056710   \n",
       "\n",
       "     feat_8  feat_9  feat_10  ...   feat_55   feat_56   feat_57  feat_58  \\\n",
       "0  16.00600  1.2346  0.84997  ...  52857.00  0.190040  0.328630  0.80996   \n",
       "1   0.36032  1.4809  0.26488  ...    440.02  0.014794  0.007064  0.99803   \n",
       "2   1.03980  1.1649  0.50975  ...   4617.40  0.214890  0.223520  0.78761   \n",
       "3   0.53230  1.2891  0.34739  ...    920.98  0.045169  0.023421  0.99434   \n",
       "4   2.57610  1.0169  0.72036  ...  10744.00  0.047501  0.063019  0.94624   \n",
       "\n",
       "   feat_59  feat_60  feat_61  feat_62  feat_63  feat_64  \n",
       "0  0.00000      NaN   4.1858   11.002  33.1760  18.5720  \n",
       "1  0.00000   7.4268   2.2925  169.960   2.1476   9.6185  \n",
       "2  0.27412   6.2791   6.1622  103.630   3.5220   1.9673  \n",
       "3  0.14403  22.7480   2.2673  159.580   2.2872   4.4718  \n",
       "4  0.00000  13.8860  49.0660   91.984   3.9681  29.0460  \n",
       "\n",
       "[5 rows x 64 columns]"
      ]
     },
     "execution_count": 14,
     "metadata": {},
     "output_type": "execute_result"
    }
   ],
   "source": [
    "# Create a new feature matrix X_train_over and target vector y_train_over by performing random over-sampling on the training data\n",
    "over_sampler = RandomOverSampler(random_state=42)\n",
    "X_train_over, y_train_over = over_sampler.fit_resample(X_train, y_train)\n",
    "print(\"X_train_over shape:\", X_train_over.shape)\n",
    "X_train_over.head()"
   ]
  },
  {
   "cell_type": "markdown",
   "id": "19416c95-3c53-44eb-8e85-355e26404d5e",
   "metadata": {},
   "source": [
    "# Build Model"
   ]
  },
  {
   "cell_type": "markdown",
   "id": "fa63b915-7690-4cc4-b99c-e1bf395f8b15",
   "metadata": {},
   "source": [
    "Now that I have my data set up the right way, I can build the model. 🏗"
   ]
  },
  {
   "cell_type": "markdown",
   "id": "dfd180b8-97ad-4eed-a0f5-1b3f8cd08e0b",
   "metadata": {},
   "source": [
    "## Baseline"
   ]
  },
  {
   "cell_type": "code",
   "execution_count": 15,
   "id": "5ce3ec3b-7190-466f-87d0-24857b1ed223",
   "metadata": {},
   "outputs": [
    {
     "name": "stdout",
     "output_type": "stream",
     "text": [
      "Baseline Accuracy: 0.9519\n"
     ]
    }
   ],
   "source": [
    "# Calculate the baseline accuracy score for my model\n",
    "acc_baseline = y_train.value_counts(normalize=True).max()\n",
    "print(\"Baseline Accuracy:\", round(acc_baseline, 4))"
   ]
  },
  {
   "cell_type": "markdown",
   "id": "34c9ddb2-b531-4c1e-be1c-72caa0ddfa85",
   "metadata": {},
   "source": [
    "## Iterate"
   ]
  },
  {
   "cell_type": "markdown",
   "id": "2b91e810-b6cc-4385-9030-94b0cd112d3e",
   "metadata": {},
   "source": [
    "So far, I've built single models that predict a single outcome. That's definitely a useful way to predict the future, but what if the one model I built isn't the *right* one? If I could somehow use more than one model simultaneously, I'd have a more trustworthy prediction.\n",
    "\n",
    "**Ensemble models** work by building multiple models on random subsets of the same data, and then comparing their predictions to make a final prediction. Since I used a decision tree in the `Imbalanced Data` project, I'm going to create an ensemble of trees here. This type of model is called a **random forest**.\n",
    "\n",
    "I'll start by creating a pipeline to streamline my workflow."
   ]
  },
  {
   "cell_type": "markdown",
   "id": "ae407b20-1eee-4200-a26a-07707afd2973",
   "metadata": {},
   "source": [
    "**Random Forest**"
   ]
  },
  {
   "cell_type": "code",
   "execution_count": 16,
   "id": "14eded9f-430a-4166-b1c8-82eeed8ab3e0",
   "metadata": {},
   "outputs": [
    {
     "name": "stdout",
     "output_type": "stream",
     "text": [
      "Pipeline(steps=[('simpleimputer', SimpleImputer()),\n",
      "                ('randomforestclassifier',\n",
      "                 RandomForestClassifier(random_state=42))])\n"
     ]
    }
   ],
   "source": [
    "# Create a pipeline named clf (short for \"classifier\") that contains a SimpleImputer transformer and a RandomForestClassifier predictor\n",
    "clf = make_pipeline(SimpleImputer(), RandomForestClassifier(random_state=42))\n",
    "print(clf)"
   ]
  },
  {
   "cell_type": "markdown",
   "id": "1c8aa305-db63-4166-aaf3-7c5517bc206c",
   "metadata": {},
   "source": [
    "By default, the number of trees in my forest (`n_estimators`) is set to 100. That means when I train this classifier, I'll be fitting 100 trees. While it will take longer to train, it will hopefully lead to better performance.\n",
    "\n",
    "In order to get the best performance from my model, I need to tune its hyperparameter. But how can I do this if we haven't created a validation set? The answer is **cross-validation**. So, before I look at hyperparameters, I'll see how cross-validation works with the classifier I just built."
   ]
  },
  {
   "cell_type": "markdown",
   "id": "9db3c30e-adff-4ef3-96a2-fcbcf311d331",
   "metadata": {},
   "source": [
    "**Cross-Validation**"
   ]
  },
  {
   "cell_type": "markdown",
   "id": "989f8f74-e2e4-4378-80cd-46b47d521f7c",
   "metadata": {},
   "source": [
    "I'll perform cross-validation with my classifier, using the over-sampled training data. I want five folds, so I'll set `cv` to 5. I also want to speed up training, to I'll set `n_jobs` to -1."
   ]
  },
  {
   "cell_type": "code",
   "execution_count": 17,
   "id": "4b0e64e3-2110-4f03-945a-3b3cd265f14f",
   "metadata": {},
   "outputs": [
    {
     "name": "stdout",
     "output_type": "stream",
     "text": [
      "[0.99670944 0.99835472 0.99769661 0.9970385  0.99901251]\n"
     ]
    }
   ],
   "source": [
    "cv_acc_scores = cross_val_score(clf, X_train_over, y_train_over, cv=5, n_jobs=-1)\n",
    "print(cv_acc_scores)"
   ]
  },
  {
   "cell_type": "markdown",
   "id": "4c707342-c2d6-4fc1-b9d0-728823fa1e58",
   "metadata": {},
   "source": [
    "That took kind of a long time because I just trained 500 random forest classifiers (100 jobs x 5 folds)."
   ]
  },
  {
   "cell_type": "markdown",
   "id": "0fe5b75e-a544-46d8-86be-c963c6539b73",
   "metadata": {},
   "source": [
    "Now that I have an idea of how cross-validation works, I'll tune my model. The first step is creating a range of hyperparameters that I want to evaluate. "
   ]
  },
  {
   "cell_type": "markdown",
   "id": "be18813d-5de8-4e47-9ea8-34c9492365b6",
   "metadata": {},
   "source": [
    "**Parameter Grid**"
   ]
  },
  {
   "cell_type": "markdown",
   "id": "2dc7d2a6-c300-49e8-bbc1-23a71ec4d7d6",
   "metadata": {},
   "source": [
    "I'll create a dictionary with the range of hyperparameters that I want to evaluate for my classifier. \n",
    "\n",
    "1. For the `SimpleImputer`, I'll try both the `\"mean\"` and `\"median\"` strategies. \n",
    "2. For the `RandomForestClassifier`, I'll try `max_depth` settings between 10 and 50, by steps of 10. \n",
    "3. Also for the `RandomForestClassifier`, I'll try `n_estimators` settings between 25 and 100 by steps of 25."
   ]
  },
  {
   "cell_type": "code",
   "execution_count": 18,
   "id": "a633f41b-b715-400f-809e-a6440c95f06f",
   "metadata": {},
   "outputs": [
    {
     "data": {
      "text/plain": [
       "{'simpleimputer__strategy': ['mean', 'median'],\n",
       " 'randomforestclassifier__n_estimators': range(25, 100, 25),\n",
       " 'randomforestclassifier__max_depth': range(10, 50, 10)}"
      ]
     },
     "execution_count": 18,
     "metadata": {},
     "output_type": "execute_result"
    }
   ],
   "source": [
    "params = {\n",
    "    \"simpleimputer__strategy\": [\"mean\", \"median\"],\n",
    "    \"randomforestclassifier__n_estimators\": range(25, 100, 25),\n",
    "    \"randomforestclassifier__max_depth\": range(10, 50, 10)\n",
    "}\n",
    "params"
   ]
  },
  {
   "cell_type": "markdown",
   "id": "04ee7e3c-d91d-40b1-abbd-de58fa565365",
   "metadata": {},
   "source": [
    "Now that I have my hyperparameter grid, I'll incorporate it into a **grid search**."
   ]
  },
  {
   "cell_type": "markdown",
   "id": "275f1d0b-bca0-4039-bee8-a68e82c59831",
   "metadata": {},
   "source": [
    "**Grid Search**"
   ]
  },
  {
   "cell_type": "markdown",
   "id": "55c8fa2d-f35a-4e4f-91aa-65033fda44f3",
   "metadata": {},
   "source": [
    "I'll create a `GridSearchCV` named `model` that includes my classifier and hyperparameter grid. I'll use the same arguments for `cv` and `n_jobs` that I used above, and set `verbose` to 1. "
   ]
  },
  {
   "cell_type": "code",
   "execution_count": 19,
   "id": "7a4b4ad1-dec9-49c4-8654-6e092b703661",
   "metadata": {},
   "outputs": [
    {
     "data": {
      "text/html": [
       "<style>#sk-container-id-1 {color: black;background-color: white;}#sk-container-id-1 pre{padding: 0;}#sk-container-id-1 div.sk-toggleable {background-color: white;}#sk-container-id-1 label.sk-toggleable__label {cursor: pointer;display: block;width: 100%;margin-bottom: 0;padding: 0.3em;box-sizing: border-box;text-align: center;}#sk-container-id-1 label.sk-toggleable__label-arrow:before {content: \"▸\";float: left;margin-right: 0.25em;color: #696969;}#sk-container-id-1 label.sk-toggleable__label-arrow:hover:before {color: black;}#sk-container-id-1 div.sk-estimator:hover label.sk-toggleable__label-arrow:before {color: black;}#sk-container-id-1 div.sk-toggleable__content {max-height: 0;max-width: 0;overflow: hidden;text-align: left;background-color: #f0f8ff;}#sk-container-id-1 div.sk-toggleable__content pre {margin: 0.2em;color: black;border-radius: 0.25em;background-color: #f0f8ff;}#sk-container-id-1 input.sk-toggleable__control:checked~div.sk-toggleable__content {max-height: 200px;max-width: 100%;overflow: auto;}#sk-container-id-1 input.sk-toggleable__control:checked~label.sk-toggleable__label-arrow:before {content: \"▾\";}#sk-container-id-1 div.sk-estimator input.sk-toggleable__control:checked~label.sk-toggleable__label {background-color: #d4ebff;}#sk-container-id-1 div.sk-label input.sk-toggleable__control:checked~label.sk-toggleable__label {background-color: #d4ebff;}#sk-container-id-1 input.sk-hidden--visually {border: 0;clip: rect(1px 1px 1px 1px);clip: rect(1px, 1px, 1px, 1px);height: 1px;margin: -1px;overflow: hidden;padding: 0;position: absolute;width: 1px;}#sk-container-id-1 div.sk-estimator {font-family: monospace;background-color: #f0f8ff;border: 1px dotted black;border-radius: 0.25em;box-sizing: border-box;margin-bottom: 0.5em;}#sk-container-id-1 div.sk-estimator:hover {background-color: #d4ebff;}#sk-container-id-1 div.sk-parallel-item::after {content: \"\";width: 100%;border-bottom: 1px solid gray;flex-grow: 1;}#sk-container-id-1 div.sk-label:hover label.sk-toggleable__label {background-color: #d4ebff;}#sk-container-id-1 div.sk-serial::before {content: \"\";position: absolute;border-left: 1px solid gray;box-sizing: border-box;top: 0;bottom: 0;left: 50%;z-index: 0;}#sk-container-id-1 div.sk-serial {display: flex;flex-direction: column;align-items: center;background-color: white;padding-right: 0.2em;padding-left: 0.2em;position: relative;}#sk-container-id-1 div.sk-item {position: relative;z-index: 1;}#sk-container-id-1 div.sk-parallel {display: flex;align-items: stretch;justify-content: center;background-color: white;position: relative;}#sk-container-id-1 div.sk-item::before, #sk-container-id-1 div.sk-parallel-item::before {content: \"\";position: absolute;border-left: 1px solid gray;box-sizing: border-box;top: 0;bottom: 0;left: 50%;z-index: -1;}#sk-container-id-1 div.sk-parallel-item {display: flex;flex-direction: column;z-index: 1;position: relative;background-color: white;}#sk-container-id-1 div.sk-parallel-item:first-child::after {align-self: flex-end;width: 50%;}#sk-container-id-1 div.sk-parallel-item:last-child::after {align-self: flex-start;width: 50%;}#sk-container-id-1 div.sk-parallel-item:only-child::after {width: 0;}#sk-container-id-1 div.sk-dashed-wrapped {border: 1px dashed gray;margin: 0 0.4em 0.5em 0.4em;box-sizing: border-box;padding-bottom: 0.4em;background-color: white;}#sk-container-id-1 div.sk-label label {font-family: monospace;font-weight: bold;display: inline-block;line-height: 1.2em;}#sk-container-id-1 div.sk-label-container {text-align: center;}#sk-container-id-1 div.sk-container {/* jupyter's `normalize.less` sets `[hidden] { display: none; }` but bootstrap.min.css set `[hidden] { display: none !important; }` so we also need the `!important` here to be able to override the default hidden behavior on the sphinx rendered scikit-learn.org. See: https://github.com/scikit-learn/scikit-learn/issues/21755 */display: inline-block !important;position: relative;}#sk-container-id-1 div.sk-text-repr-fallback {display: none;}</style><div id=\"sk-container-id-1\" class=\"sk-top-container\"><div class=\"sk-text-repr-fallback\"><pre>GridSearchCV(cv=5,\n",
       "             estimator=Pipeline(steps=[(&#x27;simpleimputer&#x27;, SimpleImputer()),\n",
       "                                       (&#x27;randomforestclassifier&#x27;,\n",
       "                                        RandomForestClassifier(random_state=42))]),\n",
       "             n_jobs=-1,\n",
       "             param_grid={&#x27;randomforestclassifier__max_depth&#x27;: range(10, 50, 10),\n",
       "                         &#x27;randomforestclassifier__n_estimators&#x27;: range(25, 100, 25),\n",
       "                         &#x27;simpleimputer__strategy&#x27;: [&#x27;mean&#x27;, &#x27;median&#x27;]},\n",
       "             verbose=1)</pre><b>In a Jupyter environment, please rerun this cell to show the HTML representation or trust the notebook. <br />On GitHub, the HTML representation is unable to render, please try loading this page with nbviewer.org.</b></div><div class=\"sk-container\" hidden><div class=\"sk-item sk-dashed-wrapped\"><div class=\"sk-label-container\"><div class=\"sk-label sk-toggleable\"><input class=\"sk-toggleable__control sk-hidden--visually\" id=\"sk-estimator-id-1\" type=\"checkbox\" ><label for=\"sk-estimator-id-1\" class=\"sk-toggleable__label sk-toggleable__label-arrow\">GridSearchCV</label><div class=\"sk-toggleable__content\"><pre>GridSearchCV(cv=5,\n",
       "             estimator=Pipeline(steps=[(&#x27;simpleimputer&#x27;, SimpleImputer()),\n",
       "                                       (&#x27;randomforestclassifier&#x27;,\n",
       "                                        RandomForestClassifier(random_state=42))]),\n",
       "             n_jobs=-1,\n",
       "             param_grid={&#x27;randomforestclassifier__max_depth&#x27;: range(10, 50, 10),\n",
       "                         &#x27;randomforestclassifier__n_estimators&#x27;: range(25, 100, 25),\n",
       "                         &#x27;simpleimputer__strategy&#x27;: [&#x27;mean&#x27;, &#x27;median&#x27;]},\n",
       "             verbose=1)</pre></div></div></div><div class=\"sk-parallel\"><div class=\"sk-parallel-item\"><div class=\"sk-item\"><div class=\"sk-label-container\"><div class=\"sk-label sk-toggleable\"><input class=\"sk-toggleable__control sk-hidden--visually\" id=\"sk-estimator-id-2\" type=\"checkbox\" ><label for=\"sk-estimator-id-2\" class=\"sk-toggleable__label sk-toggleable__label-arrow\">estimator: Pipeline</label><div class=\"sk-toggleable__content\"><pre>Pipeline(steps=[(&#x27;simpleimputer&#x27;, SimpleImputer()),\n",
       "                (&#x27;randomforestclassifier&#x27;,\n",
       "                 RandomForestClassifier(random_state=42))])</pre></div></div></div><div class=\"sk-serial\"><div class=\"sk-item\"><div class=\"sk-serial\"><div class=\"sk-item\"><div class=\"sk-estimator sk-toggleable\"><input class=\"sk-toggleable__control sk-hidden--visually\" id=\"sk-estimator-id-3\" type=\"checkbox\" ><label for=\"sk-estimator-id-3\" class=\"sk-toggleable__label sk-toggleable__label-arrow\">SimpleImputer</label><div class=\"sk-toggleable__content\"><pre>SimpleImputer()</pre></div></div></div><div class=\"sk-item\"><div class=\"sk-estimator sk-toggleable\"><input class=\"sk-toggleable__control sk-hidden--visually\" id=\"sk-estimator-id-4\" type=\"checkbox\" ><label for=\"sk-estimator-id-4\" class=\"sk-toggleable__label sk-toggleable__label-arrow\">RandomForestClassifier</label><div class=\"sk-toggleable__content\"><pre>RandomForestClassifier(random_state=42)</pre></div></div></div></div></div></div></div></div></div></div></div></div>"
      ],
      "text/plain": [
       "GridSearchCV(cv=5,\n",
       "             estimator=Pipeline(steps=[('simpleimputer', SimpleImputer()),\n",
       "                                       ('randomforestclassifier',\n",
       "                                        RandomForestClassifier(random_state=42))]),\n",
       "             n_jobs=-1,\n",
       "             param_grid={'randomforestclassifier__max_depth': range(10, 50, 10),\n",
       "                         'randomforestclassifier__n_estimators': range(25, 100, 25),\n",
       "                         'simpleimputer__strategy': ['mean', 'median']},\n",
       "             verbose=1)"
      ]
     },
     "execution_count": 19,
     "metadata": {},
     "output_type": "execute_result"
    }
   ],
   "source": [
    "model = GridSearchCV(\n",
    "    clf,\n",
    "    param_grid=params,\n",
    "    cv=5,\n",
    "    n_jobs=-1,\n",
    "    verbose=1\n",
    ")\n",
    "model"
   ]
  },
  {
   "cell_type": "markdown",
   "id": "5be062dc-c7f2-4fee-a55d-fea6bc6d0112",
   "metadata": {},
   "source": [
    "Finally, now I'll fit the model."
   ]
  },
  {
   "cell_type": "markdown",
   "id": "00d5d764-5842-4484-8f97-9fd1d36c55b4",
   "metadata": {},
   "source": [
    "**Fit Model**"
   ]
  },
  {
   "cell_type": "markdown",
   "id": "dca218bd-8660-4ace-8e20-3b49925c7b72",
   "metadata": {},
   "source": [
    "I'll fit `model` to the over-sampled training data."
   ]
  },
  {
   "cell_type": "code",
   "execution_count": 20,
   "id": "408287b6-9d52-4fb2-a29a-649c36edaa83",
   "metadata": {},
   "outputs": [
    {
     "name": "stdout",
     "output_type": "stream",
     "text": [
      "Fitting 5 folds for each of 24 candidates, totalling 120 fits\n"
     ]
    },
    {
     "data": {
      "text/html": [
       "<style>#sk-container-id-2 {color: black;background-color: white;}#sk-container-id-2 pre{padding: 0;}#sk-container-id-2 div.sk-toggleable {background-color: white;}#sk-container-id-2 label.sk-toggleable__label {cursor: pointer;display: block;width: 100%;margin-bottom: 0;padding: 0.3em;box-sizing: border-box;text-align: center;}#sk-container-id-2 label.sk-toggleable__label-arrow:before {content: \"▸\";float: left;margin-right: 0.25em;color: #696969;}#sk-container-id-2 label.sk-toggleable__label-arrow:hover:before {color: black;}#sk-container-id-2 div.sk-estimator:hover label.sk-toggleable__label-arrow:before {color: black;}#sk-container-id-2 div.sk-toggleable__content {max-height: 0;max-width: 0;overflow: hidden;text-align: left;background-color: #f0f8ff;}#sk-container-id-2 div.sk-toggleable__content pre {margin: 0.2em;color: black;border-radius: 0.25em;background-color: #f0f8ff;}#sk-container-id-2 input.sk-toggleable__control:checked~div.sk-toggleable__content {max-height: 200px;max-width: 100%;overflow: auto;}#sk-container-id-2 input.sk-toggleable__control:checked~label.sk-toggleable__label-arrow:before {content: \"▾\";}#sk-container-id-2 div.sk-estimator input.sk-toggleable__control:checked~label.sk-toggleable__label {background-color: #d4ebff;}#sk-container-id-2 div.sk-label input.sk-toggleable__control:checked~label.sk-toggleable__label {background-color: #d4ebff;}#sk-container-id-2 input.sk-hidden--visually {border: 0;clip: rect(1px 1px 1px 1px);clip: rect(1px, 1px, 1px, 1px);height: 1px;margin: -1px;overflow: hidden;padding: 0;position: absolute;width: 1px;}#sk-container-id-2 div.sk-estimator {font-family: monospace;background-color: #f0f8ff;border: 1px dotted black;border-radius: 0.25em;box-sizing: border-box;margin-bottom: 0.5em;}#sk-container-id-2 div.sk-estimator:hover {background-color: #d4ebff;}#sk-container-id-2 div.sk-parallel-item::after {content: \"\";width: 100%;border-bottom: 1px solid gray;flex-grow: 1;}#sk-container-id-2 div.sk-label:hover label.sk-toggleable__label {background-color: #d4ebff;}#sk-container-id-2 div.sk-serial::before {content: \"\";position: absolute;border-left: 1px solid gray;box-sizing: border-box;top: 0;bottom: 0;left: 50%;z-index: 0;}#sk-container-id-2 div.sk-serial {display: flex;flex-direction: column;align-items: center;background-color: white;padding-right: 0.2em;padding-left: 0.2em;position: relative;}#sk-container-id-2 div.sk-item {position: relative;z-index: 1;}#sk-container-id-2 div.sk-parallel {display: flex;align-items: stretch;justify-content: center;background-color: white;position: relative;}#sk-container-id-2 div.sk-item::before, #sk-container-id-2 div.sk-parallel-item::before {content: \"\";position: absolute;border-left: 1px solid gray;box-sizing: border-box;top: 0;bottom: 0;left: 50%;z-index: -1;}#sk-container-id-2 div.sk-parallel-item {display: flex;flex-direction: column;z-index: 1;position: relative;background-color: white;}#sk-container-id-2 div.sk-parallel-item:first-child::after {align-self: flex-end;width: 50%;}#sk-container-id-2 div.sk-parallel-item:last-child::after {align-self: flex-start;width: 50%;}#sk-container-id-2 div.sk-parallel-item:only-child::after {width: 0;}#sk-container-id-2 div.sk-dashed-wrapped {border: 1px dashed gray;margin: 0 0.4em 0.5em 0.4em;box-sizing: border-box;padding-bottom: 0.4em;background-color: white;}#sk-container-id-2 div.sk-label label {font-family: monospace;font-weight: bold;display: inline-block;line-height: 1.2em;}#sk-container-id-2 div.sk-label-container {text-align: center;}#sk-container-id-2 div.sk-container {/* jupyter's `normalize.less` sets `[hidden] { display: none; }` but bootstrap.min.css set `[hidden] { display: none !important; }` so we also need the `!important` here to be able to override the default hidden behavior on the sphinx rendered scikit-learn.org. See: https://github.com/scikit-learn/scikit-learn/issues/21755 */display: inline-block !important;position: relative;}#sk-container-id-2 div.sk-text-repr-fallback {display: none;}</style><div id=\"sk-container-id-2\" class=\"sk-top-container\"><div class=\"sk-text-repr-fallback\"><pre>GridSearchCV(cv=5,\n",
       "             estimator=Pipeline(steps=[(&#x27;simpleimputer&#x27;, SimpleImputer()),\n",
       "                                       (&#x27;randomforestclassifier&#x27;,\n",
       "                                        RandomForestClassifier(random_state=42))]),\n",
       "             n_jobs=-1,\n",
       "             param_grid={&#x27;randomforestclassifier__max_depth&#x27;: range(10, 50, 10),\n",
       "                         &#x27;randomforestclassifier__n_estimators&#x27;: range(25, 100, 25),\n",
       "                         &#x27;simpleimputer__strategy&#x27;: [&#x27;mean&#x27;, &#x27;median&#x27;]},\n",
       "             verbose=1)</pre><b>In a Jupyter environment, please rerun this cell to show the HTML representation or trust the notebook. <br />On GitHub, the HTML representation is unable to render, please try loading this page with nbviewer.org.</b></div><div class=\"sk-container\" hidden><div class=\"sk-item sk-dashed-wrapped\"><div class=\"sk-label-container\"><div class=\"sk-label sk-toggleable\"><input class=\"sk-toggleable__control sk-hidden--visually\" id=\"sk-estimator-id-5\" type=\"checkbox\" ><label for=\"sk-estimator-id-5\" class=\"sk-toggleable__label sk-toggleable__label-arrow\">GridSearchCV</label><div class=\"sk-toggleable__content\"><pre>GridSearchCV(cv=5,\n",
       "             estimator=Pipeline(steps=[(&#x27;simpleimputer&#x27;, SimpleImputer()),\n",
       "                                       (&#x27;randomforestclassifier&#x27;,\n",
       "                                        RandomForestClassifier(random_state=42))]),\n",
       "             n_jobs=-1,\n",
       "             param_grid={&#x27;randomforestclassifier__max_depth&#x27;: range(10, 50, 10),\n",
       "                         &#x27;randomforestclassifier__n_estimators&#x27;: range(25, 100, 25),\n",
       "                         &#x27;simpleimputer__strategy&#x27;: [&#x27;mean&#x27;, &#x27;median&#x27;]},\n",
       "             verbose=1)</pre></div></div></div><div class=\"sk-parallel\"><div class=\"sk-parallel-item\"><div class=\"sk-item\"><div class=\"sk-label-container\"><div class=\"sk-label sk-toggleable\"><input class=\"sk-toggleable__control sk-hidden--visually\" id=\"sk-estimator-id-6\" type=\"checkbox\" ><label for=\"sk-estimator-id-6\" class=\"sk-toggleable__label sk-toggleable__label-arrow\">estimator: Pipeline</label><div class=\"sk-toggleable__content\"><pre>Pipeline(steps=[(&#x27;simpleimputer&#x27;, SimpleImputer()),\n",
       "                (&#x27;randomforestclassifier&#x27;,\n",
       "                 RandomForestClassifier(random_state=42))])</pre></div></div></div><div class=\"sk-serial\"><div class=\"sk-item\"><div class=\"sk-serial\"><div class=\"sk-item\"><div class=\"sk-estimator sk-toggleable\"><input class=\"sk-toggleable__control sk-hidden--visually\" id=\"sk-estimator-id-7\" type=\"checkbox\" ><label for=\"sk-estimator-id-7\" class=\"sk-toggleable__label sk-toggleable__label-arrow\">SimpleImputer</label><div class=\"sk-toggleable__content\"><pre>SimpleImputer()</pre></div></div></div><div class=\"sk-item\"><div class=\"sk-estimator sk-toggleable\"><input class=\"sk-toggleable__control sk-hidden--visually\" id=\"sk-estimator-id-8\" type=\"checkbox\" ><label for=\"sk-estimator-id-8\" class=\"sk-toggleable__label sk-toggleable__label-arrow\">RandomForestClassifier</label><div class=\"sk-toggleable__content\"><pre>RandomForestClassifier(random_state=42)</pre></div></div></div></div></div></div></div></div></div></div></div></div>"
      ],
      "text/plain": [
       "GridSearchCV(cv=5,\n",
       "             estimator=Pipeline(steps=[('simpleimputer', SimpleImputer()),\n",
       "                                       ('randomforestclassifier',\n",
       "                                        RandomForestClassifier(random_state=42))]),\n",
       "             n_jobs=-1,\n",
       "             param_grid={'randomforestclassifier__max_depth': range(10, 50, 10),\n",
       "                         'randomforestclassifier__n_estimators': range(25, 100, 25),\n",
       "                         'simpleimputer__strategy': ['mean', 'median']},\n",
       "             verbose=1)"
      ]
     },
     "execution_count": 20,
     "metadata": {},
     "output_type": "execute_result"
    }
   ],
   "source": [
    "# Train model\n",
    "model.fit(X_train_over, y_train_over)"
   ]
  },
  {
   "cell_type": "markdown",
   "id": "7c89f215-58f5-42f7-a5ff-a4af82270ad4",
   "metadata": {},
   "source": [
    "This took some time to train, so I'll take a moment to think about why. \n",
    "\n",
    "How many forests did I just test? 4 different `max_depth`s times 3 `n_estimator`s times 2 imputation strategies... that makes 24 forests. How many fits did I just do? 24 forests times 5 folds is 120. And remember that each forest is comprised of 25-75 trees, which works out to *at least* 3,000 trees. So it's computationally expensive! \n",
    "\n",
    "Okay, now that I've tested all those models, I'll take a look at the results."
   ]
  },
  {
   "cell_type": "markdown",
   "id": "6a81923e-af69-4fa1-9320-2e9c9ca44f0f",
   "metadata": {},
   "source": [
    "**Grid Search CV Results**"
   ]
  },
  {
   "cell_type": "code",
   "execution_count": 21,
   "id": "c069ef06-335e-4324-ac6e-7e69328da6e5",
   "metadata": {},
   "outputs": [
    {
     "data": {
      "text/html": [
       "<div>\n",
       "<style scoped>\n",
       "    .dataframe tbody tr th:only-of-type {\n",
       "        vertical-align: middle;\n",
       "    }\n",
       "\n",
       "    .dataframe tbody tr th {\n",
       "        vertical-align: top;\n",
       "    }\n",
       "\n",
       "    .dataframe thead th {\n",
       "        text-align: right;\n",
       "    }\n",
       "</style>\n",
       "<table border=\"1\" class=\"dataframe\">\n",
       "  <thead>\n",
       "    <tr style=\"text-align: right;\">\n",
       "      <th></th>\n",
       "      <th>mean_fit_time</th>\n",
       "      <th>std_fit_time</th>\n",
       "      <th>mean_score_time</th>\n",
       "      <th>std_score_time</th>\n",
       "      <th>param_randomforestclassifier__max_depth</th>\n",
       "      <th>param_randomforestclassifier__n_estimators</th>\n",
       "      <th>param_simpleimputer__strategy</th>\n",
       "      <th>params</th>\n",
       "      <th>split0_test_score</th>\n",
       "      <th>split1_test_score</th>\n",
       "      <th>split2_test_score</th>\n",
       "      <th>split3_test_score</th>\n",
       "      <th>split4_test_score</th>\n",
       "      <th>mean_test_score</th>\n",
       "      <th>std_test_score</th>\n",
       "      <th>rank_test_score</th>\n",
       "    </tr>\n",
       "  </thead>\n",
       "  <tbody>\n",
       "    <tr>\n",
       "      <th>0</th>\n",
       "      <td>1.003555</td>\n",
       "      <td>0.038568</td>\n",
       "      <td>0.014670</td>\n",
       "      <td>0.008621</td>\n",
       "      <td>10</td>\n",
       "      <td>25</td>\n",
       "      <td>mean</td>\n",
       "      <td>{'randomforestclassifier__max_depth': 10, 'ran...</td>\n",
       "      <td>0.979269</td>\n",
       "      <td>0.977295</td>\n",
       "      <td>0.977953</td>\n",
       "      <td>0.980915</td>\n",
       "      <td>0.982225</td>\n",
       "      <td>0.979532</td>\n",
       "      <td>0.001829</td>\n",
       "      <td>21</td>\n",
       "    </tr>\n",
       "    <tr>\n",
       "      <th>1</th>\n",
       "      <td>1.078364</td>\n",
       "      <td>0.035406</td>\n",
       "      <td>0.012074</td>\n",
       "      <td>0.001718</td>\n",
       "      <td>10</td>\n",
       "      <td>25</td>\n",
       "      <td>median</td>\n",
       "      <td>{'randomforestclassifier__max_depth': 10, 'ran...</td>\n",
       "      <td>0.978611</td>\n",
       "      <td>0.969069</td>\n",
       "      <td>0.975650</td>\n",
       "      <td>0.970056</td>\n",
       "      <td>0.974984</td>\n",
       "      <td>0.973674</td>\n",
       "      <td>0.003586</td>\n",
       "      <td>24</td>\n",
       "    </tr>\n",
       "    <tr>\n",
       "      <th>2</th>\n",
       "      <td>1.943403</td>\n",
       "      <td>0.051859</td>\n",
       "      <td>0.024954</td>\n",
       "      <td>0.007376</td>\n",
       "      <td>10</td>\n",
       "      <td>50</td>\n",
       "      <td>mean</td>\n",
       "      <td>{'randomforestclassifier__max_depth': 10, 'ran...</td>\n",
       "      <td>0.983218</td>\n",
       "      <td>0.979599</td>\n",
       "      <td>0.978282</td>\n",
       "      <td>0.984534</td>\n",
       "      <td>0.983871</td>\n",
       "      <td>0.981901</td>\n",
       "      <td>0.002488</td>\n",
       "      <td>20</td>\n",
       "    </tr>\n",
       "    <tr>\n",
       "      <th>3</th>\n",
       "      <td>1.984070</td>\n",
       "      <td>0.045743</td>\n",
       "      <td>0.021914</td>\n",
       "      <td>0.006559</td>\n",
       "      <td>10</td>\n",
       "      <td>50</td>\n",
       "      <td>median</td>\n",
       "      <td>{'randomforestclassifier__max_depth': 10, 'ran...</td>\n",
       "      <td>0.980257</td>\n",
       "      <td>0.971043</td>\n",
       "      <td>0.978940</td>\n",
       "      <td>0.978282</td>\n",
       "      <td>0.977617</td>\n",
       "      <td>0.977228</td>\n",
       "      <td>0.003213</td>\n",
       "      <td>23</td>\n",
       "    </tr>\n",
       "    <tr>\n",
       "      <th>4</th>\n",
       "      <td>2.776293</td>\n",
       "      <td>0.079095</td>\n",
       "      <td>0.029498</td>\n",
       "      <td>0.003900</td>\n",
       "      <td>10</td>\n",
       "      <td>75</td>\n",
       "      <td>mean</td>\n",
       "      <td>{'randomforestclassifier__max_depth': 10, 'ran...</td>\n",
       "      <td>0.984205</td>\n",
       "      <td>0.980586</td>\n",
       "      <td>0.976966</td>\n",
       "      <td>0.984534</td>\n",
       "      <td>0.984529</td>\n",
       "      <td>0.982164</td>\n",
       "      <td>0.002996</td>\n",
       "      <td>19</td>\n",
       "    </tr>\n",
       "    <tr>\n",
       "      <th>5</th>\n",
       "      <td>2.905376</td>\n",
       "      <td>0.064053</td>\n",
       "      <td>0.030062</td>\n",
       "      <td>0.006157</td>\n",
       "      <td>10</td>\n",
       "      <td>75</td>\n",
       "      <td>median</td>\n",
       "      <td>{'randomforestclassifier__max_depth': 10, 'ran...</td>\n",
       "      <td>0.980915</td>\n",
       "      <td>0.972688</td>\n",
       "      <td>0.981573</td>\n",
       "      <td>0.979928</td>\n",
       "      <td>0.981567</td>\n",
       "      <td>0.979334</td>\n",
       "      <td>0.003377</td>\n",
       "      <td>22</td>\n",
       "    </tr>\n",
       "    <tr>\n",
       "      <th>6</th>\n",
       "      <td>1.078525</td>\n",
       "      <td>0.025606</td>\n",
       "      <td>0.014092</td>\n",
       "      <td>0.002094</td>\n",
       "      <td>20</td>\n",
       "      <td>25</td>\n",
       "      <td>mean</td>\n",
       "      <td>{'randomforestclassifier__max_depth': 20, 'ran...</td>\n",
       "      <td>0.996380</td>\n",
       "      <td>0.997038</td>\n",
       "      <td>0.995722</td>\n",
       "      <td>0.995393</td>\n",
       "      <td>0.997367</td>\n",
       "      <td>0.996380</td>\n",
       "      <td>0.000750</td>\n",
       "      <td>17</td>\n",
       "    </tr>\n",
       "    <tr>\n",
       "      <th>7</th>\n",
       "      <td>1.199057</td>\n",
       "      <td>0.039009</td>\n",
       "      <td>0.013357</td>\n",
       "      <td>0.004127</td>\n",
       "      <td>20</td>\n",
       "      <td>25</td>\n",
       "      <td>median</td>\n",
       "      <td>{'randomforestclassifier__max_depth': 20, 'ran...</td>\n",
       "      <td>0.995722</td>\n",
       "      <td>0.996709</td>\n",
       "      <td>0.997368</td>\n",
       "      <td>0.996380</td>\n",
       "      <td>0.998025</td>\n",
       "      <td>0.996841</td>\n",
       "      <td>0.000795</td>\n",
       "      <td>14</td>\n",
       "    </tr>\n",
       "    <tr>\n",
       "      <th>8</th>\n",
       "      <td>2.209300</td>\n",
       "      <td>0.015998</td>\n",
       "      <td>0.021985</td>\n",
       "      <td>0.002867</td>\n",
       "      <td>20</td>\n",
       "      <td>50</td>\n",
       "      <td>mean</td>\n",
       "      <td>{'randomforestclassifier__max_depth': 20, 'ran...</td>\n",
       "      <td>0.996709</td>\n",
       "      <td>0.996709</td>\n",
       "      <td>0.995722</td>\n",
       "      <td>0.995064</td>\n",
       "      <td>0.997367</td>\n",
       "      <td>0.996314</td>\n",
       "      <td>0.000816</td>\n",
       "      <td>18</td>\n",
       "    </tr>\n",
       "    <tr>\n",
       "      <th>9</th>\n",
       "      <td>2.411177</td>\n",
       "      <td>0.112402</td>\n",
       "      <td>0.025450</td>\n",
       "      <td>0.006599</td>\n",
       "      <td>20</td>\n",
       "      <td>50</td>\n",
       "      <td>median</td>\n",
       "      <td>{'randomforestclassifier__max_depth': 20, 'ran...</td>\n",
       "      <td>0.996051</td>\n",
       "      <td>0.997368</td>\n",
       "      <td>0.998026</td>\n",
       "      <td>0.996709</td>\n",
       "      <td>0.998354</td>\n",
       "      <td>0.997302</td>\n",
       "      <td>0.000843</td>\n",
       "      <td>11</td>\n",
       "    </tr>\n",
       "  </tbody>\n",
       "</table>\n",
       "</div>"
      ],
      "text/plain": [
       "   mean_fit_time  std_fit_time  mean_score_time  std_score_time  \\\n",
       "0       1.003555      0.038568         0.014670        0.008621   \n",
       "1       1.078364      0.035406         0.012074        0.001718   \n",
       "2       1.943403      0.051859         0.024954        0.007376   \n",
       "3       1.984070      0.045743         0.021914        0.006559   \n",
       "4       2.776293      0.079095         0.029498        0.003900   \n",
       "5       2.905376      0.064053         0.030062        0.006157   \n",
       "6       1.078525      0.025606         0.014092        0.002094   \n",
       "7       1.199057      0.039009         0.013357        0.004127   \n",
       "8       2.209300      0.015998         0.021985        0.002867   \n",
       "9       2.411177      0.112402         0.025450        0.006599   \n",
       "\n",
       "  param_randomforestclassifier__max_depth  \\\n",
       "0                                      10   \n",
       "1                                      10   \n",
       "2                                      10   \n",
       "3                                      10   \n",
       "4                                      10   \n",
       "5                                      10   \n",
       "6                                      20   \n",
       "7                                      20   \n",
       "8                                      20   \n",
       "9                                      20   \n",
       "\n",
       "  param_randomforestclassifier__n_estimators param_simpleimputer__strategy  \\\n",
       "0                                         25                          mean   \n",
       "1                                         25                        median   \n",
       "2                                         50                          mean   \n",
       "3                                         50                        median   \n",
       "4                                         75                          mean   \n",
       "5                                         75                        median   \n",
       "6                                         25                          mean   \n",
       "7                                         25                        median   \n",
       "8                                         50                          mean   \n",
       "9                                         50                        median   \n",
       "\n",
       "                                              params  split0_test_score  \\\n",
       "0  {'randomforestclassifier__max_depth': 10, 'ran...           0.979269   \n",
       "1  {'randomforestclassifier__max_depth': 10, 'ran...           0.978611   \n",
       "2  {'randomforestclassifier__max_depth': 10, 'ran...           0.983218   \n",
       "3  {'randomforestclassifier__max_depth': 10, 'ran...           0.980257   \n",
       "4  {'randomforestclassifier__max_depth': 10, 'ran...           0.984205   \n",
       "5  {'randomforestclassifier__max_depth': 10, 'ran...           0.980915   \n",
       "6  {'randomforestclassifier__max_depth': 20, 'ran...           0.996380   \n",
       "7  {'randomforestclassifier__max_depth': 20, 'ran...           0.995722   \n",
       "8  {'randomforestclassifier__max_depth': 20, 'ran...           0.996709   \n",
       "9  {'randomforestclassifier__max_depth': 20, 'ran...           0.996051   \n",
       "\n",
       "   split1_test_score  split2_test_score  split3_test_score  split4_test_score  \\\n",
       "0           0.977295           0.977953           0.980915           0.982225   \n",
       "1           0.969069           0.975650           0.970056           0.974984   \n",
       "2           0.979599           0.978282           0.984534           0.983871   \n",
       "3           0.971043           0.978940           0.978282           0.977617   \n",
       "4           0.980586           0.976966           0.984534           0.984529   \n",
       "5           0.972688           0.981573           0.979928           0.981567   \n",
       "6           0.997038           0.995722           0.995393           0.997367   \n",
       "7           0.996709           0.997368           0.996380           0.998025   \n",
       "8           0.996709           0.995722           0.995064           0.997367   \n",
       "9           0.997368           0.998026           0.996709           0.998354   \n",
       "\n",
       "   mean_test_score  std_test_score  rank_test_score  \n",
       "0         0.979532        0.001829               21  \n",
       "1         0.973674        0.003586               24  \n",
       "2         0.981901        0.002488               20  \n",
       "3         0.977228        0.003213               23  \n",
       "4         0.982164        0.002996               19  \n",
       "5         0.979334        0.003377               22  \n",
       "6         0.996380        0.000750               17  \n",
       "7         0.996841        0.000795               14  \n",
       "8         0.996314        0.000816               18  \n",
       "9         0.997302        0.000843               11  "
      ]
     },
     "execution_count": 21,
     "metadata": {},
     "output_type": "execute_result"
    }
   ],
   "source": [
    "cv_results = pd.DataFrame(model.cv_results_)\n",
    "cv_results.head(10)"
   ]
  },
  {
   "cell_type": "markdown",
   "id": "900176c1-a3f1-4357-ac5a-54fd9c2cc133",
   "metadata": {},
   "source": [
    "I'll extract the cross-validation results from `model` and load them into a DataFrame named `cv_results`."
   ]
  },
  {
   "cell_type": "code",
   "execution_count": 22,
   "id": "89cbb483-49e1-4e2d-9658-6d515119b709",
   "metadata": {},
   "outputs": [
    {
     "data": {
      "text/plain": [
       "dict"
      ]
     },
     "execution_count": 22,
     "metadata": {},
     "output_type": "execute_result"
    }
   ],
   "source": [
    "type(model.cv_results_)"
   ]
  },
  {
   "cell_type": "code",
   "execution_count": 23,
   "id": "d8cec3ef-1e17-495c-a8c1-a449d0d4c0d7",
   "metadata": {},
   "outputs": [
    {
     "data": {
      "text/plain": [
       "{'mean_fit_time': array([1.00355539, 1.07836399, 1.94340334, 1.98407006, 2.77629285,\n",
       "        2.90537648, 1.07852516, 1.19905667, 2.20930009, 2.41117682,\n",
       "        3.42673826, 3.29229503, 1.08620858, 1.15216389, 2.10699034,\n",
       "        2.23801274, 3.15159402, 3.28632994, 1.06176701, 1.17954669,\n",
       "        2.14178104, 2.41711006, 3.24803786, 2.77838759]),\n",
       " 'std_fit_time': array([0.03856819, 0.03540615, 0.05185897, 0.04574253, 0.07909457,\n",
       "        0.06405301, 0.02560595, 0.0390085 , 0.01599794, 0.11240178,\n",
       "        0.0487337 , 0.08662619, 0.02143532, 0.02709878, 0.06299303,\n",
       "        0.04703319, 0.0371392 , 0.04001555, 0.00673546, 0.01877013,\n",
       "        0.07555698, 0.04551205, 0.10208889, 0.31279351]),\n",
       " 'mean_score_time': array([0.01466966, 0.01207418, 0.02495403, 0.02191372, 0.02949762,\n",
       "        0.03006196, 0.0140924 , 0.01335678, 0.02198453, 0.02545037,\n",
       "        0.03338242, 0.02829528, 0.01157928, 0.01366849, 0.02265434,\n",
       "        0.02950273, 0.0344842 , 0.04188023, 0.01282077, 0.01302428,\n",
       "        0.02575898, 0.02508702, 0.03186536, 0.02331223]),\n",
       " 'std_score_time': array([0.0086213 , 0.00171805, 0.00737565, 0.00655867, 0.00390039,\n",
       "        0.0061574 , 0.00209357, 0.00412691, 0.00286714, 0.00659942,\n",
       "        0.00355047, 0.00348966, 0.00185703, 0.00211356, 0.00374876,\n",
       "        0.00604901, 0.00385735, 0.00359888, 0.00208611, 0.0017833 ,\n",
       "        0.00440169, 0.00480983, 0.00379528, 0.00049813]),\n",
       " 'param_randomforestclassifier__max_depth': masked_array(data=[10, 10, 10, 10, 10, 10, 20, 20, 20, 20, 20, 20, 30, 30,\n",
       "                    30, 30, 30, 30, 40, 40, 40, 40, 40, 40],\n",
       "              mask=[False, False, False, False, False, False, False, False,\n",
       "                    False, False, False, False, False, False, False, False,\n",
       "                    False, False, False, False, False, False, False, False],\n",
       "        fill_value='?',\n",
       "             dtype=object),\n",
       " 'param_randomforestclassifier__n_estimators': masked_array(data=[25, 25, 50, 50, 75, 75, 25, 25, 50, 50, 75, 75, 25, 25,\n",
       "                    50, 50, 75, 75, 25, 25, 50, 50, 75, 75],\n",
       "              mask=[False, False, False, False, False, False, False, False,\n",
       "                    False, False, False, False, False, False, False, False,\n",
       "                    False, False, False, False, False, False, False, False],\n",
       "        fill_value='?',\n",
       "             dtype=object),\n",
       " 'param_simpleimputer__strategy': masked_array(data=['mean', 'median', 'mean', 'median', 'mean', 'median',\n",
       "                    'mean', 'median', 'mean', 'median', 'mean', 'median',\n",
       "                    'mean', 'median', 'mean', 'median', 'mean', 'median',\n",
       "                    'mean', 'median', 'mean', 'median', 'mean', 'median'],\n",
       "              mask=[False, False, False, False, False, False, False, False,\n",
       "                    False, False, False, False, False, False, False, False,\n",
       "                    False, False, False, False, False, False, False, False],\n",
       "        fill_value='?',\n",
       "             dtype=object),\n",
       " 'params': [{'randomforestclassifier__max_depth': 10,\n",
       "   'randomforestclassifier__n_estimators': 25,\n",
       "   'simpleimputer__strategy': 'mean'},\n",
       "  {'randomforestclassifier__max_depth': 10,\n",
       "   'randomforestclassifier__n_estimators': 25,\n",
       "   'simpleimputer__strategy': 'median'},\n",
       "  {'randomforestclassifier__max_depth': 10,\n",
       "   'randomforestclassifier__n_estimators': 50,\n",
       "   'simpleimputer__strategy': 'mean'},\n",
       "  {'randomforestclassifier__max_depth': 10,\n",
       "   'randomforestclassifier__n_estimators': 50,\n",
       "   'simpleimputer__strategy': 'median'},\n",
       "  {'randomforestclassifier__max_depth': 10,\n",
       "   'randomforestclassifier__n_estimators': 75,\n",
       "   'simpleimputer__strategy': 'mean'},\n",
       "  {'randomforestclassifier__max_depth': 10,\n",
       "   'randomforestclassifier__n_estimators': 75,\n",
       "   'simpleimputer__strategy': 'median'},\n",
       "  {'randomforestclassifier__max_depth': 20,\n",
       "   'randomforestclassifier__n_estimators': 25,\n",
       "   'simpleimputer__strategy': 'mean'},\n",
       "  {'randomforestclassifier__max_depth': 20,\n",
       "   'randomforestclassifier__n_estimators': 25,\n",
       "   'simpleimputer__strategy': 'median'},\n",
       "  {'randomforestclassifier__max_depth': 20,\n",
       "   'randomforestclassifier__n_estimators': 50,\n",
       "   'simpleimputer__strategy': 'mean'},\n",
       "  {'randomforestclassifier__max_depth': 20,\n",
       "   'randomforestclassifier__n_estimators': 50,\n",
       "   'simpleimputer__strategy': 'median'},\n",
       "  {'randomforestclassifier__max_depth': 20,\n",
       "   'randomforestclassifier__n_estimators': 75,\n",
       "   'simpleimputer__strategy': 'mean'},\n",
       "  {'randomforestclassifier__max_depth': 20,\n",
       "   'randomforestclassifier__n_estimators': 75,\n",
       "   'simpleimputer__strategy': 'median'},\n",
       "  {'randomforestclassifier__max_depth': 30,\n",
       "   'randomforestclassifier__n_estimators': 25,\n",
       "   'simpleimputer__strategy': 'mean'},\n",
       "  {'randomforestclassifier__max_depth': 30,\n",
       "   'randomforestclassifier__n_estimators': 25,\n",
       "   'simpleimputer__strategy': 'median'},\n",
       "  {'randomforestclassifier__max_depth': 30,\n",
       "   'randomforestclassifier__n_estimators': 50,\n",
       "   'simpleimputer__strategy': 'mean'},\n",
       "  {'randomforestclassifier__max_depth': 30,\n",
       "   'randomforestclassifier__n_estimators': 50,\n",
       "   'simpleimputer__strategy': 'median'},\n",
       "  {'randomforestclassifier__max_depth': 30,\n",
       "   'randomforestclassifier__n_estimators': 75,\n",
       "   'simpleimputer__strategy': 'mean'},\n",
       "  {'randomforestclassifier__max_depth': 30,\n",
       "   'randomforestclassifier__n_estimators': 75,\n",
       "   'simpleimputer__strategy': 'median'},\n",
       "  {'randomforestclassifier__max_depth': 40,\n",
       "   'randomforestclassifier__n_estimators': 25,\n",
       "   'simpleimputer__strategy': 'mean'},\n",
       "  {'randomforestclassifier__max_depth': 40,\n",
       "   'randomforestclassifier__n_estimators': 25,\n",
       "   'simpleimputer__strategy': 'median'},\n",
       "  {'randomforestclassifier__max_depth': 40,\n",
       "   'randomforestclassifier__n_estimators': 50,\n",
       "   'simpleimputer__strategy': 'mean'},\n",
       "  {'randomforestclassifier__max_depth': 40,\n",
       "   'randomforestclassifier__n_estimators': 50,\n",
       "   'simpleimputer__strategy': 'median'},\n",
       "  {'randomforestclassifier__max_depth': 40,\n",
       "   'randomforestclassifier__n_estimators': 75,\n",
       "   'simpleimputer__strategy': 'mean'},\n",
       "  {'randomforestclassifier__max_depth': 40,\n",
       "   'randomforestclassifier__n_estimators': 75,\n",
       "   'simpleimputer__strategy': 'median'}],\n",
       " 'split0_test_score': array([0.9792695 , 0.97861139, 0.98321816, 0.98025666, 0.98420533,\n",
       "        0.98091477, 0.99638039, 0.99572228, 0.99670944, 0.99605133,\n",
       "        0.99670944, 0.99572228, 0.99638039, 0.99638039, 0.99638039,\n",
       "        0.99670944, 0.99670944, 0.99670944, 0.99638039, 0.99638039,\n",
       "        0.99638039, 0.99670944, 0.99670944, 0.99670944]),\n",
       " 'split1_test_score': array([0.97729516, 0.96906877, 0.97959855, 0.97104311, 0.98058572,\n",
       "        0.97268838, 0.9970385 , 0.99670944, 0.99670944, 0.99736756,\n",
       "        0.99736756, 0.99736756, 0.9970385 , 0.99670944, 0.99769661,\n",
       "        0.99736756, 0.99769661, 0.99769661, 0.99670944, 0.99769661,\n",
       "        0.99835472, 0.99835472, 0.99835472, 0.99835472]),\n",
       " 'split2_test_score': array([0.97795327, 0.97564988, 0.97828233, 0.97894044, 0.97696611,\n",
       "        0.98157289, 0.99572228, 0.99736756, 0.99572228, 0.99802567,\n",
       "        0.99605133, 0.99802567, 0.99736756, 0.99901283, 0.99736756,\n",
       "        0.99868378, 0.99769661, 0.99901283, 0.99736756, 0.99868378,\n",
       "        0.9970385 , 0.99868378, 0.99769661, 0.99835472]),\n",
       " 'split3_test_score': array([0.98091477, 0.97005594, 0.98453439, 0.97828233, 0.98453439,\n",
       "        0.97992761, 0.99539322, 0.99638039, 0.99506417, 0.99670944,\n",
       "        0.99638039, 0.9970385 , 0.99506417, 0.99638039, 0.9970385 ,\n",
       "        0.9970385 , 0.9970385 , 0.9970385 , 0.99506417, 0.99670944,\n",
       "        0.9970385 , 0.99670944, 0.99736756, 0.9970385 ]),\n",
       " 'split4_test_score': array([0.98222515, 0.97498354, 0.98387097, 0.97761685, 0.9845293 ,\n",
       "        0.98156682, 0.99736669, 0.99802502, 0.99736669, 0.99835418,\n",
       "        0.99802502, 0.99835418, 0.99802502, 0.99901251, 0.99835418,\n",
       "        0.99934167, 0.99868334, 0.99901251, 0.99802502, 0.99901251,\n",
       "        0.99835418, 0.99901251, 0.99868334, 0.99901251]),\n",
       " 'mean_test_score': array([0.97953157, 0.9736739 , 0.98190088, 0.97722788, 0.98216417,\n",
       "        0.97933409, 0.99638021, 0.99684094, 0.9963144 , 0.99730164,\n",
       "        0.99690675, 0.99730164, 0.99677513, 0.99749911, 0.99736745,\n",
       "        0.99782819, 0.9975649 , 0.99789398, 0.99670931, 0.99769655,\n",
       "        0.99743326, 0.99789398, 0.99776234, 0.99789398]),\n",
       " 'std_test_score': array([0.0018292 , 0.00358595, 0.00248783, 0.00321313, 0.00299631,\n",
       "        0.00337679, 0.00075013, 0.00079501, 0.00081647, 0.00084266,\n",
       "        0.0007086 , 0.00091652, 0.00100656, 0.00124164, 0.00065795,\n",
       "        0.00101094, 0.00067742, 0.00096715, 0.0009979 , 0.00104048,\n",
       "        0.00078961, 0.00098928, 0.00070256, 0.000873  ]),\n",
       " 'rank_test_score': array([21, 24, 20, 23, 19, 22, 17, 14, 18, 11, 13, 11, 15,  8, 10,  4,  7,\n",
       "         2, 16,  6,  9,  1,  5,  2], dtype=int32)}"
      ]
     },
     "execution_count": 23,
     "metadata": {},
     "output_type": "execute_result"
    }
   ],
   "source": [
    "model.cv_results_"
   ]
  },
  {
   "cell_type": "code",
   "execution_count": 24,
   "id": "11454d82-e3b1-442d-8108-8df35294c20a",
   "metadata": {},
   "outputs": [
    {
     "data": {
      "text/html": [
       "<div>\n",
       "<style scoped>\n",
       "    .dataframe tbody tr th:only-of-type {\n",
       "        vertical-align: middle;\n",
       "    }\n",
       "\n",
       "    .dataframe tbody tr th {\n",
       "        vertical-align: top;\n",
       "    }\n",
       "\n",
       "    .dataframe thead th {\n",
       "        text-align: right;\n",
       "    }\n",
       "</style>\n",
       "<table border=\"1\" class=\"dataframe\">\n",
       "  <thead>\n",
       "    <tr style=\"text-align: right;\">\n",
       "      <th></th>\n",
       "      <th>mean_fit_time</th>\n",
       "      <th>std_fit_time</th>\n",
       "      <th>mean_score_time</th>\n",
       "      <th>std_score_time</th>\n",
       "      <th>param_randomforestclassifier__max_depth</th>\n",
       "      <th>param_randomforestclassifier__n_estimators</th>\n",
       "      <th>param_simpleimputer__strategy</th>\n",
       "      <th>params</th>\n",
       "      <th>split0_test_score</th>\n",
       "      <th>split1_test_score</th>\n",
       "      <th>split2_test_score</th>\n",
       "      <th>split3_test_score</th>\n",
       "      <th>split4_test_score</th>\n",
       "      <th>mean_test_score</th>\n",
       "      <th>std_test_score</th>\n",
       "      <th>rank_test_score</th>\n",
       "    </tr>\n",
       "  </thead>\n",
       "  <tbody>\n",
       "    <tr>\n",
       "      <th>0</th>\n",
       "      <td>1.003555</td>\n",
       "      <td>0.038568</td>\n",
       "      <td>0.014670</td>\n",
       "      <td>0.008621</td>\n",
       "      <td>10</td>\n",
       "      <td>25</td>\n",
       "      <td>mean</td>\n",
       "      <td>{'randomforestclassifier__max_depth': 10, 'ran...</td>\n",
       "      <td>0.979269</td>\n",
       "      <td>0.977295</td>\n",
       "      <td>0.977953</td>\n",
       "      <td>0.980915</td>\n",
       "      <td>0.982225</td>\n",
       "      <td>0.979532</td>\n",
       "      <td>0.001829</td>\n",
       "      <td>21</td>\n",
       "    </tr>\n",
       "    <tr>\n",
       "      <th>1</th>\n",
       "      <td>1.078364</td>\n",
       "      <td>0.035406</td>\n",
       "      <td>0.012074</td>\n",
       "      <td>0.001718</td>\n",
       "      <td>10</td>\n",
       "      <td>25</td>\n",
       "      <td>median</td>\n",
       "      <td>{'randomforestclassifier__max_depth': 10, 'ran...</td>\n",
       "      <td>0.978611</td>\n",
       "      <td>0.969069</td>\n",
       "      <td>0.975650</td>\n",
       "      <td>0.970056</td>\n",
       "      <td>0.974984</td>\n",
       "      <td>0.973674</td>\n",
       "      <td>0.003586</td>\n",
       "      <td>24</td>\n",
       "    </tr>\n",
       "    <tr>\n",
       "      <th>2</th>\n",
       "      <td>1.943403</td>\n",
       "      <td>0.051859</td>\n",
       "      <td>0.024954</td>\n",
       "      <td>0.007376</td>\n",
       "      <td>10</td>\n",
       "      <td>50</td>\n",
       "      <td>mean</td>\n",
       "      <td>{'randomforestclassifier__max_depth': 10, 'ran...</td>\n",
       "      <td>0.983218</td>\n",
       "      <td>0.979599</td>\n",
       "      <td>0.978282</td>\n",
       "      <td>0.984534</td>\n",
       "      <td>0.983871</td>\n",
       "      <td>0.981901</td>\n",
       "      <td>0.002488</td>\n",
       "      <td>20</td>\n",
       "    </tr>\n",
       "    <tr>\n",
       "      <th>3</th>\n",
       "      <td>1.984070</td>\n",
       "      <td>0.045743</td>\n",
       "      <td>0.021914</td>\n",
       "      <td>0.006559</td>\n",
       "      <td>10</td>\n",
       "      <td>50</td>\n",
       "      <td>median</td>\n",
       "      <td>{'randomforestclassifier__max_depth': 10, 'ran...</td>\n",
       "      <td>0.980257</td>\n",
       "      <td>0.971043</td>\n",
       "      <td>0.978940</td>\n",
       "      <td>0.978282</td>\n",
       "      <td>0.977617</td>\n",
       "      <td>0.977228</td>\n",
       "      <td>0.003213</td>\n",
       "      <td>23</td>\n",
       "    </tr>\n",
       "    <tr>\n",
       "      <th>4</th>\n",
       "      <td>2.776293</td>\n",
       "      <td>0.079095</td>\n",
       "      <td>0.029498</td>\n",
       "      <td>0.003900</td>\n",
       "      <td>10</td>\n",
       "      <td>75</td>\n",
       "      <td>mean</td>\n",
       "      <td>{'randomforestclassifier__max_depth': 10, 'ran...</td>\n",
       "      <td>0.984205</td>\n",
       "      <td>0.980586</td>\n",
       "      <td>0.976966</td>\n",
       "      <td>0.984534</td>\n",
       "      <td>0.984529</td>\n",
       "      <td>0.982164</td>\n",
       "      <td>0.002996</td>\n",
       "      <td>19</td>\n",
       "    </tr>\n",
       "    <tr>\n",
       "      <th>5</th>\n",
       "      <td>2.905376</td>\n",
       "      <td>0.064053</td>\n",
       "      <td>0.030062</td>\n",
       "      <td>0.006157</td>\n",
       "      <td>10</td>\n",
       "      <td>75</td>\n",
       "      <td>median</td>\n",
       "      <td>{'randomforestclassifier__max_depth': 10, 'ran...</td>\n",
       "      <td>0.980915</td>\n",
       "      <td>0.972688</td>\n",
       "      <td>0.981573</td>\n",
       "      <td>0.979928</td>\n",
       "      <td>0.981567</td>\n",
       "      <td>0.979334</td>\n",
       "      <td>0.003377</td>\n",
       "      <td>22</td>\n",
       "    </tr>\n",
       "    <tr>\n",
       "      <th>6</th>\n",
       "      <td>1.078525</td>\n",
       "      <td>0.025606</td>\n",
       "      <td>0.014092</td>\n",
       "      <td>0.002094</td>\n",
       "      <td>20</td>\n",
       "      <td>25</td>\n",
       "      <td>mean</td>\n",
       "      <td>{'randomforestclassifier__max_depth': 20, 'ran...</td>\n",
       "      <td>0.996380</td>\n",
       "      <td>0.997038</td>\n",
       "      <td>0.995722</td>\n",
       "      <td>0.995393</td>\n",
       "      <td>0.997367</td>\n",
       "      <td>0.996380</td>\n",
       "      <td>0.000750</td>\n",
       "      <td>17</td>\n",
       "    </tr>\n",
       "    <tr>\n",
       "      <th>7</th>\n",
       "      <td>1.199057</td>\n",
       "      <td>0.039009</td>\n",
       "      <td>0.013357</td>\n",
       "      <td>0.004127</td>\n",
       "      <td>20</td>\n",
       "      <td>25</td>\n",
       "      <td>median</td>\n",
       "      <td>{'randomforestclassifier__max_depth': 20, 'ran...</td>\n",
       "      <td>0.995722</td>\n",
       "      <td>0.996709</td>\n",
       "      <td>0.997368</td>\n",
       "      <td>0.996380</td>\n",
       "      <td>0.998025</td>\n",
       "      <td>0.996841</td>\n",
       "      <td>0.000795</td>\n",
       "      <td>14</td>\n",
       "    </tr>\n",
       "    <tr>\n",
       "      <th>8</th>\n",
       "      <td>2.209300</td>\n",
       "      <td>0.015998</td>\n",
       "      <td>0.021985</td>\n",
       "      <td>0.002867</td>\n",
       "      <td>20</td>\n",
       "      <td>50</td>\n",
       "      <td>mean</td>\n",
       "      <td>{'randomforestclassifier__max_depth': 20, 'ran...</td>\n",
       "      <td>0.996709</td>\n",
       "      <td>0.996709</td>\n",
       "      <td>0.995722</td>\n",
       "      <td>0.995064</td>\n",
       "      <td>0.997367</td>\n",
       "      <td>0.996314</td>\n",
       "      <td>0.000816</td>\n",
       "      <td>18</td>\n",
       "    </tr>\n",
       "    <tr>\n",
       "      <th>9</th>\n",
       "      <td>2.411177</td>\n",
       "      <td>0.112402</td>\n",
       "      <td>0.025450</td>\n",
       "      <td>0.006599</td>\n",
       "      <td>20</td>\n",
       "      <td>50</td>\n",
       "      <td>median</td>\n",
       "      <td>{'randomforestclassifier__max_depth': 20, 'ran...</td>\n",
       "      <td>0.996051</td>\n",
       "      <td>0.997368</td>\n",
       "      <td>0.998026</td>\n",
       "      <td>0.996709</td>\n",
       "      <td>0.998354</td>\n",
       "      <td>0.997302</td>\n",
       "      <td>0.000843</td>\n",
       "      <td>11</td>\n",
       "    </tr>\n",
       "  </tbody>\n",
       "</table>\n",
       "</div>"
      ],
      "text/plain": [
       "   mean_fit_time  std_fit_time  mean_score_time  std_score_time  \\\n",
       "0       1.003555      0.038568         0.014670        0.008621   \n",
       "1       1.078364      0.035406         0.012074        0.001718   \n",
       "2       1.943403      0.051859         0.024954        0.007376   \n",
       "3       1.984070      0.045743         0.021914        0.006559   \n",
       "4       2.776293      0.079095         0.029498        0.003900   \n",
       "5       2.905376      0.064053         0.030062        0.006157   \n",
       "6       1.078525      0.025606         0.014092        0.002094   \n",
       "7       1.199057      0.039009         0.013357        0.004127   \n",
       "8       2.209300      0.015998         0.021985        0.002867   \n",
       "9       2.411177      0.112402         0.025450        0.006599   \n",
       "\n",
       "  param_randomforestclassifier__max_depth  \\\n",
       "0                                      10   \n",
       "1                                      10   \n",
       "2                                      10   \n",
       "3                                      10   \n",
       "4                                      10   \n",
       "5                                      10   \n",
       "6                                      20   \n",
       "7                                      20   \n",
       "8                                      20   \n",
       "9                                      20   \n",
       "\n",
       "  param_randomforestclassifier__n_estimators param_simpleimputer__strategy  \\\n",
       "0                                         25                          mean   \n",
       "1                                         25                        median   \n",
       "2                                         50                          mean   \n",
       "3                                         50                        median   \n",
       "4                                         75                          mean   \n",
       "5                                         75                        median   \n",
       "6                                         25                          mean   \n",
       "7                                         25                        median   \n",
       "8                                         50                          mean   \n",
       "9                                         50                        median   \n",
       "\n",
       "                                              params  split0_test_score  \\\n",
       "0  {'randomforestclassifier__max_depth': 10, 'ran...           0.979269   \n",
       "1  {'randomforestclassifier__max_depth': 10, 'ran...           0.978611   \n",
       "2  {'randomforestclassifier__max_depth': 10, 'ran...           0.983218   \n",
       "3  {'randomforestclassifier__max_depth': 10, 'ran...           0.980257   \n",
       "4  {'randomforestclassifier__max_depth': 10, 'ran...           0.984205   \n",
       "5  {'randomforestclassifier__max_depth': 10, 'ran...           0.980915   \n",
       "6  {'randomforestclassifier__max_depth': 20, 'ran...           0.996380   \n",
       "7  {'randomforestclassifier__max_depth': 20, 'ran...           0.995722   \n",
       "8  {'randomforestclassifier__max_depth': 20, 'ran...           0.996709   \n",
       "9  {'randomforestclassifier__max_depth': 20, 'ran...           0.996051   \n",
       "\n",
       "   split1_test_score  split2_test_score  split3_test_score  split4_test_score  \\\n",
       "0           0.977295           0.977953           0.980915           0.982225   \n",
       "1           0.969069           0.975650           0.970056           0.974984   \n",
       "2           0.979599           0.978282           0.984534           0.983871   \n",
       "3           0.971043           0.978940           0.978282           0.977617   \n",
       "4           0.980586           0.976966           0.984534           0.984529   \n",
       "5           0.972688           0.981573           0.979928           0.981567   \n",
       "6           0.997038           0.995722           0.995393           0.997367   \n",
       "7           0.996709           0.997368           0.996380           0.998025   \n",
       "8           0.996709           0.995722           0.995064           0.997367   \n",
       "9           0.997368           0.998026           0.996709           0.998354   \n",
       "\n",
       "   mean_test_score  std_test_score  rank_test_score  \n",
       "0         0.979532        0.001829               21  \n",
       "1         0.973674        0.003586               24  \n",
       "2         0.981901        0.002488               20  \n",
       "3         0.977228        0.003213               23  \n",
       "4         0.982164        0.002996               19  \n",
       "5         0.979334        0.003377               22  \n",
       "6         0.996380        0.000750               17  \n",
       "7         0.996841        0.000795               14  \n",
       "8         0.996314        0.000816               18  \n",
       "9         0.997302        0.000843               11  "
      ]
     },
     "execution_count": 24,
     "metadata": {},
     "output_type": "execute_result"
    }
   ],
   "source": [
    "cv_results = pd.DataFrame(model.cv_results_)\n",
    "cv_results.head(10)"
   ]
  },
  {
   "cell_type": "markdown",
   "id": "b6f0405d-c51e-4057-9256-58547984f48c",
   "metadata": {},
   "source": [
    "In addition to the accuracy scores for all the different models I tried during my grid search, I can see how long it took each model to train. I'll take a closer look at how different hyperparameter settings affect training time. \n",
    "\n",
    "First, I'll look at `n_estimators`. My grid search evaluated this hyperparameter for various `max_depth` settings, but I'll only look at models where `max_depth` equals 10."
   ]
  },
  {
   "cell_type": "markdown",
   "id": "98fe8804-4ae8-4a7f-a671-cf05ea7d003c",
   "metadata": {},
   "source": [
    "**Training Time vs N Estimators**"
   ]
  },
  {
   "cell_type": "code",
   "execution_count": 25,
   "id": "890b9380-d2c7-42cf-a015-759d4882bceb",
   "metadata": {},
   "outputs": [
    {
     "data": {
      "image/png": "[encoded data removed]",
      "text/plain": [
       "<Figure size 432x288 with 1 Axes>"
      ]
     },
     "metadata": {
      "needs_background": "light"
     },
     "output_type": "display_data"
    }
   ],
   "source": [
    "# Create mask\n",
    "mask = cv_results[\"param_randomforestclassifier__max_depth\"] == 10\n",
    "# Plot fit time vs n_estimators\n",
    "plt.plot(\n",
    "    cv_results[mask][\"param_randomforestclassifier__n_estimators\"],\n",
    "    cv_results[mask][\"mean_fit_time\"]\n",
    ")\n",
    "# Label axes\n",
    "plt.xlabel(\"Number of Estimators\")\n",
    "plt.ylabel(\"Mean Fit Time [seconds]\")\n",
    "plt.title(\"Training Time vs Estimators (max_depth=10)\");"
   ]
  },
  {
   "cell_type": "markdown",
   "id": "5724f0f4-bbc5-40a5-b660-9a376e7f03e4",
   "metadata": {},
   "source": [
    "I'll create a mask for `cv_results` for rows where `\"param_randomforestclassifier__max_depth\"` equals 10. Then plot `\"param_randomforestclassifier__n_estimators\"` on the x-axis and `\"mean_fit_time\"` on the y-axis. "
   ]
  },
  {
   "cell_type": "code",
   "execution_count": 26,
   "id": "2ef23fdb-e8b4-49aa-a304-4c95d543efe4",
   "metadata": {},
   "outputs": [
    {
     "data": {
      "text/plain": [
       "0      True\n",
       "1      True\n",
       "2      True\n",
       "3      True\n",
       "4      True\n",
       "5      True\n",
       "6     False\n",
       "7     False\n",
       "8     False\n",
       "9     False\n",
       "10    False\n",
       "11    False\n",
       "12    False\n",
       "13    False\n",
       "14    False\n",
       "15    False\n",
       "16    False\n",
       "17    False\n",
       "18    False\n",
       "19    False\n",
       "20    False\n",
       "21    False\n",
       "22    False\n",
       "23    False\n",
       "Name: param_randomforestclassifier__max_depth, dtype: bool"
      ]
     },
     "execution_count": 26,
     "metadata": {},
     "output_type": "execute_result"
    }
   ],
   "source": [
    "cv_results[\"param_randomforestclassifier__max_depth\"] == 10"
   ]
  },
  {
   "cell_type": "code",
   "execution_count": 27,
   "id": "e193d176-511f-4026-861b-20f96aa1f5af",
   "metadata": {},
   "outputs": [
    {
     "data": {
      "text/html": [
       "<div>\n",
       "<style scoped>\n",
       "    .dataframe tbody tr th:only-of-type {\n",
       "        vertical-align: middle;\n",
       "    }\n",
       "\n",
       "    .dataframe tbody tr th {\n",
       "        vertical-align: top;\n",
       "    }\n",
       "\n",
       "    .dataframe thead th {\n",
       "        text-align: right;\n",
       "    }\n",
       "</style>\n",
       "<table border=\"1\" class=\"dataframe\">\n",
       "  <thead>\n",
       "    <tr style=\"text-align: right;\">\n",
       "      <th></th>\n",
       "      <th>mean_fit_time</th>\n",
       "      <th>std_fit_time</th>\n",
       "      <th>mean_score_time</th>\n",
       "      <th>std_score_time</th>\n",
       "      <th>param_randomforestclassifier__max_depth</th>\n",
       "      <th>param_randomforestclassifier__n_estimators</th>\n",
       "      <th>param_simpleimputer__strategy</th>\n",
       "      <th>params</th>\n",
       "      <th>split0_test_score</th>\n",
       "      <th>split1_test_score</th>\n",
       "      <th>split2_test_score</th>\n",
       "      <th>split3_test_score</th>\n",
       "      <th>split4_test_score</th>\n",
       "      <th>mean_test_score</th>\n",
       "      <th>std_test_score</th>\n",
       "      <th>rank_test_score</th>\n",
       "    </tr>\n",
       "  </thead>\n",
       "  <tbody>\n",
       "    <tr>\n",
       "      <th>0</th>\n",
       "      <td>1.003555</td>\n",
       "      <td>0.038568</td>\n",
       "      <td>0.014670</td>\n",
       "      <td>0.008621</td>\n",
       "      <td>10</td>\n",
       "      <td>25</td>\n",
       "      <td>mean</td>\n",
       "      <td>{'randomforestclassifier__max_depth': 10, 'ran...</td>\n",
       "      <td>0.979269</td>\n",
       "      <td>0.977295</td>\n",
       "      <td>0.977953</td>\n",
       "      <td>0.980915</td>\n",
       "      <td>0.982225</td>\n",
       "      <td>0.979532</td>\n",
       "      <td>0.001829</td>\n",
       "      <td>21</td>\n",
       "    </tr>\n",
       "    <tr>\n",
       "      <th>1</th>\n",
       "      <td>1.078364</td>\n",
       "      <td>0.035406</td>\n",
       "      <td>0.012074</td>\n",
       "      <td>0.001718</td>\n",
       "      <td>10</td>\n",
       "      <td>25</td>\n",
       "      <td>median</td>\n",
       "      <td>{'randomforestclassifier__max_depth': 10, 'ran...</td>\n",
       "      <td>0.978611</td>\n",
       "      <td>0.969069</td>\n",
       "      <td>0.975650</td>\n",
       "      <td>0.970056</td>\n",
       "      <td>0.974984</td>\n",
       "      <td>0.973674</td>\n",
       "      <td>0.003586</td>\n",
       "      <td>24</td>\n",
       "    </tr>\n",
       "    <tr>\n",
       "      <th>2</th>\n",
       "      <td>1.943403</td>\n",
       "      <td>0.051859</td>\n",
       "      <td>0.024954</td>\n",
       "      <td>0.007376</td>\n",
       "      <td>10</td>\n",
       "      <td>50</td>\n",
       "      <td>mean</td>\n",
       "      <td>{'randomforestclassifier__max_depth': 10, 'ran...</td>\n",
       "      <td>0.983218</td>\n",
       "      <td>0.979599</td>\n",
       "      <td>0.978282</td>\n",
       "      <td>0.984534</td>\n",
       "      <td>0.983871</td>\n",
       "      <td>0.981901</td>\n",
       "      <td>0.002488</td>\n",
       "      <td>20</td>\n",
       "    </tr>\n",
       "    <tr>\n",
       "      <th>3</th>\n",
       "      <td>1.984070</td>\n",
       "      <td>0.045743</td>\n",
       "      <td>0.021914</td>\n",
       "      <td>0.006559</td>\n",
       "      <td>10</td>\n",
       "      <td>50</td>\n",
       "      <td>median</td>\n",
       "      <td>{'randomforestclassifier__max_depth': 10, 'ran...</td>\n",
       "      <td>0.980257</td>\n",
       "      <td>0.971043</td>\n",
       "      <td>0.978940</td>\n",
       "      <td>0.978282</td>\n",
       "      <td>0.977617</td>\n",
       "      <td>0.977228</td>\n",
       "      <td>0.003213</td>\n",
       "      <td>23</td>\n",
       "    </tr>\n",
       "    <tr>\n",
       "      <th>4</th>\n",
       "      <td>2.776293</td>\n",
       "      <td>0.079095</td>\n",
       "      <td>0.029498</td>\n",
       "      <td>0.003900</td>\n",
       "      <td>10</td>\n",
       "      <td>75</td>\n",
       "      <td>mean</td>\n",
       "      <td>{'randomforestclassifier__max_depth': 10, 'ran...</td>\n",
       "      <td>0.984205</td>\n",
       "      <td>0.980586</td>\n",
       "      <td>0.976966</td>\n",
       "      <td>0.984534</td>\n",
       "      <td>0.984529</td>\n",
       "      <td>0.982164</td>\n",
       "      <td>0.002996</td>\n",
       "      <td>19</td>\n",
       "    </tr>\n",
       "    <tr>\n",
       "      <th>5</th>\n",
       "      <td>2.905376</td>\n",
       "      <td>0.064053</td>\n",
       "      <td>0.030062</td>\n",
       "      <td>0.006157</td>\n",
       "      <td>10</td>\n",
       "      <td>75</td>\n",
       "      <td>median</td>\n",
       "      <td>{'randomforestclassifier__max_depth': 10, 'ran...</td>\n",
       "      <td>0.980915</td>\n",
       "      <td>0.972688</td>\n",
       "      <td>0.981573</td>\n",
       "      <td>0.979928</td>\n",
       "      <td>0.981567</td>\n",
       "      <td>0.979334</td>\n",
       "      <td>0.003377</td>\n",
       "      <td>22</td>\n",
       "    </tr>\n",
       "  </tbody>\n",
       "</table>\n",
       "</div>"
      ],
      "text/plain": [
       "   mean_fit_time  std_fit_time  mean_score_time  std_score_time  \\\n",
       "0       1.003555      0.038568         0.014670        0.008621   \n",
       "1       1.078364      0.035406         0.012074        0.001718   \n",
       "2       1.943403      0.051859         0.024954        0.007376   \n",
       "3       1.984070      0.045743         0.021914        0.006559   \n",
       "4       2.776293      0.079095         0.029498        0.003900   \n",
       "5       2.905376      0.064053         0.030062        0.006157   \n",
       "\n",
       "  param_randomforestclassifier__max_depth  \\\n",
       "0                                      10   \n",
       "1                                      10   \n",
       "2                                      10   \n",
       "3                                      10   \n",
       "4                                      10   \n",
       "5                                      10   \n",
       "\n",
       "  param_randomforestclassifier__n_estimators param_simpleimputer__strategy  \\\n",
       "0                                         25                          mean   \n",
       "1                                         25                        median   \n",
       "2                                         50                          mean   \n",
       "3                                         50                        median   \n",
       "4                                         75                          mean   \n",
       "5                                         75                        median   \n",
       "\n",
       "                                              params  split0_test_score  \\\n",
       "0  {'randomforestclassifier__max_depth': 10, 'ran...           0.979269   \n",
       "1  {'randomforestclassifier__max_depth': 10, 'ran...           0.978611   \n",
       "2  {'randomforestclassifier__max_depth': 10, 'ran...           0.983218   \n",
       "3  {'randomforestclassifier__max_depth': 10, 'ran...           0.980257   \n",
       "4  {'randomforestclassifier__max_depth': 10, 'ran...           0.984205   \n",
       "5  {'randomforestclassifier__max_depth': 10, 'ran...           0.980915   \n",
       "\n",
       "   split1_test_score  split2_test_score  split3_test_score  split4_test_score  \\\n",
       "0           0.977295           0.977953           0.980915           0.982225   \n",
       "1           0.969069           0.975650           0.970056           0.974984   \n",
       "2           0.979599           0.978282           0.984534           0.983871   \n",
       "3           0.971043           0.978940           0.978282           0.977617   \n",
       "4           0.980586           0.976966           0.984534           0.984529   \n",
       "5           0.972688           0.981573           0.979928           0.981567   \n",
       "\n",
       "   mean_test_score  std_test_score  rank_test_score  \n",
       "0         0.979532        0.001829               21  \n",
       "1         0.973674        0.003586               24  \n",
       "2         0.981901        0.002488               20  \n",
       "3         0.977228        0.003213               23  \n",
       "4         0.982164        0.002996               19  \n",
       "5         0.979334        0.003377               22  "
      ]
     },
     "execution_count": 27,
     "metadata": {},
     "output_type": "execute_result"
    }
   ],
   "source": [
    "mask = cv_results[\"param_randomforestclassifier__max_depth\"] == 10\n",
    "cv_results[mask]"
   ]
  },
  {
   "cell_type": "code",
   "execution_count": 28,
   "id": "c14e4d95-e6ec-4b0a-a998-52515d3cc243",
   "metadata": {},
   "outputs": [
    {
     "data": {
      "image/png": "[encoded data removed]",
      "text/plain": [
       "<Figure size 432x288 with 1 Axes>"
      ]
     },
     "metadata": {
      "needs_background": "light"
     },
     "output_type": "display_data"
    }
   ],
   "source": [
    "# Create mask\n",
    "mask = cv_results[\"param_randomforestclassifier__max_depth\"] == 10\n",
    "# Plot fit time vs n_estimators\n",
    "plt.plot(\n",
    "    cv_results[mask][\"param_randomforestclassifier__n_estimators\"],\n",
    "    cv_results[mask][\"mean_fit_time\"]\n",
    ")\n",
    "# Label axes\n",
    "plt.xlabel(\"Number of Estimators\")\n",
    "plt.ylabel(\"Mean Fit Time [seconds]\")\n",
    "plt.title(\"Training Time vs Estimators (max_depth=10)\");"
   ]
  },
  {
   "cell_type": "markdown",
   "id": "7617022a-87f6-4bd8-9a61-54f68b070461",
   "metadata": {},
   "source": [
    "Next, I'll look at `max_depth`. Here, I'll also limit my data to rows where `n_estimators` equals 25."
   ]
  },
  {
   "cell_type": "markdown",
   "id": "a9bc6311-32ca-46f4-883a-ba216f40a0c3",
   "metadata": {},
   "source": [
    "**Training Time vs Max Depth**"
   ]
  },
  {
   "cell_type": "markdown",
   "id": "b8746250-aaba-44e8-9cad-51433d7327b9",
   "metadata": {},
   "source": [
    "I'll create a mask for `cv_results` for rows where `\"param_randomforestclassifier__n_estimators\"` equals 25. Then plot `\"param_randomforestclassifier__max_depth\"` on the x-axis and `\"mean_fit_time\"` on the y-axis. "
   ]
  },
  {
   "cell_type": "code",
   "execution_count": 29,
   "id": "c7fc65ea-ec71-409d-ae0d-2ed0b415c47b",
   "metadata": {},
   "outputs": [
    {
     "data": {
      "image/png": "[encoded data removed]",
      "text/plain": [
       "<Figure size 432x288 with 1 Axes>"
      ]
     },
     "metadata": {
      "needs_background": "light"
     },
     "output_type": "display_data"
    }
   ],
   "source": [
    "# Create mask\n",
    "mask = cv_results[\"param_randomforestclassifier__n_estimators\"] == 25\n",
    "\n",
    "# Plot fit time vs max_depth\n",
    "plt.plot(\n",
    "    cv_results[mask][\"param_randomforestclassifier__max_depth\"],\n",
    "    cv_results[mask][\"mean_fit_time\"]\n",
    "\n",
    ")\n",
    "\n",
    "# Label axes\n",
    "plt.xlabel(\"Max Depth\")\n",
    "plt.ylabel(\"Mean Fit Time [seconds]\")\n",
    "plt.title(\"Training Time vs Max Depth (n_estimators=25)\");"
   ]
  },
  {
   "cell_type": "code",
   "execution_count": 30,
   "id": "c1acd946-e522-4725-aee2-a159f31d427c",
   "metadata": {},
   "outputs": [
    {
     "data": {
      "text/html": [
       "<div>\n",
       "<style scoped>\n",
       "    .dataframe tbody tr th:only-of-type {\n",
       "        vertical-align: middle;\n",
       "    }\n",
       "\n",
       "    .dataframe tbody tr th {\n",
       "        vertical-align: top;\n",
       "    }\n",
       "\n",
       "    .dataframe thead th {\n",
       "        text-align: right;\n",
       "    }\n",
       "</style>\n",
       "<table border=\"1\" class=\"dataframe\">\n",
       "  <thead>\n",
       "    <tr style=\"text-align: right;\">\n",
       "      <th></th>\n",
       "      <th>mean_fit_time</th>\n",
       "      <th>std_fit_time</th>\n",
       "      <th>mean_score_time</th>\n",
       "      <th>std_score_time</th>\n",
       "      <th>param_randomforestclassifier__max_depth</th>\n",
       "      <th>param_randomforestclassifier__n_estimators</th>\n",
       "      <th>param_simpleimputer__strategy</th>\n",
       "      <th>params</th>\n",
       "      <th>split0_test_score</th>\n",
       "      <th>split1_test_score</th>\n",
       "      <th>split2_test_score</th>\n",
       "      <th>split3_test_score</th>\n",
       "      <th>split4_test_score</th>\n",
       "      <th>mean_test_score</th>\n",
       "      <th>std_test_score</th>\n",
       "      <th>rank_test_score</th>\n",
       "    </tr>\n",
       "  </thead>\n",
       "  <tbody>\n",
       "    <tr>\n",
       "      <th>0</th>\n",
       "      <td>1.003555</td>\n",
       "      <td>0.038568</td>\n",
       "      <td>0.014670</td>\n",
       "      <td>0.008621</td>\n",
       "      <td>10</td>\n",
       "      <td>25</td>\n",
       "      <td>mean</td>\n",
       "      <td>{'randomforestclassifier__max_depth': 10, 'ran...</td>\n",
       "      <td>0.979269</td>\n",
       "      <td>0.977295</td>\n",
       "      <td>0.977953</td>\n",
       "      <td>0.980915</td>\n",
       "      <td>0.982225</td>\n",
       "      <td>0.979532</td>\n",
       "      <td>0.001829</td>\n",
       "      <td>21</td>\n",
       "    </tr>\n",
       "    <tr>\n",
       "      <th>1</th>\n",
       "      <td>1.078364</td>\n",
       "      <td>0.035406</td>\n",
       "      <td>0.012074</td>\n",
       "      <td>0.001718</td>\n",
       "      <td>10</td>\n",
       "      <td>25</td>\n",
       "      <td>median</td>\n",
       "      <td>{'randomforestclassifier__max_depth': 10, 'ran...</td>\n",
       "      <td>0.978611</td>\n",
       "      <td>0.969069</td>\n",
       "      <td>0.975650</td>\n",
       "      <td>0.970056</td>\n",
       "      <td>0.974984</td>\n",
       "      <td>0.973674</td>\n",
       "      <td>0.003586</td>\n",
       "      <td>24</td>\n",
       "    </tr>\n",
       "    <tr>\n",
       "      <th>6</th>\n",
       "      <td>1.078525</td>\n",
       "      <td>0.025606</td>\n",
       "      <td>0.014092</td>\n",
       "      <td>0.002094</td>\n",
       "      <td>20</td>\n",
       "      <td>25</td>\n",
       "      <td>mean</td>\n",
       "      <td>{'randomforestclassifier__max_depth': 20, 'ran...</td>\n",
       "      <td>0.996380</td>\n",
       "      <td>0.997038</td>\n",
       "      <td>0.995722</td>\n",
       "      <td>0.995393</td>\n",
       "      <td>0.997367</td>\n",
       "      <td>0.996380</td>\n",
       "      <td>0.000750</td>\n",
       "      <td>17</td>\n",
       "    </tr>\n",
       "    <tr>\n",
       "      <th>7</th>\n",
       "      <td>1.199057</td>\n",
       "      <td>0.039009</td>\n",
       "      <td>0.013357</td>\n",
       "      <td>0.004127</td>\n",
       "      <td>20</td>\n",
       "      <td>25</td>\n",
       "      <td>median</td>\n",
       "      <td>{'randomforestclassifier__max_depth': 20, 'ran...</td>\n",
       "      <td>0.995722</td>\n",
       "      <td>0.996709</td>\n",
       "      <td>0.997368</td>\n",
       "      <td>0.996380</td>\n",
       "      <td>0.998025</td>\n",
       "      <td>0.996841</td>\n",
       "      <td>0.000795</td>\n",
       "      <td>14</td>\n",
       "    </tr>\n",
       "    <tr>\n",
       "      <th>12</th>\n",
       "      <td>1.086209</td>\n",
       "      <td>0.021435</td>\n",
       "      <td>0.011579</td>\n",
       "      <td>0.001857</td>\n",
       "      <td>30</td>\n",
       "      <td>25</td>\n",
       "      <td>mean</td>\n",
       "      <td>{'randomforestclassifier__max_depth': 30, 'ran...</td>\n",
       "      <td>0.996380</td>\n",
       "      <td>0.997038</td>\n",
       "      <td>0.997368</td>\n",
       "      <td>0.995064</td>\n",
       "      <td>0.998025</td>\n",
       "      <td>0.996775</td>\n",
       "      <td>0.001007</td>\n",
       "      <td>15</td>\n",
       "    </tr>\n",
       "    <tr>\n",
       "      <th>13</th>\n",
       "      <td>1.152164</td>\n",
       "      <td>0.027099</td>\n",
       "      <td>0.013668</td>\n",
       "      <td>0.002114</td>\n",
       "      <td>30</td>\n",
       "      <td>25</td>\n",
       "      <td>median</td>\n",
       "      <td>{'randomforestclassifier__max_depth': 30, 'ran...</td>\n",
       "      <td>0.996380</td>\n",
       "      <td>0.996709</td>\n",
       "      <td>0.999013</td>\n",
       "      <td>0.996380</td>\n",
       "      <td>0.999013</td>\n",
       "      <td>0.997499</td>\n",
       "      <td>0.001242</td>\n",
       "      <td>8</td>\n",
       "    </tr>\n",
       "    <tr>\n",
       "      <th>18</th>\n",
       "      <td>1.061767</td>\n",
       "      <td>0.006735</td>\n",
       "      <td>0.012821</td>\n",
       "      <td>0.002086</td>\n",
       "      <td>40</td>\n",
       "      <td>25</td>\n",
       "      <td>mean</td>\n",
       "      <td>{'randomforestclassifier__max_depth': 40, 'ran...</td>\n",
       "      <td>0.996380</td>\n",
       "      <td>0.996709</td>\n",
       "      <td>0.997368</td>\n",
       "      <td>0.995064</td>\n",
       "      <td>0.998025</td>\n",
       "      <td>0.996709</td>\n",
       "      <td>0.000998</td>\n",
       "      <td>16</td>\n",
       "    </tr>\n",
       "    <tr>\n",
       "      <th>19</th>\n",
       "      <td>1.179547</td>\n",
       "      <td>0.018770</td>\n",
       "      <td>0.013024</td>\n",
       "      <td>0.001783</td>\n",
       "      <td>40</td>\n",
       "      <td>25</td>\n",
       "      <td>median</td>\n",
       "      <td>{'randomforestclassifier__max_depth': 40, 'ran...</td>\n",
       "      <td>0.996380</td>\n",
       "      <td>0.997697</td>\n",
       "      <td>0.998684</td>\n",
       "      <td>0.996709</td>\n",
       "      <td>0.999013</td>\n",
       "      <td>0.997697</td>\n",
       "      <td>0.001040</td>\n",
       "      <td>6</td>\n",
       "    </tr>\n",
       "  </tbody>\n",
       "</table>\n",
       "</div>"
      ],
      "text/plain": [
       "    mean_fit_time  std_fit_time  mean_score_time  std_score_time  \\\n",
       "0        1.003555      0.038568         0.014670        0.008621   \n",
       "1        1.078364      0.035406         0.012074        0.001718   \n",
       "6        1.078525      0.025606         0.014092        0.002094   \n",
       "7        1.199057      0.039009         0.013357        0.004127   \n",
       "12       1.086209      0.021435         0.011579        0.001857   \n",
       "13       1.152164      0.027099         0.013668        0.002114   \n",
       "18       1.061767      0.006735         0.012821        0.002086   \n",
       "19       1.179547      0.018770         0.013024        0.001783   \n",
       "\n",
       "   param_randomforestclassifier__max_depth  \\\n",
       "0                                       10   \n",
       "1                                       10   \n",
       "6                                       20   \n",
       "7                                       20   \n",
       "12                                      30   \n",
       "13                                      30   \n",
       "18                                      40   \n",
       "19                                      40   \n",
       "\n",
       "   param_randomforestclassifier__n_estimators param_simpleimputer__strategy  \\\n",
       "0                                          25                          mean   \n",
       "1                                          25                        median   \n",
       "6                                          25                          mean   \n",
       "7                                          25                        median   \n",
       "12                                         25                          mean   \n",
       "13                                         25                        median   \n",
       "18                                         25                          mean   \n",
       "19                                         25                        median   \n",
       "\n",
       "                                               params  split0_test_score  \\\n",
       "0   {'randomforestclassifier__max_depth': 10, 'ran...           0.979269   \n",
       "1   {'randomforestclassifier__max_depth': 10, 'ran...           0.978611   \n",
       "6   {'randomforestclassifier__max_depth': 20, 'ran...           0.996380   \n",
       "7   {'randomforestclassifier__max_depth': 20, 'ran...           0.995722   \n",
       "12  {'randomforestclassifier__max_depth': 30, 'ran...           0.996380   \n",
       "13  {'randomforestclassifier__max_depth': 30, 'ran...           0.996380   \n",
       "18  {'randomforestclassifier__max_depth': 40, 'ran...           0.996380   \n",
       "19  {'randomforestclassifier__max_depth': 40, 'ran...           0.996380   \n",
       "\n",
       "    split1_test_score  split2_test_score  split3_test_score  \\\n",
       "0            0.977295           0.977953           0.980915   \n",
       "1            0.969069           0.975650           0.970056   \n",
       "6            0.997038           0.995722           0.995393   \n",
       "7            0.996709           0.997368           0.996380   \n",
       "12           0.997038           0.997368           0.995064   \n",
       "13           0.996709           0.999013           0.996380   \n",
       "18           0.996709           0.997368           0.995064   \n",
       "19           0.997697           0.998684           0.996709   \n",
       "\n",
       "    split4_test_score  mean_test_score  std_test_score  rank_test_score  \n",
       "0            0.982225         0.979532        0.001829               21  \n",
       "1            0.974984         0.973674        0.003586               24  \n",
       "6            0.997367         0.996380        0.000750               17  \n",
       "7            0.998025         0.996841        0.000795               14  \n",
       "12           0.998025         0.996775        0.001007               15  \n",
       "13           0.999013         0.997499        0.001242                8  \n",
       "18           0.998025         0.996709        0.000998               16  \n",
       "19           0.999013         0.997697        0.001040                6  "
      ]
     },
     "execution_count": 30,
     "metadata": {},
     "output_type": "execute_result"
    }
   ],
   "source": [
    "cv_results[mask]"
   ]
  },
  {
   "cell_type": "code",
   "execution_count": 31,
   "id": "a4a384fa-44e0-4fa2-ac2f-f2ad712d47ec",
   "metadata": {},
   "outputs": [
    {
     "data": {
      "text/html": [
       "<div>\n",
       "<style scoped>\n",
       "    .dataframe tbody tr th:only-of-type {\n",
       "        vertical-align: middle;\n",
       "    }\n",
       "\n",
       "    .dataframe tbody tr th {\n",
       "        vertical-align: top;\n",
       "    }\n",
       "\n",
       "    .dataframe thead th {\n",
       "        text-align: right;\n",
       "    }\n",
       "</style>\n",
       "<table border=\"1\" class=\"dataframe\">\n",
       "  <thead>\n",
       "    <tr style=\"text-align: right;\">\n",
       "      <th></th>\n",
       "      <th>mean_fit_time</th>\n",
       "      <th>param_randomforestclassifier__max_depth</th>\n",
       "      <th>param_simpleimputer__strategy</th>\n",
       "    </tr>\n",
       "  </thead>\n",
       "  <tbody>\n",
       "    <tr>\n",
       "      <th>0</th>\n",
       "      <td>1.003555</td>\n",
       "      <td>10</td>\n",
       "      <td>mean</td>\n",
       "    </tr>\n",
       "    <tr>\n",
       "      <th>1</th>\n",
       "      <td>1.078364</td>\n",
       "      <td>10</td>\n",
       "      <td>median</td>\n",
       "    </tr>\n",
       "    <tr>\n",
       "      <th>6</th>\n",
       "      <td>1.078525</td>\n",
       "      <td>20</td>\n",
       "      <td>mean</td>\n",
       "    </tr>\n",
       "    <tr>\n",
       "      <th>7</th>\n",
       "      <td>1.199057</td>\n",
       "      <td>20</td>\n",
       "      <td>median</td>\n",
       "    </tr>\n",
       "    <tr>\n",
       "      <th>12</th>\n",
       "      <td>1.086209</td>\n",
       "      <td>30</td>\n",
       "      <td>mean</td>\n",
       "    </tr>\n",
       "    <tr>\n",
       "      <th>13</th>\n",
       "      <td>1.152164</td>\n",
       "      <td>30</td>\n",
       "      <td>median</td>\n",
       "    </tr>\n",
       "    <tr>\n",
       "      <th>18</th>\n",
       "      <td>1.061767</td>\n",
       "      <td>40</td>\n",
       "      <td>mean</td>\n",
       "    </tr>\n",
       "    <tr>\n",
       "      <th>19</th>\n",
       "      <td>1.179547</td>\n",
       "      <td>40</td>\n",
       "      <td>median</td>\n",
       "    </tr>\n",
       "  </tbody>\n",
       "</table>\n",
       "</div>"
      ],
      "text/plain": [
       "    mean_fit_time param_randomforestclassifier__max_depth  \\\n",
       "0        1.003555                                      10   \n",
       "1        1.078364                                      10   \n",
       "6        1.078525                                      20   \n",
       "7        1.199057                                      20   \n",
       "12       1.086209                                      30   \n",
       "13       1.152164                                      30   \n",
       "18       1.061767                                      40   \n",
       "19       1.179547                                      40   \n",
       "\n",
       "   param_simpleimputer__strategy  \n",
       "0                           mean  \n",
       "1                         median  \n",
       "6                           mean  \n",
       "7                         median  \n",
       "12                          mean  \n",
       "13                        median  \n",
       "18                          mean  \n",
       "19                        median  "
      ]
     },
     "execution_count": 31,
     "metadata": {},
     "output_type": "execute_result"
    }
   ],
   "source": [
    "cv_results[mask][[\"mean_fit_time\", \"param_randomforestclassifier__max_depth\", \"param_simpleimputer__strategy\"]]"
   ]
  },
  {
   "cell_type": "markdown",
   "id": "eca0aa50-0671-4ead-8849-af0ca35b2095",
   "metadata": {},
   "source": [
    "There's a general upwards trend, but I see a lot of up-and-down here. That's because for each max depth, grid search tries two different imputation strategies: mean and median. Median is a lot faster to calculate, so that speeds up training time. \n",
    "\n",
    "Finally, I'll look at the hyperparameters that led to the best performance. "
   ]
  },
  {
   "cell_type": "markdown",
   "id": "772c0c46-3feb-416c-a9ec-bc35e002b0b6",
   "metadata": {},
   "source": [
    "**Extract Best Hyperparameters**"
   ]
  },
  {
   "cell_type": "markdown",
   "id": "ac044149-f85f-4bb3-a848-123f5bbfbc92",
   "metadata": {},
   "source": [
    "I'll extract the best hyperparameters from `model`."
   ]
  },
  {
   "cell_type": "code",
   "execution_count": 32,
   "id": "cfa3abde-5166-43fd-a1aa-0b55ee5d2aba",
   "metadata": {},
   "outputs": [
    {
     "data": {
      "text/plain": [
       "{'randomforestclassifier__max_depth': 40,\n",
       " 'randomforestclassifier__n_estimators': 50,\n",
       " 'simpleimputer__strategy': 'median'}"
      ]
     },
     "execution_count": 32,
     "metadata": {},
     "output_type": "execute_result"
    }
   ],
   "source": [
    "# Extract best hyperparameters\n",
    "model.best_params_"
   ]
  },
  {
   "cell_type": "code",
   "execution_count": 33,
   "id": "3aeb2bc4-5a1b-4c6a-8442-25ae3e061bbd",
   "metadata": {},
   "outputs": [
    {
     "data": {
      "text/plain": [
       "0.9978939791055105"
      ]
     },
     "execution_count": 33,
     "metadata": {},
     "output_type": "execute_result"
    }
   ],
   "source": [
    "model.best_score_"
   ]
  },
  {
   "cell_type": "code",
   "execution_count": 34,
   "id": "176c9ab1-8f0a-498a-9bcf-ea7ec0d45249",
   "metadata": {},
   "outputs": [
    {
     "data": {
      "text/html": [
       "<style>#sk-container-id-3 {color: black;background-color: white;}#sk-container-id-3 pre{padding: 0;}#sk-container-id-3 div.sk-toggleable {background-color: white;}#sk-container-id-3 label.sk-toggleable__label {cursor: pointer;display: block;width: 100%;margin-bottom: 0;padding: 0.3em;box-sizing: border-box;text-align: center;}#sk-container-id-3 label.sk-toggleable__label-arrow:before {content: \"▸\";float: left;margin-right: 0.25em;color: #696969;}#sk-container-id-3 label.sk-toggleable__label-arrow:hover:before {color: black;}#sk-container-id-3 div.sk-estimator:hover label.sk-toggleable__label-arrow:before {color: black;}#sk-container-id-3 div.sk-toggleable__content {max-height: 0;max-width: 0;overflow: hidden;text-align: left;background-color: #f0f8ff;}#sk-container-id-3 div.sk-toggleable__content pre {margin: 0.2em;color: black;border-radius: 0.25em;background-color: #f0f8ff;}#sk-container-id-3 input.sk-toggleable__control:checked~div.sk-toggleable__content {max-height: 200px;max-width: 100%;overflow: auto;}#sk-container-id-3 input.sk-toggleable__control:checked~label.sk-toggleable__label-arrow:before {content: \"▾\";}#sk-container-id-3 div.sk-estimator input.sk-toggleable__control:checked~label.sk-toggleable__label {background-color: #d4ebff;}#sk-container-id-3 div.sk-label input.sk-toggleable__control:checked~label.sk-toggleable__label {background-color: #d4ebff;}#sk-container-id-3 input.sk-hidden--visually {border: 0;clip: rect(1px 1px 1px 1px);clip: rect(1px, 1px, 1px, 1px);height: 1px;margin: -1px;overflow: hidden;padding: 0;position: absolute;width: 1px;}#sk-container-id-3 div.sk-estimator {font-family: monospace;background-color: #f0f8ff;border: 1px dotted black;border-radius: 0.25em;box-sizing: border-box;margin-bottom: 0.5em;}#sk-container-id-3 div.sk-estimator:hover {background-color: #d4ebff;}#sk-container-id-3 div.sk-parallel-item::after {content: \"\";width: 100%;border-bottom: 1px solid gray;flex-grow: 1;}#sk-container-id-3 div.sk-label:hover label.sk-toggleable__label {background-color: #d4ebff;}#sk-container-id-3 div.sk-serial::before {content: \"\";position: absolute;border-left: 1px solid gray;box-sizing: border-box;top: 0;bottom: 0;left: 50%;z-index: 0;}#sk-container-id-3 div.sk-serial {display: flex;flex-direction: column;align-items: center;background-color: white;padding-right: 0.2em;padding-left: 0.2em;position: relative;}#sk-container-id-3 div.sk-item {position: relative;z-index: 1;}#sk-container-id-3 div.sk-parallel {display: flex;align-items: stretch;justify-content: center;background-color: white;position: relative;}#sk-container-id-3 div.sk-item::before, #sk-container-id-3 div.sk-parallel-item::before {content: \"\";position: absolute;border-left: 1px solid gray;box-sizing: border-box;top: 0;bottom: 0;left: 50%;z-index: -1;}#sk-container-id-3 div.sk-parallel-item {display: flex;flex-direction: column;z-index: 1;position: relative;background-color: white;}#sk-container-id-3 div.sk-parallel-item:first-child::after {align-self: flex-end;width: 50%;}#sk-container-id-3 div.sk-parallel-item:last-child::after {align-self: flex-start;width: 50%;}#sk-container-id-3 div.sk-parallel-item:only-child::after {width: 0;}#sk-container-id-3 div.sk-dashed-wrapped {border: 1px dashed gray;margin: 0 0.4em 0.5em 0.4em;box-sizing: border-box;padding-bottom: 0.4em;background-color: white;}#sk-container-id-3 div.sk-label label {font-family: monospace;font-weight: bold;display: inline-block;line-height: 1.2em;}#sk-container-id-3 div.sk-label-container {text-align: center;}#sk-container-id-3 div.sk-container {/* jupyter's `normalize.less` sets `[hidden] { display: none; }` but bootstrap.min.css set `[hidden] { display: none !important; }` so we also need the `!important` here to be able to override the default hidden behavior on the sphinx rendered scikit-learn.org. See: https://github.com/scikit-learn/scikit-learn/issues/21755 */display: inline-block !important;position: relative;}#sk-container-id-3 div.sk-text-repr-fallback {display: none;}</style><div id=\"sk-container-id-3\" class=\"sk-top-container\"><div class=\"sk-text-repr-fallback\"><pre>Pipeline(steps=[(&#x27;simpleimputer&#x27;, SimpleImputer(strategy=&#x27;median&#x27;)),\n",
       "                (&#x27;randomforestclassifier&#x27;,\n",
       "                 RandomForestClassifier(max_depth=40, n_estimators=50,\n",
       "                                        random_state=42))])</pre><b>In a Jupyter environment, please rerun this cell to show the HTML representation or trust the notebook. <br />On GitHub, the HTML representation is unable to render, please try loading this page with nbviewer.org.</b></div><div class=\"sk-container\" hidden><div class=\"sk-item sk-dashed-wrapped\"><div class=\"sk-label-container\"><div class=\"sk-label sk-toggleable\"><input class=\"sk-toggleable__control sk-hidden--visually\" id=\"sk-estimator-id-9\" type=\"checkbox\" ><label for=\"sk-estimator-id-9\" class=\"sk-toggleable__label sk-toggleable__label-arrow\">Pipeline</label><div class=\"sk-toggleable__content\"><pre>Pipeline(steps=[(&#x27;simpleimputer&#x27;, SimpleImputer(strategy=&#x27;median&#x27;)),\n",
       "                (&#x27;randomforestclassifier&#x27;,\n",
       "                 RandomForestClassifier(max_depth=40, n_estimators=50,\n",
       "                                        random_state=42))])</pre></div></div></div><div class=\"sk-serial\"><div class=\"sk-item\"><div class=\"sk-estimator sk-toggleable\"><input class=\"sk-toggleable__control sk-hidden--visually\" id=\"sk-estimator-id-10\" type=\"checkbox\" ><label for=\"sk-estimator-id-10\" class=\"sk-toggleable__label sk-toggleable__label-arrow\">SimpleImputer</label><div class=\"sk-toggleable__content\"><pre>SimpleImputer(strategy=&#x27;median&#x27;)</pre></div></div></div><div class=\"sk-item\"><div class=\"sk-estimator sk-toggleable\"><input class=\"sk-toggleable__control sk-hidden--visually\" id=\"sk-estimator-id-11\" type=\"checkbox\" ><label for=\"sk-estimator-id-11\" class=\"sk-toggleable__label sk-toggleable__label-arrow\">RandomForestClassifier</label><div class=\"sk-toggleable__content\"><pre>RandomForestClassifier(max_depth=40, n_estimators=50, random_state=42)</pre></div></div></div></div></div></div></div>"
      ],
      "text/plain": [
       "Pipeline(steps=[('simpleimputer', SimpleImputer(strategy='median')),\n",
       "                ('randomforestclassifier',\n",
       "                 RandomForestClassifier(max_depth=40, n_estimators=50,\n",
       "                                        random_state=42))])"
      ]
     },
     "execution_count": 34,
     "metadata": {},
     "output_type": "execute_result"
    }
   ],
   "source": [
    "model.best_estimator_"
   ]
  },
  {
   "cell_type": "code",
   "execution_count": 35,
   "id": "34c4293a-e002-45be-9b5e-483fde76363b",
   "metadata": {},
   "outputs": [
    {
     "data": {
      "text/plain": [
       "array([False, False, False, ...,  True,  True,  True])"
      ]
     },
     "execution_count": 35,
     "metadata": {},
     "output_type": "execute_result"
    }
   ],
   "source": [
    "model.predict(X_train_over)"
   ]
  },
  {
   "cell_type": "markdown",
   "id": "214c7fe5-9bf6-4ab9-b75b-fa5bf7f1638f",
   "metadata": {},
   "source": [
    "Note that I don't need to build and train a new model with these settings. Now that the grid search is complete, when I use `model.predict()`, it will serve up predictions using the best model."
   ]
  },
  {
   "cell_type": "markdown",
   "id": "8a66f340-3934-4334-81ad-bc05564bed4a",
   "metadata": {},
   "source": [
    "## Evaluate"
   ]
  },
  {
   "cell_type": "markdown",
   "id": "016b9e85-25af-4460-badc-1598e76ba8b6",
   "metadata": {},
   "source": [
    "All right: The moment of truth. I'll see how my model performs."
   ]
  },
  {
   "cell_type": "code",
   "execution_count": 36,
   "id": "e230ed68-715e-44da-a3c7-6a0cbc6c5407",
   "metadata": {},
   "outputs": [
    {
     "name": "stdout",
     "output_type": "stream",
     "text": [
      "Training Accuracy: 1.0\n",
      "Test Accuracy: 0.9589\n"
     ]
    }
   ],
   "source": [
    "# Calculate the training and test accuracy scores for model\n",
    "acc_train = model.score(X_train, y_train)\n",
    "acc_test = model.score(X_test, y_test)\n",
    "\n",
    "print(\"Training Accuracy:\", round(acc_train, 4))\n",
    "print(\"Test Accuracy:\", round(acc_test, 4))"
   ]
  },
  {
   "cell_type": "markdown",
   "id": "7c4ddda9-40d8-4afd-b212-41aafd6fba33",
   "metadata": {},
   "source": [
    "I beat the baseline! Just barely, but I beat it. "
   ]
  },
  {
   "cell_type": "markdown",
   "id": "1479a478-5787-4aa7-87f9-b43faa77b651",
   "metadata": {},
   "source": [
    "Next, I'm going to use a confusion matrix to see how my model performs. To better understand the values I'll see in the matrix, I'll first count how many observations in my test set belong to the positive and negative classes. "
   ]
  },
  {
   "cell_type": "code",
   "execution_count": 37,
   "id": "1c419d4b-f99e-46c3-b01b-39728f4068e8",
   "metadata": {},
   "outputs": [
    {
     "data": {
      "text/plain": [
       "False    1913\n",
       "True       83\n",
       "Name: bankrupt, dtype: int64"
      ]
     },
     "execution_count": 37,
     "metadata": {},
     "output_type": "execute_result"
    }
   ],
   "source": [
    "y_test.value_counts()"
   ]
  },
  {
   "cell_type": "markdown",
   "id": "874960a2-a833-47d3-a500-9e1c0643d222",
   "metadata": {},
   "source": [
    "**Confusion Matrix**"
   ]
  },
  {
   "cell_type": "markdown",
   "id": "c034d3ac-bd1d-4e59-8665-984cb7fa3190",
   "metadata": {},
   "source": [
    "I'll plot a confusion matrix that shows how my best model performs on my test set. "
   ]
  },
  {
   "cell_type": "code",
   "execution_count": 38,
   "id": "e1674e43-d9b9-4c45-af45-4ab34db6c7cc",
   "metadata": {},
   "outputs": [
    {
     "data": {
      "image/png": "[encoded data removed]",
      "text/plain": [
       "<Figure size 432x288 with 2 Axes>"
      ]
     },
     "metadata": {
      "needs_background": "light"
     },
     "output_type": "display_data"
    }
   ],
   "source": [
    "# Plot confusion matrix\n",
    "ConfusionMatrixDisplay.from_estimator(model, X_test, y_test);"
   ]
  },
  {
   "cell_type": "markdown",
   "id": "bd79f63f-74ed-4ca5-a2c9-79b9bf2f32a2",
   "metadata": {},
   "source": [
    "Notice the relationship between the numbers in this matrix with the count I did the previous task. If I sum the values in the bottom row, I get the total number of positive observations in `y_train` ($72 + 11 = 83$). And the top row sum to the number of negative observations ($1902 + 11 = 1913$)."
   ]
  },
  {
   "cell_type": "markdown",
   "id": "7331149b-3885-4b3b-bdd1-c839dd8d1fba",
   "metadata": {},
   "source": [
    "# Communicate"
   ]
  },
  {
   "cell_type": "markdown",
   "id": "b212878c-3f75-4c80-8559-9e3c365d6d1a",
   "metadata": {},
   "source": [
    "**Extract Feature Importances**"
   ]
  },
  {
   "cell_type": "markdown",
   "id": "3c2af5b0-c6c5-4736-a0eb-527b018d8a09",
   "metadata": {},
   "source": [
    "I'll create a horizontal bar chart with the 10 most important features for my model."
   ]
  },
  {
   "cell_type": "code",
   "execution_count": 39,
   "id": "0c0e0b02-c560-4158-9488-a0f0844a92b1",
   "metadata": {},
   "outputs": [
    {
     "data": {
      "text/plain": [
       "Index(['feat_1', 'feat_2', 'feat_3', 'feat_4', 'feat_5', 'feat_6', 'feat_7',\n",
       "       'feat_8', 'feat_9', 'feat_10', 'feat_11', 'feat_12', 'feat_13',\n",
       "       'feat_14', 'feat_15', 'feat_16', 'feat_17', 'feat_18', 'feat_19',\n",
       "       'feat_20', 'feat_21', 'feat_22', 'feat_23', 'feat_24', 'feat_25',\n",
       "       'feat_26', 'feat_27', 'feat_28', 'feat_29', 'feat_30', 'feat_31',\n",
       "       'feat_32', 'feat_33', 'feat_34', 'feat_35', 'feat_36', 'feat_37',\n",
       "       'feat_38', 'feat_39', 'feat_40', 'feat_41', 'feat_42', 'feat_43',\n",
       "       'feat_44', 'feat_45', 'feat_46', 'feat_47', 'feat_48', 'feat_49',\n",
       "       'feat_50', 'feat_51', 'feat_52', 'feat_53', 'feat_54', 'feat_55',\n",
       "       'feat_56', 'feat_57', 'feat_58', 'feat_59', 'feat_60', 'feat_61',\n",
       "       'feat_62', 'feat_63', 'feat_64'],\n",
       "      dtype='object')"
      ]
     },
     "execution_count": 39,
     "metadata": {},
     "output_type": "execute_result"
    }
   ],
   "source": [
    "features = X_train_over.columns\n",
    "features"
   ]
  },
  {
   "cell_type": "code",
   "execution_count": 40,
   "id": "07bd9f34-5b24-455a-9d34-80c42184df09",
   "metadata": {},
   "outputs": [
    {
     "data": {
      "text/plain": [
       "array([0.0101393 , 0.01287852, 0.01147172, 0.00905564, 0.02058596,\n",
       "       0.02059257, 0.01113304, 0.01431152, 0.01338085, 0.0104422 ,\n",
       "       0.00933864, 0.01591063, 0.0350984 , 0.00983862, 0.01471214,\n",
       "       0.02722643, 0.00894526, 0.01105401, 0.01444032, 0.01044288,\n",
       "       0.01948826, 0.01151105, 0.0140539 , 0.05165966, 0.01758254,\n",
       "       0.02942304, 0.07060223, 0.0111041 , 0.01661098, 0.01036807,\n",
       "       0.0133371 , 0.00643053, 0.00744856, 0.02801246, 0.02282155,\n",
       "       0.00994131, 0.01103002, 0.02258117, 0.02095925, 0.01482569,\n",
       "       0.01687734, 0.01275205, 0.00923591, 0.01261843, 0.01882168,\n",
       "       0.03347121, 0.01110962, 0.01235876, 0.01284221, 0.00787817,\n",
       "       0.01095399, 0.00680687, 0.00824845, 0.01027538, 0.01405089,\n",
       "       0.01526372, 0.00959164, 0.02134601, 0.00752884, 0.01034815,\n",
       "       0.00942581, 0.00831442, 0.00730218, 0.01178816])"
      ]
     },
     "execution_count": 40,
     "metadata": {},
     "output_type": "execute_result"
    }
   ],
   "source": [
    "importances = model.best_estimator_.named_steps[\n",
    "    \"randomforestclassifier\"\n",
    "].feature_importances_\n",
    "importances"
   ]
  },
  {
   "cell_type": "code",
   "execution_count": 41,
   "id": "e0bff6fa-af63-4dba-9e73-a094c01d80de",
   "metadata": {},
   "outputs": [
    {
     "data": {
      "text/plain": [
       "feat_1     0.010139\n",
       "feat_2     0.012879\n",
       "feat_3     0.011472\n",
       "feat_4     0.009056\n",
       "feat_5     0.020586\n",
       "             ...   \n",
       "feat_60    0.010348\n",
       "feat_61    0.009426\n",
       "feat_62    0.008314\n",
       "feat_63    0.007302\n",
       "feat_64    0.011788\n",
       "Length: 64, dtype: float64"
      ]
     },
     "execution_count": 41,
     "metadata": {},
     "output_type": "execute_result"
    }
   ],
   "source": [
    "feat_imp = pd.Series(importances, index=features)\n",
    "feat_imp"
   ]
  },
  {
   "cell_type": "code",
   "execution_count": 42,
   "id": "70f3f069-0cb7-4bf6-908b-418ec425e425",
   "metadata": {},
   "outputs": [
    {
     "data": {
      "text/plain": [
       "feat_32    0.006431\n",
       "feat_52    0.006807\n",
       "feat_63    0.007302\n",
       "feat_33    0.007449\n",
       "feat_59    0.007529\n",
       "             ...   \n",
       "feat_26    0.029423\n",
       "feat_46    0.033471\n",
       "feat_13    0.035098\n",
       "feat_24    0.051660\n",
       "feat_27    0.070602\n",
       "Length: 64, dtype: float64"
      ]
     },
     "execution_count": 42,
     "metadata": {},
     "output_type": "execute_result"
    }
   ],
   "source": [
    "feat_imp = pd.Series(importances, index=features).sort_values()\n",
    "feat_imp"
   ]
  },
  {
   "cell_type": "code",
   "execution_count": 43,
   "id": "0ede6f55-8129-48be-9f0b-d24643df13ab",
   "metadata": {},
   "outputs": [
    {
     "data": {
      "image/png": "[encoded data removed]",
      "text/plain": [
       "<Figure size 432x288 with 1 Axes>"
      ]
     },
     "metadata": {
      "needs_background": "light"
     },
     "output_type": "display_data"
    }
   ],
   "source": [
    "# Get feature names from training data\n",
    "features = X_train_over.columns\n",
    "\n",
    "# Extract importances from model\n",
    "importances = model.best_estimator_.named_steps[\n",
    "    \"randomforestclassifier\"\n",
    "].feature_importances_\n",
    "\n",
    "# Create a series with feature names and importances\n",
    "feat_imp = pd.Series(importances, index=features).sort_values()\n",
    "\n",
    "# Plot 10 most important features\n",
    "feat_imp.tail(10).plot(kind=\"barh\")\n",
    "plt.xlabel(\"Gini Importance\")\n",
    "plt.ylabel(\"Feature\")\n",
    "plt.title(\"Feature Importance\");"
   ]
  },
  {
   "cell_type": "markdown",
   "id": "c7f91a20-b4cf-425d-b94c-2dc8bf69c0ac",
   "metadata": {},
   "source": [
    "The only thing left now is to save my model so that it can be reused."
   ]
  },
  {
   "cell_type": "markdown",
   "id": "ba79d1fc-bb19-4aa4-8c64-bac65a394a61",
   "metadata": {},
   "source": [
    "**Save Model**"
   ]
  },
  {
   "cell_type": "markdown",
   "id": "b104ee22-4695-4b21-b818-d51c97f4bb3c",
   "metadata": {},
   "source": [
    "Using a context manager, I'll save my best-performing model to a a file named `\"model-5-3.pkl\"`. "
   ]
  },
  {
   "cell_type": "code",
   "execution_count": 44,
   "id": "4235572e-0c67-4409-9307-e3654879c792",
   "metadata": {},
   "outputs": [],
   "source": [
    "# Save model\n",
    "with open(\"model-5-3.pkl\", \"wb\") as f:\n",
    "    pickle.dump(model, f)"
   ]
  },
  {
   "cell_type": "markdown",
   "id": "7c239c6e-24b6-4d3c-a30f-0a780aa671c5",
   "metadata": {},
   "source": [
    "**\"Make Predictions\" Function**"
   ]
  },
  {
   "cell_type": "markdown",
   "id": "1eaa062b-acbc-4ad4-a4c9-5f856e725612",
   "metadata": {},
   "source": [
    "I'll create a function `make_predictions`. It should take two arguments: the path of a JSON file that contains test data and the path of a serialized model. The function should load and clean the data using the `wrangle` function I created, load the model, generate an array of predictions, and convert that array into a Series. (The Series should have the name `\"bankrupt\"` and the same index labels as the test data.) Finally, the function should return its predictions as a Series. "
   ]
  },
  {
   "cell_type": "code",
   "execution_count": 45,
   "id": "4550511b-4eff-4f66-8cbd-4f84c3259149",
   "metadata": {},
   "outputs": [],
   "source": [
    "def make_predictions(data_filepath, model_filepath):\n",
    "    # Wrangle JSON file\n",
    "    X_test = wrangle(data_filepath)\n",
    "    # Load model\n",
    "    with open(model_filepath, \"rb\") as f:\n",
    "        model = pickle.load(f)\n",
    "    # Generate predictions\n",
    "    y_test_pred = model.predict(X_test)\n",
    "    # Put predictions into Series with name \"bankrupt\", and same index as X_test\n",
    "    y_test_pred = pd.Series(y_test_pred, index=X_test.index, name=\"bankrupt\")\n",
    "    return y_test_pred"
   ]
  },
  {
   "cell_type": "code",
   "execution_count": 47,
   "id": "5544816c-480a-47ca-9cdf-068a9c374e82",
   "metadata": {},
   "outputs": [
    {
     "name": "stdout",
     "output_type": "stream",
     "text": [
      "predictions shape: (526,)\n"
     ]
    },
    {
     "data": {
      "text/plain": [
       "company_id\n",
       "4     False\n",
       "32    False\n",
       "34    False\n",
       "36    False\n",
       "40    False\n",
       "Name: bankrupt, dtype: bool"
      ]
     },
     "execution_count": 47,
     "metadata": {},
     "output_type": "execute_result"
    }
   ],
   "source": [
    "# Check my make_predictions function\n",
    "y_test_pred = make_predictions(\n",
    "    data_filepath=\"data/poland-bankruptcy-data-2009-mvp-features.json.gz\",\n",
    "    model_filepath=\"model-5-3.pkl\",\n",
    ")\n",
    "\n",
    "print(\"predictions shape:\", y_test_pred.shape)\n",
    "y_test_pred.head()"
   ]
  }
 ],
 "metadata": {
  "kernelspec": {
   "display_name": "Python 3 (ipykernel)",
   "language": "python",
   "name": "python3"
  },
  "language_info": {
   "codemirror_mode": {
    "name": "ipython",
    "version": 3
   },
   "file_extension": ".py",
   "mimetype": "text/x-python",
   "name": "python",
   "nbconvert_exporter": "python",
   "pygments_lexer": "ipython3",
   "version": "3.8.13"
  }
 },
 "nbformat": 4,
 "nbformat_minor": 5
}
