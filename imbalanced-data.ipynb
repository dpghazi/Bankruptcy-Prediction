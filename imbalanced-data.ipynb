{
 "cells": [
  {
   "cell_type": "markdown",
   "id": "4b693b66",
   "metadata": {},
   "source": [
    "<font size=\"+3\"><strong>Polish Bankruptcy Prediction 🇵🇱 </strong></font>"
   ]
  },
  {
   "cell_type": "markdown",
   "id": "db459858-2e81-4a34-8ed6-6956b245855b",
   "metadata": {},
   "source": [
    "<font size=\"+2\"><strong>Part 2: Imbalanced Data</strong></font>"
   ]
  },
  {
   "cell_type": "code",
   "execution_count": 1,
   "id": "d0e80a0d-6281-4e3b-a191-cc2cfd414718",
   "metadata": {},
   "outputs": [],
   "source": [
    "__author__ = \"Donald Ghazi\"\n",
    "__email__ = \"donald@donaldghazi.com\"\n",
    "__website__ = \"donaldghazi.com\""
   ]
  },
  {
   "cell_type": "markdown",
   "id": "c247cc84-8b78-4570-87ff-10eec63f4cd9",
   "metadata": {},
   "source": [
    "In the `Working with JSON files` project, I prepared the data. \n",
    "\n",
    "In this project, I'm going to explore some of the features of the dataset, use visualizations to help me understand those features, and develop a model that solves the problem of imbalanced data by under- and over-sampling."
   ]
  },
  {
   "cell_type": "code",
   "execution_count": 2,
   "id": "8d0f7cc2-eb41-4a2d-8b9b-d20e6b9d7220",
   "metadata": {},
   "outputs": [],
   "source": [
    "import gzip\n",
    "import json\n",
    "import pickle\n",
    "import matplotlib.pyplot as plt\n",
    "import pandas as pd\n",
    "import seaborn as sns\n",
    "\n",
    "from imblearn.over_sampling import RandomOverSampler\n",
    "from imblearn.under_sampling import RandomUnderSampler\n",
    "from sklearn.impute import SimpleImputer\n",
    "from sklearn.metrics import ConfusionMatrixDisplay\n",
    "from sklearn.model_selection import train_test_split\n",
    "from sklearn.pipeline import make_pipeline\n",
    "from sklearn.tree import DecisionTreeClassifier"
   ]
  },
  {
   "cell_type": "markdown",
   "id": "338c74e3-0d07-4cd3-9221-a99f96ac59a5",
   "metadata": {},
   "source": [
    "GOALS\n",
    " - Identify imbalanced data and address it with resampling.\n",
    " - Build a model to predict bankruptcy.\n",
    " - Evaluate model predictions using a confusion matrix.\n",
    " - Save my model as a file.\n",
    "\n",
    "Machine Learning Workflow\n",
    " - Prepare Data\n",
    "     - Import\n",
    "     - Explore: Class imbalance\n",
    "         - Positive class, negative class;skew\n",
    "     - Split\n",
    "     - Resample: Under-and over-sampling\n",
    " - Build Model\n",
    "     - Baseline: High accuracy score\n",
    "     - Iterate: Four models\n",
    "     - Evaluate: Confusion matrix\n",
    " - Communicate Results\n",
    "     - Feature Importances\n",
    "     - Save model as file\n",
    "         - Binary mode"
   ]
  },
  {
   "cell_type": "markdown",
   "id": "38d433d4-ac06-40ae-9090-d66b8be43872",
   "metadata": {},
   "source": [
    "# Prepare Data"
   ]
  },
  {
   "cell_type": "markdown",
   "id": "b5f2b758-9e58-43ce-9b67-d9b4c6beab9f",
   "metadata": {},
   "source": [
    "## Import"
   ]
  },
  {
   "cell_type": "markdown",
   "id": "08a22506-dda0-45f2-9ab4-b6007c9c56da",
   "metadata": {},
   "source": [
    "I will begin by bringing my data into the project, and the function I developed in the `Working with JSON files` project is exactly what I need. "
   ]
  },
  {
   "cell_type": "markdown",
   "id": "989e87c9-7e0d-417f-8f02-43a167397b44",
   "metadata": {},
   "source": [
    "**Wrangle Function**"
   ]
  },
  {
   "cell_type": "code",
   "execution_count": 3,
   "id": "dd5d3b46-e225-4f74-ae1c-8c706148e74d",
   "metadata": {},
   "outputs": [],
   "source": [
    "# Write rangle function using the code I developed in the \"Working with JSON files\" project\n",
    "def wrangle(filename):\n",
    "    \n",
    "    # Open compressed file, load into dictionary\n",
    "    with gzip.open(filename, \"r\") as f:\n",
    "        data = json.load(f)\n",
    "\n",
    "    # Load dictionary into DataFrame, set index\n",
    "    df = pd.DataFrame().from_dict(data[\"data\"]).set_index(\"company_id\")\n",
    "\n",
    "    return df"
   ]
  },
  {
   "cell_type": "code",
   "execution_count": 4,
   "id": "58928555-e9e6-4e8e-ba55-073ebe7b93bb",
   "metadata": {},
   "outputs": [
    {
     "name": "stdout",
     "output_type": "stream",
     "text": [
      "(9977, 65)\n"
     ]
    },
    {
     "data": {
      "text/html": [
       "<div>\n",
       "<style scoped>\n",
       "    .dataframe tbody tr th:only-of-type {\n",
       "        vertical-align: middle;\n",
       "    }\n",
       "\n",
       "    .dataframe tbody tr th {\n",
       "        vertical-align: top;\n",
       "    }\n",
       "\n",
       "    .dataframe thead th {\n",
       "        text-align: right;\n",
       "    }\n",
       "</style>\n",
       "<table border=\"1\" class=\"dataframe\">\n",
       "  <thead>\n",
       "    <tr style=\"text-align: right;\">\n",
       "      <th></th>\n",
       "      <th>feat_1</th>\n",
       "      <th>feat_2</th>\n",
       "      <th>feat_3</th>\n",
       "      <th>feat_4</th>\n",
       "      <th>feat_5</th>\n",
       "      <th>feat_6</th>\n",
       "      <th>feat_7</th>\n",
       "      <th>feat_8</th>\n",
       "      <th>feat_9</th>\n",
       "      <th>feat_10</th>\n",
       "      <th>...</th>\n",
       "      <th>feat_56</th>\n",
       "      <th>feat_57</th>\n",
       "      <th>feat_58</th>\n",
       "      <th>feat_59</th>\n",
       "      <th>feat_60</th>\n",
       "      <th>feat_61</th>\n",
       "      <th>feat_62</th>\n",
       "      <th>feat_63</th>\n",
       "      <th>feat_64</th>\n",
       "      <th>bankrupt</th>\n",
       "    </tr>\n",
       "    <tr>\n",
       "      <th>company_id</th>\n",
       "      <th></th>\n",
       "      <th></th>\n",
       "      <th></th>\n",
       "      <th></th>\n",
       "      <th></th>\n",
       "      <th></th>\n",
       "      <th></th>\n",
       "      <th></th>\n",
       "      <th></th>\n",
       "      <th></th>\n",
       "      <th></th>\n",
       "      <th></th>\n",
       "      <th></th>\n",
       "      <th></th>\n",
       "      <th></th>\n",
       "      <th></th>\n",
       "      <th></th>\n",
       "      <th></th>\n",
       "      <th></th>\n",
       "      <th></th>\n",
       "      <th></th>\n",
       "    </tr>\n",
       "  </thead>\n",
       "  <tbody>\n",
       "    <tr>\n",
       "      <th>1</th>\n",
       "      <td>0.174190</td>\n",
       "      <td>0.41299</td>\n",
       "      <td>0.14371</td>\n",
       "      <td>1.3480</td>\n",
       "      <td>-28.9820</td>\n",
       "      <td>0.60383</td>\n",
       "      <td>0.219460</td>\n",
       "      <td>1.12250</td>\n",
       "      <td>1.1961</td>\n",
       "      <td>0.46359</td>\n",
       "      <td>...</td>\n",
       "      <td>0.163960</td>\n",
       "      <td>0.375740</td>\n",
       "      <td>0.83604</td>\n",
       "      <td>0.000007</td>\n",
       "      <td>9.7145</td>\n",
       "      <td>6.2813</td>\n",
       "      <td>84.291</td>\n",
       "      <td>4.3303</td>\n",
       "      <td>4.0341</td>\n",
       "      <td>False</td>\n",
       "    </tr>\n",
       "    <tr>\n",
       "      <th>2</th>\n",
       "      <td>0.146240</td>\n",
       "      <td>0.46038</td>\n",
       "      <td>0.28230</td>\n",
       "      <td>1.6294</td>\n",
       "      <td>2.5952</td>\n",
       "      <td>0.00000</td>\n",
       "      <td>0.171850</td>\n",
       "      <td>1.17210</td>\n",
       "      <td>1.6018</td>\n",
       "      <td>0.53962</td>\n",
       "      <td>...</td>\n",
       "      <td>0.027516</td>\n",
       "      <td>0.271000</td>\n",
       "      <td>0.90108</td>\n",
       "      <td>0.000000</td>\n",
       "      <td>5.9882</td>\n",
       "      <td>4.1103</td>\n",
       "      <td>102.190</td>\n",
       "      <td>3.5716</td>\n",
       "      <td>5.9500</td>\n",
       "      <td>False</td>\n",
       "    </tr>\n",
       "    <tr>\n",
       "      <th>3</th>\n",
       "      <td>0.000595</td>\n",
       "      <td>0.22612</td>\n",
       "      <td>0.48839</td>\n",
       "      <td>3.1599</td>\n",
       "      <td>84.8740</td>\n",
       "      <td>0.19114</td>\n",
       "      <td>0.004572</td>\n",
       "      <td>2.98810</td>\n",
       "      <td>1.0077</td>\n",
       "      <td>0.67566</td>\n",
       "      <td>...</td>\n",
       "      <td>0.007639</td>\n",
       "      <td>0.000881</td>\n",
       "      <td>0.99236</td>\n",
       "      <td>0.000000</td>\n",
       "      <td>6.7742</td>\n",
       "      <td>3.7922</td>\n",
       "      <td>64.846</td>\n",
       "      <td>5.6287</td>\n",
       "      <td>4.4581</td>\n",
       "      <td>False</td>\n",
       "    </tr>\n",
       "    <tr>\n",
       "      <th>5</th>\n",
       "      <td>0.188290</td>\n",
       "      <td>0.41504</td>\n",
       "      <td>0.34231</td>\n",
       "      <td>1.9279</td>\n",
       "      <td>-58.2740</td>\n",
       "      <td>0.00000</td>\n",
       "      <td>0.233580</td>\n",
       "      <td>1.40940</td>\n",
       "      <td>1.3393</td>\n",
       "      <td>0.58496</td>\n",
       "      <td>...</td>\n",
       "      <td>0.176480</td>\n",
       "      <td>0.321880</td>\n",
       "      <td>0.82635</td>\n",
       "      <td>0.073039</td>\n",
       "      <td>2.5912</td>\n",
       "      <td>7.0756</td>\n",
       "      <td>100.540</td>\n",
       "      <td>3.6303</td>\n",
       "      <td>4.6375</td>\n",
       "      <td>False</td>\n",
       "    </tr>\n",
       "    <tr>\n",
       "      <th>6</th>\n",
       "      <td>0.182060</td>\n",
       "      <td>0.55615</td>\n",
       "      <td>0.32191</td>\n",
       "      <td>1.6045</td>\n",
       "      <td>16.3140</td>\n",
       "      <td>0.00000</td>\n",
       "      <td>0.182060</td>\n",
       "      <td>0.79808</td>\n",
       "      <td>1.8126</td>\n",
       "      <td>0.44385</td>\n",
       "      <td>...</td>\n",
       "      <td>0.555770</td>\n",
       "      <td>0.410190</td>\n",
       "      <td>0.46957</td>\n",
       "      <td>0.029421</td>\n",
       "      <td>8.4553</td>\n",
       "      <td>3.3488</td>\n",
       "      <td>107.240</td>\n",
       "      <td>3.4036</td>\n",
       "      <td>12.4540</td>\n",
       "      <td>False</td>\n",
       "    </tr>\n",
       "  </tbody>\n",
       "</table>\n",
       "<p>5 rows × 65 columns</p>\n",
       "</div>"
      ],
      "text/plain": [
       "              feat_1   feat_2   feat_3  feat_4   feat_5   feat_6    feat_7  \\\n",
       "company_id                                                                   \n",
       "1           0.174190  0.41299  0.14371  1.3480 -28.9820  0.60383  0.219460   \n",
       "2           0.146240  0.46038  0.28230  1.6294   2.5952  0.00000  0.171850   \n",
       "3           0.000595  0.22612  0.48839  3.1599  84.8740  0.19114  0.004572   \n",
       "5           0.188290  0.41504  0.34231  1.9279 -58.2740  0.00000  0.233580   \n",
       "6           0.182060  0.55615  0.32191  1.6045  16.3140  0.00000  0.182060   \n",
       "\n",
       "             feat_8  feat_9  feat_10  ...   feat_56   feat_57  feat_58  \\\n",
       "company_id                            ...                                \n",
       "1           1.12250  1.1961  0.46359  ...  0.163960  0.375740  0.83604   \n",
       "2           1.17210  1.6018  0.53962  ...  0.027516  0.271000  0.90108   \n",
       "3           2.98810  1.0077  0.67566  ...  0.007639  0.000881  0.99236   \n",
       "5           1.40940  1.3393  0.58496  ...  0.176480  0.321880  0.82635   \n",
       "6           0.79808  1.8126  0.44385  ...  0.555770  0.410190  0.46957   \n",
       "\n",
       "             feat_59  feat_60  feat_61  feat_62  feat_63  feat_64  bankrupt  \n",
       "company_id                                                                   \n",
       "1           0.000007   9.7145   6.2813   84.291   4.3303   4.0341     False  \n",
       "2           0.000000   5.9882   4.1103  102.190   3.5716   5.9500     False  \n",
       "3           0.000000   6.7742   3.7922   64.846   5.6287   4.4581     False  \n",
       "5           0.073039   2.5912   7.0756  100.540   3.6303   4.6375     False  \n",
       "6           0.029421   8.4553   3.3488  107.240   3.4036  12.4540     False  \n",
       "\n",
       "[5 rows x 65 columns]"
      ]
     },
     "execution_count": 4,
     "metadata": {},
     "output_type": "execute_result"
    }
   ],
   "source": [
    "# Import poland-bankruptcy-data-2009.json.gz into the DataFrame df\n",
    "df = wrangle(\"data/poland-bankruptcy-data-2009.json.gz\")\n",
    "print(df.shape)\n",
    "df.head()"
   ]
  },
  {
   "cell_type": "markdown",
   "id": "c7afd0d9-b79d-4de6-b57c-9b6308f8c5ea",
   "metadata": {},
   "source": [
    "## Explore"
   ]
  },
  {
   "cell_type": "markdown",
   "id": "da05c0ea-ad6f-4b4c-bb74-6c359aca3684",
   "metadata": {},
   "source": [
    "**Inspect Data**"
   ]
  },
  {
   "cell_type": "markdown",
   "id": "cc7661ba-2d10-4383-8841-9f0fe2f4cdb1",
   "metadata": {},
   "source": [
    "I can use the `info`  method to explore `df`."
   ]
  },
  {
   "cell_type": "code",
   "execution_count": 5,
   "id": "06aae9b3-091f-4b7d-92b5-db051fc27f35",
   "metadata": {},
   "outputs": [
    {
     "name": "stdout",
     "output_type": "stream",
     "text": [
      "<class 'pandas.core.frame.DataFrame'>\n",
      "Int64Index: 9977 entries, 1 to 10503\n",
      "Data columns (total 65 columns):\n",
      " #   Column    Non-Null Count  Dtype  \n",
      "---  ------    --------------  -----  \n",
      " 0   feat_1    9977 non-null   float64\n",
      " 1   feat_2    9977 non-null   float64\n",
      " 2   feat_3    9977 non-null   float64\n",
      " 3   feat_4    9960 non-null   float64\n",
      " 4   feat_5    9952 non-null   float64\n",
      " 5   feat_6    9977 non-null   float64\n",
      " 6   feat_7    9977 non-null   float64\n",
      " 7   feat_8    9964 non-null   float64\n",
      " 8   feat_9    9974 non-null   float64\n",
      " 9   feat_10   9977 non-null   float64\n",
      " 10  feat_11   9977 non-null   float64\n",
      " 11  feat_12   9960 non-null   float64\n",
      " 12  feat_13   9935 non-null   float64\n",
      " 13  feat_14   9977 non-null   float64\n",
      " 14  feat_15   9970 non-null   float64\n",
      " 15  feat_16   9964 non-null   float64\n",
      " 16  feat_17   9964 non-null   float64\n",
      " 17  feat_18   9977 non-null   float64\n",
      " 18  feat_19   9935 non-null   float64\n",
      " 19  feat_20   9935 non-null   float64\n",
      " 20  feat_21   9205 non-null   float64\n",
      " 21  feat_22   9977 non-null   float64\n",
      " 22  feat_23   9935 non-null   float64\n",
      " 23  feat_24   9764 non-null   float64\n",
      " 24  feat_25   9977 non-null   float64\n",
      " 25  feat_26   9964 non-null   float64\n",
      " 26  feat_27   9312 non-null   float64\n",
      " 27  feat_28   9765 non-null   float64\n",
      " 28  feat_29   9977 non-null   float64\n",
      " 29  feat_30   9935 non-null   float64\n",
      " 30  feat_31   9935 non-null   float64\n",
      " 31  feat_32   9881 non-null   float64\n",
      " 32  feat_33   9960 non-null   float64\n",
      " 33  feat_34   9964 non-null   float64\n",
      " 34  feat_35   9977 non-null   float64\n",
      " 35  feat_36   9977 non-null   float64\n",
      " 36  feat_37   5499 non-null   float64\n",
      " 37  feat_38   9977 non-null   float64\n",
      " 38  feat_39   9935 non-null   float64\n",
      " 39  feat_40   9960 non-null   float64\n",
      " 40  feat_41   9787 non-null   float64\n",
      " 41  feat_42   9935 non-null   float64\n",
      " 42  feat_43   9935 non-null   float64\n",
      " 43  feat_44   9935 non-null   float64\n",
      " 44  feat_45   9416 non-null   float64\n",
      " 45  feat_46   9960 non-null   float64\n",
      " 46  feat_47   9896 non-null   float64\n",
      " 47  feat_48   9977 non-null   float64\n",
      " 48  feat_49   9935 non-null   float64\n",
      " 49  feat_50   9964 non-null   float64\n",
      " 50  feat_51   9977 non-null   float64\n",
      " 51  feat_52   9896 non-null   float64\n",
      " 52  feat_53   9765 non-null   float64\n",
      " 53  feat_54   9765 non-null   float64\n",
      " 54  feat_55   9977 non-null   float64\n",
      " 55  feat_56   9935 non-null   float64\n",
      " 56  feat_57   9977 non-null   float64\n",
      " 57  feat_58   9948 non-null   float64\n",
      " 58  feat_59   9977 non-null   float64\n",
      " 59  feat_60   9415 non-null   float64\n",
      " 60  feat_61   9961 non-null   float64\n",
      " 61  feat_62   9935 non-null   float64\n",
      " 62  feat_63   9960 non-null   float64\n",
      " 63  feat_64   9765 non-null   float64\n",
      " 64  bankrupt  9977 non-null   bool   \n",
      "dtypes: bool(1), float64(64)\n",
      "memory usage: 5.0 MB\n"
     ]
    }
   ],
   "source": [
    "# Inspect DataFrame\n",
    "df.info()"
   ]
  },
  {
   "cell_type": "markdown",
   "id": "556a9ffa-a6b9-4e51-af3c-d65fdcd6d6c8",
   "metadata": {},
   "source": [
    "I know all my features are numerical and that I have missing data. Now I want to take a look at how many firms are bankrupt, and how many are not."
   ]
  },
  {
   "cell_type": "markdown",
   "id": "87b8b8c6-fc93-4576-b172-63642386e127",
   "metadata": {},
   "source": [
    "**Plot Class Balance**"
   ]
  },
  {
   "cell_type": "code",
   "execution_count": 6,
   "id": "05014fc3-0b38-43fd-800a-6b1b8803f654",
   "metadata": {},
   "outputs": [
    {
     "data": {
      "text/plain": [
       "False    9510\n",
       "True      467\n",
       "Name: bankrupt, dtype: int64"
      ]
     },
     "execution_count": 6,
     "metadata": {},
     "output_type": "execute_result"
    }
   ],
   "source": [
    "df[\"bankrupt\"].value_counts()"
   ]
  },
  {
   "cell_type": "code",
   "execution_count": 7,
   "id": "229fa696-d56f-42c0-aa7e-ad1b3c2c7ce0",
   "metadata": {},
   "outputs": [
    {
     "data": {
      "text/plain": [
       "False    0.953192\n",
       "True     0.046808\n",
       "Name: bankrupt, dtype: float64"
      ]
     },
     "execution_count": 7,
     "metadata": {},
     "output_type": "execute_result"
    }
   ],
   "source": [
    "df[\"bankrupt\"].value_counts(normalize=True) # Set the normalize argument to True because I want to calculate the relative frequencies of the classes, not the raw count"
   ]
  },
  {
   "cell_type": "code",
   "execution_count": 8,
   "id": "2c7a7a73-b893-4845-94f1-1c111ceda34d",
   "metadata": {},
   "outputs": [
    {
     "data": {
      "image/png": "[encoded data removed]",
      "text/plain": [
       "<Figure size 432x288 with 1 Axes>"
      ]
     },
     "metadata": {
      "needs_background": "light"
     },
     "output_type": "display_data"
    }
   ],
   "source": [
    "# Create a bar chart of the value counts for the \"bankrupt\" column & plot class balance\n",
    "df[\"bankrupt\"].value_counts(normalize=True).plot(\n",
    "    kind=\"bar\",\n",
    "    xlabel=\"Bankrupt\",\n",
    "    ylabel=\"Frequency\",\n",
    "    title=\"Class Balance\"\n",
    ");"
   ]
  },
  {
   "cell_type": "markdown",
   "id": "a15e3c8c-ca37-4bc3-b200-f09185254400",
   "metadata": {},
   "source": [
    "It looks like most of the companies in my dataset are doing all right for themselves. However, it also shows us that I have an imbalanced dataset, where my majority class is far bigger than my minority class.\n",
    "\n",
    "In the `Working with JSON files` project, I saw that there were 64 features of each company, each of which had some kind of numerical value. Since it might be useful to understand where the values for one of these features cluster, I'll make a boxplot to see how the values in `\"feat_27\"` are distributed."
   ]
  },
  {
   "cell_type": "markdown",
   "id": "b180d9c8-237c-48d9-8540-6dfcbfe14e68",
   "metadata": {},
   "source": [
    "**Feature Box Plot**"
   ]
  },
  {
   "cell_type": "markdown",
   "id": "1bac1550-571a-48cb-8291-8062339a813f",
   "metadata": {},
   "source": [
    "Here I'll be using seaborn to create a boxplot that shows the distributions of the `\"feat_27\"` column for both groups in the `\"bankrupt\"` column."
   ]
  },
  {
   "cell_type": "code",
   "execution_count": 9,
   "id": "c733ed64-2a09-4fae-b83a-05b09382dc6a",
   "metadata": {},
   "outputs": [
    {
     "data": {
      "image/png": "[encoded data removed]",
      "text/plain": [
       "<Figure size 432x288 with 1 Axes>"
      ]
     },
     "metadata": {
      "needs_background": "light"
     },
     "output_type": "display_data"
    }
   ],
   "source": [
    "# Create boxplot\n",
    "sns.boxplot(x=\"bankrupt\", y=\"feat_27\", data=df)\n",
    "plt.xlabel(\"Bankrupt\")\n",
    "plt.ylabel(\"POA / financial expenses\")\n",
    "plt.title(\"Distribution of Profit/Expenses Ratio, by Class\");"
   ]
  },
  {
   "cell_type": "markdown",
   "id": "ac814d0d-b1b3-4914-a1db-a97fbff8f164",
   "metadata": {},
   "source": [
    "This look a bit funny. Boxplots help us see the quartiles in a dataset, and this one doesn't really do that. So I'll check the distribution of `\"feat_27\"`to see if I can figure out what's going on here."
   ]
  },
  {
   "cell_type": "markdown",
   "id": "7b3c88b8-9ce6-4cb9-80fe-bd14d512dc58",
   "metadata": {},
   "source": [
    "**Feature Summary Stats**"
   ]
  },
  {
   "cell_type": "markdown",
   "id": "a222b098-1548-4dff-ae62-57f79ffbc0b9",
   "metadata": {},
   "source": [
    "I'll use the `describe` method on the column for `\"feat_27\"`."
   ]
  },
  {
   "cell_type": "code",
   "execution_count": 10,
   "id": "31ad4462-fbc7-4563-94c7-1132916ef1a6",
   "metadata": {},
   "outputs": [
    {
     "data": {
      "text/plain": [
       "count    9.312000e+03\n",
       "mean     1.206467e+03\n",
       "std      3.547726e+04\n",
       "min     -1.901300e+05\n",
       "25%      0.000000e+00\n",
       "50%      1.064300e+00\n",
       "75%      4.788275e+00\n",
       "max      2.723000e+06\n",
       "Name: feat_27, dtype: float64"
      ]
     },
     "execution_count": 10,
     "metadata": {},
     "output_type": "execute_result"
    }
   ],
   "source": [
    "# Summary statistics for \"feat_27\"\n",
    "df[\"feat_27\"].describe()"
   ]
  },
  {
   "cell_type": "code",
   "execution_count": 11,
   "id": "7e7a63a2-7621-42b6-9919-d64de502f675",
   "metadata": {},
   "outputs": [
    {
     "data": {
      "text/plain": [
       "count        9,312\n",
       "mean         1,206\n",
       "std         35,477\n",
       "min       -190,130\n",
       "25%              0\n",
       "50%              1\n",
       "75%              5\n",
       "max      2,723,000\n",
       "Name: feat_27, dtype: object"
      ]
     },
     "execution_count": 11,
     "metadata": {},
     "output_type": "execute_result"
    }
   ],
   "source": [
    "df[\"feat_27\"].describe().apply(\"{0:,.0f}\".format)"
   ]
  },
  {
   "cell_type": "markdown",
   "id": "43e7c5e5-5a70-469a-8fd8-94a0c21c6288",
   "metadata": {},
   "source": [
    "Note that the median is around 1, but the mean is over 1000. That suggests that this feature is skewed to the right. I'll now make a histogram to see what the distribution actually looks like."
   ]
  },
  {
   "cell_type": "markdown",
   "id": "bb7bef8a-f8e5-4363-8b95-2a28492d500e",
   "metadata": {},
   "source": [
    "**Feature Histogram**"
   ]
  },
  {
   "cell_type": "code",
   "execution_count": 12,
   "id": "0339e95f-a689-4b60-ad01-688d3d8e4ab4",
   "metadata": {},
   "outputs": [
    {
     "data": {
      "image/png": "[encoded data removed]",
      "text/plain": [
       "<Figure size 432x288 with 1 Axes>"
      ]
     },
     "metadata": {
      "needs_background": "light"
     },
     "output_type": "display_data"
    }
   ],
   "source": [
    "# Plot a histogram of \"feat_27\"\n",
    "df[\"feat_27\"].hist()\n",
    "plt.xlabel(\"POA / financial expenses\")   # Label x-axis \"POA / financial expenses\"\n",
    "plt.ylabel(\"Count\"),                     # Label y-axis \"Count\"\n",
    "plt.title(\"Distribution of Profit/Expenses Ratio\"); # Title \"Distribution of Profit/Expenses Ratio\""
   ]
  },
  {
   "cell_type": "markdown",
   "id": "fb2bfe7e-acb6-41c3-b2cb-62df7c1c8aad",
   "metadata": {},
   "source": [
    "I saw it in the numbers and now I see it in the histogram. The data is very skewed. So, in order to create a helpful boxplot, I need to trim the data. "
   ]
  },
  {
   "cell_type": "markdown",
   "id": "84b21bec-ead8-4137-b661-29f2755274da",
   "metadata": {},
   "source": [
    "**Clipped Feature Histogram**"
   ]
  },
  {
   "cell_type": "code",
   "execution_count": 13,
   "id": "3499604a-215f-4a62-a2e2-6a21f4cc7f11",
   "metadata": {},
   "outputs": [
    {
     "data": {
      "text/plain": [
       "0.1    -2.00735\n",
       "0.9    27.70170\n",
       "Name: feat_27, dtype: float64"
      ]
     },
     "execution_count": 13,
     "metadata": {},
     "output_type": "execute_result"
    }
   ],
   "source": [
    "df[\"feat_27\"].quantile([0.1, 0.9])"
   ]
  },
  {
   "cell_type": "code",
   "execution_count": 14,
   "id": "9de69f0a-e55f-45a6-98b7-743f5d703761",
   "metadata": {},
   "outputs": [
    {
     "data": {
      "text/plain": [
       "<bound method NDFrame.head of company_id\n",
       "1         True\n",
       "2        False\n",
       "3         True\n",
       "5        False\n",
       "6         True\n",
       "         ...  \n",
       "10499    False\n",
       "10500    False\n",
       "10501    False\n",
       "10502    False\n",
       "10503     True\n",
       "Name: feat_27, Length: 9977, dtype: bool>"
      ]
     },
     "execution_count": 14,
     "metadata": {},
     "output_type": "execute_result"
    }
   ],
   "source": [
    "q1, q9 = df[\"feat_27\"].quantile([0.1, 0.9])\n",
    "mask = df[\"feat_27\"].between(q1, q9)\n",
    "mask.head"
   ]
  },
  {
   "cell_type": "markdown",
   "id": "8a7f558b-f2c8-441b-bd8b-4528482d0f42",
   "metadata": {},
   "source": [
    "I need to recreate the boxplot that I made above, this time only using the values for `\"feat_27\"` that fall between the `0.1` and `0.9` quantiles for the column."
   ]
  },
  {
   "cell_type": "code",
   "execution_count": 15,
   "id": "a0d51d69-a738-4e5e-a6eb-eecfa7e09324",
   "metadata": {},
   "outputs": [
    {
     "data": {
      "image/png": "[encoded data removed]",
      "text/plain": [
       "<Figure size 432x288 with 1 Axes>"
      ]
     },
     "metadata": {
      "needs_background": "light"
     },
     "output_type": "display_data"
    }
   ],
   "source": [
    "# Create clipped boxplot\n",
    "q1, q9 = df[\"feat_27\"].quantile([0.1, 0.9])\n",
    "mask = df[\"feat_27\"].between(q1, q9)\n",
    "sns.boxplot(x=\"bankrupt\", y=\"feat_27\", data=df[mask])\n",
    "plt.xlabel(\"Bankrupt\")\n",
    "plt.ylabel(\"POA / financial expenses\")\n",
    "plt.title(\"Distribution of Profit/Expenses Ratio, by Bankruptcy Status\");"
   ]
  },
  {
   "cell_type": "markdown",
   "id": "4cb09e08-df4c-46a0-b663-ee3f9f47841a",
   "metadata": {},
   "source": [
    "That makes a lot more sense. I'll take a look at some of the other features in the dataset to see what else is out there."
   ]
  },
  {
   "cell_type": "code",
   "execution_count": 16,
   "id": "9759a589-e3f6-49dc-a9a9-9d34126455a9",
   "metadata": {},
   "outputs": [
    {
     "data": {
      "image/png": "[encoded data removed]",
      "text/plain": [
       "<Figure size 432x288 with 1 Axes>"
      ]
     },
     "metadata": {
      "needs_background": "light"
     },
     "output_type": "display_data"
    }
   ],
   "source": [
    "# Explore another feature\n",
    "q1, q9 = df[\"feat_34\"].quantile([0.1, 0.9])\n",
    "mask = df[\"feat_34\"].between(q1, q9)\n",
    "sns.boxplot(x=\"bankrupt\", y=\"feat_34\", data=df[mask])\n",
    "plt.xlabel(\"Bankrupt\")\n",
    "plt.ylabel(\"POA / financial expenses\")\n",
    "plt.title(\"Distribution of Profit/Expenses Ratio, by Bankruptcy Status\");"
   ]
  },
  {
   "cell_type": "code",
   "execution_count": 17,
   "id": "c3ed1b8d-579d-4899-832a-7da203fe99d2",
   "metadata": {},
   "outputs": [
    {
     "data": {
      "image/png": "[encoded data removed]",
      "text/plain": [
       "<Figure size 432x288 with 1 Axes>"
      ]
     },
     "metadata": {
      "needs_background": "light"
     },
     "output_type": "display_data"
    }
   ],
   "source": [
    "# Explore another feature\n",
    "q1, q9 = df[\"feat_26\"].quantile([0.1, 0.9])\n",
    "mask = df[\"feat_26\"].between(q1, q9)\n",
    "sns.boxplot(x=\"bankrupt\", y=\"feat_26\", data=df[mask])\n",
    "plt.xlabel(\"Bankrupt\")\n",
    "plt.ylabel(\"POA / financial expenses\")\n",
    "plt.title(\"Distribution of Profit/Expenses Ratio, by Bankruptcy Status\");"
   ]
  },
  {
   "cell_type": "markdown",
   "id": "0aaa917c-9781-4ce3-8398-0f68cee8c9b6",
   "metadata": {},
   "source": [
    "Looking at other features, I can see that they're skewed, too. This will be important to keep in mind when I decide what type of model I want to use.\n",
    "\n",
    "Another important consideration for model selection is whether there are any issues with multicollinearity in my model."
   ]
  },
  {
   "cell_type": "markdown",
   "id": "19d20dcd-fb56-432d-a1e7-48cd1df96e87",
   "metadata": {},
   "source": [
    "**Correlation Heatmap**"
   ]
  },
  {
   "cell_type": "markdown",
   "id": "1f60efe3-3be9-4e42-884b-cc6f2f70b84c",
   "metadata": {},
   "source": [
    "I'll plot a correlation heatmap of features in `df`. Since `\"bankrupt\"` will be my target, I don't need to include it in my heatmap."
   ]
  },
  {
   "cell_type": "code",
   "execution_count": 18,
   "id": "b4b54459-1a48-4f0d-a600-42c8e662c34f",
   "metadata": {},
   "outputs": [
    {
     "data": {
      "text/html": [
       "<div>\n",
       "<style scoped>\n",
       "    .dataframe tbody tr th:only-of-type {\n",
       "        vertical-align: middle;\n",
       "    }\n",
       "\n",
       "    .dataframe tbody tr th {\n",
       "        vertical-align: top;\n",
       "    }\n",
       "\n",
       "    .dataframe thead th {\n",
       "        text-align: right;\n",
       "    }\n",
       "</style>\n",
       "<table border=\"1\" class=\"dataframe\">\n",
       "  <thead>\n",
       "    <tr style=\"text-align: right;\">\n",
       "      <th></th>\n",
       "      <th>feat_1</th>\n",
       "      <th>feat_2</th>\n",
       "      <th>feat_3</th>\n",
       "      <th>feat_4</th>\n",
       "      <th>feat_5</th>\n",
       "      <th>feat_6</th>\n",
       "      <th>feat_7</th>\n",
       "      <th>feat_8</th>\n",
       "      <th>feat_9</th>\n",
       "      <th>feat_10</th>\n",
       "      <th>...</th>\n",
       "      <th>feat_55</th>\n",
       "      <th>feat_56</th>\n",
       "      <th>feat_57</th>\n",
       "      <th>feat_58</th>\n",
       "      <th>feat_59</th>\n",
       "      <th>feat_60</th>\n",
       "      <th>feat_61</th>\n",
       "      <th>feat_62</th>\n",
       "      <th>feat_63</th>\n",
       "      <th>feat_64</th>\n",
       "    </tr>\n",
       "  </thead>\n",
       "  <tbody>\n",
       "    <tr>\n",
       "      <th>feat_1</th>\n",
       "      <td>1.000000</td>\n",
       "      <td>0.269458</td>\n",
       "      <td>-0.272459</td>\n",
       "      <td>0.001356</td>\n",
       "      <td>-0.001074</td>\n",
       "      <td>-0.218029</td>\n",
       "      <td>0.998734</td>\n",
       "      <td>0.002394</td>\n",
       "      <td>-0.056762</td>\n",
       "      <td>-0.269046</td>\n",
       "      <td>...</td>\n",
       "      <td>0.011807</td>\n",
       "      <td>0.008011</td>\n",
       "      <td>0.048601</td>\n",
       "      <td>-0.016755</td>\n",
       "      <td>-0.003589</td>\n",
       "      <td>0.002573</td>\n",
       "      <td>-0.041124</td>\n",
       "      <td>0.129884</td>\n",
       "      <td>0.009781</td>\n",
       "      <td>-0.002386</td>\n",
       "    </tr>\n",
       "    <tr>\n",
       "      <th>feat_2</th>\n",
       "      <td>0.269458</td>\n",
       "      <td>1.000000</td>\n",
       "      <td>-0.998303</td>\n",
       "      <td>-0.001396</td>\n",
       "      <td>-0.011338</td>\n",
       "      <td>-0.986583</td>\n",
       "      <td>0.267488</td>\n",
       "      <td>-0.002274</td>\n",
       "      <td>0.005119</td>\n",
       "      <td>-0.999678</td>\n",
       "      <td>...</td>\n",
       "      <td>-0.009207</td>\n",
       "      <td>-0.001792</td>\n",
       "      <td>-0.000553</td>\n",
       "      <td>0.000636</td>\n",
       "      <td>0.000857</td>\n",
       "      <td>0.001638</td>\n",
       "      <td>0.001421</td>\n",
       "      <td>0.388127</td>\n",
       "      <td>-0.010902</td>\n",
       "      <td>0.015879</td>\n",
       "    </tr>\n",
       "    <tr>\n",
       "      <th>feat_3</th>\n",
       "      <td>-0.272459</td>\n",
       "      <td>-0.998303</td>\n",
       "      <td>1.000000</td>\n",
       "      <td>0.002033</td>\n",
       "      <td>0.011153</td>\n",
       "      <td>0.985541</td>\n",
       "      <td>-0.270386</td>\n",
       "      <td>0.001442</td>\n",
       "      <td>-0.004605</td>\n",
       "      <td>0.998375</td>\n",
       "      <td>...</td>\n",
       "      <td>0.009951</td>\n",
       "      <td>0.001375</td>\n",
       "      <td>0.000392</td>\n",
       "      <td>-0.000271</td>\n",
       "      <td>-0.000553</td>\n",
       "      <td>0.006904</td>\n",
       "      <td>-0.002897</td>\n",
       "      <td>-0.387808</td>\n",
       "      <td>0.013798</td>\n",
       "      <td>0.037475</td>\n",
       "    </tr>\n",
       "    <tr>\n",
       "      <th>feat_4</th>\n",
       "      <td>0.001356</td>\n",
       "      <td>-0.001396</td>\n",
       "      <td>0.002033</td>\n",
       "      <td>1.000000</td>\n",
       "      <td>0.001296</td>\n",
       "      <td>-0.000033</td>\n",
       "      <td>0.001249</td>\n",
       "      <td>0.797207</td>\n",
       "      <td>-0.002760</td>\n",
       "      <td>0.001427</td>\n",
       "      <td>...</td>\n",
       "      <td>-0.000576</td>\n",
       "      <td>0.000495</td>\n",
       "      <td>0.000063</td>\n",
       "      <td>-0.002573</td>\n",
       "      <td>-0.000564</td>\n",
       "      <td>0.006970</td>\n",
       "      <td>-0.000543</td>\n",
       "      <td>-0.000346</td>\n",
       "      <td>0.017230</td>\n",
       "      <td>0.000077</td>\n",
       "    </tr>\n",
       "    <tr>\n",
       "      <th>feat_5</th>\n",
       "      <td>-0.001074</td>\n",
       "      <td>-0.011338</td>\n",
       "      <td>0.011153</td>\n",
       "      <td>0.001296</td>\n",
       "      <td>1.000000</td>\n",
       "      <td>0.010719</td>\n",
       "      <td>-0.000923</td>\n",
       "      <td>0.001339</td>\n",
       "      <td>-0.000417</td>\n",
       "      <td>0.011343</td>\n",
       "      <td>...</td>\n",
       "      <td>0.001234</td>\n",
       "      <td>-0.000201</td>\n",
       "      <td>-0.000005</td>\n",
       "      <td>0.000109</td>\n",
       "      <td>0.000138</td>\n",
       "      <td>0.000198</td>\n",
       "      <td>-0.000616</td>\n",
       "      <td>-0.005583</td>\n",
       "      <td>0.002288</td>\n",
       "      <td>0.000749</td>\n",
       "    </tr>\n",
       "  </tbody>\n",
       "</table>\n",
       "<p>5 rows × 64 columns</p>\n",
       "</div>"
      ],
      "text/plain": [
       "          feat_1    feat_2    feat_3    feat_4    feat_5    feat_6    feat_7  \\\n",
       "feat_1  1.000000  0.269458 -0.272459  0.001356 -0.001074 -0.218029  0.998734   \n",
       "feat_2  0.269458  1.000000 -0.998303 -0.001396 -0.011338 -0.986583  0.267488   \n",
       "feat_3 -0.272459 -0.998303  1.000000  0.002033  0.011153  0.985541 -0.270386   \n",
       "feat_4  0.001356 -0.001396  0.002033  1.000000  0.001296 -0.000033  0.001249   \n",
       "feat_5 -0.001074 -0.011338  0.011153  0.001296  1.000000  0.010719 -0.000923   \n",
       "\n",
       "          feat_8    feat_9   feat_10  ...   feat_55   feat_56   feat_57  \\\n",
       "feat_1  0.002394 -0.056762 -0.269046  ...  0.011807  0.008011  0.048601   \n",
       "feat_2 -0.002274  0.005119 -0.999678  ... -0.009207 -0.001792 -0.000553   \n",
       "feat_3  0.001442 -0.004605  0.998375  ...  0.009951  0.001375  0.000392   \n",
       "feat_4  0.797207 -0.002760  0.001427  ... -0.000576  0.000495  0.000063   \n",
       "feat_5  0.001339 -0.000417  0.011343  ...  0.001234 -0.000201 -0.000005   \n",
       "\n",
       "         feat_58   feat_59   feat_60   feat_61   feat_62   feat_63   feat_64  \n",
       "feat_1 -0.016755 -0.003589  0.002573 -0.041124  0.129884  0.009781 -0.002386  \n",
       "feat_2  0.000636  0.000857  0.001638  0.001421  0.388127 -0.010902  0.015879  \n",
       "feat_3 -0.000271 -0.000553  0.006904 -0.002897 -0.387808  0.013798  0.037475  \n",
       "feat_4 -0.002573 -0.000564  0.006970 -0.000543 -0.000346  0.017230  0.000077  \n",
       "feat_5  0.000109  0.000138  0.000198 -0.000616 -0.005583  0.002288  0.000749  \n",
       "\n",
       "[5 rows x 64 columns]"
      ]
     },
     "execution_count": 18,
     "metadata": {},
     "output_type": "execute_result"
    }
   ],
   "source": [
    "corr = df.drop(columns=\"bankrupt\").corr()\n",
    "corr.head()"
   ]
  },
  {
   "cell_type": "code",
   "execution_count": 19,
   "id": "a58f5800-e6d2-4c67-a420-21af7bc6b322",
   "metadata": {},
   "outputs": [
    {
     "data": {
      "image/png": "[encoded data removed]",
      "text/plain": [
       "<Figure size 432x288 with 2 Axes>"
      ]
     },
     "metadata": {
      "needs_background": "light"
     },
     "output_type": "display_data"
    }
   ],
   "source": [
    "corr = df.drop(columns=\"bankrupt\").corr()\n",
    "sns.heatmap(corr);"
   ]
  },
  {
   "cell_type": "markdown",
   "id": "214e9c5d-5f9a-419f-b698-3e5c51d3a5c5",
   "metadata": {},
   "source": [
    "So what did I learn from this EDA? First, my data is imbalanced. This is something I need to address in my data preparation. Second, many of my features have missing values that I'll need to impute. And since the features are highly skewed, the best imputation strategy is likely median, not mean. Finally, I have autocorrelation issues, which means that I should steer clear of linear models, and try a tree-based model instead."
   ]
  },
  {
   "cell_type": "markdown",
   "id": "63ad86b6-cadd-48a3-9789-68defd7ef7a5",
   "metadata": {},
   "source": [
    "## Split"
   ]
  },
  {
   "cell_type": "markdown",
   "id": "367d10e6-9560-488b-8c18-632fe2e5f7b3",
   "metadata": {},
   "source": [
    "So I'll start building that model."
   ]
  },
  {
   "cell_type": "code",
   "execution_count": 20,
   "id": "fc080842-4bcb-499e-b3da-b70f9f983b3d",
   "metadata": {},
   "outputs": [
    {
     "name": "stdout",
     "output_type": "stream",
     "text": [
      "X shape: (9977, 64)\n",
      "y shape: (9977,)\n"
     ]
    }
   ],
   "source": [
    "# Create my feature matrix X and target vector y\n",
    "target = \"bankrupt\"            # My target is \"bankrupt\"\n",
    "feature = \"feat_27\"\n",
    "X = df.drop(columns=\"bankrupt\")\n",
    "y = df[target]\n",
    "\n",
    "print(\"X shape:\", X.shape)\n",
    "print(\"y shape:\", y.shape)"
   ]
  },
  {
   "cell_type": "markdown",
   "id": "a3294f53-3b53-4f1f-8581-1cb540a90ce6",
   "metadata": {},
   "source": [
    "In order to make sure that my model can generalize, I need to put aside a test set that I'll use to evaluate my model once it's trained."
   ]
  },
  {
   "cell_type": "code",
   "execution_count": 21,
   "id": "f83d3319-e814-4d34-b4f3-766be4d0246d",
   "metadata": {},
   "outputs": [
    {
     "name": "stdout",
     "output_type": "stream",
     "text": [
      "X_train shape: (7981, 64)\n",
      "y_train shape: (7981,)\n",
      "X_test shape: (1996, 64)\n",
      "y_test shape: (1996,)\n"
     ]
    }
   ],
   "source": [
    "# Divide my data (X and y) into training and test sets using a randomized train-test split\n",
    "X_train, X_test, y_train, y_test = train_test_split(\n",
    "    X, y, test_size=0.2, random_state=42             # My validation set should be 20% of my total data & set a random_state for reproducibility\n",
    ")\n",
    "\n",
    "print(\"X_train shape:\", X_train.shape)\n",
    "print(\"y_train shape:\", y_train.shape)\n",
    "print(\"X_test shape:\", X_test.shape)\n",
    "print(\"y_test shape:\", y_test.shape)"
   ]
  },
  {
   "cell_type": "markdown",
   "id": "802cc5e3-b233-444a-a471-a0fb72cf817d",
   "metadata": {},
   "source": [
    "Note that if I wanted to tune any hyperparameters for my model, I'd do another split here, further dividing the training set into training and validation sets. However, I'm going to leave hyperparameters for the next step, so no need to do the extra split now."
   ]
  },
  {
   "cell_type": "markdown",
   "id": "1c86ee79-cf7e-4980-8413-38ec87994304",
   "metadata": {},
   "source": [
    "## Resample"
   ]
  },
  {
   "cell_type": "markdown",
   "id": "06db67a2-ae92-40c6-a516-c4dd8f7fb013",
   "metadata": {},
   "source": [
    "Now that I've split my data into training and validation sets, I can address the class imbalance I saw during my EDA. One strategy is to resample the training data. I'll start with under-sampling."
   ]
  },
  {
   "cell_type": "markdown",
   "id": "4e3d423a-6931-4ccd-be04-53ed6f8c54e1",
   "metadata": {},
   "source": [
    "**Under-Sampling**"
   ]
  },
  {
   "cell_type": "code",
   "execution_count": 22,
   "id": "b41e9c2d-0693-4377-9503-0d1357ead92c",
   "metadata": {},
   "outputs": [
    {
     "name": "stdout",
     "output_type": "stream",
     "text": [
      "(768, 64)\n"
     ]
    },
    {
     "data": {
      "text/html": [
       "<div>\n",
       "<style scoped>\n",
       "    .dataframe tbody tr th:only-of-type {\n",
       "        vertical-align: middle;\n",
       "    }\n",
       "\n",
       "    .dataframe tbody tr th {\n",
       "        vertical-align: top;\n",
       "    }\n",
       "\n",
       "    .dataframe thead th {\n",
       "        text-align: right;\n",
       "    }\n",
       "</style>\n",
       "<table border=\"1\" class=\"dataframe\">\n",
       "  <thead>\n",
       "    <tr style=\"text-align: right;\">\n",
       "      <th></th>\n",
       "      <th>feat_1</th>\n",
       "      <th>feat_2</th>\n",
       "      <th>feat_3</th>\n",
       "      <th>feat_4</th>\n",
       "      <th>feat_5</th>\n",
       "      <th>feat_6</th>\n",
       "      <th>feat_7</th>\n",
       "      <th>feat_8</th>\n",
       "      <th>feat_9</th>\n",
       "      <th>feat_10</th>\n",
       "      <th>...</th>\n",
       "      <th>feat_55</th>\n",
       "      <th>feat_56</th>\n",
       "      <th>feat_57</th>\n",
       "      <th>feat_58</th>\n",
       "      <th>feat_59</th>\n",
       "      <th>feat_60</th>\n",
       "      <th>feat_61</th>\n",
       "      <th>feat_62</th>\n",
       "      <th>feat_63</th>\n",
       "      <th>feat_64</th>\n",
       "    </tr>\n",
       "  </thead>\n",
       "  <tbody>\n",
       "    <tr>\n",
       "      <th>0</th>\n",
       "      <td>0.121400</td>\n",
       "      <td>0.097238</td>\n",
       "      <td>0.74500</td>\n",
       "      <td>8.66160</td>\n",
       "      <td>25.8370</td>\n",
       "      <td>0.000000</td>\n",
       "      <td>0.158840</td>\n",
       "      <td>9.284100</td>\n",
       "      <td>2.7588</td>\n",
       "      <td>0.902760</td>\n",
       "      <td>...</td>\n",
       "      <td>775.71</td>\n",
       "      <td>0.075999</td>\n",
       "      <td>0.13447</td>\n",
       "      <td>0.94243</td>\n",
       "      <td>0.000000</td>\n",
       "      <td>4.9049</td>\n",
       "      <td>11.3390</td>\n",
       "      <td>12.865</td>\n",
       "      <td>28.3720</td>\n",
       "      <td>17.4870</td>\n",
       "    </tr>\n",
       "    <tr>\n",
       "      <th>1</th>\n",
       "      <td>0.316280</td>\n",
       "      <td>0.264920</td>\n",
       "      <td>0.65346</td>\n",
       "      <td>3.46660</td>\n",
       "      <td>55.1890</td>\n",
       "      <td>0.290140</td>\n",
       "      <td>0.316280</td>\n",
       "      <td>2.774700</td>\n",
       "      <td>2.4721</td>\n",
       "      <td>0.735080</td>\n",
       "      <td>...</td>\n",
       "      <td>1367.90</td>\n",
       "      <td>0.119990</td>\n",
       "      <td>0.43027</td>\n",
       "      <td>0.87412</td>\n",
       "      <td>0.000000</td>\n",
       "      <td>10.6020</td>\n",
       "      <td>4.5533</td>\n",
       "      <td>39.115</td>\n",
       "      <td>9.3314</td>\n",
       "      <td>30.2870</td>\n",
       "    </tr>\n",
       "    <tr>\n",
       "      <th>2</th>\n",
       "      <td>0.066615</td>\n",
       "      <td>0.890270</td>\n",
       "      <td>-0.48007</td>\n",
       "      <td>0.46076</td>\n",
       "      <td>-76.3080</td>\n",
       "      <td>0.047487</td>\n",
       "      <td>0.087936</td>\n",
       "      <td>-0.011406</td>\n",
       "      <td>1.0952</td>\n",
       "      <td>-0.010155</td>\n",
       "      <td>...</td>\n",
       "      <td>-46566.00</td>\n",
       "      <td>0.086894</td>\n",
       "      <td>-6.56010</td>\n",
       "      <td>0.91311</td>\n",
       "      <td>0.000000</td>\n",
       "      <td>32.0280</td>\n",
       "      <td>10.0480</td>\n",
       "      <td>105.220</td>\n",
       "      <td>3.4689</td>\n",
       "      <td>5.2362</td>\n",
       "    </tr>\n",
       "    <tr>\n",
       "      <th>3</th>\n",
       "      <td>0.208000</td>\n",
       "      <td>0.363630</td>\n",
       "      <td>0.33875</td>\n",
       "      <td>1.93160</td>\n",
       "      <td>-5.3169</td>\n",
       "      <td>0.251870</td>\n",
       "      <td>0.258280</td>\n",
       "      <td>1.603300</td>\n",
       "      <td>1.0535</td>\n",
       "      <td>0.583020</td>\n",
       "      <td>...</td>\n",
       "      <td>187050.00</td>\n",
       "      <td>0.050746</td>\n",
       "      <td>0.35676</td>\n",
       "      <td>0.94925</td>\n",
       "      <td>0.000000</td>\n",
       "      <td>34.8840</td>\n",
       "      <td>19.0030</td>\n",
       "      <td>24.498</td>\n",
       "      <td>14.8990</td>\n",
       "      <td>18.2040</td>\n",
       "    </tr>\n",
       "    <tr>\n",
       "      <th>4</th>\n",
       "      <td>0.096863</td>\n",
       "      <td>0.299320</td>\n",
       "      <td>0.35393</td>\n",
       "      <td>2.42640</td>\n",
       "      <td>31.5630</td>\n",
       "      <td>0.267550</td>\n",
       "      <td>0.125130</td>\n",
       "      <td>2.341000</td>\n",
       "      <td>1.0495</td>\n",
       "      <td>0.700680</td>\n",
       "      <td>...</td>\n",
       "      <td>2993.00</td>\n",
       "      <td>0.047123</td>\n",
       "      <td>0.13824</td>\n",
       "      <td>0.95288</td>\n",
       "      <td>0.073041</td>\n",
       "      <td>13.7820</td>\n",
       "      <td>6.8621</td>\n",
       "      <td>39.668</td>\n",
       "      <td>9.2013</td>\n",
       "      <td>5.7376</td>\n",
       "    </tr>\n",
       "  </tbody>\n",
       "</table>\n",
       "<p>5 rows × 64 columns</p>\n",
       "</div>"
      ],
      "text/plain": [
       "     feat_1    feat_2   feat_3   feat_4   feat_5    feat_6    feat_7  \\\n",
       "0  0.121400  0.097238  0.74500  8.66160  25.8370  0.000000  0.158840   \n",
       "1  0.316280  0.264920  0.65346  3.46660  55.1890  0.290140  0.316280   \n",
       "2  0.066615  0.890270 -0.48007  0.46076 -76.3080  0.047487  0.087936   \n",
       "3  0.208000  0.363630  0.33875  1.93160  -5.3169  0.251870  0.258280   \n",
       "4  0.096863  0.299320  0.35393  2.42640  31.5630  0.267550  0.125130   \n",
       "\n",
       "     feat_8  feat_9   feat_10  ...    feat_55   feat_56  feat_57  feat_58  \\\n",
       "0  9.284100  2.7588  0.902760  ...     775.71  0.075999  0.13447  0.94243   \n",
       "1  2.774700  2.4721  0.735080  ...    1367.90  0.119990  0.43027  0.87412   \n",
       "2 -0.011406  1.0952 -0.010155  ...  -46566.00  0.086894 -6.56010  0.91311   \n",
       "3  1.603300  1.0535  0.583020  ...  187050.00  0.050746  0.35676  0.94925   \n",
       "4  2.341000  1.0495  0.700680  ...    2993.00  0.047123  0.13824  0.95288   \n",
       "\n",
       "    feat_59  feat_60  feat_61  feat_62  feat_63  feat_64  \n",
       "0  0.000000   4.9049  11.3390   12.865  28.3720  17.4870  \n",
       "1  0.000000  10.6020   4.5533   39.115   9.3314  30.2870  \n",
       "2  0.000000  32.0280  10.0480  105.220   3.4689   5.2362  \n",
       "3  0.000000  34.8840  19.0030   24.498  14.8990  18.2040  \n",
       "4  0.073041  13.7820   6.8621   39.668   9.2013   5.7376  \n",
       "\n",
       "[5 rows x 64 columns]"
      ]
     },
     "execution_count": 22,
     "metadata": {},
     "output_type": "execute_result"
    }
   ],
   "source": [
    "# Create a new feature matrix X_train_under and target vector y_train_under by performing random under-sampling on my training data\n",
    "under_sampler = RandomUnderSampler(random_state=42)\n",
    "X_train_under, y_train_under = under_sampler.fit_resample(X_train, y_train)\n",
    "print(X_train_under.shape)\n",
    "X_train_under.head()"
   ]
  },
  {
   "cell_type": "markdown",
   "id": "8c7114d9-a919-4ec5-9bb6-eec90ffd0f2f",
   "metadata": {},
   "source": [
    "And then I'll over-sample."
   ]
  },
  {
   "cell_type": "markdown",
   "id": "a2b47e12-49bf-4c90-a96b-d9da86a4c83d",
   "metadata": {},
   "source": [
    "**Over-Sampling**"
   ]
  },
  {
   "cell_type": "code",
   "execution_count": 23,
   "id": "f5d2eedc-ff90-4e48-813a-1e29f9787d56",
   "metadata": {},
   "outputs": [
    {
     "name": "stdout",
     "output_type": "stream",
     "text": [
      "(15194, 64)\n"
     ]
    },
    {
     "data": {
      "text/html": [
       "<div>\n",
       "<style scoped>\n",
       "    .dataframe tbody tr th:only-of-type {\n",
       "        vertical-align: middle;\n",
       "    }\n",
       "\n",
       "    .dataframe tbody tr th {\n",
       "        vertical-align: top;\n",
       "    }\n",
       "\n",
       "    .dataframe thead th {\n",
       "        text-align: right;\n",
       "    }\n",
       "</style>\n",
       "<table border=\"1\" class=\"dataframe\">\n",
       "  <thead>\n",
       "    <tr style=\"text-align: right;\">\n",
       "      <th></th>\n",
       "      <th>feat_1</th>\n",
       "      <th>feat_2</th>\n",
       "      <th>feat_3</th>\n",
       "      <th>feat_4</th>\n",
       "      <th>feat_5</th>\n",
       "      <th>feat_6</th>\n",
       "      <th>feat_7</th>\n",
       "      <th>feat_8</th>\n",
       "      <th>feat_9</th>\n",
       "      <th>feat_10</th>\n",
       "      <th>...</th>\n",
       "      <th>feat_55</th>\n",
       "      <th>feat_56</th>\n",
       "      <th>feat_57</th>\n",
       "      <th>feat_58</th>\n",
       "      <th>feat_59</th>\n",
       "      <th>feat_60</th>\n",
       "      <th>feat_61</th>\n",
       "      <th>feat_62</th>\n",
       "      <th>feat_63</th>\n",
       "      <th>feat_64</th>\n",
       "    </tr>\n",
       "  </thead>\n",
       "  <tbody>\n",
       "    <tr>\n",
       "      <th>0</th>\n",
       "      <td>0.279320</td>\n",
       "      <td>0.053105</td>\n",
       "      <td>0.852030</td>\n",
       "      <td>17.0440</td>\n",
       "      <td>199.080</td>\n",
       "      <td>0.741770</td>\n",
       "      <td>0.353570</td>\n",
       "      <td>16.00600</td>\n",
       "      <td>1.2346</td>\n",
       "      <td>0.84997</td>\n",
       "      <td>...</td>\n",
       "      <td>52857.00</td>\n",
       "      <td>0.190040</td>\n",
       "      <td>0.328630</td>\n",
       "      <td>0.80996</td>\n",
       "      <td>0.00000</td>\n",
       "      <td>NaN</td>\n",
       "      <td>4.1858</td>\n",
       "      <td>11.002</td>\n",
       "      <td>33.1760</td>\n",
       "      <td>18.5720</td>\n",
       "    </tr>\n",
       "    <tr>\n",
       "      <th>1</th>\n",
       "      <td>0.001871</td>\n",
       "      <td>0.735120</td>\n",
       "      <td>0.156460</td>\n",
       "      <td>1.2269</td>\n",
       "      <td>-10.837</td>\n",
       "      <td>0.000000</td>\n",
       "      <td>0.002938</td>\n",
       "      <td>0.36032</td>\n",
       "      <td>1.4809</td>\n",
       "      <td>0.26488</td>\n",
       "      <td>...</td>\n",
       "      <td>440.02</td>\n",
       "      <td>0.014794</td>\n",
       "      <td>0.007064</td>\n",
       "      <td>0.99803</td>\n",
       "      <td>0.00000</td>\n",
       "      <td>7.4268</td>\n",
       "      <td>2.2925</td>\n",
       "      <td>169.960</td>\n",
       "      <td>2.1476</td>\n",
       "      <td>9.6185</td>\n",
       "    </tr>\n",
       "    <tr>\n",
       "      <th>2</th>\n",
       "      <td>0.113940</td>\n",
       "      <td>0.490250</td>\n",
       "      <td>0.077121</td>\n",
       "      <td>1.2332</td>\n",
       "      <td>-43.184</td>\n",
       "      <td>-0.000171</td>\n",
       "      <td>0.113940</td>\n",
       "      <td>1.03980</td>\n",
       "      <td>1.1649</td>\n",
       "      <td>0.50975</td>\n",
       "      <td>...</td>\n",
       "      <td>4617.40</td>\n",
       "      <td>0.214890</td>\n",
       "      <td>0.223520</td>\n",
       "      <td>0.78761</td>\n",
       "      <td>0.27412</td>\n",
       "      <td>6.2791</td>\n",
       "      <td>6.1622</td>\n",
       "      <td>103.630</td>\n",
       "      <td>3.5220</td>\n",
       "      <td>1.9673</td>\n",
       "    </tr>\n",
       "    <tr>\n",
       "      <th>3</th>\n",
       "      <td>0.008136</td>\n",
       "      <td>0.652610</td>\n",
       "      <td>0.148120</td>\n",
       "      <td>1.2628</td>\n",
       "      <td>29.071</td>\n",
       "      <td>0.000000</td>\n",
       "      <td>0.008136</td>\n",
       "      <td>0.53230</td>\n",
       "      <td>1.2891</td>\n",
       "      <td>0.34739</td>\n",
       "      <td>...</td>\n",
       "      <td>920.98</td>\n",
       "      <td>0.045169</td>\n",
       "      <td>0.023421</td>\n",
       "      <td>0.99434</td>\n",
       "      <td>0.14403</td>\n",
       "      <td>22.7480</td>\n",
       "      <td>2.2673</td>\n",
       "      <td>159.580</td>\n",
       "      <td>2.2872</td>\n",
       "      <td>4.4718</td>\n",
       "    </tr>\n",
       "    <tr>\n",
       "      <th>4</th>\n",
       "      <td>0.045396</td>\n",
       "      <td>0.279640</td>\n",
       "      <td>0.708730</td>\n",
       "      <td>3.7656</td>\n",
       "      <td>238.120</td>\n",
       "      <td>0.000000</td>\n",
       "      <td>0.056710</td>\n",
       "      <td>2.57610</td>\n",
       "      <td>1.0169</td>\n",
       "      <td>0.72036</td>\n",
       "      <td>...</td>\n",
       "      <td>10744.00</td>\n",
       "      <td>0.047501</td>\n",
       "      <td>0.063019</td>\n",
       "      <td>0.94624</td>\n",
       "      <td>0.00000</td>\n",
       "      <td>13.8860</td>\n",
       "      <td>49.0660</td>\n",
       "      <td>91.984</td>\n",
       "      <td>3.9681</td>\n",
       "      <td>29.0460</td>\n",
       "    </tr>\n",
       "  </tbody>\n",
       "</table>\n",
       "<p>5 rows × 64 columns</p>\n",
       "</div>"
      ],
      "text/plain": [
       "     feat_1    feat_2    feat_3   feat_4   feat_5    feat_6    feat_7  \\\n",
       "0  0.279320  0.053105  0.852030  17.0440  199.080  0.741770  0.353570   \n",
       "1  0.001871  0.735120  0.156460   1.2269  -10.837  0.000000  0.002938   \n",
       "2  0.113940  0.490250  0.077121   1.2332  -43.184 -0.000171  0.113940   \n",
       "3  0.008136  0.652610  0.148120   1.2628   29.071  0.000000  0.008136   \n",
       "4  0.045396  0.279640  0.708730   3.7656  238.120  0.000000  0.056710   \n",
       "\n",
       "     feat_8  feat_9  feat_10  ...   feat_55   feat_56   feat_57  feat_58  \\\n",
       "0  16.00600  1.2346  0.84997  ...  52857.00  0.190040  0.328630  0.80996   \n",
       "1   0.36032  1.4809  0.26488  ...    440.02  0.014794  0.007064  0.99803   \n",
       "2   1.03980  1.1649  0.50975  ...   4617.40  0.214890  0.223520  0.78761   \n",
       "3   0.53230  1.2891  0.34739  ...    920.98  0.045169  0.023421  0.99434   \n",
       "4   2.57610  1.0169  0.72036  ...  10744.00  0.047501  0.063019  0.94624   \n",
       "\n",
       "   feat_59  feat_60  feat_61  feat_62  feat_63  feat_64  \n",
       "0  0.00000      NaN   4.1858   11.002  33.1760  18.5720  \n",
       "1  0.00000   7.4268   2.2925  169.960   2.1476   9.6185  \n",
       "2  0.27412   6.2791   6.1622  103.630   3.5220   1.9673  \n",
       "3  0.14403  22.7480   2.2673  159.580   2.2872   4.4718  \n",
       "4  0.00000  13.8860  49.0660   91.984   3.9681  29.0460  \n",
       "\n",
       "[5 rows x 64 columns]"
      ]
     },
     "execution_count": 23,
     "metadata": {},
     "output_type": "execute_result"
    }
   ],
   "source": [
    "# Create a new feature matrix X_train_over and target vector y_train_over by performing random over-sampling on my training data\n",
    "over_sampler = RandomOverSampler(random_state=42)\n",
    "X_train_over, y_train_over = over_sampler.fit_resample(X_train, y_train)\n",
    "print(X_train_over.shape)\n",
    "X_train_over.head()"
   ]
  },
  {
   "cell_type": "code",
   "execution_count": 24,
   "id": "df40d1e8-64f8-4fe1-922f-c42b5224b4f7",
   "metadata": {},
   "outputs": [
    {
     "data": {
      "text/plain": [
       "False    0.5\n",
       "True     0.5\n",
       "Name: bankrupt, dtype: float64"
      ]
     },
     "execution_count": 24,
     "metadata": {},
     "output_type": "execute_result"
    }
   ],
   "source": [
    "y_train_over.value_counts(normalize=True)"
   ]
  },
  {
   "cell_type": "markdown",
   "id": "71f3fa9c-47e5-4336-9e57-c2597c4ecc7b",
   "metadata": {},
   "source": [
    "# Build Model"
   ]
  },
  {
   "cell_type": "markdown",
   "id": "2feab24b-3114-424c-bf5e-cfc90e9a7b0a",
   "metadata": {},
   "source": [
    "## Baseline"
   ]
  },
  {
   "cell_type": "markdown",
   "id": "0696251e-74e5-4d26-bbba-c169ce27a499",
   "metadata": {},
   "source": [
    "As always, I need to establish the baseline for my model. Since this is a classification problem, I'll use accuracy score."
   ]
  },
  {
   "cell_type": "markdown",
   "id": "98a33b8e-cb16-4151-9200-41647fc902a8",
   "metadata": {},
   "source": [
    "**Baseline Accuracy**"
   ]
  },
  {
   "cell_type": "code",
   "execution_count": 25,
   "id": "39b884a7-4402-4e89-b362-40ca70e943ca",
   "metadata": {},
   "outputs": [
    {
     "name": "stdout",
     "output_type": "stream",
     "text": [
      "Baseline Accuracy: 0.9519\n"
     ]
    }
   ],
   "source": [
    "# Calculate the baseline accuracy score for my model\n",
    "acc_baseline = y_train.value_counts(normalize=True).max()\n",
    "print(\"Baseline Accuracy:\", round(acc_baseline, 4))"
   ]
  },
  {
   "cell_type": "markdown",
   "id": "e7e0de53-a12e-4c23-8518-5b883a1c188b",
   "metadata": {},
   "source": [
    "Note here that, because my classes are imbalanced, the baseline accuracy is very high. I should keep this in mind because, even if my trained model gets a high validation accuracy score, that doesn't mean it's actually *good.* "
   ]
  },
  {
   "cell_type": "markdown",
   "id": "792a3948-7027-43a2-acdb-415f20ca7166",
   "metadata": {},
   "source": [
    "## Iterate"
   ]
  },
  {
   "cell_type": "markdown",
   "id": "e4baa976-8631-4100-b206-2edeae2aacc7",
   "metadata": {},
   "source": [
    "Now that I have a baseline, I'll build a model to see if I can beat it."
   ]
  },
  {
   "cell_type": "markdown",
   "id": "f33ae5d9-449f-4646-abf0-9b8bf75062df",
   "metadata": {},
   "source": [
    "**Build Models**"
   ]
  },
  {
   "cell_type": "markdown",
   "id": "29630d2c-1b0e-47f9-8aac-4758faf04fc1",
   "metadata": {},
   "source": [
    "I'll create three identical models: `model_reg`, `model_under` and `model_over`. All of them should use a `SimpleImputer` followed by a `DecisionTreeClassifier`. Then I'll Train `model_reg` using the unaltered training data. For `model_under`, I'll use the undersampled data. For `model_over`, I'll use the oversampled data."
   ]
  },
  {
   "cell_type": "code",
   "execution_count": 26,
   "id": "cf6fe65f-4ca3-4d7c-a169-0b649f108d57",
   "metadata": {},
   "outputs": [
    {
     "data": {
      "text/html": [
       "<style>#sk-container-id-1 {color: black;background-color: white;}#sk-container-id-1 pre{padding: 0;}#sk-container-id-1 div.sk-toggleable {background-color: white;}#sk-container-id-1 label.sk-toggleable__label {cursor: pointer;display: block;width: 100%;margin-bottom: 0;padding: 0.3em;box-sizing: border-box;text-align: center;}#sk-container-id-1 label.sk-toggleable__label-arrow:before {content: \"▸\";float: left;margin-right: 0.25em;color: #696969;}#sk-container-id-1 label.sk-toggleable__label-arrow:hover:before {color: black;}#sk-container-id-1 div.sk-estimator:hover label.sk-toggleable__label-arrow:before {color: black;}#sk-container-id-1 div.sk-toggleable__content {max-height: 0;max-width: 0;overflow: hidden;text-align: left;background-color: #f0f8ff;}#sk-container-id-1 div.sk-toggleable__content pre {margin: 0.2em;color: black;border-radius: 0.25em;background-color: #f0f8ff;}#sk-container-id-1 input.sk-toggleable__control:checked~div.sk-toggleable__content {max-height: 200px;max-width: 100%;overflow: auto;}#sk-container-id-1 input.sk-toggleable__control:checked~label.sk-toggleable__label-arrow:before {content: \"▾\";}#sk-container-id-1 div.sk-estimator input.sk-toggleable__control:checked~label.sk-toggleable__label {background-color: #d4ebff;}#sk-container-id-1 div.sk-label input.sk-toggleable__control:checked~label.sk-toggleable__label {background-color: #d4ebff;}#sk-container-id-1 input.sk-hidden--visually {border: 0;clip: rect(1px 1px 1px 1px);clip: rect(1px, 1px, 1px, 1px);height: 1px;margin: -1px;overflow: hidden;padding: 0;position: absolute;width: 1px;}#sk-container-id-1 div.sk-estimator {font-family: monospace;background-color: #f0f8ff;border: 1px dotted black;border-radius: 0.25em;box-sizing: border-box;margin-bottom: 0.5em;}#sk-container-id-1 div.sk-estimator:hover {background-color: #d4ebff;}#sk-container-id-1 div.sk-parallel-item::after {content: \"\";width: 100%;border-bottom: 1px solid gray;flex-grow: 1;}#sk-container-id-1 div.sk-label:hover label.sk-toggleable__label {background-color: #d4ebff;}#sk-container-id-1 div.sk-serial::before {content: \"\";position: absolute;border-left: 1px solid gray;box-sizing: border-box;top: 0;bottom: 0;left: 50%;z-index: 0;}#sk-container-id-1 div.sk-serial {display: flex;flex-direction: column;align-items: center;background-color: white;padding-right: 0.2em;padding-left: 0.2em;position: relative;}#sk-container-id-1 div.sk-item {position: relative;z-index: 1;}#sk-container-id-1 div.sk-parallel {display: flex;align-items: stretch;justify-content: center;background-color: white;position: relative;}#sk-container-id-1 div.sk-item::before, #sk-container-id-1 div.sk-parallel-item::before {content: \"\";position: absolute;border-left: 1px solid gray;box-sizing: border-box;top: 0;bottom: 0;left: 50%;z-index: -1;}#sk-container-id-1 div.sk-parallel-item {display: flex;flex-direction: column;z-index: 1;position: relative;background-color: white;}#sk-container-id-1 div.sk-parallel-item:first-child::after {align-self: flex-end;width: 50%;}#sk-container-id-1 div.sk-parallel-item:last-child::after {align-self: flex-start;width: 50%;}#sk-container-id-1 div.sk-parallel-item:only-child::after {width: 0;}#sk-container-id-1 div.sk-dashed-wrapped {border: 1px dashed gray;margin: 0 0.4em 0.5em 0.4em;box-sizing: border-box;padding-bottom: 0.4em;background-color: white;}#sk-container-id-1 div.sk-label label {font-family: monospace;font-weight: bold;display: inline-block;line-height: 1.2em;}#sk-container-id-1 div.sk-label-container {text-align: center;}#sk-container-id-1 div.sk-container {/* jupyter's `normalize.less` sets `[hidden] { display: none; }` but bootstrap.min.css set `[hidden] { display: none !important; }` so we also need the `!important` here to be able to override the default hidden behavior on the sphinx rendered scikit-learn.org. See: https://github.com/scikit-learn/scikit-learn/issues/21755 */display: inline-block !important;position: relative;}#sk-container-id-1 div.sk-text-repr-fallback {display: none;}</style><div id=\"sk-container-id-1\" class=\"sk-top-container\"><div class=\"sk-text-repr-fallback\"><pre>Pipeline(steps=[(&#x27;simpleimputer&#x27;, SimpleImputer(strategy=&#x27;median&#x27;)),\n",
       "                (&#x27;decisiontreeclassifier&#x27;,\n",
       "                 DecisionTreeClassifier(random_state=42))])</pre><b>In a Jupyter environment, please rerun this cell to show the HTML representation or trust the notebook. <br />On GitHub, the HTML representation is unable to render, please try loading this page with nbviewer.org.</b></div><div class=\"sk-container\" hidden><div class=\"sk-item sk-dashed-wrapped\"><div class=\"sk-label-container\"><div class=\"sk-label sk-toggleable\"><input class=\"sk-toggleable__control sk-hidden--visually\" id=\"sk-estimator-id-1\" type=\"checkbox\" ><label for=\"sk-estimator-id-1\" class=\"sk-toggleable__label sk-toggleable__label-arrow\">Pipeline</label><div class=\"sk-toggleable__content\"><pre>Pipeline(steps=[(&#x27;simpleimputer&#x27;, SimpleImputer(strategy=&#x27;median&#x27;)),\n",
       "                (&#x27;decisiontreeclassifier&#x27;,\n",
       "                 DecisionTreeClassifier(random_state=42))])</pre></div></div></div><div class=\"sk-serial\"><div class=\"sk-item\"><div class=\"sk-estimator sk-toggleable\"><input class=\"sk-toggleable__control sk-hidden--visually\" id=\"sk-estimator-id-2\" type=\"checkbox\" ><label for=\"sk-estimator-id-2\" class=\"sk-toggleable__label sk-toggleable__label-arrow\">SimpleImputer</label><div class=\"sk-toggleable__content\"><pre>SimpleImputer(strategy=&#x27;median&#x27;)</pre></div></div></div><div class=\"sk-item\"><div class=\"sk-estimator sk-toggleable\"><input class=\"sk-toggleable__control sk-hidden--visually\" id=\"sk-estimator-id-3\" type=\"checkbox\" ><label for=\"sk-estimator-id-3\" class=\"sk-toggleable__label sk-toggleable__label-arrow\">DecisionTreeClassifier</label><div class=\"sk-toggleable__content\"><pre>DecisionTreeClassifier(random_state=42)</pre></div></div></div></div></div></div></div>"
      ],
      "text/plain": [
       "Pipeline(steps=[('simpleimputer', SimpleImputer(strategy='median')),\n",
       "                ('decisiontreeclassifier',\n",
       "                 DecisionTreeClassifier(random_state=42))])"
      ]
     },
     "execution_count": 26,
     "metadata": {},
     "output_type": "execute_result"
    }
   ],
   "source": [
    "# Fit on `X_train`, `y_train`\n",
    "model_reg = make_pipeline(\n",
    "    SimpleImputer(strategy=\"median\"),DecisionTreeClassifier(random_state=42)\n",
    ")\n",
    "model_reg.fit(X_train, y_train)\n",
    "\n",
    "# Fit on `X_train_under`, `y_train_under`\n",
    "model_under = make_pipeline(\n",
    "    SimpleImputer(strategy=\"median\"),DecisionTreeClassifier(random_state=42)\n",
    ")\n",
    "model_under.fit(X_train_under, y_train_under)\n",
    "\n",
    "# Fit on `X_train_over`, `y_train_over`\n",
    "model_over = make_pipeline(\n",
    "    SimpleImputer(strategy=\"median\"),DecisionTreeClassifier(random_state=42)\n",
    ")\n",
    "model_over.fit(X_train_over, y_train_over)"
   ]
  },
  {
   "cell_type": "markdown",
   "id": "ef16157f-048f-4d84-b3c2-d0948ad0b480",
   "metadata": {},
   "source": [
    "## Evaluate"
   ]
  },
  {
   "cell_type": "markdown",
   "id": "94c32a52-d40b-418b-bc7f-c10850d2144c",
   "metadata": {},
   "source": [
    "**Evaluate Models**"
   ]
  },
  {
   "cell_type": "code",
   "execution_count": 27,
   "id": "e08cceeb-3b25-495c-a9c8-492b541761f0",
   "metadata": {},
   "outputs": [
    {
     "name": "stdout",
     "output_type": "stream",
     "text": [
      "Training Accuracy: 1.0\n",
      "Test Accuracy: 0.9359\n",
      "Training Accuracy: 0.7421\n",
      "Test Accuracy: 0.7104\n",
      "Training Accuracy: 1.0\n",
      "Test Accuracy: 0.9344\n"
     ]
    }
   ],
   "source": [
    "# Calculate training and test accuracy for my three models\n",
    "for m in [model_reg, model_under, model_over]:\n",
    "    acc_train = m.score(X_train, y_train)\n",
    "    acc_test = m.score(X_test, y_test)\n",
    "\n",
    "    print(\"Training Accuracy:\", round(acc_train, 4))\n",
    "    print(\"Test Accuracy:\", round(acc_test, 4))"
   ]
  },
  {
   "cell_type": "markdown",
   "id": "56180bbd-9c18-4689-a33e-45edaf209870",
   "metadata": {},
   "source": [
    "As I mentioned earlier, \"good\" accuracy scores don't tell me much about the model's performance when dealing with imbalanced data. So instead of looking at what the model got right or wrong, I'll see how its predictions differ for the two classes in the dataset."
   ]
  },
  {
   "cell_type": "markdown",
   "id": "9b9408bd-8c32-4790-a64e-206fdd0d32d7",
   "metadata": {},
   "source": [
    "**Confusion Matrix**"
   ]
  },
  {
   "cell_type": "markdown",
   "id": "11ae5a48-f294-4618-9236-b4f1786165c3",
   "metadata": {},
   "source": [
    "I'll plot a confusion matrix that shows how my best model performs on my validation set."
   ]
  },
  {
   "cell_type": "code",
   "execution_count": 28,
   "id": "eb84ce8a-a8f5-4f88-8a95-5193d18c3b4c",
   "metadata": {},
   "outputs": [
    {
     "data": {
      "image/png": "[encoded data removed]",
      "text/plain": [
       "<Figure size 432x288 with 2 Axes>"
      ]
     },
     "metadata": {
      "needs_background": "light"
     },
     "output_type": "display_data"
    }
   ],
   "source": [
    "# Plot confusion matrix\n",
    "ConfusionMatrixDisplay.from_estimator(model_reg, X_test, y_test);"
   ]
  },
  {
   "cell_type": "markdown",
   "id": "cf155c80-89e4-4675-ab7b-bf2bfb645bc5",
   "metadata": {},
   "source": [
    "In this step, I didn't do any hyperparameter tuning, but it will be helpful in the next step to know what the depth of the tree `model_over`."
   ]
  },
  {
   "cell_type": "markdown",
   "id": "a9bfe70c-bfd6-46de-a183-df58962fb22a",
   "metadata": {},
   "source": [
    "**Calculate Tree Depth**"
   ]
  },
  {
   "cell_type": "code",
   "execution_count": 29,
   "id": "628d6a4c-203e-4db9-a830-5016e3b9084b",
   "metadata": {},
   "outputs": [
    {
     "name": "stdout",
     "output_type": "stream",
     "text": [
      "33\n"
     ]
    }
   ],
   "source": [
    "# Determine the depth of the decision tree in model_over\n",
    "depth = model_over.named_steps[\"decisiontreeclassifier\"].get_depth()\n",
    "print(depth)"
   ]
  },
  {
   "cell_type": "markdown",
   "id": "b8a1d1b7-dce6-4632-a4c6-2674b77e7bf0",
   "metadata": {},
   "source": [
    "# Communicate"
   ]
  },
  {
   "cell_type": "markdown",
   "id": "01dee7cf-0438-4054-84da-e8492f417e12",
   "metadata": {},
   "source": [
    "Now that I have a reasonable model, I'll graph the importance of each feature."
   ]
  },
  {
   "cell_type": "markdown",
   "id": "46b49771-c57d-46f8-b219-ff86aee46e3d",
   "metadata": {},
   "source": [
    "**Feature Importances**"
   ]
  },
  {
   "cell_type": "markdown",
   "id": "87656b9b-e670-4b1f-94b4-4a60c062ba7b",
   "metadata": {},
   "source": [
    "I'll create a horizontal bar chart with the 15 most important features for `model_over`."
   ]
  },
  {
   "cell_type": "code",
   "execution_count": 30,
   "id": "7915ef4f-0ea8-4fc8-9bfd-5bf64772968a",
   "metadata": {},
   "outputs": [
    {
     "data": {
      "image/png": "[encoded data removed]",
      "text/plain": [
       "<Figure size 432x288 with 1 Axes>"
      ]
     },
     "metadata": {
      "needs_background": "light"
     },
     "output_type": "display_data"
    }
   ],
   "source": [
    "# Get importances\n",
    "importances = model_over.named_steps[\"decisiontreeclassifier\"].feature_importances_\n",
    "\n",
    "# Put importances into a Series\n",
    "feat_imp = pd.Series(importances, index=X_train_over.columns).sort_values()\n",
    "\n",
    "# Plot series\n",
    "feat_imp.tail(15).plot(kind=\"barh\")\n",
    "plt.xlabel(\"Gini Importance\")              # Label x-axis \"Gini Importance\"\n",
    "plt.ylabel(\"Feature\")\n",
    "plt.title(\"model_over Feature Importance\");"
   ]
  },
  {
   "cell_type": "markdown",
   "id": "21e663ad-d5ff-423d-b34e-a9801649dbea",
   "metadata": {},
   "source": [
    "There's my old friend `\"feat_27\"` near the top, along with features 34 and 26. It's time to share my findings."
   ]
  },
  {
   "cell_type": "markdown",
   "id": "7928b52e-053e-4d95-9983-38e3a2d36aa3",
   "metadata": {},
   "source": [
    "**Save Model**"
   ]
  },
  {
   "cell_type": "markdown",
   "id": "144efb74-7381-4c6a-9ae0-2fee34e77062",
   "metadata": {},
   "source": [
    "I'll save my best-performing model to a a file named `\"model-5-2.pkl\"` using a context manager."
   ]
  },
  {
   "cell_type": "code",
   "execution_count": 31,
   "id": "2eecbe7a-b589-452c-ac9b-cc88cb870783",
   "metadata": {},
   "outputs": [],
   "source": [
    "# Save my model as `\"model-5-2.pkl\"`\n",
    "with open(\"model-5-2.pkl\", \"wb\") as f:\n",
    "    pickle.dump(model_over, f)"
   ]
  },
  {
   "cell_type": "markdown",
   "id": "ea93ad42-a05f-4a48-906b-316b5d6575ef",
   "metadata": {},
   "source": [
    "**Load Model**"
   ]
  },
  {
   "cell_type": "markdown",
   "id": "d0047cdb-c788-4e43-84d4-1070c22623c1",
   "metadata": {},
   "source": [
    "I want to make sure I've saved my model correctly by loading `\"model-5-2.pkl\"` and assigning to the variable `loaded_model`."
   ]
  },
  {
   "cell_type": "code",
   "execution_count": 32,
   "id": "f04be865-49f8-4b8d-ab37-869b354f3d99",
   "metadata": {},
   "outputs": [
    {
     "name": "stdout",
     "output_type": "stream",
     "text": [
      "Pipeline(steps=[('simpleimputer', SimpleImputer(strategy='median')),\n",
      "                ('decisiontreeclassifier',\n",
      "                 DecisionTreeClassifier(random_state=42))])\n"
     ]
    }
   ],
   "source": [
    "# Load `\"model-5-2.pkl\"`\n",
    "with open(\"model-5-2.pkl\", \"rb\") as f:\n",
    "    loaded_model = pickle.load(f)\n",
    "print(loaded_model)"
   ]
  }
 ],
 "metadata": {
  "kernelspec": {
   "display_name": "Python 3 (ipykernel)",
   "language": "python",
   "name": "python3"
  },
  "language_info": {
   "codemirror_mode": {
    "name": "ipython",
    "version": 3
   },
   "file_extension": ".py",
   "mimetype": "text/x-python",
   "name": "python",
   "nbconvert_exporter": "python",
   "pygments_lexer": "ipython3",
   "version": "3.8.13"
  }
 },
 "nbformat": 4,
 "nbformat_minor": 5
}
